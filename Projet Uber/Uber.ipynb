{
  "cells": [
    {
      "cell_type": "code",
      "execution_count": 5,
      "metadata": {
        "id": "BNCeHksL3xBa"
      },
      "outputs": [],
      "source": [
        "import pandas as pd\n",
        "import numpy as np\n",
        "import seaborn as sns\n",
        "from datetime import datetime\n",
        "\n",
        "from sklearn.model_selection import train_test_split\n",
        "from sklearn.pipeline import Pipeline\n",
        "from sklearn.impute import SimpleImputer\n",
        "from sklearn.impute import KNNImputer\n",
        "from sklearn.preprocessing import  OneHotEncoder, StandardScaler\n",
        "from sklearn.compose import ColumnTransformer\n",
        "from sklearn.cluster import KMeans, DBSCAN\n",
        "from sklearn.metrics import  silhouette_score\n",
        "from sklearn.model_selection import cross_val_score, GridSearchCV\n",
        "from sklearn.metrics import r2_score\n",
        "\n",
        "import plotly.express as px\n",
        "import plotly as plt\n",
        "import plotly.graph_objects as go\n",
        "import plotly.io as pio\n",
        "from io import BytesIO\n",
        "from urllib.request import urlopen\n",
        "from zipfile import ZipFile\n",
        "import io\n",
        "from urllib.request import urlopen\n"
      ]
    },
    {
      "cell_type": "code",
      "source": [
        "df_sep14 = pd.read_csv(\"uber-raw-data-sep14.csv\", encoding='latin1')"
      ],
      "metadata": {
        "id": "Ybnz2mSpc9Bo"
      },
      "execution_count": 3,
      "outputs": []
    },
    {
      "cell_type": "code",
      "execution_count": 7,
      "metadata": {
        "colab": {
          "base_uri": "https://localhost:8080/",
          "height": 206
        },
        "id": "w7nzDaMQ3xBf",
        "outputId": "6c379c6b-1dd7-43eb-998f-0b09f7561810"
      },
      "outputs": [
        {
          "output_type": "execute_result",
          "data": {
            "text/plain": [
              "            Date/Time      Lat      Lon    Base\n",
              "0   9/3/2014 18:43:00  40.7260 -74.0074  B02512\n",
              "1   9/9/2014 13:21:00  40.7608 -73.9752  B02512\n",
              "2   9/8/2014 16:31:00  40.7177 -73.9906  B02512\n",
              "3  9/16/2014 12:41:00  40.7397 -73.9910  B02512\n",
              "4   9/11/2014 8:05:00  40.7515 -73.9764  B02512"
            ],
            "text/html": [
              "\n",
              "  <div id=\"df-d9d0c562-e2c2-4f1b-8c9e-86faf1af76ca\">\n",
              "    <div class=\"colab-df-container\">\n",
              "      <div>\n",
              "<style scoped>\n",
              "    .dataframe tbody tr th:only-of-type {\n",
              "        vertical-align: middle;\n",
              "    }\n",
              "\n",
              "    .dataframe tbody tr th {\n",
              "        vertical-align: top;\n",
              "    }\n",
              "\n",
              "    .dataframe thead th {\n",
              "        text-align: right;\n",
              "    }\n",
              "</style>\n",
              "<table border=\"1\" class=\"dataframe\">\n",
              "  <thead>\n",
              "    <tr style=\"text-align: right;\">\n",
              "      <th></th>\n",
              "      <th>Date/Time</th>\n",
              "      <th>Lat</th>\n",
              "      <th>Lon</th>\n",
              "      <th>Base</th>\n",
              "    </tr>\n",
              "  </thead>\n",
              "  <tbody>\n",
              "    <tr>\n",
              "      <th>0</th>\n",
              "      <td>9/3/2014 18:43:00</td>\n",
              "      <td>40.7260</td>\n",
              "      <td>-74.0074</td>\n",
              "      <td>B02512</td>\n",
              "    </tr>\n",
              "    <tr>\n",
              "      <th>1</th>\n",
              "      <td>9/9/2014 13:21:00</td>\n",
              "      <td>40.7608</td>\n",
              "      <td>-73.9752</td>\n",
              "      <td>B02512</td>\n",
              "    </tr>\n",
              "    <tr>\n",
              "      <th>2</th>\n",
              "      <td>9/8/2014 16:31:00</td>\n",
              "      <td>40.7177</td>\n",
              "      <td>-73.9906</td>\n",
              "      <td>B02512</td>\n",
              "    </tr>\n",
              "    <tr>\n",
              "      <th>3</th>\n",
              "      <td>9/16/2014 12:41:00</td>\n",
              "      <td>40.7397</td>\n",
              "      <td>-73.9910</td>\n",
              "      <td>B02512</td>\n",
              "    </tr>\n",
              "    <tr>\n",
              "      <th>4</th>\n",
              "      <td>9/11/2014 8:05:00</td>\n",
              "      <td>40.7515</td>\n",
              "      <td>-73.9764</td>\n",
              "      <td>B02512</td>\n",
              "    </tr>\n",
              "  </tbody>\n",
              "</table>\n",
              "</div>\n",
              "      <button class=\"colab-df-convert\" onclick=\"convertToInteractive('df-d9d0c562-e2c2-4f1b-8c9e-86faf1af76ca')\"\n",
              "              title=\"Convert this dataframe to an interactive table.\"\n",
              "              style=\"display:none;\">\n",
              "        \n",
              "  <svg xmlns=\"http://www.w3.org/2000/svg\" height=\"24px\"viewBox=\"0 0 24 24\"\n",
              "       width=\"24px\">\n",
              "    <path d=\"M0 0h24v24H0V0z\" fill=\"none\"/>\n",
              "    <path d=\"M18.56 5.44l.94 2.06.94-2.06 2.06-.94-2.06-.94-.94-2.06-.94 2.06-2.06.94zm-11 1L8.5 8.5l.94-2.06 2.06-.94-2.06-.94L8.5 2.5l-.94 2.06-2.06.94zm10 10l.94 2.06.94-2.06 2.06-.94-2.06-.94-.94-2.06-.94 2.06-2.06.94z\"/><path d=\"M17.41 7.96l-1.37-1.37c-.4-.4-.92-.59-1.43-.59-.52 0-1.04.2-1.43.59L10.3 9.45l-7.72 7.72c-.78.78-.78 2.05 0 2.83L4 21.41c.39.39.9.59 1.41.59.51 0 1.02-.2 1.41-.59l7.78-7.78 2.81-2.81c.8-.78.8-2.07 0-2.86zM5.41 20L4 18.59l7.72-7.72 1.47 1.35L5.41 20z\"/>\n",
              "  </svg>\n",
              "      </button>\n",
              "      \n",
              "  <style>\n",
              "    .colab-df-container {\n",
              "      display:flex;\n",
              "      flex-wrap:wrap;\n",
              "      gap: 12px;\n",
              "    }\n",
              "\n",
              "    .colab-df-convert {\n",
              "      background-color: #E8F0FE;\n",
              "      border: none;\n",
              "      border-radius: 50%;\n",
              "      cursor: pointer;\n",
              "      display: none;\n",
              "      fill: #1967D2;\n",
              "      height: 32px;\n",
              "      padding: 0 0 0 0;\n",
              "      width: 32px;\n",
              "    }\n",
              "\n",
              "    .colab-df-convert:hover {\n",
              "      background-color: #E2EBFA;\n",
              "      box-shadow: 0px 1px 2px rgba(60, 64, 67, 0.3), 0px 1px 3px 1px rgba(60, 64, 67, 0.15);\n",
              "      fill: #174EA6;\n",
              "    }\n",
              "\n",
              "    [theme=dark] .colab-df-convert {\n",
              "      background-color: #3B4455;\n",
              "      fill: #D2E3FC;\n",
              "    }\n",
              "\n",
              "    [theme=dark] .colab-df-convert:hover {\n",
              "      background-color: #434B5C;\n",
              "      box-shadow: 0px 1px 3px 1px rgba(0, 0, 0, 0.15);\n",
              "      filter: drop-shadow(0px 1px 2px rgba(0, 0, 0, 0.3));\n",
              "      fill: #FFFFFF;\n",
              "    }\n",
              "  </style>\n",
              "\n",
              "      <script>\n",
              "        const buttonEl =\n",
              "          document.querySelector('#df-d9d0c562-e2c2-4f1b-8c9e-86faf1af76ca button.colab-df-convert');\n",
              "        buttonEl.style.display =\n",
              "          google.colab.kernel.accessAllowed ? 'block' : 'none';\n",
              "\n",
              "        async function convertToInteractive(key) {\n",
              "          const element = document.querySelector('#df-d9d0c562-e2c2-4f1b-8c9e-86faf1af76ca');\n",
              "          const dataTable =\n",
              "            await google.colab.kernel.invokeFunction('convertToInteractive',\n",
              "                                                     [key], {});\n",
              "          if (!dataTable) return;\n",
              "\n",
              "          const docLinkHtml = 'Like what you see? Visit the ' +\n",
              "            '<a target=\"_blank\" href=https://colab.research.google.com/notebooks/data_table.ipynb>data table notebook</a>'\n",
              "            + ' to learn more about interactive tables.';\n",
              "          element.innerHTML = '';\n",
              "          dataTable['output_type'] = 'display_data';\n",
              "          await google.colab.output.renderOutput(dataTable, element);\n",
              "          const docLink = document.createElement('div');\n",
              "          docLink.innerHTML = docLinkHtml;\n",
              "          element.appendChild(docLink);\n",
              "        }\n",
              "      </script>\n",
              "    </div>\n",
              "  </div>\n",
              "  "
            ]
          },
          "metadata": {},
          "execution_count": 7
        }
      ],
      "source": [
        "df_sep14=pd.read_csv('uber-raw-data-sep14.csv').sample(n=30000, random_state=0, axis=0, replace=True).reset_index(drop=True)\n",
        "df_sep14.head()\n"
      ]
    },
    {
      "cell_type": "code",
      "execution_count": null,
      "metadata": {
        "id": "ZpEuQ6nqivae"
      },
      "outputs": [],
      "source": [
        "# Statistiques basiques\n",
        "print(\"Nombre de lignes : {}\".format(df_sep14.shape[0]))\n",
        "print()\n",
        "\n",
        "print(\"Aperçu du dataset : \")\n",
        "display(df_sep14.head())\n",
        "print()\n",
        "\n",
        "print(\"Statistiques basiques : \")\n",
        "data_desc = df_sep14.describe(include='all')\n",
        "display(data_desc)\n",
        "print()\n",
        "\n",
        "print(\"Pourcentage de valeurs manquantes : \")\n",
        "display(100*df_sep14.isnull().sum()/df_sep14.shape[0])"
      ]
    },
    {
      "cell_type": "code",
      "execution_count": null,
      "metadata": {
        "id": "8MM1uZe83xBk"
      },
      "outputs": [],
      "source": [
        "df_sep14['Date/Time']=pd.to_datetime(df_sep14['Date/Time'])\n",
        "df_sep14['Day']= df_sep14['Date/Time'].dt.day\n",
        "df_sep14['DayOfTheWeek']=df_sep14['Date/Time'].dt.day_name()\n",
        "df_sep14['Month']=df_sep14['Date/Time'].dt.month\n",
        "df_sep14['Year']=df_sep14['Date/Time'].dt.year\n",
        "df_sep14['Hour']=df_sep14['Date/Time'].dt.hour"
      ]
    },
    {
      "cell_type": "code",
      "execution_count": null,
      "metadata": {
        "id": "-DS0Z4Jw3xBl"
      },
      "outputs": [],
      "source": [
        "df_sep14.head()"
      ]
    },
    {
      "cell_type": "code",
      "execution_count": null,
      "metadata": {
        "id": "8cV40whX3xBm"
      },
      "outputs": [],
      "source": [
        "fig = px.scatter_mapbox(\n",
        "        df_sep14, \n",
        "        lat=\"Lat\", \n",
        "        lon=\"Lon\",\n",
        "        mapbox_style=\"carto-positron\",\n",
        ")\n",
        "\n",
        "fig.show()"
      ]
    },
    {
      "cell_type": "code",
      "execution_count": null,
      "metadata": {
        "id": "yaJGtYYb3xBo"
      },
      "outputs": [],
      "source": [
        "# On sélectionne Un jour 1 heure \n",
        "df_focus = (df_sep14[(df_sep14['DayOfTheWeek'] =='Saturday') & (df_sep14['Hour'] ==18)]).reset_index(drop=True)\n",
        "df_focus.head()"
      ]
    },
    {
      "cell_type": "code",
      "execution_count": null,
      "metadata": {
        "id": "DGtZHz6i9r2H"
      },
      "outputs": [],
      "source": [
        "fig = px.scatter_mapbox(\n",
        "        df_focus, \n",
        "        lat=\"Lat\", \n",
        "        lon=\"Lon\",\n",
        "        mapbox_style=\"carto-positron\",\n",
        ")\n",
        "\n",
        "fig.show()"
      ]
    },
    {
      "cell_type": "code",
      "execution_count": null,
      "metadata": {
        "id": "GAotCbeX3xBq"
      },
      "outputs": [],
      "source": [
        "#on ne garde que les 2 colonneq qui sont pertinentes\n",
        "df_reducted=df_focus[['Lat','Lon']].copy()\n",
        "df_reducted.head()"
      ]
    },
    {
      "cell_type": "code",
      "execution_count": null,
      "metadata": {
        "id": "KQBA-sWv3xBs"
      },
      "outputs": [],
      "source": [
        "#pre processing\n",
        "\n",
        "numeric_features = [0,1] # Positions des colonnes quantitatives dans df\n",
        "scaler=StandardScaler()# pour normaliser les variables\n",
        "\n",
        "# Création du pipeline pour les variables catégorielles\n",
        "#categorical_features = [3] # Positions des colonnes catégorielles dans X\n",
        "#encoder=OneHotEncoder(drop='first') # on encode les catégories sous forme de colonnes comportant des 0 et des 1\n",
        "\n",
        "# On combine les pipelines dans un ColumnTransformer\n",
        "preprocessor = ColumnTransformer(\n",
        "    transformers=[\n",
        "        ('num', scaler, numeric_features)\n",
        " #       ('cat', encoder, categorical_features)\n",
        "    ])\n",
        "\n",
        "# Preprocessings sur le dataset\n",
        "print(\"Preprocessing sur le dataset...\")\n",
        "print(df_reducted.head())\n",
        "X = preprocessor.fit_transform(df_reducted) # fit_transform !!\n",
        "print('...Terminé.')\n",
        "print(X[0:5, :])\n",
        "print()"
      ]
    },
    {
      "cell_type": "code",
      "execution_count": null,
      "metadata": {
        "id": "fqcZ7cnM3xBt"
      },
      "outputs": [],
      "source": [
        "#essai de l'alog KMeans\n",
        "wcss =  []\n",
        "for i in range (2,21): \n",
        "    kmeans = KMeans(n_clusters= i)\n",
        "    kmeans.fit(X)\n",
        "    wcss.append(kmeans.inertia_)\n"
      ]
    },
    {
      "cell_type": "code",
      "execution_count": null,
      "metadata": {
        "id": "-Y3zPN0K3xEK"
      },
      "outputs": [],
      "source": [
        "fig = px.line(x = range(2,21), y = wcss)\n",
        "fig.show()"
      ]
    },
    {
      "cell_type": "code",
      "execution_count": null,
      "metadata": {
        "id": "3nPn47cH3xEL"
      },
      "outputs": [],
      "source": [
        "# Utilisation du silhouette_score pour déterminer le nombre optimal de clusters\n",
        "s_score = []\n",
        "for i in range (2,21): \n",
        "    kmeans = KMeans(n_clusters= i)\n",
        "    kmeans.fit(X)\n",
        "    s_score.append(silhouette_score(X, kmeans.predict(X)))\n",
        "\n",
        "print(s_score)"
      ]
    },
    {
      "cell_type": "code",
      "execution_count": null,
      "metadata": {
        "id": "PCrkW43U3xEM"
      },
      "outputs": [],
      "source": [
        "# Affichage de scores en fonction du nombre de clusters\n",
        "fig = px.bar(x = range(2,21), y = s_score)\n",
        "fig.show()"
      ]
    },
    {
      "cell_type": "code",
      "execution_count": null,
      "metadata": {
        "id": "yF-psSml3xEM"
      },
      "outputs": [],
      "source": [
        "# On ré-entraîne un KMeans avec le nombre optimal de clusters\n",
        "kmeans = KMeans(n_clusters= 9)\n",
        "kmeans.fit(X)"
      ]
    },
    {
      "cell_type": "code",
      "execution_count": null,
      "metadata": {
        "id": "e_l85Tvb3xEN"
      },
      "outputs": [],
      "source": [
        "df2_kmeans=df_reducted.copy()\n",
        "df2_kmeans.loc[:,'Cluster_KMeans'] = kmeans.predict(X)\n",
        "df2_kmeans.head()"
      ]
    },
    {
      "cell_type": "code",
      "execution_count": null,
      "metadata": {
        "id": "fZbspUdleGU4"
      },
      "outputs": [],
      "source": [
        "# Visualisation bi-dimensionnelle\n",
        "fig = px.scatter(df2_kmeans, x = 'Lat', y = \"Lon\", color = \"Cluster_KMeans\")\n",
        "fig.show()"
      ]
    },
    {
      "cell_type": "code",
      "execution_count": null,
      "metadata": {
        "id": "ASG3GaD23xEO"
      },
      "outputs": [],
      "source": [
        "# Visualisation bi-dimensionnelle\n",
        "fig = px.scatter_mapbox(\n",
        "        df2_kmeans, \n",
        "        lat=\"Lat\", \n",
        "        lon=\"Lon\",\n",
        "        color=\"Cluster_KMeans\",\n",
        "        mapbox_style=\"carto-positron\",\n",
        ")\n",
        "\n",
        "fig.show()"
      ]
    },
    {
      "cell_type": "code",
      "execution_count": null,
      "metadata": {
        "id": "V-9W3lcy-jg9"
      },
      "outputs": [],
      "source": [
        "#Nous allons essayer Kmeans avec le dataset comprenant les colonnes jour et heure\n",
        "df2= df_sep14[['Lat', 'Lon','DayOfTheWeek', 'Hour']]"
      ]
    },
    {
      "cell_type": "code",
      "execution_count": null,
      "metadata": {
        "id": "5bnmCP2O_NcI"
      },
      "outputs": [],
      "source": [
        "df2.head()"
      ]
    },
    {
      "cell_type": "code",
      "execution_count": null,
      "metadata": {
        "id": "Tj_Tiodn-03H"
      },
      "outputs": [],
      "source": [
        "#pre processing\n",
        "\n",
        "numeric_features = [0,1,3] # Positions des colonnes quantitatives dans df\n",
        "scaler=StandardScaler()# pour normaliser les variables\n",
        "\n",
        "# Création du pipeline pour les variables catégorielles\n",
        "categorical_features = [2] # Positions des colonnes catégorielles dans X\n",
        "encoder=OneHotEncoder(drop='first') # on encode les catégories sous forme de colonnes comportant des 0 et des 1\n",
        "\n",
        "# On combine les pipelines dans un ColumnTransformer\n",
        "preprocessor = ColumnTransformer(\n",
        "    transformers=[\n",
        "        ('num', scaler, numeric_features),\n",
        "        ('cat', encoder, categorical_features)\n",
        "    ])\n",
        "\n",
        "# Preprocessings sur le dataset\n",
        "print(\"Preprocessing sur le dataset...\")\n",
        "print(df2.head())\n",
        "X2 = preprocessor.fit_transform(df2) # fit_transform !!\n",
        "print('...Terminé.')\n",
        "print(X[0:5, :])\n",
        "print()"
      ]
    },
    {
      "cell_type": "code",
      "execution_count": null,
      "metadata": {
        "id": "j_aWIYrs_iyZ"
      },
      "outputs": [],
      "source": [
        "#essai de l'algorithme KMeans\n",
        "wcss2 =  []\n",
        "for i in range (2,21): \n",
        "    kmeans2 = KMeans(n_clusters= i)\n",
        "    kmeans2.fit(X2)\n",
        "    wcss2.append(kmeans2.inertia_)\n"
      ]
    },
    {
      "cell_type": "code",
      "execution_count": null,
      "metadata": {
        "id": "4n9ZhTdx_pPr"
      },
      "outputs": [],
      "source": [
        "fig = px.line(x = range(2,21), y = wcss2)\n",
        "fig.show()"
      ]
    },
    {
      "cell_type": "code",
      "execution_count": null,
      "metadata": {
        "id": "GOMV-OMWAKsV"
      },
      "outputs": [],
      "source": [
        "# Utilisation du silhouette_score pour déterminer le nombre optimal de clusters\n",
        "s_score2 = []\n",
        "for i in range (2,21): \n",
        "    kmeans2 = KMeans(n_clusters= i)\n",
        "    kmeans2.fit(X2)\n",
        "    s_score2.append(silhouette_score(X2, kmeans2.predict(X2)))\n",
        "\n",
        "print(s_score2)"
      ]
    },
    {
      "cell_type": "code",
      "execution_count": null,
      "metadata": {
        "id": "xvK9bB7XAdGz"
      },
      "outputs": [],
      "source": [
        "# Affichage de scores en fonction du nombre de clusters\n",
        "fig = px.bar(x = range(2,21), y = s_score2)\n",
        "fig.show()"
      ]
    },
    {
      "cell_type": "code",
      "execution_count": null,
      "metadata": {
        "id": "Jq0hWGxLAiyZ"
      },
      "outputs": [],
      "source": [
        "# On ré-entraîne un KMeans avec le nombre optimal de clusters\n",
        "kmeans2 = KMeans(n_clusters= 12)\n",
        "kmeans2.fit(X2)"
      ]
    },
    {
      "cell_type": "code",
      "execution_count": null,
      "metadata": {
        "id": "A1R-nM82AnUu"
      },
      "outputs": [],
      "source": [
        "df2_kmeans2=df2.copy().sort_values(['Hour'], ascending=True)\n",
        "df2_kmeans2.loc[:,'Cluster_KMeans'] = kmeans2.predict(X2)\n",
        "df2_kmeans2.head()"
      ]
    },
    {
      "cell_type": "code",
      "execution_count": null,
      "metadata": {
        "id": "ZIwvSyIlAulI"
      },
      "outputs": [],
      "source": [
        "# Visualisation bi-dimensionnelle\n",
        "fig = px.scatter_mapbox(\n",
        "        df2_kmeans2, \n",
        "        lat=\"Lat\", \n",
        "        lon=\"Lon\",\n",
        "        color=\"Cluster_KMeans\",\n",
        "        animation_frame=\"Hour\",\n",
        "        mapbox_style=\"carto-positron\",\n",
        ")\n",
        "\n",
        "fig.show()"
      ]
    },
    {
      "cell_type": "code",
      "execution_count": null,
      "metadata": {
        "id": "F_v8UFzv3xEP"
      },
      "outputs": [],
      "source": [
        "#Nous essayons DBScan sur X qui correspond a df_reducted, sample avec 1 jour et 1h précise\n",
        "#db = DBSCAN(eps=0.085,min_samples=5, metric=\"euclidean\")\n",
        "db = DBSCAN(eps=0.085,min_samples=8, metric=\"euclidean\")\n",
        "db_pred=db.fit_predict(X)"
      ]
    },
    {
      "cell_type": "code",
      "execution_count": null,
      "metadata": {
        "id": "GPh3Q9jw3xEP"
      },
      "outputs": [],
      "source": [
        "np.unique(db.labels_)"
      ]
    },
    {
      "cell_type": "code",
      "execution_count": null,
      "metadata": {
        "id": "YI69CUzYGhyB"
      },
      "outputs": [],
      "source": [
        "df_dbScan1=df_reducted.copy()"
      ]
    },
    {
      "cell_type": "code",
      "execution_count": null,
      "metadata": {
        "id": "foSw0blN3xEQ"
      },
      "outputs": [],
      "source": [
        "df_dbScan1[\"cluster_DB\"] = db.labels_\n",
        "df_dbScan1.head()"
      ]
    },
    {
      "cell_type": "code",
      "execution_count": null,
      "metadata": {
        "id": "Kux9XgI83xEQ"
      },
      "outputs": [],
      "source": [
        "df_dbScan1['cluster_DB'].value_counts()"
      ]
    },
    {
      "cell_type": "code",
      "execution_count": null,
      "metadata": {
        "id": "sYC0gOvg3xER"
      },
      "outputs": [],
      "source": [
        "fig = px.scatter_mapbox(\n",
        "        df_dbScan1[df_dbScan1[\"cluster_DB\"]!=-1], \n",
        "        lat=\"Lat\", \n",
        "        lon=\"Lon\",\n",
        "        color=\"cluster_DB\",\n",
        "        mapbox_style=\"carto-positron\",\n",
        ")\n",
        "\n",
        "fig.show()"
      ]
    },
    {
      "cell_type": "code",
      "execution_count": null,
      "metadata": {
        "id": "nahrjbh3xqJx"
      },
      "outputs": [],
      "source": [
        "df2.head()"
      ]
    },
    {
      "cell_type": "code",
      "execution_count": null,
      "metadata": {
        "id": "E3iAseTOxqGg"
      },
      "outputs": [],
      "source": [
        "df3=df2.copy()"
      ]
    },
    {
      "cell_type": "code",
      "execution_count": null,
      "metadata": {
        "id": "mXGCZvg_xqDq"
      },
      "outputs": [],
      "source": [
        "df3_2features=df3[[\"Lat\",\"Lon\"]]"
      ]
    },
    {
      "cell_type": "code",
      "execution_count": null,
      "metadata": {
        "id": "xt45BGeZxqA4"
      },
      "outputs": [],
      "source": [
        "\n",
        "#PreProcessing sur uniquement ces 2 colonnes\n",
        "\n",
        "numeric_features = [0,1] # Positions des colonnes quantitatives dans df\n",
        "scaler=StandardScaler()# pour normaliser les variables\n",
        "\n",
        "# Création du pipeline pour les variables catégorielles\n",
        "#categorical_features = [3] # Positions des colonnes catégorielles dans X\n",
        "#encoder=OneHotEncoder(drop='first') # on encode les catégories sous forme de colonnes comportant des 0 et des 1\n",
        "\n",
        "# On combine les pipelines dans un ColumnTransformer\n",
        "preprocessor = ColumnTransformer(\n",
        "    transformers=[\n",
        "        ('num', scaler, numeric_features)\n",
        " #       ('cat', encoder, categorical_features)\n",
        "    ])\n",
        "\n",
        "# Preprocessings sur le dataset\n",
        "print(\"Preprocessing sur le dataset...\")\n",
        "print(df_reducted.head())\n",
        "X_2f = preprocessor.fit_transform(df3_2features) # fit_transform !!\n",
        "print('...Terminé.')\n",
        "print(X[0:5, :])\n",
        "print()"
      ]
    },
    {
      "cell_type": "code",
      "execution_count": null,
      "metadata": {
        "id": "Yc1rT1H7xp-O"
      },
      "outputs": [],
      "source": [
        "df3=df3.sort_values(['Hour'], ascending=True)"
      ]
    },
    {
      "cell_type": "code",
      "execution_count": null,
      "metadata": {
        "id": "RY-Hk9r5ztyb"
      },
      "outputs": [],
      "source": [
        "\t#Utilisation de la classe NearestNeighbors qui permet de déterminer les voisins les plus proches de chaque observation ainsi que les distances\n",
        "%matplotlib inline\n",
        "from sklearn.neighbors import NearestNeighbors\n",
        "import matplotlib.pyplot as plt\n",
        "import numpy as np\n",
        "\n",
        "neigh = NearestNeighbors(n_neighbors=2)\n",
        "nbrs = neigh.fit(X_2f)\n",
        "distances, indices = nbrs.kneighbors(X_2f)\n",
        "distances = np.sort(distances, axis=0)\n",
        "distances = distances[:,1]\n",
        "plt.plot(distances);"
      ]
    },
    {
      "cell_type": "code",
      "execution_count": null,
      "metadata": {
        "id": "XnmwaPO_ztlc"
      },
      "outputs": [],
      "source": []
    },
    {
      "cell_type": "code",
      "execution_count": null,
      "metadata": {
        "id": "m_JK2decxp2Q"
      },
      "outputs": [],
      "source": [
        "db= DBSCAN(eps=0.03,min_samples=20, metric=\"euclidean\")\n",
        "db_pred=db.fit_predict(X_2f)"
      ]
    },
    {
      "cell_type": "code",
      "execution_count": null,
      "metadata": {
        "id": "TscpurQAyuJb"
      },
      "outputs": [],
      "source": [
        "np.unique(db.labels_)"
      ]
    },
    {
      "cell_type": "code",
      "execution_count": null,
      "metadata": {
        "id": "8YLHkf9pyuAN"
      },
      "outputs": [],
      "source": [
        "df3[\"cluster_DB\"] = db.labels_\n",
        "df3.head()"
      ]
    },
    {
      "cell_type": "code",
      "execution_count": null,
      "metadata": {
        "id": "ZDlzwC3xyt3F"
      },
      "outputs": [],
      "source": [
        "df3['cluster_DB'].value_counts()"
      ]
    },
    {
      "cell_type": "code",
      "execution_count": null,
      "metadata": {
        "id": "UYIEbQ8xy8qF"
      },
      "outputs": [],
      "source": [
        "fig = px.scatter_mapbox(\n",
        "        df3[df3[\"cluster_DB\"]!=-1], \n",
        "        lat=\"Lat\", \n",
        "        lon=\"Lon\",\n",
        "        color=\"cluster_DB\",\n",
        "        animation_frame=\"Hour\",\n",
        "        mapbox_style=\"carto-positron\",\n",
        ")\n",
        "\n",
        "fig.show()"
      ]
    },
    {
      "cell_type": "code",
      "execution_count": null,
      "metadata": {
        "id": "arBF-Fmly8nL"
      },
      "outputs": [],
      "source": [
        "#Visualisation des clueters sur le lundi, par heures\n",
        "fig = px.scatter_mapbox(\n",
        "        df3[(df3[\"DayOfTheWeek\"]==\"Monday\") & (df3[\"cluster_DB\"]!=-1)],\n",
        "        lat=\"Lat\", \n",
        "        lon=\"Lon\",\n",
        "        color=\"cluster_DB\",\n",
        "        mapbox_style=\"carto-positron\",\n",
        "        animation_frame=\"Hour\"\n",
        ")\n",
        "\n",
        "fig.show()"
      ]
    },
    {
      "cell_type": "code",
      "execution_count": null,
      "metadata": {
        "id": "JaWf6P6Sy8eS"
      },
      "outputs": [],
      "source": []
    },
    {
      "cell_type": "code",
      "execution_count": null,
      "metadata": {
        "id": "-szWXYkTo7UR"
      },
      "outputs": [],
      "source": [
        "\t#Utilisation de la classe NearestNeighbors qui permet de déterminer les voisins les plus proches de chaque observation ainsi que les distances\n",
        "%matplotlib inline\n",
        "from sklearn.neighbors import NearestNeighbors\n",
        "import matplotlib.pyplot as plt\n",
        "import numpy as np\n",
        "\n",
        "neigh = NearestNeighbors(n_neighbors=2)\n",
        "nbrs = neigh.fit(X2)\n",
        "distances, indices = nbrs.kneighbors(X2)\n",
        "distances = np.sort(distances, axis=0)\n",
        "distances = distances[:,1]\n",
        "plt.plot(distances);"
      ]
    },
    {
      "cell_type": "code",
      "execution_count": null,
      "metadata": {
        "id": "XoNBOLWkLZcV"
      },
      "outputs": [],
      "source": [
        "#On reprend df2 qui comprend tous les jours et heures de la semaine, avec que les colonnes qui nous interessent\n",
        "#On reprend également le X2 qui est déja passé par le pré processing\n",
        "print(\"Nous faisons appel de nouveau à DbScan mais sur X2 qui représente les données Longitude, latitude, jour de la semaine et heure apres pré processing\")\n"
      ]
    },
    {
      "cell_type": "code",
      "execution_count": null,
      "metadata": {
        "id": "0g_UwDZAeVw4"
      },
      "outputs": [],
      "source": [
        "df2=df2.sort_values(['Hour'], ascending=True)"
      ]
    },
    {
      "cell_type": "code",
      "execution_count": null,
      "metadata": {
        "id": "5qnRIheQLZaO"
      },
      "outputs": [],
      "source": [
        "#db= DBSCAN(eps=0.085,min_samples=8, metric=\"euclidean\")\n",
        "db= DBSCAN(eps=0.6,min_samples=4, metric=\"euclidean\")\n",
        "db_pred=db.fit_predict(X2)"
      ]
    },
    {
      "cell_type": "code",
      "execution_count": null,
      "metadata": {
        "id": "UCliYPCmLZXv"
      },
      "outputs": [],
      "source": [
        "np.unique(db.labels_)"
      ]
    },
    {
      "cell_type": "code",
      "execution_count": null,
      "metadata": {
        "id": "7t5FhDCgLZUg"
      },
      "outputs": [],
      "source": [
        "df_dbScan2=df2.copy()"
      ]
    },
    {
      "cell_type": "code",
      "execution_count": null,
      "metadata": {
        "id": "pbJqA9ADLZR7"
      },
      "outputs": [],
      "source": [
        "df_dbScan2[\"cluster_DB\"] = db.labels_\n",
        "df_dbScan2.head()"
      ]
    },
    {
      "cell_type": "code",
      "execution_count": null,
      "metadata": {
        "id": "pC002jBJLZOw"
      },
      "outputs": [],
      "source": [
        "df_dbScan2['cluster_DB'].value_counts()"
      ]
    },
    {
      "cell_type": "code",
      "execution_count": null,
      "metadata": {
        "id": "GUoyEQUILZKh"
      },
      "outputs": [],
      "source": [
        "fig = px.scatter_mapbox(\n",
        "        df_dbScan2, \n",
        "        lat=\"Lat\", \n",
        "        lon=\"Lon\",\n",
        "        color=\"cluster_DB\",\n",
        "        animation_frame=\"Hour\",\n",
        "        mapbox_style=\"carto-positron\",\n",
        ")\n",
        "\n",
        "fig.show()"
      ]
    },
    {
      "cell_type": "code",
      "execution_count": null,
      "metadata": {
        "id": "2LT7xsebTX6x"
      },
      "outputs": [],
      "source": [
        "#Visualisation des clueters sur le lundi, par heures\n",
        "fig = px.scatter_mapbox(\n",
        "        df_dbScan2[(df_dbScan2[\"DayOfTheWeek\"]==\"Monday\") & (df_dbScan2[\"cluster_DB\"]!=-1)],\n",
        "        lat=\"Lat\", \n",
        "        lon=\"Lon\",\n",
        "        color=\"cluster_DB\",\n",
        "        mapbox_style=\"carto-positron\",\n",
        "        animation_frame=\"Hour\"\n",
        ")\n",
        "\n",
        "fig.show()"
      ]
    },
    {
      "cell_type": "code",
      "execution_count": null,
      "metadata": {
        "id": "xjo225mQTXhl"
      },
      "outputs": [],
      "source": [
        "#Visualisation des clueters sur le mardi, par heures\n",
        "fig = px.scatter_mapbox(\n",
        "        df_dbScan2[(df_dbScan2[\"DayOfTheWeek\"]==\"Tuesday\") & (df_dbScan2[\"cluster_DB\"]!=-1)],\n",
        "        lat=\"Lat\", \n",
        "        lon=\"Lon\",\n",
        "        color=\"cluster_DB\",\n",
        "        mapbox_style=\"carto-positron\",\n",
        "        animation_frame=\"Hour\"\n",
        ")\n",
        "\n",
        "fig.show()"
      ]
    },
    {
      "cell_type": "code",
      "execution_count": null,
      "metadata": {
        "id": "0EbYnTlracjT"
      },
      "outputs": [],
      "source": [
        "#Visualisation des clueters sur le mercredi, par heures\n",
        "fig = px.scatter_mapbox(\n",
        "        df_dbScan2[(df_dbScan2[\"DayOfTheWeek\"]==\"Wednesday\") & (df_dbScan2[\"cluster_DB\"]!=-1)],\n",
        "        lat=\"Lat\", \n",
        "        lon=\"Lon\",\n",
        "        color=\"cluster_DB\",\n",
        "        mapbox_style=\"carto-positron\",\n",
        "        animation_frame=\"Hour\"\n",
        ")\n",
        "\n",
        "fig.show()"
      ]
    },
    {
      "cell_type": "code",
      "execution_count": null,
      "metadata": {
        "id": "tIqd336mbhXH"
      },
      "outputs": [],
      "source": [
        "#Visualisation des clueters sur le jeudi, par heures\n",
        "fig = px.scatter_mapbox(\n",
        "        df_dbScan2[(df_dbScan2[\"DayOfTheWeek\"]==\"Thursday\") & (df_dbScan2[\"cluster_DB\"]!=-1)],\n",
        "        lat=\"Lat\", \n",
        "        lon=\"Lon\",\n",
        "        color=\"cluster_DB\",\n",
        "        mapbox_style=\"carto-positron\",\n",
        "        animation_frame=\"Hour\"\n",
        ")\n",
        "\n",
        "fig.show()"
      ]
    },
    {
      "cell_type": "code",
      "execution_count": null,
      "metadata": {
        "id": "t61R5RPvbhUX"
      },
      "outputs": [],
      "source": [
        "#Visualisation des clueters sur le mercredi, par heures\n",
        "fig = px.scatter_mapbox(\n",
        "        df_dbScan2[(df_dbScan2[\"DayOfTheWeek\"]==\"Friday\") & (df_dbScan2[\"cluster_DB\"]!=-1)],\n",
        "        lat=\"Lat\", \n",
        "        lon=\"Lon\",\n",
        "        color=\"cluster_DB\",\n",
        "        mapbox_style=\"carto-positron\",\n",
        "        animation_frame=\"Hour\"\n",
        ")\n",
        "\n",
        "fig.show()"
      ]
    },
    {
      "cell_type": "code",
      "execution_count": null,
      "metadata": {
        "id": "zULI1BaCbhQp"
      },
      "outputs": [],
      "source": [
        "#Visualisation des clueters sur le mercredi, par heures\n",
        "fig = px.scatter_mapbox(\n",
        "        df_dbScan2[(df_dbScan2[\"DayOfTheWeek\"]==\"Saturday\") & (df_dbScan2[\"cluster_DB\"]!=-1)],\n",
        "        lat=\"Lat\", \n",
        "        lon=\"Lon\",\n",
        "        color=\"cluster_DB\",\n",
        "        mapbox_style=\"carto-positron\",\n",
        "        animation_frame=\"Hour\"\n",
        ")\n",
        "\n",
        "fig.show()"
      ]
    },
    {
      "cell_type": "code",
      "execution_count": null,
      "metadata": {
        "id": "GieKcBF3bhLk"
      },
      "outputs": [],
      "source": [
        "#Visualisation des clueters sur le mercredi, par heures\n",
        "fig = px.scatter_mapbox(\n",
        "        df_dbScan2[(df_dbScan2[\"DayOfTheWeek\"]==\"Sunday\") & (df_dbScan2[\"cluster_DB\"]!=-1)],\n",
        "        lat=\"Lat\", \n",
        "        lon=\"Lon\",\n",
        "        color=\"cluster_DB\",\n",
        "        mapbox_style=\"carto-positron\",\n",
        "        animation_frame=\"Hour\"\n",
        ")\n",
        "\n",
        "fig.show()"
      ]
    },
    {
      "cell_type": "code",
      "execution_count": null,
      "metadata": {
        "id": "ot2mUliSum1d"
      },
      "outputs": [],
      "source": [
        "#convert gps coordinates from degree to radian to use haversine metric\n",
        "df3_2features_rad=df3_2features.apply(lambda x: x * np.pi / 180)"
      ]
    },
    {
      "cell_type": "code",
      "execution_count": null,
      "metadata": {
        "id": "ahY64fYOumHV"
      },
      "outputs": [],
      "source": [
        "\n",
        "#PreProcessing sur uniquement ces 2 colonnes\n",
        "numeric_features = [0,1] # Positions des colonnes quantitatives dans df\n",
        "scaler=StandardScaler()# pour normaliser les variables\n",
        "\n",
        "# Création du pipeline pour les variables catégorielles\n",
        "#categorical_features = [3] # Positions des colonnes catégorielles dans X\n",
        "#encoder=OneHotEncoder(drop='first') # on encode les catégories sous forme de colonnes comportant des 0 et des 1\n",
        "\n",
        "# On combine les pipelines dans un ColumnTransformer\n",
        "preprocessor = ColumnTransformer(\n",
        "    transformers=[\n",
        "        ('num', scaler, numeric_features)\n",
        " #       ('cat', encoder, categorical_features)\n",
        "    ])\n",
        "\n",
        "# Preprocessings sur le dataset\n",
        "print(\"Preprocessing sur le dataset...\")\n",
        "print(df_reducted.head())\n",
        "X_2fR = preprocessor.fit_transform(df3_2features_rad) # fit_transform !!\n",
        "print('...Terminé.')\n",
        "print(X[0:5, :])\n",
        "print()"
      ]
    },
    {
      "cell_type": "code",
      "execution_count": null,
      "metadata": {
        "id": "3V8C4-vgzumU"
      },
      "outputs": [],
      "source": [
        "len(df_reducted)"
      ]
    },
    {
      "cell_type": "code",
      "execution_count": null,
      "metadata": {
        "id": "_8wZmdwYbhBs"
      },
      "outputs": [],
      "source": [
        "from sklearn.metrics.pairwise import haversine_distances\n",
        "from math import radians"
      ]
    },
    {
      "cell_type": "code",
      "execution_count": null,
      "metadata": {
        "id": "3VDokJ9CrIHy"
      },
      "outputs": [],
      "source": [
        "# Compute DBSCAN\n",
        "kms_per_radian = 6371.0088\n",
        "epsilon = 60 / kms_per_radian\n",
        "db = DBSCAN(eps=epsilon, min_samples=4, algorithm='brute', metric='haversine').fit(df3_2features_rad)\n",
        "core_samples_mask = np.zeros_like(db.labels_, dtype=bool)\n",
        "core_samples_mask[db.core_sample_indices_] = True\n",
        "labels = db.labels_\n"
      ]
    },
    {
      "cell_type": "code",
      "execution_count": null,
      "metadata": {
        "id": "6X4JT7eAsEjm"
      },
      "outputs": [],
      "source": [
        "np.unique(db.labels_)"
      ]
    },
    {
      "cell_type": "code",
      "execution_count": null,
      "metadata": {
        "id": "NE6Cm7paskyS"
      },
      "outputs": [],
      "source": [
        "df_dbScan3R=df2.copy()"
      ]
    },
    {
      "cell_type": "code",
      "execution_count": null,
      "metadata": {
        "id": "TsQE66BHsHFi"
      },
      "outputs": [],
      "source": [
        "df_dbScan3R[\"cluster_DB\"] = db.labels_\n",
        "df_dbScan3R.head()"
      ]
    },
    {
      "cell_type": "code",
      "execution_count": null,
      "metadata": {
        "id": "IhBwxf0vsIsC"
      },
      "outputs": [],
      "source": [
        "df_dbScan3R['cluster_DB'].value_counts()"
      ]
    },
    {
      "cell_type": "code",
      "execution_count": null,
      "metadata": {
        "id": "NKIXSH_ksxD6"
      },
      "outputs": [],
      "source": [
        "#Visualisation des clueters sur le mercredi, par heures\n",
        "fig = px.scatter_mapbox(\n",
        "        df_dbScan3R[(df_dbScan3R[\"DayOfTheWeek\"]==\"Sunday\") & (df_dbScan3R[\"cluster_DB\"]!=-1)],\n",
        "        lat=\"Lat\", \n",
        "        lon=\"Lon\",\n",
        "        color=\"cluster_DB\",\n",
        "        mapbox_style=\"carto-positron\",\n",
        "        animation_frame=\"Hour\"\n",
        ")\n",
        "\n",
        "fig.show()"
      ]
    },
    {
      "cell_type": "code",
      "execution_count": null,
      "metadata": {
        "id": "ipYRVe4ys7a9"
      },
      "outputs": [],
      "source": []
    }
  ],
  "metadata": {
    "colab": {
      "provenance": []
    },
    "kernelspec": {
      "display_name": "Python 3.9.12 ('base')",
      "language": "python",
      "name": "python3"
    },
    "language_info": {
      "codemirror_mode": {
        "name": "ipython",
        "version": 3
      },
      "file_extension": ".py",
      "mimetype": "text/x-python",
      "name": "python",
      "nbconvert_exporter": "python",
      "pygments_lexer": "ipython3",
      "version": "3.9.12"
    },
    "vscode": {
      "interpreter": {
        "hash": "88de8a03d390c9821a705f8812eeaeda47efe29e530260f109fd5a47346b85c0"
      }
    }
  },
  "nbformat": 4,
  "nbformat_minor": 0
}