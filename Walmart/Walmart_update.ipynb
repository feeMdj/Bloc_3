{
  "cells": [
    {
      "cell_type": "code",
      "execution_count": 1,
      "metadata": {
        "id": "_wvvK8jy58Sf"
      },
      "outputs": [],
      "source": [
        "import pandas as pd\n",
        "import numpy as np\n",
        "import seaborn as sns\n",
        "from datetime import datetime\n",
        "\n",
        "from sklearn.model_selection import train_test_split\n",
        "from sklearn.pipeline import Pipeline\n",
        "from sklearn.impute import SimpleImputer\n",
        "from sklearn.impute import KNNImputer\n",
        "from sklearn.preprocessing import  OneHotEncoder, StandardScaler\n",
        "from sklearn.compose import ColumnTransformer\n",
        "from sklearn.linear_model import LinearRegression, Ridge, Lasso\n",
        "from sklearn.model_selection import cross_val_score, GridSearchCV\n",
        "from sklearn.metrics import r2_score\n",
        "\n",
        "import plotly.express as px\n",
        "import matplotlib\n",
        "import plotly as plt\n",
        "import plotly.graph_objects as go\n",
        "import plotly.io as pio\n",
        "from plotly.subplots import make_subplots\n",
        "\n",
        "import warnings\n",
        "warnings.filterwarnings('ignore')\n"
      ]
    },
    {
      "cell_type": "markdown",
      "metadata": {
        "id": "YtDut5BB58Sj"
      },
      "source": [
        "# IMPORT DATASET"
      ]
    },
    {
      "cell_type": "code",
      "execution_count": 2,
      "metadata": {
        "colab": {
          "base_uri": "https://localhost:8080/",
          "height": 206
        },
        "id": "-b0UlhSW58Sl",
        "outputId": "6a754a6b-895d-40e4-9b0e-be75d1bcc238"
      },
      "outputs": [
        {
          "output_type": "execute_result",
          "data": {
            "text/plain": [
              "   Store        Date  Weekly_Sales  Holiday_Flag  Temperature  Fuel_Price  \\\n",
              "0    6.0  18-02-2011    1572117.54           NaN        59.61       3.045   \n",
              "1   13.0  25-03-2011    1807545.43           0.0        42.38       3.435   \n",
              "2   17.0  27-07-2012           NaN           0.0          NaN         NaN   \n",
              "3   11.0         NaN    1244390.03           0.0        84.57         NaN   \n",
              "4    6.0  28-05-2010    1644470.66           0.0        78.89       2.759   \n",
              "\n",
              "          CPI  Unemployment  \n",
              "0  214.777523         6.858  \n",
              "1  128.616064         7.470  \n",
              "2  130.719581         5.936  \n",
              "3  214.556497         7.346  \n",
              "4  212.412888         7.092  "
            ],
            "text/html": [
              "\n",
              "\n",
              "  <div id=\"df-bf542988-213d-484b-b4b7-af2fd14bdf21\">\n",
              "    <div class=\"colab-df-container\">\n",
              "      <div>\n",
              "<style scoped>\n",
              "    .dataframe tbody tr th:only-of-type {\n",
              "        vertical-align: middle;\n",
              "    }\n",
              "\n",
              "    .dataframe tbody tr th {\n",
              "        vertical-align: top;\n",
              "    }\n",
              "\n",
              "    .dataframe thead th {\n",
              "        text-align: right;\n",
              "    }\n",
              "</style>\n",
              "<table border=\"1\" class=\"dataframe\">\n",
              "  <thead>\n",
              "    <tr style=\"text-align: right;\">\n",
              "      <th></th>\n",
              "      <th>Store</th>\n",
              "      <th>Date</th>\n",
              "      <th>Weekly_Sales</th>\n",
              "      <th>Holiday_Flag</th>\n",
              "      <th>Temperature</th>\n",
              "      <th>Fuel_Price</th>\n",
              "      <th>CPI</th>\n",
              "      <th>Unemployment</th>\n",
              "    </tr>\n",
              "  </thead>\n",
              "  <tbody>\n",
              "    <tr>\n",
              "      <th>0</th>\n",
              "      <td>6.0</td>\n",
              "      <td>18-02-2011</td>\n",
              "      <td>1572117.54</td>\n",
              "      <td>NaN</td>\n",
              "      <td>59.61</td>\n",
              "      <td>3.045</td>\n",
              "      <td>214.777523</td>\n",
              "      <td>6.858</td>\n",
              "    </tr>\n",
              "    <tr>\n",
              "      <th>1</th>\n",
              "      <td>13.0</td>\n",
              "      <td>25-03-2011</td>\n",
              "      <td>1807545.43</td>\n",
              "      <td>0.0</td>\n",
              "      <td>42.38</td>\n",
              "      <td>3.435</td>\n",
              "      <td>128.616064</td>\n",
              "      <td>7.470</td>\n",
              "    </tr>\n",
              "    <tr>\n",
              "      <th>2</th>\n",
              "      <td>17.0</td>\n",
              "      <td>27-07-2012</td>\n",
              "      <td>NaN</td>\n",
              "      <td>0.0</td>\n",
              "      <td>NaN</td>\n",
              "      <td>NaN</td>\n",
              "      <td>130.719581</td>\n",
              "      <td>5.936</td>\n",
              "    </tr>\n",
              "    <tr>\n",
              "      <th>3</th>\n",
              "      <td>11.0</td>\n",
              "      <td>NaN</td>\n",
              "      <td>1244390.03</td>\n",
              "      <td>0.0</td>\n",
              "      <td>84.57</td>\n",
              "      <td>NaN</td>\n",
              "      <td>214.556497</td>\n",
              "      <td>7.346</td>\n",
              "    </tr>\n",
              "    <tr>\n",
              "      <th>4</th>\n",
              "      <td>6.0</td>\n",
              "      <td>28-05-2010</td>\n",
              "      <td>1644470.66</td>\n",
              "      <td>0.0</td>\n",
              "      <td>78.89</td>\n",
              "      <td>2.759</td>\n",
              "      <td>212.412888</td>\n",
              "      <td>7.092</td>\n",
              "    </tr>\n",
              "  </tbody>\n",
              "</table>\n",
              "</div>\n",
              "      <button class=\"colab-df-convert\" onclick=\"convertToInteractive('df-bf542988-213d-484b-b4b7-af2fd14bdf21')\"\n",
              "              title=\"Convert this dataframe to an interactive table.\"\n",
              "              style=\"display:none;\">\n",
              "\n",
              "  <svg xmlns=\"http://www.w3.org/2000/svg\" height=\"24px\"viewBox=\"0 0 24 24\"\n",
              "       width=\"24px\">\n",
              "    <path d=\"M0 0h24v24H0V0z\" fill=\"none\"/>\n",
              "    <path d=\"M18.56 5.44l.94 2.06.94-2.06 2.06-.94-2.06-.94-.94-2.06-.94 2.06-2.06.94zm-11 1L8.5 8.5l.94-2.06 2.06-.94-2.06-.94L8.5 2.5l-.94 2.06-2.06.94zm10 10l.94 2.06.94-2.06 2.06-.94-2.06-.94-.94-2.06-.94 2.06-2.06.94z\"/><path d=\"M17.41 7.96l-1.37-1.37c-.4-.4-.92-.59-1.43-.59-.52 0-1.04.2-1.43.59L10.3 9.45l-7.72 7.72c-.78.78-.78 2.05 0 2.83L4 21.41c.39.39.9.59 1.41.59.51 0 1.02-.2 1.41-.59l7.78-7.78 2.81-2.81c.8-.78.8-2.07 0-2.86zM5.41 20L4 18.59l7.72-7.72 1.47 1.35L5.41 20z\"/>\n",
              "  </svg>\n",
              "      </button>\n",
              "\n",
              "\n",
              "\n",
              "    <div id=\"df-b8aad51f-ed7d-457a-97b7-e9fcb8cf9c41\">\n",
              "      <button class=\"colab-df-quickchart\" onclick=\"quickchart('df-b8aad51f-ed7d-457a-97b7-e9fcb8cf9c41')\"\n",
              "              title=\"Suggest charts.\"\n",
              "              style=\"display:none;\">\n",
              "\n",
              "<svg xmlns=\"http://www.w3.org/2000/svg\" height=\"24px\"viewBox=\"0 0 24 24\"\n",
              "     width=\"24px\">\n",
              "    <g>\n",
              "        <path d=\"M19 3H5c-1.1 0-2 .9-2 2v14c0 1.1.9 2 2 2h14c1.1 0 2-.9 2-2V5c0-1.1-.9-2-2-2zM9 17H7v-7h2v7zm4 0h-2V7h2v10zm4 0h-2v-4h2v4z\"/>\n",
              "    </g>\n",
              "</svg>\n",
              "      </button>\n",
              "    </div>\n",
              "\n",
              "<style>\n",
              "  .colab-df-quickchart {\n",
              "    background-color: #E8F0FE;\n",
              "    border: none;\n",
              "    border-radius: 50%;\n",
              "    cursor: pointer;\n",
              "    display: none;\n",
              "    fill: #1967D2;\n",
              "    height: 32px;\n",
              "    padding: 0 0 0 0;\n",
              "    width: 32px;\n",
              "  }\n",
              "\n",
              "  .colab-df-quickchart:hover {\n",
              "    background-color: #E2EBFA;\n",
              "    box-shadow: 0px 1px 2px rgba(60, 64, 67, 0.3), 0px 1px 3px 1px rgba(60, 64, 67, 0.15);\n",
              "    fill: #174EA6;\n",
              "  }\n",
              "\n",
              "  [theme=dark] .colab-df-quickchart {\n",
              "    background-color: #3B4455;\n",
              "    fill: #D2E3FC;\n",
              "  }\n",
              "\n",
              "  [theme=dark] .colab-df-quickchart:hover {\n",
              "    background-color: #434B5C;\n",
              "    box-shadow: 0px 1px 3px 1px rgba(0, 0, 0, 0.15);\n",
              "    filter: drop-shadow(0px 1px 2px rgba(0, 0, 0, 0.3));\n",
              "    fill: #FFFFFF;\n",
              "  }\n",
              "</style>\n",
              "\n",
              "    <script>\n",
              "      async function quickchart(key) {\n",
              "        const containerElement = document.querySelector('#' + key);\n",
              "        const charts = await google.colab.kernel.invokeFunction(\n",
              "            'suggestCharts', [key], {});\n",
              "      }\n",
              "    </script>\n",
              "\n",
              "      <script>\n",
              "\n",
              "function displayQuickchartButton(domScope) {\n",
              "  let quickchartButtonEl =\n",
              "    domScope.querySelector('#df-b8aad51f-ed7d-457a-97b7-e9fcb8cf9c41 button.colab-df-quickchart');\n",
              "  quickchartButtonEl.style.display =\n",
              "    google.colab.kernel.accessAllowed ? 'block' : 'none';\n",
              "}\n",
              "\n",
              "        displayQuickchartButton(document);\n",
              "      </script>\n",
              "      <style>\n",
              "    .colab-df-container {\n",
              "      display:flex;\n",
              "      flex-wrap:wrap;\n",
              "      gap: 12px;\n",
              "    }\n",
              "\n",
              "    .colab-df-convert {\n",
              "      background-color: #E8F0FE;\n",
              "      border: none;\n",
              "      border-radius: 50%;\n",
              "      cursor: pointer;\n",
              "      display: none;\n",
              "      fill: #1967D2;\n",
              "      height: 32px;\n",
              "      padding: 0 0 0 0;\n",
              "      width: 32px;\n",
              "    }\n",
              "\n",
              "    .colab-df-convert:hover {\n",
              "      background-color: #E2EBFA;\n",
              "      box-shadow: 0px 1px 2px rgba(60, 64, 67, 0.3), 0px 1px 3px 1px rgba(60, 64, 67, 0.15);\n",
              "      fill: #174EA6;\n",
              "    }\n",
              "\n",
              "    [theme=dark] .colab-df-convert {\n",
              "      background-color: #3B4455;\n",
              "      fill: #D2E3FC;\n",
              "    }\n",
              "\n",
              "    [theme=dark] .colab-df-convert:hover {\n",
              "      background-color: #434B5C;\n",
              "      box-shadow: 0px 1px 3px 1px rgba(0, 0, 0, 0.15);\n",
              "      filter: drop-shadow(0px 1px 2px rgba(0, 0, 0, 0.3));\n",
              "      fill: #FFFFFF;\n",
              "    }\n",
              "  </style>\n",
              "\n",
              "      <script>\n",
              "        const buttonEl =\n",
              "          document.querySelector('#df-bf542988-213d-484b-b4b7-af2fd14bdf21 button.colab-df-convert');\n",
              "        buttonEl.style.display =\n",
              "          google.colab.kernel.accessAllowed ? 'block' : 'none';\n",
              "\n",
              "        async function convertToInteractive(key) {\n",
              "          const element = document.querySelector('#df-bf542988-213d-484b-b4b7-af2fd14bdf21');\n",
              "          const dataTable =\n",
              "            await google.colab.kernel.invokeFunction('convertToInteractive',\n",
              "                                                     [key], {});\n",
              "          if (!dataTable) return;\n",
              "\n",
              "          const docLinkHtml = 'Like what you see? Visit the ' +\n",
              "            '<a target=\"_blank\" href=https://colab.research.google.com/notebooks/data_table.ipynb>data table notebook</a>'\n",
              "            + ' to learn more about interactive tables.';\n",
              "          element.innerHTML = '';\n",
              "          dataTable['output_type'] = 'display_data';\n",
              "          await google.colab.output.renderOutput(dataTable, element);\n",
              "          const docLink = document.createElement('div');\n",
              "          docLink.innerHTML = docLinkHtml;\n",
              "          element.appendChild(docLink);\n",
              "        }\n",
              "      </script>\n",
              "    </div>\n",
              "  </div>\n"
            ]
          },
          "metadata": {},
          "execution_count": 2
        }
      ],
      "source": [
        "df=pd.read_csv('Walmart_Store_sales.csv')\n",
        "df.head()"
      ]
    },
    {
      "cell_type": "markdown",
      "metadata": {
        "id": "d-vFjvXk58Sm"
      },
      "source": [
        "# Explore dataset"
      ]
    },
    {
      "cell_type": "code",
      "execution_count": 3,
      "metadata": {
        "colab": {
          "base_uri": "https://localhost:8080/",
          "height": 670
        },
        "id": "O8sfXQh558Sn",
        "outputId": "113618f7-ca65-4828-efa0-3b8df0312caf"
      },
      "outputs": [
        {
          "output_type": "stream",
          "name": "stdout",
          "text": [
            "Number of rows : 150\n",
            "Number of columns : 8\n",
            "\n",
            "Basics statistics: \n"
          ]
        },
        {
          "output_type": "display_data",
          "data": {
            "text/plain": [
              "             Store        Date  Weekly_Sales  Holiday_Flag  Temperature  \\\n",
              "count   150.000000         132  1.360000e+02    138.000000   132.000000   \n",
              "unique         NaN          85           NaN           NaN          NaN   \n",
              "top            NaN  19-10-2012           NaN           NaN          NaN   \n",
              "freq           NaN           4           NaN           NaN          NaN   \n",
              "mean      9.866667         NaN  1.249536e+06      0.079710    61.398106   \n",
              "std       6.231191         NaN  6.474630e+05      0.271831    18.378901   \n",
              "min       1.000000         NaN  2.689290e+05      0.000000    18.790000   \n",
              "25%       4.000000         NaN  6.050757e+05      0.000000    45.587500   \n",
              "50%       9.000000         NaN  1.261424e+06      0.000000    62.985000   \n",
              "75%      15.750000         NaN  1.806386e+06      0.000000    76.345000   \n",
              "max      20.000000         NaN  2.771397e+06      1.000000    91.650000   \n",
              "\n",
              "        Fuel_Price         CPI  Unemployment  \n",
              "count   136.000000  138.000000    135.000000  \n",
              "unique         NaN         NaN           NaN  \n",
              "top            NaN         NaN           NaN  \n",
              "freq           NaN         NaN           NaN  \n",
              "mean      3.320853  179.898509      7.598430  \n",
              "std       0.478149   40.274956      1.577173  \n",
              "min       2.514000  126.111903      5.143000  \n",
              "25%       2.852250  131.970831      6.597500  \n",
              "50%       3.451000  197.908893      7.470000  \n",
              "75%       3.706250  214.934616      8.150000  \n",
              "max       4.193000  226.968844     14.313000  "
            ],
            "text/html": [
              "\n",
              "\n",
              "  <div id=\"df-d6e9a59e-bd14-40d3-a8b0-c8346bc48599\">\n",
              "    <div class=\"colab-df-container\">\n",
              "      <div>\n",
              "<style scoped>\n",
              "    .dataframe tbody tr th:only-of-type {\n",
              "        vertical-align: middle;\n",
              "    }\n",
              "\n",
              "    .dataframe tbody tr th {\n",
              "        vertical-align: top;\n",
              "    }\n",
              "\n",
              "    .dataframe thead th {\n",
              "        text-align: right;\n",
              "    }\n",
              "</style>\n",
              "<table border=\"1\" class=\"dataframe\">\n",
              "  <thead>\n",
              "    <tr style=\"text-align: right;\">\n",
              "      <th></th>\n",
              "      <th>Store</th>\n",
              "      <th>Date</th>\n",
              "      <th>Weekly_Sales</th>\n",
              "      <th>Holiday_Flag</th>\n",
              "      <th>Temperature</th>\n",
              "      <th>Fuel_Price</th>\n",
              "      <th>CPI</th>\n",
              "      <th>Unemployment</th>\n",
              "    </tr>\n",
              "  </thead>\n",
              "  <tbody>\n",
              "    <tr>\n",
              "      <th>count</th>\n",
              "      <td>150.000000</td>\n",
              "      <td>132</td>\n",
              "      <td>1.360000e+02</td>\n",
              "      <td>138.000000</td>\n",
              "      <td>132.000000</td>\n",
              "      <td>136.000000</td>\n",
              "      <td>138.000000</td>\n",
              "      <td>135.000000</td>\n",
              "    </tr>\n",
              "    <tr>\n",
              "      <th>unique</th>\n",
              "      <td>NaN</td>\n",
              "      <td>85</td>\n",
              "      <td>NaN</td>\n",
              "      <td>NaN</td>\n",
              "      <td>NaN</td>\n",
              "      <td>NaN</td>\n",
              "      <td>NaN</td>\n",
              "      <td>NaN</td>\n",
              "    </tr>\n",
              "    <tr>\n",
              "      <th>top</th>\n",
              "      <td>NaN</td>\n",
              "      <td>19-10-2012</td>\n",
              "      <td>NaN</td>\n",
              "      <td>NaN</td>\n",
              "      <td>NaN</td>\n",
              "      <td>NaN</td>\n",
              "      <td>NaN</td>\n",
              "      <td>NaN</td>\n",
              "    </tr>\n",
              "    <tr>\n",
              "      <th>freq</th>\n",
              "      <td>NaN</td>\n",
              "      <td>4</td>\n",
              "      <td>NaN</td>\n",
              "      <td>NaN</td>\n",
              "      <td>NaN</td>\n",
              "      <td>NaN</td>\n",
              "      <td>NaN</td>\n",
              "      <td>NaN</td>\n",
              "    </tr>\n",
              "    <tr>\n",
              "      <th>mean</th>\n",
              "      <td>9.866667</td>\n",
              "      <td>NaN</td>\n",
              "      <td>1.249536e+06</td>\n",
              "      <td>0.079710</td>\n",
              "      <td>61.398106</td>\n",
              "      <td>3.320853</td>\n",
              "      <td>179.898509</td>\n",
              "      <td>7.598430</td>\n",
              "    </tr>\n",
              "    <tr>\n",
              "      <th>std</th>\n",
              "      <td>6.231191</td>\n",
              "      <td>NaN</td>\n",
              "      <td>6.474630e+05</td>\n",
              "      <td>0.271831</td>\n",
              "      <td>18.378901</td>\n",
              "      <td>0.478149</td>\n",
              "      <td>40.274956</td>\n",
              "      <td>1.577173</td>\n",
              "    </tr>\n",
              "    <tr>\n",
              "      <th>min</th>\n",
              "      <td>1.000000</td>\n",
              "      <td>NaN</td>\n",
              "      <td>2.689290e+05</td>\n",
              "      <td>0.000000</td>\n",
              "      <td>18.790000</td>\n",
              "      <td>2.514000</td>\n",
              "      <td>126.111903</td>\n",
              "      <td>5.143000</td>\n",
              "    </tr>\n",
              "    <tr>\n",
              "      <th>25%</th>\n",
              "      <td>4.000000</td>\n",
              "      <td>NaN</td>\n",
              "      <td>6.050757e+05</td>\n",
              "      <td>0.000000</td>\n",
              "      <td>45.587500</td>\n",
              "      <td>2.852250</td>\n",
              "      <td>131.970831</td>\n",
              "      <td>6.597500</td>\n",
              "    </tr>\n",
              "    <tr>\n",
              "      <th>50%</th>\n",
              "      <td>9.000000</td>\n",
              "      <td>NaN</td>\n",
              "      <td>1.261424e+06</td>\n",
              "      <td>0.000000</td>\n",
              "      <td>62.985000</td>\n",
              "      <td>3.451000</td>\n",
              "      <td>197.908893</td>\n",
              "      <td>7.470000</td>\n",
              "    </tr>\n",
              "    <tr>\n",
              "      <th>75%</th>\n",
              "      <td>15.750000</td>\n",
              "      <td>NaN</td>\n",
              "      <td>1.806386e+06</td>\n",
              "      <td>0.000000</td>\n",
              "      <td>76.345000</td>\n",
              "      <td>3.706250</td>\n",
              "      <td>214.934616</td>\n",
              "      <td>8.150000</td>\n",
              "    </tr>\n",
              "    <tr>\n",
              "      <th>max</th>\n",
              "      <td>20.000000</td>\n",
              "      <td>NaN</td>\n",
              "      <td>2.771397e+06</td>\n",
              "      <td>1.000000</td>\n",
              "      <td>91.650000</td>\n",
              "      <td>4.193000</td>\n",
              "      <td>226.968844</td>\n",
              "      <td>14.313000</td>\n",
              "    </tr>\n",
              "  </tbody>\n",
              "</table>\n",
              "</div>\n",
              "      <button class=\"colab-df-convert\" onclick=\"convertToInteractive('df-d6e9a59e-bd14-40d3-a8b0-c8346bc48599')\"\n",
              "              title=\"Convert this dataframe to an interactive table.\"\n",
              "              style=\"display:none;\">\n",
              "\n",
              "  <svg xmlns=\"http://www.w3.org/2000/svg\" height=\"24px\"viewBox=\"0 0 24 24\"\n",
              "       width=\"24px\">\n",
              "    <path d=\"M0 0h24v24H0V0z\" fill=\"none\"/>\n",
              "    <path d=\"M18.56 5.44l.94 2.06.94-2.06 2.06-.94-2.06-.94-.94-2.06-.94 2.06-2.06.94zm-11 1L8.5 8.5l.94-2.06 2.06-.94-2.06-.94L8.5 2.5l-.94 2.06-2.06.94zm10 10l.94 2.06.94-2.06 2.06-.94-2.06-.94-.94-2.06-.94 2.06-2.06.94z\"/><path d=\"M17.41 7.96l-1.37-1.37c-.4-.4-.92-.59-1.43-.59-.52 0-1.04.2-1.43.59L10.3 9.45l-7.72 7.72c-.78.78-.78 2.05 0 2.83L4 21.41c.39.39.9.59 1.41.59.51 0 1.02-.2 1.41-.59l7.78-7.78 2.81-2.81c.8-.78.8-2.07 0-2.86zM5.41 20L4 18.59l7.72-7.72 1.47 1.35L5.41 20z\"/>\n",
              "  </svg>\n",
              "      </button>\n",
              "\n",
              "\n",
              "\n",
              "    <div id=\"df-9bb059a0-1faf-4db7-839f-ae0d6c4e4041\">\n",
              "      <button class=\"colab-df-quickchart\" onclick=\"quickchart('df-9bb059a0-1faf-4db7-839f-ae0d6c4e4041')\"\n",
              "              title=\"Suggest charts.\"\n",
              "              style=\"display:none;\">\n",
              "\n",
              "<svg xmlns=\"http://www.w3.org/2000/svg\" height=\"24px\"viewBox=\"0 0 24 24\"\n",
              "     width=\"24px\">\n",
              "    <g>\n",
              "        <path d=\"M19 3H5c-1.1 0-2 .9-2 2v14c0 1.1.9 2 2 2h14c1.1 0 2-.9 2-2V5c0-1.1-.9-2-2-2zM9 17H7v-7h2v7zm4 0h-2V7h2v10zm4 0h-2v-4h2v4z\"/>\n",
              "    </g>\n",
              "</svg>\n",
              "      </button>\n",
              "    </div>\n",
              "\n",
              "<style>\n",
              "  .colab-df-quickchart {\n",
              "    background-color: #E8F0FE;\n",
              "    border: none;\n",
              "    border-radius: 50%;\n",
              "    cursor: pointer;\n",
              "    display: none;\n",
              "    fill: #1967D2;\n",
              "    height: 32px;\n",
              "    padding: 0 0 0 0;\n",
              "    width: 32px;\n",
              "  }\n",
              "\n",
              "  .colab-df-quickchart:hover {\n",
              "    background-color: #E2EBFA;\n",
              "    box-shadow: 0px 1px 2px rgba(60, 64, 67, 0.3), 0px 1px 3px 1px rgba(60, 64, 67, 0.15);\n",
              "    fill: #174EA6;\n",
              "  }\n",
              "\n",
              "  [theme=dark] .colab-df-quickchart {\n",
              "    background-color: #3B4455;\n",
              "    fill: #D2E3FC;\n",
              "  }\n",
              "\n",
              "  [theme=dark] .colab-df-quickchart:hover {\n",
              "    background-color: #434B5C;\n",
              "    box-shadow: 0px 1px 3px 1px rgba(0, 0, 0, 0.15);\n",
              "    filter: drop-shadow(0px 1px 2px rgba(0, 0, 0, 0.3));\n",
              "    fill: #FFFFFF;\n",
              "  }\n",
              "</style>\n",
              "\n",
              "    <script>\n",
              "      async function quickchart(key) {\n",
              "        const containerElement = document.querySelector('#' + key);\n",
              "        const charts = await google.colab.kernel.invokeFunction(\n",
              "            'suggestCharts', [key], {});\n",
              "      }\n",
              "    </script>\n",
              "\n",
              "      <script>\n",
              "\n",
              "function displayQuickchartButton(domScope) {\n",
              "  let quickchartButtonEl =\n",
              "    domScope.querySelector('#df-9bb059a0-1faf-4db7-839f-ae0d6c4e4041 button.colab-df-quickchart');\n",
              "  quickchartButtonEl.style.display =\n",
              "    google.colab.kernel.accessAllowed ? 'block' : 'none';\n",
              "}\n",
              "\n",
              "        displayQuickchartButton(document);\n",
              "      </script>\n",
              "      <style>\n",
              "    .colab-df-container {\n",
              "      display:flex;\n",
              "      flex-wrap:wrap;\n",
              "      gap: 12px;\n",
              "    }\n",
              "\n",
              "    .colab-df-convert {\n",
              "      background-color: #E8F0FE;\n",
              "      border: none;\n",
              "      border-radius: 50%;\n",
              "      cursor: pointer;\n",
              "      display: none;\n",
              "      fill: #1967D2;\n",
              "      height: 32px;\n",
              "      padding: 0 0 0 0;\n",
              "      width: 32px;\n",
              "    }\n",
              "\n",
              "    .colab-df-convert:hover {\n",
              "      background-color: #E2EBFA;\n",
              "      box-shadow: 0px 1px 2px rgba(60, 64, 67, 0.3), 0px 1px 3px 1px rgba(60, 64, 67, 0.15);\n",
              "      fill: #174EA6;\n",
              "    }\n",
              "\n",
              "    [theme=dark] .colab-df-convert {\n",
              "      background-color: #3B4455;\n",
              "      fill: #D2E3FC;\n",
              "    }\n",
              "\n",
              "    [theme=dark] .colab-df-convert:hover {\n",
              "      background-color: #434B5C;\n",
              "      box-shadow: 0px 1px 3px 1px rgba(0, 0, 0, 0.15);\n",
              "      filter: drop-shadow(0px 1px 2px rgba(0, 0, 0, 0.3));\n",
              "      fill: #FFFFFF;\n",
              "    }\n",
              "  </style>\n",
              "\n",
              "      <script>\n",
              "        const buttonEl =\n",
              "          document.querySelector('#df-d6e9a59e-bd14-40d3-a8b0-c8346bc48599 button.colab-df-convert');\n",
              "        buttonEl.style.display =\n",
              "          google.colab.kernel.accessAllowed ? 'block' : 'none';\n",
              "\n",
              "        async function convertToInteractive(key) {\n",
              "          const element = document.querySelector('#df-d6e9a59e-bd14-40d3-a8b0-c8346bc48599');\n",
              "          const dataTable =\n",
              "            await google.colab.kernel.invokeFunction('convertToInteractive',\n",
              "                                                     [key], {});\n",
              "          if (!dataTable) return;\n",
              "\n",
              "          const docLinkHtml = 'Like what you see? Visit the ' +\n",
              "            '<a target=\"_blank\" href=https://colab.research.google.com/notebooks/data_table.ipynb>data table notebook</a>'\n",
              "            + ' to learn more about interactive tables.';\n",
              "          element.innerHTML = '';\n",
              "          dataTable['output_type'] = 'display_data';\n",
              "          await google.colab.output.renderOutput(dataTable, element);\n",
              "          const docLink = document.createElement('div');\n",
              "          docLink.innerHTML = docLinkHtml;\n",
              "          element.appendChild(docLink);\n",
              "        }\n",
              "      </script>\n",
              "    </div>\n",
              "  </div>\n"
            ]
          },
          "metadata": {}
        },
        {
          "output_type": "stream",
          "name": "stdout",
          "text": [
            "\n",
            "Percentage of missing values: \n"
          ]
        },
        {
          "output_type": "display_data",
          "data": {
            "text/plain": [
              "Store            0.000000\n",
              "Date            12.000000\n",
              "Weekly_Sales     9.333333\n",
              "Holiday_Flag     8.000000\n",
              "Temperature     12.000000\n",
              "Fuel_Price       9.333333\n",
              "CPI              8.000000\n",
              "Unemployment    10.000000\n",
              "dtype: float64"
            ]
          },
          "metadata": {}
        }
      ],
      "source": [
        "#Basic stats\n",
        "print(\"Number of rows : {}\".format(df.shape[0]))\n",
        "print(\"Number of columns : {}\".format(df.shape[1]))\n",
        "print()\n",
        "\n",
        "print(\"Basics statistics: \")\n",
        "data_desc = df.describe(include='all')\n",
        "display(data_desc)\n",
        "print()\n",
        "\n",
        "print(\"Percentage of missing values: \")\n",
        "display(100*df.isnull().sum()/df.shape[0])"
      ]
    },
    {
      "cell_type": "markdown",
      "metadata": {
        "id": "LFe4ti8p58So"
      },
      "source": [
        "## Dropping null values in our target \"weekly sales\""
      ]
    },
    {
      "cell_type": "code",
      "execution_count": 4,
      "metadata": {
        "colab": {
          "base_uri": "https://localhost:8080/"
        },
        "id": "t9Eu33ry58Sp",
        "outputId": "eac1a283-98a5-4498-e81a-5560e31c38b6"
      },
      "outputs": [
        {
          "output_type": "stream",
          "name": "stdout",
          "text": [
            "We have 14 null values in our target\n"
          ]
        }
      ],
      "source": [
        "#We check how many rows with null value as target y (Weekly_Sales)\n",
        "rows_to_drop=df['Weekly_Sales'].isnull().sum()\n",
        "print(f\"We have {rows_to_drop} null values in our target\")"
      ]
    },
    {
      "cell_type": "code",
      "execution_count": 5,
      "metadata": {
        "colab": {
          "base_uri": "https://localhost:8080/"
        },
        "id": "BRAjAZy_58Sq",
        "outputId": "9aa3c525-a8d2-461b-a4fd-9ef11f7fe7df"
      },
      "outputs": [
        {
          "output_type": "execute_result",
          "data": {
            "text/plain": [
              "0"
            ]
          },
          "metadata": {},
          "execution_count": 5
        }
      ],
      "source": [
        "# We drop these rows\n",
        "df=df.dropna(subset = ['Weekly_Sales'])\n",
        "df.Weekly_Sales.isnull().sum()"
      ]
    },
    {
      "cell_type": "code",
      "execution_count": 6,
      "metadata": {
        "colab": {
          "base_uri": "https://localhost:8080/"
        },
        "id": "lf8GGv7358Sq",
        "outputId": "d66253d7-e861-4449-9683-d91a4f3d68ad"
      },
      "outputs": [
        {
          "output_type": "execute_result",
          "data": {
            "text/plain": [
              "(136, 8)"
            ]
          },
          "metadata": {},
          "execution_count": 6
        }
      ],
      "source": [
        "#Let's visualize the shape of our new dataset\n",
        "df.shape"
      ]
    },
    {
      "cell_type": "markdown",
      "metadata": {
        "id": "V00A-Peo58Ss"
      },
      "source": [
        "# Study outliers"
      ]
    },
    {
      "cell_type": "code",
      "execution_count": 7,
      "metadata": {
        "colab": {
          "base_uri": "https://localhost:8080/"
        },
        "id": "-fVM5Vaz58St",
        "outputId": "a6c2c05c-34ba-4a4d-add0-283e39233d5b"
      },
      "outputs": [
        {
          "output_type": "stream",
          "name": "stdout",
          "text": [
            "we can consider as outliers, values up to: \n",
            "Temperature = 116.39726255188084, Fuel_Price = 4.7556126415753965, CPI = 298.82045814693976, Unemployment = 12.523867092274017\n"
          ]
        }
      ],
      "source": [
        "# We fix as outlier all the values up to the mean + 3 times the standard deviation for each feature\n",
        "max_Temp=df['Temperature'].mean() + 3*df['Temperature'].std()\n",
        "max_Fuel=df['Fuel_Price'].mean() + 3*df['Fuel_Price'].std()\n",
        "max_CPI=df['CPI'].mean() + 3*df['CPI'].std()\n",
        "max_Unempl=df['Unemployment'].mean() + 3*df['Unemployment'].std()\n",
        "print('we can consider as outliers, values up to: ')\n",
        "print(f'Temperature = {max_Temp}, Fuel_Price = {max_Fuel}, CPI = {max_CPI}, Unemployment = {max_Unempl}')"
      ]
    },
    {
      "cell_type": "code",
      "execution_count": 8,
      "metadata": {
        "colab": {
          "base_uri": "https://localhost:8080/"
        },
        "id": "v3NoYwVH58Su",
        "outputId": "f1105779-4f23-4de0-f959-3b05dec44171"
      },
      "outputs": [
        {
          "output_type": "stream",
          "name": "stdout",
          "text": [
            "we can consider as outliers, values less than: \n",
            "Temperature = 5.310671332416675, Fuel_Price = 1.8783712293923458, CPI = 57.36182994106019, Unemployment = 2.807296842152213\n"
          ]
        }
      ],
      "source": [
        "# We fix as outlier all the values less than the mean + 3 times the standard deviation for each feature\n",
        "min_Temp=df['Temperature'].mean() - 3*df['Temperature'].std()\n",
        "min_Fuel=df['Fuel_Price'].mean() - 3*df['Fuel_Price'].std()\n",
        "min_CPI=df['CPI'].mean() - 3*df['CPI'].std()\n",
        "min_Unempl=df['Unemployment'].mean() - 3*df['Unemployment'].std()\n",
        "print('we can consider as outliers, values less than: ')\n",
        "print(f'Temperature = {min_Temp}, Fuel_Price = {min_Fuel}, CPI = {min_CPI}, Unemployment = {min_Unempl}')"
      ]
    },
    {
      "cell_type": "code",
      "execution_count": 9,
      "metadata": {
        "colab": {
          "base_uri": "https://localhost:8080/",
          "height": 817
        },
        "id": "RJkkkCY-58Su",
        "outputId": "1d2314fb-24e9-4bdc-8f45-a0c2305a3df8"
      },
      "outputs": [
        {
          "output_type": "display_data",
          "data": {
            "text/html": [
              "<html>\n",
              "<head><meta charset=\"utf-8\" /></head>\n",
              "<body>\n",
              "    <div>            <script src=\"https://cdnjs.cloudflare.com/ajax/libs/mathjax/2.7.5/MathJax.js?config=TeX-AMS-MML_SVG\"></script><script type=\"text/javascript\">if (window.MathJax && window.MathJax.Hub && window.MathJax.Hub.Config) {window.MathJax.Hub.Config({SVG: {font: \"STIX-Web\"}});}</script>                <script type=\"text/javascript\">window.PlotlyConfig = {MathJaxConfig: 'local'};</script>\n",
              "        <script src=\"https://cdn.plot.ly/plotly-2.18.2.min.js\"></script>                <div id=\"37b877a3-8c99-4558-b811-8432268b1211\" class=\"plotly-graph-div\" style=\"height:800px; width:900px;\"></div>            <script type=\"text/javascript\">                                    window.PLOTLYENV=window.PLOTLYENV || {};                                    if (document.getElementById(\"37b877a3-8c99-4558-b811-8432268b1211\")) {                    Plotly.newPlot(                        \"37b877a3-8c99-4558-b811-8432268b1211\",                        [{\"boxpoints\":\"all\",\"name\":\"Temperature\",\"y\":[59.61,42.38,84.57,78.89,null,69.8,39.93,30.54,60.12,82.92,52.02,36.61,64.74,60.07,68.91,76.34,21.33,50.13,38.26,77.38,50.97,39.07,50.76,44.82,51.86,43.95,45.22,null,68.4,18.79,37.0,87.7,33.26,80.19,null,81.85,60.71,50.43,null,null,57.6,38.51,54.63,82.46,66.25,91.65,48.29,61.11,59.69,85.02,41.76,86.87,63.6,74.92,null,36.85,null,57.62,52.77,69.17,36.44,43.43,73.67,45.71,91.04,27.4,36.78,85.22,67.97,75.17,47.42,62.25,69.37,49.96,null,52.77,79.97,44.69,null,75.19,39.79,76.42,78.51,68.91,null,null,78.47,74.78,49.76,67.53,90.32,78.82,83.52,46.75,69.75,42.4,82.7,72.83,34.89,33.34,69.12,28.85,null,39.69,32.71,69.9,null,39.3,82.99,34.32,75.32,89.42,57.84,null,68.26,63.91,61.79,75.95,73.25,52.5,null,82.84,83.63,84.59,88.44,74.24,50.6,62.37,75.54,78.53,73.44,72.62,20.74,57.14,86.05,55.2],\"type\":\"box\",\"xaxis\":\"x\",\"yaxis\":\"y\"},{\"boxpoints\":\"all\",\"name\":\"Fuel_Price\",\"y\":[3.045,3.435,null,2.759,2.756,4.069,3.617,3.109,3.555,3.554,2.878,3.767,3.734,2.853,2.78,2.85,2.7880000000000003,null,2.725,3.899,4.029,2.963,4.124,3.797,3.261,3.828,2.915,3.523,4.1930000000000005,3.103,null,3.48,3.789,3.467,3.823,3.57,3.297,4.023,3.659,3.73,3.485,2.548,3.555,2.64,2.958,3.684,3.75,3.788,2.728,2.653,3.625,3.666,3.648,2.619,2.64,3.695,4.046,3.882,3.236,3.594,3.149,3.287,2.792,2.572,3.701,3.139,2.817,2.619,3.594,2.8080000000000003,4.021,3.3080000000000003,null,2.7710000000000004,3.63,3.51,3.972,2.9760000000000004,3.793,3.688,3.739,3.786,2.642,3.63,2.667,4.087,3.76,2.854,null,null,null,2.814,2.637,null,3.815,2.86,3.346,2.932,null,2.548,2.906,3.179,3.722,2.514,null,2.735,2.909,3.936,2.637,3.193,2.582,3.682,3.596,3.786,null,3.3080000000000003,2.7110000000000003,3.606,3.84,3.529,2.8310000000000004,3.627,3.044,3.469,3.112,3.807,3.804,null,3.285,2.705,3.594,2.78,2.778,2.841,3.638,4.17],\"type\":\"box\",\"xaxis\":\"x2\",\"yaxis\":\"y2\"},{\"boxpoints\":\"all\",\"name\":\"CPI\",\"y\":[214.7775231,128.6160645,214.55649680000005,212.412888,126.1602258,134.85516130000002,213.0236225,null,224.1320199,219.07019680000005,132.7633548,192.826069,221.2118132,126.2346,211.8942725,null,131.52790320000005,null,189.7048215,216.5343611,138.9117,131.863129,138.0332,131.1083333,null,192.831317,126.5621,217.2706543,129.04443329999998,196.9195056,null,214.9296249,133.9587419,219.7414914,134.2784667,129.0663,218.5699621,137.9781333,198.1267184,222.4390153,194.3796374,211.24216980000003,220.275944,211.9270006,132.5218667,215.544618,197.4133259,130.95922579999998,211.6608975,214.8965756,184.9943679,130.7196333,129.5183333,214.9362793,212.8944846,189.8424834,185.9374378,130.6457931,126.8794839,224.0192873,129.8980645,127.1917742,132.6141935,214.4248812,129.2015806,null,126.7934,211.5673056,223.4257233,204.5675459,137.5843871,218.2205088,null,215.43728540000004,221.4342146,223.9170153,135.8738387,211.0648881,131.03754840000002,225.2351496,213.4725116,215.1544822,214.6564301,null,214.7027646,129.0623548,186.1399808,210.3374261,214.7492449,210.939388,126.1266,126.1392,214.7858259,219.355063,135.4468,126.7934,225.3068615,132.5983871,null,214.62141890000004,132.2939355,204.6432267,138.1629,210.9451605,130.27922579999998,215.0614025,131.637,197.7227385,215.0166484,182.5983058,214.8785562,216.0464364,198.0950484,215.5037878,134.94254840000002,221.6432852,189.5231276,129.2015806,138.1857097,130.82619350000002,126.5461613,129.1507742,126.11458059999998,129.1125,126.1283548,217.0146941,197.5886046,212.5604113,null,214.4958382,226.9688442,182.4424199,null,126.1119032,219.0075249,137.9230667],\"type\":\"box\",\"xaxis\":\"x3\",\"yaxis\":\"y3\"},{\"boxpoints\":\"all\",\"name\":\"Unemployment\",\"y\":[6.858,7.47,7.346,7.0920000000000005,7.896,7.657999999999999,6.961,null,6.832999999999998,6.425,9.331,8.595,7.348,6.885,7.0920000000000005,7.951,9.202,7.441,8.963,6.489,8.243,8.35,8.15,5.527,6.832999999999998,6.339,6.635,6.925,13.736,8.256,8.424,null,7.771,7.567,8.975,5.9460000000000015,6.3,8.304,6.061,6.908,8.622,8.106,7.057,6.496,8.099,7.9620000000000015,6.162000000000001,5.965,8.163,null,8.549,7.17,6.877000000000002,6.315,6.973,8.424,8.521,7.545,14.313,5.4220000000000015,5.143,8.744,9.342,7.3679999999999986,13.503,9.331,7.795,7.787000000000001,null,7.856,7.943,7.866,7.527,6.56,5.943,6.832999999999998,7.806,8.027999999999999,6.235,6.664,6.961,7.931,6.442,5.936,null,13.736,8.625,7.808,6.299,null,9.524,7.951,7.343,7.057,8.89,7.127000000000002,6.664,8.099,8.992,6.299,null,7.484,8.15,null,6.104,7.564,null,8.09,6.384,null,6.315,6.529,7.872000000000001,7.682,7.657999999999999,7.197,6.867999999999999,6.877000000000002,8.535,6.104,null,5.644,14.18,5.644,9.199,6.855,8.09,6.768,7.197,7.343,6.034,8.899,null,null,null,8.15],\"type\":\"box\",\"xaxis\":\"x4\",\"yaxis\":\"y4\"}],                        {\"template\":{\"data\":{\"histogram2dcontour\":[{\"type\":\"histogram2dcontour\",\"colorbar\":{\"outlinewidth\":0,\"ticks\":\"\"},\"colorscale\":[[0.0,\"#0d0887\"],[0.1111111111111111,\"#46039f\"],[0.2222222222222222,\"#7201a8\"],[0.3333333333333333,\"#9c179e\"],[0.4444444444444444,\"#bd3786\"],[0.5555555555555556,\"#d8576b\"],[0.6666666666666666,\"#ed7953\"],[0.7777777777777778,\"#fb9f3a\"],[0.8888888888888888,\"#fdca26\"],[1.0,\"#f0f921\"]]}],\"choropleth\":[{\"type\":\"choropleth\",\"colorbar\":{\"outlinewidth\":0,\"ticks\":\"\"}}],\"histogram2d\":[{\"type\":\"histogram2d\",\"colorbar\":{\"outlinewidth\":0,\"ticks\":\"\"},\"colorscale\":[[0.0,\"#0d0887\"],[0.1111111111111111,\"#46039f\"],[0.2222222222222222,\"#7201a8\"],[0.3333333333333333,\"#9c179e\"],[0.4444444444444444,\"#bd3786\"],[0.5555555555555556,\"#d8576b\"],[0.6666666666666666,\"#ed7953\"],[0.7777777777777778,\"#fb9f3a\"],[0.8888888888888888,\"#fdca26\"],[1.0,\"#f0f921\"]]}],\"heatmap\":[{\"type\":\"heatmap\",\"colorbar\":{\"outlinewidth\":0,\"ticks\":\"\"},\"colorscale\":[[0.0,\"#0d0887\"],[0.1111111111111111,\"#46039f\"],[0.2222222222222222,\"#7201a8\"],[0.3333333333333333,\"#9c179e\"],[0.4444444444444444,\"#bd3786\"],[0.5555555555555556,\"#d8576b\"],[0.6666666666666666,\"#ed7953\"],[0.7777777777777778,\"#fb9f3a\"],[0.8888888888888888,\"#fdca26\"],[1.0,\"#f0f921\"]]}],\"heatmapgl\":[{\"type\":\"heatmapgl\",\"colorbar\":{\"outlinewidth\":0,\"ticks\":\"\"},\"colorscale\":[[0.0,\"#0d0887\"],[0.1111111111111111,\"#46039f\"],[0.2222222222222222,\"#7201a8\"],[0.3333333333333333,\"#9c179e\"],[0.4444444444444444,\"#bd3786\"],[0.5555555555555556,\"#d8576b\"],[0.6666666666666666,\"#ed7953\"],[0.7777777777777778,\"#fb9f3a\"],[0.8888888888888888,\"#fdca26\"],[1.0,\"#f0f921\"]]}],\"contourcarpet\":[{\"type\":\"contourcarpet\",\"colorbar\":{\"outlinewidth\":0,\"ticks\":\"\"}}],\"contour\":[{\"type\":\"contour\",\"colorbar\":{\"outlinewidth\":0,\"ticks\":\"\"},\"colorscale\":[[0.0,\"#0d0887\"],[0.1111111111111111,\"#46039f\"],[0.2222222222222222,\"#7201a8\"],[0.3333333333333333,\"#9c179e\"],[0.4444444444444444,\"#bd3786\"],[0.5555555555555556,\"#d8576b\"],[0.6666666666666666,\"#ed7953\"],[0.7777777777777778,\"#fb9f3a\"],[0.8888888888888888,\"#fdca26\"],[1.0,\"#f0f921\"]]}],\"surface\":[{\"type\":\"surface\",\"colorbar\":{\"outlinewidth\":0,\"ticks\":\"\"},\"colorscale\":[[0.0,\"#0d0887\"],[0.1111111111111111,\"#46039f\"],[0.2222222222222222,\"#7201a8\"],[0.3333333333333333,\"#9c179e\"],[0.4444444444444444,\"#bd3786\"],[0.5555555555555556,\"#d8576b\"],[0.6666666666666666,\"#ed7953\"],[0.7777777777777778,\"#fb9f3a\"],[0.8888888888888888,\"#fdca26\"],[1.0,\"#f0f921\"]]}],\"mesh3d\":[{\"type\":\"mesh3d\",\"colorbar\":{\"outlinewidth\":0,\"ticks\":\"\"}}],\"scatter\":[{\"fillpattern\":{\"fillmode\":\"overlay\",\"size\":10,\"solidity\":0.2},\"type\":\"scatter\"}],\"parcoords\":[{\"type\":\"parcoords\",\"line\":{\"colorbar\":{\"outlinewidth\":0,\"ticks\":\"\"}}}],\"scatterpolargl\":[{\"type\":\"scatterpolargl\",\"marker\":{\"colorbar\":{\"outlinewidth\":0,\"ticks\":\"\"}}}],\"bar\":[{\"error_x\":{\"color\":\"#2a3f5f\"},\"error_y\":{\"color\":\"#2a3f5f\"},\"marker\":{\"line\":{\"color\":\"#E5ECF6\",\"width\":0.5},\"pattern\":{\"fillmode\":\"overlay\",\"size\":10,\"solidity\":0.2}},\"type\":\"bar\"}],\"scattergeo\":[{\"type\":\"scattergeo\",\"marker\":{\"colorbar\":{\"outlinewidth\":0,\"ticks\":\"\"}}}],\"scatterpolar\":[{\"type\":\"scatterpolar\",\"marker\":{\"colorbar\":{\"outlinewidth\":0,\"ticks\":\"\"}}}],\"histogram\":[{\"marker\":{\"pattern\":{\"fillmode\":\"overlay\",\"size\":10,\"solidity\":0.2}},\"type\":\"histogram\"}],\"scattergl\":[{\"type\":\"scattergl\",\"marker\":{\"colorbar\":{\"outlinewidth\":0,\"ticks\":\"\"}}}],\"scatter3d\":[{\"type\":\"scatter3d\",\"line\":{\"colorbar\":{\"outlinewidth\":0,\"ticks\":\"\"}},\"marker\":{\"colorbar\":{\"outlinewidth\":0,\"ticks\":\"\"}}}],\"scattermapbox\":[{\"type\":\"scattermapbox\",\"marker\":{\"colorbar\":{\"outlinewidth\":0,\"ticks\":\"\"}}}],\"scatterternary\":[{\"type\":\"scatterternary\",\"marker\":{\"colorbar\":{\"outlinewidth\":0,\"ticks\":\"\"}}}],\"scattercarpet\":[{\"type\":\"scattercarpet\",\"marker\":{\"colorbar\":{\"outlinewidth\":0,\"ticks\":\"\"}}}],\"carpet\":[{\"aaxis\":{\"endlinecolor\":\"#2a3f5f\",\"gridcolor\":\"white\",\"linecolor\":\"white\",\"minorgridcolor\":\"white\",\"startlinecolor\":\"#2a3f5f\"},\"baxis\":{\"endlinecolor\":\"#2a3f5f\",\"gridcolor\":\"white\",\"linecolor\":\"white\",\"minorgridcolor\":\"white\",\"startlinecolor\":\"#2a3f5f\"},\"type\":\"carpet\"}],\"table\":[{\"cells\":{\"fill\":{\"color\":\"#EBF0F8\"},\"line\":{\"color\":\"white\"}},\"header\":{\"fill\":{\"color\":\"#C8D4E3\"},\"line\":{\"color\":\"white\"}},\"type\":\"table\"}],\"barpolar\":[{\"marker\":{\"line\":{\"color\":\"#E5ECF6\",\"width\":0.5},\"pattern\":{\"fillmode\":\"overlay\",\"size\":10,\"solidity\":0.2}},\"type\":\"barpolar\"}],\"pie\":[{\"automargin\":true,\"type\":\"pie\"}]},\"layout\":{\"autotypenumbers\":\"strict\",\"colorway\":[\"#636efa\",\"#EF553B\",\"#00cc96\",\"#ab63fa\",\"#FFA15A\",\"#19d3f3\",\"#FF6692\",\"#B6E880\",\"#FF97FF\",\"#FECB52\"],\"font\":{\"color\":\"#2a3f5f\"},\"hovermode\":\"closest\",\"hoverlabel\":{\"align\":\"left\"},\"paper_bgcolor\":\"white\",\"plot_bgcolor\":\"#E5ECF6\",\"polar\":{\"bgcolor\":\"#E5ECF6\",\"angularaxis\":{\"gridcolor\":\"white\",\"linecolor\":\"white\",\"ticks\":\"\"},\"radialaxis\":{\"gridcolor\":\"white\",\"linecolor\":\"white\",\"ticks\":\"\"}},\"ternary\":{\"bgcolor\":\"#E5ECF6\",\"aaxis\":{\"gridcolor\":\"white\",\"linecolor\":\"white\",\"ticks\":\"\"},\"baxis\":{\"gridcolor\":\"white\",\"linecolor\":\"white\",\"ticks\":\"\"},\"caxis\":{\"gridcolor\":\"white\",\"linecolor\":\"white\",\"ticks\":\"\"}},\"coloraxis\":{\"colorbar\":{\"outlinewidth\":0,\"ticks\":\"\"}},\"colorscale\":{\"sequential\":[[0.0,\"#0d0887\"],[0.1111111111111111,\"#46039f\"],[0.2222222222222222,\"#7201a8\"],[0.3333333333333333,\"#9c179e\"],[0.4444444444444444,\"#bd3786\"],[0.5555555555555556,\"#d8576b\"],[0.6666666666666666,\"#ed7953\"],[0.7777777777777778,\"#fb9f3a\"],[0.8888888888888888,\"#fdca26\"],[1.0,\"#f0f921\"]],\"sequentialminus\":[[0.0,\"#0d0887\"],[0.1111111111111111,\"#46039f\"],[0.2222222222222222,\"#7201a8\"],[0.3333333333333333,\"#9c179e\"],[0.4444444444444444,\"#bd3786\"],[0.5555555555555556,\"#d8576b\"],[0.6666666666666666,\"#ed7953\"],[0.7777777777777778,\"#fb9f3a\"],[0.8888888888888888,\"#fdca26\"],[1.0,\"#f0f921\"]],\"diverging\":[[0,\"#8e0152\"],[0.1,\"#c51b7d\"],[0.2,\"#de77ae\"],[0.3,\"#f1b6da\"],[0.4,\"#fde0ef\"],[0.5,\"#f7f7f7\"],[0.6,\"#e6f5d0\"],[0.7,\"#b8e186\"],[0.8,\"#7fbc41\"],[0.9,\"#4d9221\"],[1,\"#276419\"]]},\"xaxis\":{\"gridcolor\":\"white\",\"linecolor\":\"white\",\"ticks\":\"\",\"title\":{\"standoff\":15},\"zerolinecolor\":\"white\",\"automargin\":true,\"zerolinewidth\":2},\"yaxis\":{\"gridcolor\":\"white\",\"linecolor\":\"white\",\"ticks\":\"\",\"title\":{\"standoff\":15},\"zerolinecolor\":\"white\",\"automargin\":true,\"zerolinewidth\":2},\"scene\":{\"xaxis\":{\"backgroundcolor\":\"#E5ECF6\",\"gridcolor\":\"white\",\"linecolor\":\"white\",\"showbackground\":true,\"ticks\":\"\",\"zerolinecolor\":\"white\",\"gridwidth\":2},\"yaxis\":{\"backgroundcolor\":\"#E5ECF6\",\"gridcolor\":\"white\",\"linecolor\":\"white\",\"showbackground\":true,\"ticks\":\"\",\"zerolinecolor\":\"white\",\"gridwidth\":2},\"zaxis\":{\"backgroundcolor\":\"#E5ECF6\",\"gridcolor\":\"white\",\"linecolor\":\"white\",\"showbackground\":true,\"ticks\":\"\",\"zerolinecolor\":\"white\",\"gridwidth\":2}},\"shapedefaults\":{\"line\":{\"color\":\"#2a3f5f\"}},\"annotationdefaults\":{\"arrowcolor\":\"#2a3f5f\",\"arrowhead\":0,\"arrowwidth\":1},\"geo\":{\"bgcolor\":\"white\",\"landcolor\":\"#E5ECF6\",\"subunitcolor\":\"white\",\"showland\":true,\"showlakes\":true,\"lakecolor\":\"white\"},\"title\":{\"x\":0.05},\"mapbox\":{\"style\":\"light\"}}},\"xaxis\":{\"anchor\":\"y\",\"domain\":[0.0,0.2125]},\"yaxis\":{\"anchor\":\"x\",\"domain\":[0.0,1.0]},\"xaxis2\":{\"anchor\":\"y2\",\"domain\":[0.2625,0.475]},\"yaxis2\":{\"anchor\":\"x2\",\"domain\":[0.0,1.0]},\"xaxis3\":{\"anchor\":\"y3\",\"domain\":[0.525,0.7375]},\"yaxis3\":{\"anchor\":\"x3\",\"domain\":[0.0,1.0]},\"xaxis4\":{\"anchor\":\"y4\",\"domain\":[0.7875,1.0]},\"yaxis4\":{\"anchor\":\"x4\",\"domain\":[0.0,1.0]},\"title\":{\"font\":{\"size\":25,\"color\":\"#a5a7ab\",\"family\":\"Muli, sans-serif\"},\"text\":\"Outliers visualization with Boxplots\",\"x\":0.5},\"font\":{\"color\":\"#8a8d93\"},\"legend\":{\"orientation\":\"h\",\"yanchor\":\"bottom\",\"y\":1.02,\"xanchor\":\"right\",\"x\":1},\"height\":800,\"width\":900,\"plot_bgcolor\":\"#2d3035\",\"paper_bgcolor\":\"#2d3035\"},                        {\"responsive\": true}                    ).then(function(){\n",
              "                            \n",
              "var gd = document.getElementById('37b877a3-8c99-4558-b811-8432268b1211');\n",
              "var x = new MutationObserver(function (mutations, observer) {{\n",
              "        var display = window.getComputedStyle(gd).display;\n",
              "        if (!display || display === 'none') {{\n",
              "            console.log([gd, 'removed!']);\n",
              "            Plotly.purge(gd);\n",
              "            observer.disconnect();\n",
              "        }}\n",
              "}});\n",
              "\n",
              "// Listen for the removal of the full notebook cells\n",
              "var notebookContainer = gd.closest('#notebook-container');\n",
              "if (notebookContainer) {{\n",
              "    x.observe(notebookContainer, {childList: true});\n",
              "}}\n",
              "\n",
              "// Listen for the clearing of the current output cell\n",
              "var outputEl = gd.closest('.output');\n",
              "if (outputEl) {{\n",
              "    x.observe(outputEl, {childList: true});\n",
              "}}\n",
              "\n",
              "                        })                };                            </script>        </div>\n",
              "</body>\n",
              "</html>"
            ]
          },
          "metadata": {}
        }
      ],
      "source": [
        "# Outliers visualization\n",
        "plot_rows=1\n",
        "plot_cols= 4\n",
        "fig = make_subplots(rows=plot_rows, cols=plot_cols)\n",
        "\n",
        "# add traces\n",
        "variables=['Temperature', 'Fuel_Price', 'CPI', 'Unemployment']\n",
        "for var in variables:\n",
        "    fig.add_trace(go.Box(y=df[var], name=var, boxpoints=\"all\"), row=1, col=variables.index(var)+1)\n",
        "\n",
        "\n",
        "# Format and show fig\n",
        "fig.update_layout(height=800, width=900, title_text=\"Outliers visualization with Boxplots\", title_x=0.5,plot_bgcolor='#2d3035', paper_bgcolor='#2d3035',\n",
        "title_font=dict(size=25, color='#a5a7ab', family=\"Muli, sans-serif\"),\n",
        "                        font=dict(color='#8a8d93'),\n",
        "                        legend=dict(orientation=\"h\", yanchor=\"bottom\", y=1.02, xanchor=\"right\", x=1)\n",
        ")\n",
        "fig.show()\n"
      ]
    },
    {
      "cell_type": "code",
      "execution_count": 10,
      "metadata": {
        "colab": {
          "base_uri": "https://localhost:8080/"
        },
        "id": "-sZYrPtk58Sv",
        "outputId": "935f5a4f-8326-41fc-c3b7-10ffa2ab8619"
      },
      "outputs": [
        {
          "output_type": "stream",
          "name": "stdout",
          "text": [
            "Dropping outliers...\n"
          ]
        }
      ],
      "source": [
        "# Dropping outliers in Unemployment fearure (using masks) (we keep the null values here)\n",
        "print('Dropping outliers...')\n",
        "to_keep_Unemp = (df['Unemployment'] < (df['Unemployment'].mean() + 3*df['Unemployment'].std())) | (df['Unemployment'].isnull())"
      ]
    },
    {
      "cell_type": "code",
      "execution_count": 11,
      "metadata": {
        "colab": {
          "base_uri": "https://localhost:8080/"
        },
        "id": "6uBpUU0u58Sv",
        "outputId": "4c6caa97-832c-46bf-ee73-faf7216915ca"
      },
      "outputs": [
        {
          "output_type": "stream",
          "name": "stdout",
          "text": [
            "Done. Number of lines remaining :  131\n",
            "\n"
          ]
        }
      ],
      "source": [
        "df = df.loc[to_keep_Unemp,:].reset_index(drop=True)\n",
        "print('Done. Number of lines remaining : ', df.shape[0])\n",
        "print()"
      ]
    },
    {
      "cell_type": "markdown",
      "metadata": {
        "id": "_ywAhyEV58Sw"
      },
      "source": [
        "## EDA"
      ]
    },
    {
      "cell_type": "code",
      "execution_count": 12,
      "metadata": {
        "colab": {
          "base_uri": "https://localhost:8080/",
          "height": 250
        },
        "id": "B4Q4jjGB58Sw",
        "outputId": "22cb5e61-7f6d-4ac9-b51d-08553ae3fb9f"
      },
      "outputs": [
        {
          "output_type": "execute_result",
          "data": {
            "text/plain": [
              "   Store  Weekly_Sales  Holiday_Flag  Temperature  Fuel_Price         CPI  \\\n",
              "0    6.0    1572117.54           NaN        59.61       3.045  214.777523   \n",
              "1   13.0    1807545.43           0.0        42.38       3.435  128.616064   \n",
              "2   11.0    1244390.03           0.0        84.57         NaN  214.556497   \n",
              "3    6.0    1644470.66           0.0        78.89       2.759  212.412888   \n",
              "4    4.0    1857533.70           0.0          NaN       2.756  126.160226   \n",
              "\n",
              "   Unemployment    Year  Month   Day  DayOfWeek  \n",
              "0         6.858  2011.0    2.0  18.0        4.0  \n",
              "1         7.470  2011.0    3.0  25.0        4.0  \n",
              "2         7.346     NaN    NaN   NaN        NaN  \n",
              "3         7.092  2010.0    5.0  28.0        4.0  \n",
              "4         7.896  2010.0    5.0  28.0        4.0  "
            ],
            "text/html": [
              "\n",
              "\n",
              "  <div id=\"df-16c05505-1f8b-4c12-8318-3fd456184145\">\n",
              "    <div class=\"colab-df-container\">\n",
              "      <div>\n",
              "<style scoped>\n",
              "    .dataframe tbody tr th:only-of-type {\n",
              "        vertical-align: middle;\n",
              "    }\n",
              "\n",
              "    .dataframe tbody tr th {\n",
              "        vertical-align: top;\n",
              "    }\n",
              "\n",
              "    .dataframe thead th {\n",
              "        text-align: right;\n",
              "    }\n",
              "</style>\n",
              "<table border=\"1\" class=\"dataframe\">\n",
              "  <thead>\n",
              "    <tr style=\"text-align: right;\">\n",
              "      <th></th>\n",
              "      <th>Store</th>\n",
              "      <th>Weekly_Sales</th>\n",
              "      <th>Holiday_Flag</th>\n",
              "      <th>Temperature</th>\n",
              "      <th>Fuel_Price</th>\n",
              "      <th>CPI</th>\n",
              "      <th>Unemployment</th>\n",
              "      <th>Year</th>\n",
              "      <th>Month</th>\n",
              "      <th>Day</th>\n",
              "      <th>DayOfWeek</th>\n",
              "    </tr>\n",
              "  </thead>\n",
              "  <tbody>\n",
              "    <tr>\n",
              "      <th>0</th>\n",
              "      <td>6.0</td>\n",
              "      <td>1572117.54</td>\n",
              "      <td>NaN</td>\n",
              "      <td>59.61</td>\n",
              "      <td>3.045</td>\n",
              "      <td>214.777523</td>\n",
              "      <td>6.858</td>\n",
              "      <td>2011.0</td>\n",
              "      <td>2.0</td>\n",
              "      <td>18.0</td>\n",
              "      <td>4.0</td>\n",
              "    </tr>\n",
              "    <tr>\n",
              "      <th>1</th>\n",
              "      <td>13.0</td>\n",
              "      <td>1807545.43</td>\n",
              "      <td>0.0</td>\n",
              "      <td>42.38</td>\n",
              "      <td>3.435</td>\n",
              "      <td>128.616064</td>\n",
              "      <td>7.470</td>\n",
              "      <td>2011.0</td>\n",
              "      <td>3.0</td>\n",
              "      <td>25.0</td>\n",
              "      <td>4.0</td>\n",
              "    </tr>\n",
              "    <tr>\n",
              "      <th>2</th>\n",
              "      <td>11.0</td>\n",
              "      <td>1244390.03</td>\n",
              "      <td>0.0</td>\n",
              "      <td>84.57</td>\n",
              "      <td>NaN</td>\n",
              "      <td>214.556497</td>\n",
              "      <td>7.346</td>\n",
              "      <td>NaN</td>\n",
              "      <td>NaN</td>\n",
              "      <td>NaN</td>\n",
              "      <td>NaN</td>\n",
              "    </tr>\n",
              "    <tr>\n",
              "      <th>3</th>\n",
              "      <td>6.0</td>\n",
              "      <td>1644470.66</td>\n",
              "      <td>0.0</td>\n",
              "      <td>78.89</td>\n",
              "      <td>2.759</td>\n",
              "      <td>212.412888</td>\n",
              "      <td>7.092</td>\n",
              "      <td>2010.0</td>\n",
              "      <td>5.0</td>\n",
              "      <td>28.0</td>\n",
              "      <td>4.0</td>\n",
              "    </tr>\n",
              "    <tr>\n",
              "      <th>4</th>\n",
              "      <td>4.0</td>\n",
              "      <td>1857533.70</td>\n",
              "      <td>0.0</td>\n",
              "      <td>NaN</td>\n",
              "      <td>2.756</td>\n",
              "      <td>126.160226</td>\n",
              "      <td>7.896</td>\n",
              "      <td>2010.0</td>\n",
              "      <td>5.0</td>\n",
              "      <td>28.0</td>\n",
              "      <td>4.0</td>\n",
              "    </tr>\n",
              "  </tbody>\n",
              "</table>\n",
              "</div>\n",
              "      <button class=\"colab-df-convert\" onclick=\"convertToInteractive('df-16c05505-1f8b-4c12-8318-3fd456184145')\"\n",
              "              title=\"Convert this dataframe to an interactive table.\"\n",
              "              style=\"display:none;\">\n",
              "\n",
              "  <svg xmlns=\"http://www.w3.org/2000/svg\" height=\"24px\"viewBox=\"0 0 24 24\"\n",
              "       width=\"24px\">\n",
              "    <path d=\"M0 0h24v24H0V0z\" fill=\"none\"/>\n",
              "    <path d=\"M18.56 5.44l.94 2.06.94-2.06 2.06-.94-2.06-.94-.94-2.06-.94 2.06-2.06.94zm-11 1L8.5 8.5l.94-2.06 2.06-.94-2.06-.94L8.5 2.5l-.94 2.06-2.06.94zm10 10l.94 2.06.94-2.06 2.06-.94-2.06-.94-.94-2.06-.94 2.06-2.06.94z\"/><path d=\"M17.41 7.96l-1.37-1.37c-.4-.4-.92-.59-1.43-.59-.52 0-1.04.2-1.43.59L10.3 9.45l-7.72 7.72c-.78.78-.78 2.05 0 2.83L4 21.41c.39.39.9.59 1.41.59.51 0 1.02-.2 1.41-.59l7.78-7.78 2.81-2.81c.8-.78.8-2.07 0-2.86zM5.41 20L4 18.59l7.72-7.72 1.47 1.35L5.41 20z\"/>\n",
              "  </svg>\n",
              "      </button>\n",
              "\n",
              "\n",
              "\n",
              "    <div id=\"df-2112f5b4-d93b-49b6-9d81-b92e19d61313\">\n",
              "      <button class=\"colab-df-quickchart\" onclick=\"quickchart('df-2112f5b4-d93b-49b6-9d81-b92e19d61313')\"\n",
              "              title=\"Suggest charts.\"\n",
              "              style=\"display:none;\">\n",
              "\n",
              "<svg xmlns=\"http://www.w3.org/2000/svg\" height=\"24px\"viewBox=\"0 0 24 24\"\n",
              "     width=\"24px\">\n",
              "    <g>\n",
              "        <path d=\"M19 3H5c-1.1 0-2 .9-2 2v14c0 1.1.9 2 2 2h14c1.1 0 2-.9 2-2V5c0-1.1-.9-2-2-2zM9 17H7v-7h2v7zm4 0h-2V7h2v10zm4 0h-2v-4h2v4z\"/>\n",
              "    </g>\n",
              "</svg>\n",
              "      </button>\n",
              "    </div>\n",
              "\n",
              "<style>\n",
              "  .colab-df-quickchart {\n",
              "    background-color: #E8F0FE;\n",
              "    border: none;\n",
              "    border-radius: 50%;\n",
              "    cursor: pointer;\n",
              "    display: none;\n",
              "    fill: #1967D2;\n",
              "    height: 32px;\n",
              "    padding: 0 0 0 0;\n",
              "    width: 32px;\n",
              "  }\n",
              "\n",
              "  .colab-df-quickchart:hover {\n",
              "    background-color: #E2EBFA;\n",
              "    box-shadow: 0px 1px 2px rgba(60, 64, 67, 0.3), 0px 1px 3px 1px rgba(60, 64, 67, 0.15);\n",
              "    fill: #174EA6;\n",
              "  }\n",
              "\n",
              "  [theme=dark] .colab-df-quickchart {\n",
              "    background-color: #3B4455;\n",
              "    fill: #D2E3FC;\n",
              "  }\n",
              "\n",
              "  [theme=dark] .colab-df-quickchart:hover {\n",
              "    background-color: #434B5C;\n",
              "    box-shadow: 0px 1px 3px 1px rgba(0, 0, 0, 0.15);\n",
              "    filter: drop-shadow(0px 1px 2px rgba(0, 0, 0, 0.3));\n",
              "    fill: #FFFFFF;\n",
              "  }\n",
              "</style>\n",
              "\n",
              "    <script>\n",
              "      async function quickchart(key) {\n",
              "        const containerElement = document.querySelector('#' + key);\n",
              "        const charts = await google.colab.kernel.invokeFunction(\n",
              "            'suggestCharts', [key], {});\n",
              "      }\n",
              "    </script>\n",
              "\n",
              "      <script>\n",
              "\n",
              "function displayQuickchartButton(domScope) {\n",
              "  let quickchartButtonEl =\n",
              "    domScope.querySelector('#df-2112f5b4-d93b-49b6-9d81-b92e19d61313 button.colab-df-quickchart');\n",
              "  quickchartButtonEl.style.display =\n",
              "    google.colab.kernel.accessAllowed ? 'block' : 'none';\n",
              "}\n",
              "\n",
              "        displayQuickchartButton(document);\n",
              "      </script>\n",
              "      <style>\n",
              "    .colab-df-container {\n",
              "      display:flex;\n",
              "      flex-wrap:wrap;\n",
              "      gap: 12px;\n",
              "    }\n",
              "\n",
              "    .colab-df-convert {\n",
              "      background-color: #E8F0FE;\n",
              "      border: none;\n",
              "      border-radius: 50%;\n",
              "      cursor: pointer;\n",
              "      display: none;\n",
              "      fill: #1967D2;\n",
              "      height: 32px;\n",
              "      padding: 0 0 0 0;\n",
              "      width: 32px;\n",
              "    }\n",
              "\n",
              "    .colab-df-convert:hover {\n",
              "      background-color: #E2EBFA;\n",
              "      box-shadow: 0px 1px 2px rgba(60, 64, 67, 0.3), 0px 1px 3px 1px rgba(60, 64, 67, 0.15);\n",
              "      fill: #174EA6;\n",
              "    }\n",
              "\n",
              "    [theme=dark] .colab-df-convert {\n",
              "      background-color: #3B4455;\n",
              "      fill: #D2E3FC;\n",
              "    }\n",
              "\n",
              "    [theme=dark] .colab-df-convert:hover {\n",
              "      background-color: #434B5C;\n",
              "      box-shadow: 0px 1px 3px 1px rgba(0, 0, 0, 0.15);\n",
              "      filter: drop-shadow(0px 1px 2px rgba(0, 0, 0, 0.3));\n",
              "      fill: #FFFFFF;\n",
              "    }\n",
              "  </style>\n",
              "\n",
              "      <script>\n",
              "        const buttonEl =\n",
              "          document.querySelector('#df-16c05505-1f8b-4c12-8318-3fd456184145 button.colab-df-convert');\n",
              "        buttonEl.style.display =\n",
              "          google.colab.kernel.accessAllowed ? 'block' : 'none';\n",
              "\n",
              "        async function convertToInteractive(key) {\n",
              "          const element = document.querySelector('#df-16c05505-1f8b-4c12-8318-3fd456184145');\n",
              "          const dataTable =\n",
              "            await google.colab.kernel.invokeFunction('convertToInteractive',\n",
              "                                                     [key], {});\n",
              "          if (!dataTable) return;\n",
              "\n",
              "          const docLinkHtml = 'Like what you see? Visit the ' +\n",
              "            '<a target=\"_blank\" href=https://colab.research.google.com/notebooks/data_table.ipynb>data table notebook</a>'\n",
              "            + ' to learn more about interactive tables.';\n",
              "          element.innerHTML = '';\n",
              "          dataTable['output_type'] = 'display_data';\n",
              "          await google.colab.output.renderOutput(dataTable, element);\n",
              "          const docLink = document.createElement('div');\n",
              "          docLink.innerHTML = docLinkHtml;\n",
              "          element.appendChild(docLink);\n",
              "        }\n",
              "      </script>\n",
              "    </div>\n",
              "  </div>\n"
            ]
          },
          "metadata": {},
          "execution_count": 12
        }
      ],
      "source": [
        "#We will split this column by creating column for each: day, year, month....\n",
        "df['Date'] = pd.to_datetime(df['Date'])\n",
        "df['Year'] = df['Date'].dt.year\n",
        "df['Month'] = df['Date'].dt.month\n",
        "df['Day'] = df['Date'].dt.day\n",
        "df['DayOfWeek'] = df['Date'].dt.dayofweek\n",
        "df=df.drop(columns=['Date'])\n",
        "df.head()"
      ]
    },
    {
      "cell_type": "code",
      "execution_count": 13,
      "metadata": {
        "id": "DKIGkAsd58Sx"
      },
      "outputs": [],
      "source": [
        "# We convert our temperature column to celsus degrees // we create a function\n",
        "def fahr_to_celsius(temp_fahr):\n",
        "    \"\"\"Convert Fahrenheit to Celsius\n",
        "    Return Celsius conversion of input\"\"\"\n",
        "    temp_celsius = (temp_fahr - 32) * 5 / 9\n",
        "    return temp_celsius"
      ]
    },
    {
      "cell_type": "code",
      "execution_count": 14,
      "metadata": {
        "colab": {
          "base_uri": "https://localhost:8080/",
          "height": 250
        },
        "id": "4Zif9lxL58Sx",
        "outputId": "58201edb-0944-4434-b05f-43be0ac8796e"
      },
      "outputs": [
        {
          "output_type": "execute_result",
          "data": {
            "text/plain": [
              "   Store  Weekly_Sales  Holiday_Flag  Temperature  Fuel_Price         CPI  \\\n",
              "0    6.0    1572117.54           NaN    15.338889       3.045  214.777523   \n",
              "1   13.0    1807545.43           0.0     5.766667       3.435  128.616064   \n",
              "2   11.0    1244390.03           0.0    29.205556         NaN  214.556497   \n",
              "3    6.0    1644470.66           0.0    26.050000       2.759  212.412888   \n",
              "4    4.0    1857533.70           0.0          NaN       2.756  126.160226   \n",
              "\n",
              "   Unemployment    Year  Month   Day  DayOfWeek  \n",
              "0         6.858  2011.0    2.0  18.0        4.0  \n",
              "1         7.470  2011.0    3.0  25.0        4.0  \n",
              "2         7.346     NaN    NaN   NaN        NaN  \n",
              "3         7.092  2010.0    5.0  28.0        4.0  \n",
              "4         7.896  2010.0    5.0  28.0        4.0  "
            ],
            "text/html": [
              "\n",
              "\n",
              "  <div id=\"df-834842b7-afc0-42f2-bba4-cdaf3cd18b0a\">\n",
              "    <div class=\"colab-df-container\">\n",
              "      <div>\n",
              "<style scoped>\n",
              "    .dataframe tbody tr th:only-of-type {\n",
              "        vertical-align: middle;\n",
              "    }\n",
              "\n",
              "    .dataframe tbody tr th {\n",
              "        vertical-align: top;\n",
              "    }\n",
              "\n",
              "    .dataframe thead th {\n",
              "        text-align: right;\n",
              "    }\n",
              "</style>\n",
              "<table border=\"1\" class=\"dataframe\">\n",
              "  <thead>\n",
              "    <tr style=\"text-align: right;\">\n",
              "      <th></th>\n",
              "      <th>Store</th>\n",
              "      <th>Weekly_Sales</th>\n",
              "      <th>Holiday_Flag</th>\n",
              "      <th>Temperature</th>\n",
              "      <th>Fuel_Price</th>\n",
              "      <th>CPI</th>\n",
              "      <th>Unemployment</th>\n",
              "      <th>Year</th>\n",
              "      <th>Month</th>\n",
              "      <th>Day</th>\n",
              "      <th>DayOfWeek</th>\n",
              "    </tr>\n",
              "  </thead>\n",
              "  <tbody>\n",
              "    <tr>\n",
              "      <th>0</th>\n",
              "      <td>6.0</td>\n",
              "      <td>1572117.54</td>\n",
              "      <td>NaN</td>\n",
              "      <td>15.338889</td>\n",
              "      <td>3.045</td>\n",
              "      <td>214.777523</td>\n",
              "      <td>6.858</td>\n",
              "      <td>2011.0</td>\n",
              "      <td>2.0</td>\n",
              "      <td>18.0</td>\n",
              "      <td>4.0</td>\n",
              "    </tr>\n",
              "    <tr>\n",
              "      <th>1</th>\n",
              "      <td>13.0</td>\n",
              "      <td>1807545.43</td>\n",
              "      <td>0.0</td>\n",
              "      <td>5.766667</td>\n",
              "      <td>3.435</td>\n",
              "      <td>128.616064</td>\n",
              "      <td>7.470</td>\n",
              "      <td>2011.0</td>\n",
              "      <td>3.0</td>\n",
              "      <td>25.0</td>\n",
              "      <td>4.0</td>\n",
              "    </tr>\n",
              "    <tr>\n",
              "      <th>2</th>\n",
              "      <td>11.0</td>\n",
              "      <td>1244390.03</td>\n",
              "      <td>0.0</td>\n",
              "      <td>29.205556</td>\n",
              "      <td>NaN</td>\n",
              "      <td>214.556497</td>\n",
              "      <td>7.346</td>\n",
              "      <td>NaN</td>\n",
              "      <td>NaN</td>\n",
              "      <td>NaN</td>\n",
              "      <td>NaN</td>\n",
              "    </tr>\n",
              "    <tr>\n",
              "      <th>3</th>\n",
              "      <td>6.0</td>\n",
              "      <td>1644470.66</td>\n",
              "      <td>0.0</td>\n",
              "      <td>26.050000</td>\n",
              "      <td>2.759</td>\n",
              "      <td>212.412888</td>\n",
              "      <td>7.092</td>\n",
              "      <td>2010.0</td>\n",
              "      <td>5.0</td>\n",
              "      <td>28.0</td>\n",
              "      <td>4.0</td>\n",
              "    </tr>\n",
              "    <tr>\n",
              "      <th>4</th>\n",
              "      <td>4.0</td>\n",
              "      <td>1857533.70</td>\n",
              "      <td>0.0</td>\n",
              "      <td>NaN</td>\n",
              "      <td>2.756</td>\n",
              "      <td>126.160226</td>\n",
              "      <td>7.896</td>\n",
              "      <td>2010.0</td>\n",
              "      <td>5.0</td>\n",
              "      <td>28.0</td>\n",
              "      <td>4.0</td>\n",
              "    </tr>\n",
              "  </tbody>\n",
              "</table>\n",
              "</div>\n",
              "      <button class=\"colab-df-convert\" onclick=\"convertToInteractive('df-834842b7-afc0-42f2-bba4-cdaf3cd18b0a')\"\n",
              "              title=\"Convert this dataframe to an interactive table.\"\n",
              "              style=\"display:none;\">\n",
              "\n",
              "  <svg xmlns=\"http://www.w3.org/2000/svg\" height=\"24px\"viewBox=\"0 0 24 24\"\n",
              "       width=\"24px\">\n",
              "    <path d=\"M0 0h24v24H0V0z\" fill=\"none\"/>\n",
              "    <path d=\"M18.56 5.44l.94 2.06.94-2.06 2.06-.94-2.06-.94-.94-2.06-.94 2.06-2.06.94zm-11 1L8.5 8.5l.94-2.06 2.06-.94-2.06-.94L8.5 2.5l-.94 2.06-2.06.94zm10 10l.94 2.06.94-2.06 2.06-.94-2.06-.94-.94-2.06-.94 2.06-2.06.94z\"/><path d=\"M17.41 7.96l-1.37-1.37c-.4-.4-.92-.59-1.43-.59-.52 0-1.04.2-1.43.59L10.3 9.45l-7.72 7.72c-.78.78-.78 2.05 0 2.83L4 21.41c.39.39.9.59 1.41.59.51 0 1.02-.2 1.41-.59l7.78-7.78 2.81-2.81c.8-.78.8-2.07 0-2.86zM5.41 20L4 18.59l7.72-7.72 1.47 1.35L5.41 20z\"/>\n",
              "  </svg>\n",
              "      </button>\n",
              "\n",
              "\n",
              "\n",
              "    <div id=\"df-58f63753-7dae-4871-8933-175b12835690\">\n",
              "      <button class=\"colab-df-quickchart\" onclick=\"quickchart('df-58f63753-7dae-4871-8933-175b12835690')\"\n",
              "              title=\"Suggest charts.\"\n",
              "              style=\"display:none;\">\n",
              "\n",
              "<svg xmlns=\"http://www.w3.org/2000/svg\" height=\"24px\"viewBox=\"0 0 24 24\"\n",
              "     width=\"24px\">\n",
              "    <g>\n",
              "        <path d=\"M19 3H5c-1.1 0-2 .9-2 2v14c0 1.1.9 2 2 2h14c1.1 0 2-.9 2-2V5c0-1.1-.9-2-2-2zM9 17H7v-7h2v7zm4 0h-2V7h2v10zm4 0h-2v-4h2v4z\"/>\n",
              "    </g>\n",
              "</svg>\n",
              "      </button>\n",
              "    </div>\n",
              "\n",
              "<style>\n",
              "  .colab-df-quickchart {\n",
              "    background-color: #E8F0FE;\n",
              "    border: none;\n",
              "    border-radius: 50%;\n",
              "    cursor: pointer;\n",
              "    display: none;\n",
              "    fill: #1967D2;\n",
              "    height: 32px;\n",
              "    padding: 0 0 0 0;\n",
              "    width: 32px;\n",
              "  }\n",
              "\n",
              "  .colab-df-quickchart:hover {\n",
              "    background-color: #E2EBFA;\n",
              "    box-shadow: 0px 1px 2px rgba(60, 64, 67, 0.3), 0px 1px 3px 1px rgba(60, 64, 67, 0.15);\n",
              "    fill: #174EA6;\n",
              "  }\n",
              "\n",
              "  [theme=dark] .colab-df-quickchart {\n",
              "    background-color: #3B4455;\n",
              "    fill: #D2E3FC;\n",
              "  }\n",
              "\n",
              "  [theme=dark] .colab-df-quickchart:hover {\n",
              "    background-color: #434B5C;\n",
              "    box-shadow: 0px 1px 3px 1px rgba(0, 0, 0, 0.15);\n",
              "    filter: drop-shadow(0px 1px 2px rgba(0, 0, 0, 0.3));\n",
              "    fill: #FFFFFF;\n",
              "  }\n",
              "</style>\n",
              "\n",
              "    <script>\n",
              "      async function quickchart(key) {\n",
              "        const containerElement = document.querySelector('#' + key);\n",
              "        const charts = await google.colab.kernel.invokeFunction(\n",
              "            'suggestCharts', [key], {});\n",
              "      }\n",
              "    </script>\n",
              "\n",
              "      <script>\n",
              "\n",
              "function displayQuickchartButton(domScope) {\n",
              "  let quickchartButtonEl =\n",
              "    domScope.querySelector('#df-58f63753-7dae-4871-8933-175b12835690 button.colab-df-quickchart');\n",
              "  quickchartButtonEl.style.display =\n",
              "    google.colab.kernel.accessAllowed ? 'block' : 'none';\n",
              "}\n",
              "\n",
              "        displayQuickchartButton(document);\n",
              "      </script>\n",
              "      <style>\n",
              "    .colab-df-container {\n",
              "      display:flex;\n",
              "      flex-wrap:wrap;\n",
              "      gap: 12px;\n",
              "    }\n",
              "\n",
              "    .colab-df-convert {\n",
              "      background-color: #E8F0FE;\n",
              "      border: none;\n",
              "      border-radius: 50%;\n",
              "      cursor: pointer;\n",
              "      display: none;\n",
              "      fill: #1967D2;\n",
              "      height: 32px;\n",
              "      padding: 0 0 0 0;\n",
              "      width: 32px;\n",
              "    }\n",
              "\n",
              "    .colab-df-convert:hover {\n",
              "      background-color: #E2EBFA;\n",
              "      box-shadow: 0px 1px 2px rgba(60, 64, 67, 0.3), 0px 1px 3px 1px rgba(60, 64, 67, 0.15);\n",
              "      fill: #174EA6;\n",
              "    }\n",
              "\n",
              "    [theme=dark] .colab-df-convert {\n",
              "      background-color: #3B4455;\n",
              "      fill: #D2E3FC;\n",
              "    }\n",
              "\n",
              "    [theme=dark] .colab-df-convert:hover {\n",
              "      background-color: #434B5C;\n",
              "      box-shadow: 0px 1px 3px 1px rgba(0, 0, 0, 0.15);\n",
              "      filter: drop-shadow(0px 1px 2px rgba(0, 0, 0, 0.3));\n",
              "      fill: #FFFFFF;\n",
              "    }\n",
              "  </style>\n",
              "\n",
              "      <script>\n",
              "        const buttonEl =\n",
              "          document.querySelector('#df-834842b7-afc0-42f2-bba4-cdaf3cd18b0a button.colab-df-convert');\n",
              "        buttonEl.style.display =\n",
              "          google.colab.kernel.accessAllowed ? 'block' : 'none';\n",
              "\n",
              "        async function convertToInteractive(key) {\n",
              "          const element = document.querySelector('#df-834842b7-afc0-42f2-bba4-cdaf3cd18b0a');\n",
              "          const dataTable =\n",
              "            await google.colab.kernel.invokeFunction('convertToInteractive',\n",
              "                                                     [key], {});\n",
              "          if (!dataTable) return;\n",
              "\n",
              "          const docLinkHtml = 'Like what you see? Visit the ' +\n",
              "            '<a target=\"_blank\" href=https://colab.research.google.com/notebooks/data_table.ipynb>data table notebook</a>'\n",
              "            + ' to learn more about interactive tables.';\n",
              "          element.innerHTML = '';\n",
              "          dataTable['output_type'] = 'display_data';\n",
              "          await google.colab.output.renderOutput(dataTable, element);\n",
              "          const docLink = document.createElement('div');\n",
              "          docLink.innerHTML = docLinkHtml;\n",
              "          element.appendChild(docLink);\n",
              "        }\n",
              "      </script>\n",
              "    </div>\n",
              "  </div>\n"
            ]
          },
          "metadata": {},
          "execution_count": 14
        }
      ],
      "source": [
        "df.Temperature=fahr_to_celsius(df[\"Temperature\"])\n",
        "df.head()"
      ]
    },
    {
      "cell_type": "code",
      "execution_count": 15,
      "metadata": {
        "id": "tVfkz2fz58Sx"
      },
      "outputs": [],
      "source": [
        "#Let's visualize Weekly sales per store\n",
        "sales_per_store=df[\"Weekly_Sales\"].groupby(df[\"Store\"]).sum().round(1).rename_axis('Store').reset_index(name='Count')"
      ]
    },
    {
      "cell_type": "code",
      "execution_count": 16,
      "metadata": {
        "colab": {
          "base_uri": "https://localhost:8080/",
          "height": 317
        },
        "id": "ES12mHSS58Sx",
        "outputId": "f29d80b3-9240-4f6a-844d-cf62bca9424c"
      },
      "outputs": [
        {
          "output_type": "display_data",
          "data": {
            "text/html": [
              "<html>\n",
              "<head><meta charset=\"utf-8\" /></head>\n",
              "<body>\n",
              "    <div>            <script src=\"https://cdnjs.cloudflare.com/ajax/libs/mathjax/2.7.5/MathJax.js?config=TeX-AMS-MML_SVG\"></script><script type=\"text/javascript\">if (window.MathJax && window.MathJax.Hub && window.MathJax.Hub.Config) {window.MathJax.Hub.Config({SVG: {font: \"STIX-Web\"}});}</script>                <script type=\"text/javascript\">window.PlotlyConfig = {MathJaxConfig: 'local'};</script>\n",
              "        <script src=\"https://cdn.plot.ly/plotly-2.18.2.min.js\"></script>                <div id=\"a534de16-e3ee-4a57-9787-fd4c13595cfc\" class=\"plotly-graph-div\" style=\"height:300px; width:100%;\"></div>            <script type=\"text/javascript\">                                    window.PLOTLYENV=window.PLOTLYENV || {};                                    if (document.getElementById(\"a534de16-e3ee-4a57-9787-fd4c13595cfc\")) {                    Plotly.newPlot(                        \"a534de16-e3ee-4a57-9787-fd4c13595cfc\",                        [{\"hovertemplate\":\"Store=%{x}<br>Count=%{y}<extra></extra>\",\"legendgroup\":\"\",\"marker\":{\"color\":\"#008B8B\"},\"name\":\"\",\"orientation\":\"v\",\"showlegend\":false,\"x\":[1.0,2.0,3.0,4.0,5.0,6.0,7.0,8.0,9.0,10.0,11.0,13.0,14.0,15.0,16.0,17.0,18.0,19.0,20.0],\"xaxis\":\"x\",\"y\":[14062574.9,15544269.0,4836659.4,13042553.9,2419997.5,9306741.5,4473039.6,5332524.8,2027549.6,9110529.0,4571240.5,17975118.7,18835905.7,2534321.6,2061271.1,6241241.7,11404365.4,11204921.7,9811922.1],\"yaxis\":\"y\",\"type\":\"funnel\",\"textfont\":{\"color\":\"#fff\"},\"textposition\":\"auto\"}],                        {\"template\":{\"data\":{\"histogram2dcontour\":[{\"type\":\"histogram2dcontour\",\"colorbar\":{\"outlinewidth\":0,\"ticks\":\"\"},\"colorscale\":[[0.0,\"#0d0887\"],[0.1111111111111111,\"#46039f\"],[0.2222222222222222,\"#7201a8\"],[0.3333333333333333,\"#9c179e\"],[0.4444444444444444,\"#bd3786\"],[0.5555555555555556,\"#d8576b\"],[0.6666666666666666,\"#ed7953\"],[0.7777777777777778,\"#fb9f3a\"],[0.8888888888888888,\"#fdca26\"],[1.0,\"#f0f921\"]]}],\"choropleth\":[{\"type\":\"choropleth\",\"colorbar\":{\"outlinewidth\":0,\"ticks\":\"\"}}],\"histogram2d\":[{\"type\":\"histogram2d\",\"colorbar\":{\"outlinewidth\":0,\"ticks\":\"\"},\"colorscale\":[[0.0,\"#0d0887\"],[0.1111111111111111,\"#46039f\"],[0.2222222222222222,\"#7201a8\"],[0.3333333333333333,\"#9c179e\"],[0.4444444444444444,\"#bd3786\"],[0.5555555555555556,\"#d8576b\"],[0.6666666666666666,\"#ed7953\"],[0.7777777777777778,\"#fb9f3a\"],[0.8888888888888888,\"#fdca26\"],[1.0,\"#f0f921\"]]}],\"heatmap\":[{\"type\":\"heatmap\",\"colorbar\":{\"outlinewidth\":0,\"ticks\":\"\"},\"colorscale\":[[0.0,\"#0d0887\"],[0.1111111111111111,\"#46039f\"],[0.2222222222222222,\"#7201a8\"],[0.3333333333333333,\"#9c179e\"],[0.4444444444444444,\"#bd3786\"],[0.5555555555555556,\"#d8576b\"],[0.6666666666666666,\"#ed7953\"],[0.7777777777777778,\"#fb9f3a\"],[0.8888888888888888,\"#fdca26\"],[1.0,\"#f0f921\"]]}],\"heatmapgl\":[{\"type\":\"heatmapgl\",\"colorbar\":{\"outlinewidth\":0,\"ticks\":\"\"},\"colorscale\":[[0.0,\"#0d0887\"],[0.1111111111111111,\"#46039f\"],[0.2222222222222222,\"#7201a8\"],[0.3333333333333333,\"#9c179e\"],[0.4444444444444444,\"#bd3786\"],[0.5555555555555556,\"#d8576b\"],[0.6666666666666666,\"#ed7953\"],[0.7777777777777778,\"#fb9f3a\"],[0.8888888888888888,\"#fdca26\"],[1.0,\"#f0f921\"]]}],\"contourcarpet\":[{\"type\":\"contourcarpet\",\"colorbar\":{\"outlinewidth\":0,\"ticks\":\"\"}}],\"contour\":[{\"type\":\"contour\",\"colorbar\":{\"outlinewidth\":0,\"ticks\":\"\"},\"colorscale\":[[0.0,\"#0d0887\"],[0.1111111111111111,\"#46039f\"],[0.2222222222222222,\"#7201a8\"],[0.3333333333333333,\"#9c179e\"],[0.4444444444444444,\"#bd3786\"],[0.5555555555555556,\"#d8576b\"],[0.6666666666666666,\"#ed7953\"],[0.7777777777777778,\"#fb9f3a\"],[0.8888888888888888,\"#fdca26\"],[1.0,\"#f0f921\"]]}],\"surface\":[{\"type\":\"surface\",\"colorbar\":{\"outlinewidth\":0,\"ticks\":\"\"},\"colorscale\":[[0.0,\"#0d0887\"],[0.1111111111111111,\"#46039f\"],[0.2222222222222222,\"#7201a8\"],[0.3333333333333333,\"#9c179e\"],[0.4444444444444444,\"#bd3786\"],[0.5555555555555556,\"#d8576b\"],[0.6666666666666666,\"#ed7953\"],[0.7777777777777778,\"#fb9f3a\"],[0.8888888888888888,\"#fdca26\"],[1.0,\"#f0f921\"]]}],\"mesh3d\":[{\"type\":\"mesh3d\",\"colorbar\":{\"outlinewidth\":0,\"ticks\":\"\"}}],\"scatter\":[{\"fillpattern\":{\"fillmode\":\"overlay\",\"size\":10,\"solidity\":0.2},\"type\":\"scatter\"}],\"parcoords\":[{\"type\":\"parcoords\",\"line\":{\"colorbar\":{\"outlinewidth\":0,\"ticks\":\"\"}}}],\"scatterpolargl\":[{\"type\":\"scatterpolargl\",\"marker\":{\"colorbar\":{\"outlinewidth\":0,\"ticks\":\"\"}}}],\"bar\":[{\"error_x\":{\"color\":\"#2a3f5f\"},\"error_y\":{\"color\":\"#2a3f5f\"},\"marker\":{\"line\":{\"color\":\"#E5ECF6\",\"width\":0.5},\"pattern\":{\"fillmode\":\"overlay\",\"size\":10,\"solidity\":0.2}},\"type\":\"bar\"}],\"scattergeo\":[{\"type\":\"scattergeo\",\"marker\":{\"colorbar\":{\"outlinewidth\":0,\"ticks\":\"\"}}}],\"scatterpolar\":[{\"type\":\"scatterpolar\",\"marker\":{\"colorbar\":{\"outlinewidth\":0,\"ticks\":\"\"}}}],\"histogram\":[{\"marker\":{\"pattern\":{\"fillmode\":\"overlay\",\"size\":10,\"solidity\":0.2}},\"type\":\"histogram\"}],\"scattergl\":[{\"type\":\"scattergl\",\"marker\":{\"colorbar\":{\"outlinewidth\":0,\"ticks\":\"\"}}}],\"scatter3d\":[{\"type\":\"scatter3d\",\"line\":{\"colorbar\":{\"outlinewidth\":0,\"ticks\":\"\"}},\"marker\":{\"colorbar\":{\"outlinewidth\":0,\"ticks\":\"\"}}}],\"scattermapbox\":[{\"type\":\"scattermapbox\",\"marker\":{\"colorbar\":{\"outlinewidth\":0,\"ticks\":\"\"}}}],\"scatterternary\":[{\"type\":\"scatterternary\",\"marker\":{\"colorbar\":{\"outlinewidth\":0,\"ticks\":\"\"}}}],\"scattercarpet\":[{\"type\":\"scattercarpet\",\"marker\":{\"colorbar\":{\"outlinewidth\":0,\"ticks\":\"\"}}}],\"carpet\":[{\"aaxis\":{\"endlinecolor\":\"#2a3f5f\",\"gridcolor\":\"white\",\"linecolor\":\"white\",\"minorgridcolor\":\"white\",\"startlinecolor\":\"#2a3f5f\"},\"baxis\":{\"endlinecolor\":\"#2a3f5f\",\"gridcolor\":\"white\",\"linecolor\":\"white\",\"minorgridcolor\":\"white\",\"startlinecolor\":\"#2a3f5f\"},\"type\":\"carpet\"}],\"table\":[{\"cells\":{\"fill\":{\"color\":\"#EBF0F8\"},\"line\":{\"color\":\"white\"}},\"header\":{\"fill\":{\"color\":\"#C8D4E3\"},\"line\":{\"color\":\"white\"}},\"type\":\"table\"}],\"barpolar\":[{\"marker\":{\"line\":{\"color\":\"#E5ECF6\",\"width\":0.5},\"pattern\":{\"fillmode\":\"overlay\",\"size\":10,\"solidity\":0.2}},\"type\":\"barpolar\"}],\"pie\":[{\"automargin\":true,\"type\":\"pie\"}]},\"layout\":{\"autotypenumbers\":\"strict\",\"colorway\":[\"#636efa\",\"#EF553B\",\"#00cc96\",\"#ab63fa\",\"#FFA15A\",\"#19d3f3\",\"#FF6692\",\"#B6E880\",\"#FF97FF\",\"#FECB52\"],\"font\":{\"color\":\"#2a3f5f\"},\"hovermode\":\"closest\",\"hoverlabel\":{\"align\":\"left\"},\"paper_bgcolor\":\"white\",\"plot_bgcolor\":\"#E5ECF6\",\"polar\":{\"bgcolor\":\"#E5ECF6\",\"angularaxis\":{\"gridcolor\":\"white\",\"linecolor\":\"white\",\"ticks\":\"\"},\"radialaxis\":{\"gridcolor\":\"white\",\"linecolor\":\"white\",\"ticks\":\"\"}},\"ternary\":{\"bgcolor\":\"#E5ECF6\",\"aaxis\":{\"gridcolor\":\"white\",\"linecolor\":\"white\",\"ticks\":\"\"},\"baxis\":{\"gridcolor\":\"white\",\"linecolor\":\"white\",\"ticks\":\"\"},\"caxis\":{\"gridcolor\":\"white\",\"linecolor\":\"white\",\"ticks\":\"\"}},\"coloraxis\":{\"colorbar\":{\"outlinewidth\":0,\"ticks\":\"\"}},\"colorscale\":{\"sequential\":[[0.0,\"#0d0887\"],[0.1111111111111111,\"#46039f\"],[0.2222222222222222,\"#7201a8\"],[0.3333333333333333,\"#9c179e\"],[0.4444444444444444,\"#bd3786\"],[0.5555555555555556,\"#d8576b\"],[0.6666666666666666,\"#ed7953\"],[0.7777777777777778,\"#fb9f3a\"],[0.8888888888888888,\"#fdca26\"],[1.0,\"#f0f921\"]],\"sequentialminus\":[[0.0,\"#0d0887\"],[0.1111111111111111,\"#46039f\"],[0.2222222222222222,\"#7201a8\"],[0.3333333333333333,\"#9c179e\"],[0.4444444444444444,\"#bd3786\"],[0.5555555555555556,\"#d8576b\"],[0.6666666666666666,\"#ed7953\"],[0.7777777777777778,\"#fb9f3a\"],[0.8888888888888888,\"#fdca26\"],[1.0,\"#f0f921\"]],\"diverging\":[[0,\"#8e0152\"],[0.1,\"#c51b7d\"],[0.2,\"#de77ae\"],[0.3,\"#f1b6da\"],[0.4,\"#fde0ef\"],[0.5,\"#f7f7f7\"],[0.6,\"#e6f5d0\"],[0.7,\"#b8e186\"],[0.8,\"#7fbc41\"],[0.9,\"#4d9221\"],[1,\"#276419\"]]},\"xaxis\":{\"gridcolor\":\"white\",\"linecolor\":\"white\",\"ticks\":\"\",\"title\":{\"standoff\":15},\"zerolinecolor\":\"white\",\"automargin\":true,\"zerolinewidth\":2},\"yaxis\":{\"gridcolor\":\"white\",\"linecolor\":\"white\",\"ticks\":\"\",\"title\":{\"standoff\":15},\"zerolinecolor\":\"white\",\"automargin\":true,\"zerolinewidth\":2},\"scene\":{\"xaxis\":{\"backgroundcolor\":\"#E5ECF6\",\"gridcolor\":\"white\",\"linecolor\":\"white\",\"showbackground\":true,\"ticks\":\"\",\"zerolinecolor\":\"white\",\"gridwidth\":2},\"yaxis\":{\"backgroundcolor\":\"#E5ECF6\",\"gridcolor\":\"white\",\"linecolor\":\"white\",\"showbackground\":true,\"ticks\":\"\",\"zerolinecolor\":\"white\",\"gridwidth\":2},\"zaxis\":{\"backgroundcolor\":\"#E5ECF6\",\"gridcolor\":\"white\",\"linecolor\":\"white\",\"showbackground\":true,\"ticks\":\"\",\"zerolinecolor\":\"white\",\"gridwidth\":2}},\"shapedefaults\":{\"line\":{\"color\":\"#2a3f5f\"}},\"annotationdefaults\":{\"arrowcolor\":\"#2a3f5f\",\"arrowhead\":0,\"arrowwidth\":1},\"geo\":{\"bgcolor\":\"white\",\"landcolor\":\"#E5ECF6\",\"subunitcolor\":\"white\",\"showland\":true,\"showlakes\":true,\"lakecolor\":\"white\"},\"title\":{\"x\":0.05},\"mapbox\":{\"style\":\"light\"}}},\"xaxis\":{\"anchor\":\"y\",\"domain\":[0.0,1.0],\"title\":{\"text\":\" \"}},\"yaxis\":{\"anchor\":\"x\",\"domain\":[0.0,1.0],\"title\":{\"text\":\" \"}},\"legend\":{\"tracegroupgap\":0,\"orientation\":\"h\",\"yanchor\":\"bottom\",\"y\":1.02,\"xanchor\":\"right\",\"x\":1},\"title\":{\"text\":\"Weekly Sales per Store\",\"font\":{\"size\":25,\"color\":\"#a5a7ab\",\"family\":\"Muli, sans-serif\"},\"x\":0.5},\"height\":300,\"margin\":{\"t\":110,\"b\":50,\"l\":70,\"r\":40},\"font\":{\"color\":\"#8a8d93\"},\"autosize\":true,\"plot_bgcolor\":\"#2d3035\",\"paper_bgcolor\":\"#2d3035\"},                        {\"responsive\": true}                    ).then(function(){\n",
              "                            \n",
              "var gd = document.getElementById('a534de16-e3ee-4a57-9787-fd4c13595cfc');\n",
              "var x = new MutationObserver(function (mutations, observer) {{\n",
              "        var display = window.getComputedStyle(gd).display;\n",
              "        if (!display || display === 'none') {{\n",
              "            console.log([gd, 'removed!']);\n",
              "            Plotly.purge(gd);\n",
              "            observer.disconnect();\n",
              "        }}\n",
              "}});\n",
              "\n",
              "// Listen for the removal of the full notebook cells\n",
              "var notebookContainer = gd.closest('#notebook-container');\n",
              "if (notebookContainer) {{\n",
              "    x.observe(notebookContainer, {childList: true});\n",
              "}}\n",
              "\n",
              "// Listen for the clearing of the current output cell\n",
              "var outputEl = gd.closest('.output');\n",
              "if (outputEl) {{\n",
              "    x.observe(outputEl, {childList: true});\n",
              "}}\n",
              "\n",
              "                        })                };                            </script>        </div>\n",
              "</body>\n",
              "</html>"
            ]
          },
          "metadata": {}
        }
      ],
      "source": [
        "department = px.funnel(sales_per_store, x='Store', y='Count',\n",
        "                       height=300, title='Weekly Sales per Store',\n",
        "                       color_discrete_sequence=['#008B8B']\n",
        "                       )\n",
        "department.update_traces(textposition='auto', textfont=dict(color='#fff'))\n",
        "department.update_layout(autosize=True,\n",
        "                         margin=dict(t=110, b=50, l=70, r=40),\n",
        "                         title_x=0.5,\n",
        "                         xaxis_title=' ', yaxis_title=\" \",\n",
        "                         plot_bgcolor='#2d3035', paper_bgcolor='#2d3035',\n",
        "                         title_font=dict(size=25, color='#a5a7ab', family=\"Muli, sans-serif\"),\n",
        "                         font=dict(color='#8a8d93'),\n",
        "                         legend=dict(orientation=\"h\", yanchor=\"bottom\", y=1.02, xanchor=\"right\", x=1)\n",
        "                        )"
      ]
    },
    {
      "cell_type": "code",
      "execution_count": 17,
      "metadata": {
        "id": "BmT-E65U58Sy"
      },
      "outputs": [],
      "source": [
        "#Let's visualize total sales per Day of week\n",
        "sales_per_Day=df.groupby(['Store', 'DayOfWeek'])['Weekly_Sales'].sum().reset_index(name='Count').sort_values(by='DayOfWeek', ascending=True)\n",
        "sales_per_Day['Day of week']=sales_per_Day['DayOfWeek'].apply(lambda x: 'Monday' if x==0\n",
        "                                                else 'Tuesday' if x==1\n",
        "                                                else 'Wendsday' if x==2\n",
        "                                                else 'Thursday' if x==3\n",
        "                                                else 'Friday' if x==4\n",
        "                                                else 'Saurday' if x==5\n",
        "                                                else 'Sunday'\n",
        "\n",
        ")"
      ]
    },
    {
      "cell_type": "code",
      "execution_count": 18,
      "metadata": {
        "id": "GFkZyZQ058Sy"
      },
      "outputs": [],
      "source": [
        "total_sales=df[\"Weekly_Sales\"].groupby(df[\"DayOfWeek\"]).sum().round(1).rename_axis('Day').reset_index(name='Total')"
      ]
    },
    {
      "cell_type": "code",
      "execution_count": 19,
      "metadata": {
        "colab": {
          "base_uri": "https://localhost:8080/",
          "height": 317
        },
        "id": "OM2xiB4i58Sy",
        "outputId": "1c0bb63b-ab31-47a3-df24-28273b323447"
      },
      "outputs": [
        {
          "output_type": "display_data",
          "data": {
            "text/html": [
              "<html>\n",
              "<head><meta charset=\"utf-8\" /></head>\n",
              "<body>\n",
              "    <div>            <script src=\"https://cdnjs.cloudflare.com/ajax/libs/mathjax/2.7.5/MathJax.js?config=TeX-AMS-MML_SVG\"></script><script type=\"text/javascript\">if (window.MathJax && window.MathJax.Hub && window.MathJax.Hub.Config) {window.MathJax.Hub.Config({SVG: {font: \"STIX-Web\"}});}</script>                <script type=\"text/javascript\">window.PlotlyConfig = {MathJaxConfig: 'local'};</script>\n",
              "        <script src=\"https://cdn.plot.ly/plotly-2.18.2.min.js\"></script>                <div id=\"d02ffea3-556c-4561-bf0a-7dcfe8490ec2\" class=\"plotly-graph-div\" style=\"height:300px; width:100%;\"></div>            <script type=\"text/javascript\">                                    window.PLOTLYENV=window.PLOTLYENV || {};                                    if (document.getElementById(\"d02ffea3-556c-4561-bf0a-7dcfe8490ec2\")) {                    Plotly.newPlot(                        \"d02ffea3-556c-4561-bf0a-7dcfe8490ec2\",                        [{\"hovertemplate\":\"Day=%{x}<br>Total=%{y}<extra></extra>\",\"legendgroup\":\"\",\"marker\":{\"color\":\"#008B8B\",\"line\":{\"color\":[\"gray\",\"gray\",\"gray\",\"blue\",\"gray\",\"gray\",\"gray\"],\"width\":[1,1,1,3,1,1,1]}},\"name\":\"\",\"orientation\":\"v\",\"showlegend\":false,\"x\":[0.0,1.0,3.0,4.0,5.0,6.0],\"xaxis\":\"x\",\"y\":[3023819.2,12667938.6,10703522.3,101159810.0,3919352.3,11743427.0],\"yaxis\":\"y\",\"type\":\"funnel\",\"textfont\":{\"color\":\"#fff\"},\"textposition\":\"auto\"}],                        {\"template\":{\"data\":{\"histogram2dcontour\":[{\"type\":\"histogram2dcontour\",\"colorbar\":{\"outlinewidth\":0,\"ticks\":\"\"},\"colorscale\":[[0.0,\"#0d0887\"],[0.1111111111111111,\"#46039f\"],[0.2222222222222222,\"#7201a8\"],[0.3333333333333333,\"#9c179e\"],[0.4444444444444444,\"#bd3786\"],[0.5555555555555556,\"#d8576b\"],[0.6666666666666666,\"#ed7953\"],[0.7777777777777778,\"#fb9f3a\"],[0.8888888888888888,\"#fdca26\"],[1.0,\"#f0f921\"]]}],\"choropleth\":[{\"type\":\"choropleth\",\"colorbar\":{\"outlinewidth\":0,\"ticks\":\"\"}}],\"histogram2d\":[{\"type\":\"histogram2d\",\"colorbar\":{\"outlinewidth\":0,\"ticks\":\"\"},\"colorscale\":[[0.0,\"#0d0887\"],[0.1111111111111111,\"#46039f\"],[0.2222222222222222,\"#7201a8\"],[0.3333333333333333,\"#9c179e\"],[0.4444444444444444,\"#bd3786\"],[0.5555555555555556,\"#d8576b\"],[0.6666666666666666,\"#ed7953\"],[0.7777777777777778,\"#fb9f3a\"],[0.8888888888888888,\"#fdca26\"],[1.0,\"#f0f921\"]]}],\"heatmap\":[{\"type\":\"heatmap\",\"colorbar\":{\"outlinewidth\":0,\"ticks\":\"\"},\"colorscale\":[[0.0,\"#0d0887\"],[0.1111111111111111,\"#46039f\"],[0.2222222222222222,\"#7201a8\"],[0.3333333333333333,\"#9c179e\"],[0.4444444444444444,\"#bd3786\"],[0.5555555555555556,\"#d8576b\"],[0.6666666666666666,\"#ed7953\"],[0.7777777777777778,\"#fb9f3a\"],[0.8888888888888888,\"#fdca26\"],[1.0,\"#f0f921\"]]}],\"heatmapgl\":[{\"type\":\"heatmapgl\",\"colorbar\":{\"outlinewidth\":0,\"ticks\":\"\"},\"colorscale\":[[0.0,\"#0d0887\"],[0.1111111111111111,\"#46039f\"],[0.2222222222222222,\"#7201a8\"],[0.3333333333333333,\"#9c179e\"],[0.4444444444444444,\"#bd3786\"],[0.5555555555555556,\"#d8576b\"],[0.6666666666666666,\"#ed7953\"],[0.7777777777777778,\"#fb9f3a\"],[0.8888888888888888,\"#fdca26\"],[1.0,\"#f0f921\"]]}],\"contourcarpet\":[{\"type\":\"contourcarpet\",\"colorbar\":{\"outlinewidth\":0,\"ticks\":\"\"}}],\"contour\":[{\"type\":\"contour\",\"colorbar\":{\"outlinewidth\":0,\"ticks\":\"\"},\"colorscale\":[[0.0,\"#0d0887\"],[0.1111111111111111,\"#46039f\"],[0.2222222222222222,\"#7201a8\"],[0.3333333333333333,\"#9c179e\"],[0.4444444444444444,\"#bd3786\"],[0.5555555555555556,\"#d8576b\"],[0.6666666666666666,\"#ed7953\"],[0.7777777777777778,\"#fb9f3a\"],[0.8888888888888888,\"#fdca26\"],[1.0,\"#f0f921\"]]}],\"surface\":[{\"type\":\"surface\",\"colorbar\":{\"outlinewidth\":0,\"ticks\":\"\"},\"colorscale\":[[0.0,\"#0d0887\"],[0.1111111111111111,\"#46039f\"],[0.2222222222222222,\"#7201a8\"],[0.3333333333333333,\"#9c179e\"],[0.4444444444444444,\"#bd3786\"],[0.5555555555555556,\"#d8576b\"],[0.6666666666666666,\"#ed7953\"],[0.7777777777777778,\"#fb9f3a\"],[0.8888888888888888,\"#fdca26\"],[1.0,\"#f0f921\"]]}],\"mesh3d\":[{\"type\":\"mesh3d\",\"colorbar\":{\"outlinewidth\":0,\"ticks\":\"\"}}],\"scatter\":[{\"fillpattern\":{\"fillmode\":\"overlay\",\"size\":10,\"solidity\":0.2},\"type\":\"scatter\"}],\"parcoords\":[{\"type\":\"parcoords\",\"line\":{\"colorbar\":{\"outlinewidth\":0,\"ticks\":\"\"}}}],\"scatterpolargl\":[{\"type\":\"scatterpolargl\",\"marker\":{\"colorbar\":{\"outlinewidth\":0,\"ticks\":\"\"}}}],\"bar\":[{\"error_x\":{\"color\":\"#2a3f5f\"},\"error_y\":{\"color\":\"#2a3f5f\"},\"marker\":{\"line\":{\"color\":\"#E5ECF6\",\"width\":0.5},\"pattern\":{\"fillmode\":\"overlay\",\"size\":10,\"solidity\":0.2}},\"type\":\"bar\"}],\"scattergeo\":[{\"type\":\"scattergeo\",\"marker\":{\"colorbar\":{\"outlinewidth\":0,\"ticks\":\"\"}}}],\"scatterpolar\":[{\"type\":\"scatterpolar\",\"marker\":{\"colorbar\":{\"outlinewidth\":0,\"ticks\":\"\"}}}],\"histogram\":[{\"marker\":{\"pattern\":{\"fillmode\":\"overlay\",\"size\":10,\"solidity\":0.2}},\"type\":\"histogram\"}],\"scattergl\":[{\"type\":\"scattergl\",\"marker\":{\"colorbar\":{\"outlinewidth\":0,\"ticks\":\"\"}}}],\"scatter3d\":[{\"type\":\"scatter3d\",\"line\":{\"colorbar\":{\"outlinewidth\":0,\"ticks\":\"\"}},\"marker\":{\"colorbar\":{\"outlinewidth\":0,\"ticks\":\"\"}}}],\"scattermapbox\":[{\"type\":\"scattermapbox\",\"marker\":{\"colorbar\":{\"outlinewidth\":0,\"ticks\":\"\"}}}],\"scatterternary\":[{\"type\":\"scatterternary\",\"marker\":{\"colorbar\":{\"outlinewidth\":0,\"ticks\":\"\"}}}],\"scattercarpet\":[{\"type\":\"scattercarpet\",\"marker\":{\"colorbar\":{\"outlinewidth\":0,\"ticks\":\"\"}}}],\"carpet\":[{\"aaxis\":{\"endlinecolor\":\"#2a3f5f\",\"gridcolor\":\"white\",\"linecolor\":\"white\",\"minorgridcolor\":\"white\",\"startlinecolor\":\"#2a3f5f\"},\"baxis\":{\"endlinecolor\":\"#2a3f5f\",\"gridcolor\":\"white\",\"linecolor\":\"white\",\"minorgridcolor\":\"white\",\"startlinecolor\":\"#2a3f5f\"},\"type\":\"carpet\"}],\"table\":[{\"cells\":{\"fill\":{\"color\":\"#EBF0F8\"},\"line\":{\"color\":\"white\"}},\"header\":{\"fill\":{\"color\":\"#C8D4E3\"},\"line\":{\"color\":\"white\"}},\"type\":\"table\"}],\"barpolar\":[{\"marker\":{\"line\":{\"color\":\"#E5ECF6\",\"width\":0.5},\"pattern\":{\"fillmode\":\"overlay\",\"size\":10,\"solidity\":0.2}},\"type\":\"barpolar\"}],\"pie\":[{\"automargin\":true,\"type\":\"pie\"}]},\"layout\":{\"autotypenumbers\":\"strict\",\"colorway\":[\"#636efa\",\"#EF553B\",\"#00cc96\",\"#ab63fa\",\"#FFA15A\",\"#19d3f3\",\"#FF6692\",\"#B6E880\",\"#FF97FF\",\"#FECB52\"],\"font\":{\"color\":\"#2a3f5f\"},\"hovermode\":\"closest\",\"hoverlabel\":{\"align\":\"left\"},\"paper_bgcolor\":\"white\",\"plot_bgcolor\":\"#E5ECF6\",\"polar\":{\"bgcolor\":\"#E5ECF6\",\"angularaxis\":{\"gridcolor\":\"white\",\"linecolor\":\"white\",\"ticks\":\"\"},\"radialaxis\":{\"gridcolor\":\"white\",\"linecolor\":\"white\",\"ticks\":\"\"}},\"ternary\":{\"bgcolor\":\"#E5ECF6\",\"aaxis\":{\"gridcolor\":\"white\",\"linecolor\":\"white\",\"ticks\":\"\"},\"baxis\":{\"gridcolor\":\"white\",\"linecolor\":\"white\",\"ticks\":\"\"},\"caxis\":{\"gridcolor\":\"white\",\"linecolor\":\"white\",\"ticks\":\"\"}},\"coloraxis\":{\"colorbar\":{\"outlinewidth\":0,\"ticks\":\"\"}},\"colorscale\":{\"sequential\":[[0.0,\"#0d0887\"],[0.1111111111111111,\"#46039f\"],[0.2222222222222222,\"#7201a8\"],[0.3333333333333333,\"#9c179e\"],[0.4444444444444444,\"#bd3786\"],[0.5555555555555556,\"#d8576b\"],[0.6666666666666666,\"#ed7953\"],[0.7777777777777778,\"#fb9f3a\"],[0.8888888888888888,\"#fdca26\"],[1.0,\"#f0f921\"]],\"sequentialminus\":[[0.0,\"#0d0887\"],[0.1111111111111111,\"#46039f\"],[0.2222222222222222,\"#7201a8\"],[0.3333333333333333,\"#9c179e\"],[0.4444444444444444,\"#bd3786\"],[0.5555555555555556,\"#d8576b\"],[0.6666666666666666,\"#ed7953\"],[0.7777777777777778,\"#fb9f3a\"],[0.8888888888888888,\"#fdca26\"],[1.0,\"#f0f921\"]],\"diverging\":[[0,\"#8e0152\"],[0.1,\"#c51b7d\"],[0.2,\"#de77ae\"],[0.3,\"#f1b6da\"],[0.4,\"#fde0ef\"],[0.5,\"#f7f7f7\"],[0.6,\"#e6f5d0\"],[0.7,\"#b8e186\"],[0.8,\"#7fbc41\"],[0.9,\"#4d9221\"],[1,\"#276419\"]]},\"xaxis\":{\"gridcolor\":\"white\",\"linecolor\":\"white\",\"ticks\":\"\",\"title\":{\"standoff\":15},\"zerolinecolor\":\"white\",\"automargin\":true,\"zerolinewidth\":2},\"yaxis\":{\"gridcolor\":\"white\",\"linecolor\":\"white\",\"ticks\":\"\",\"title\":{\"standoff\":15},\"zerolinecolor\":\"white\",\"automargin\":true,\"zerolinewidth\":2},\"scene\":{\"xaxis\":{\"backgroundcolor\":\"#E5ECF6\",\"gridcolor\":\"white\",\"linecolor\":\"white\",\"showbackground\":true,\"ticks\":\"\",\"zerolinecolor\":\"white\",\"gridwidth\":2},\"yaxis\":{\"backgroundcolor\":\"#E5ECF6\",\"gridcolor\":\"white\",\"linecolor\":\"white\",\"showbackground\":true,\"ticks\":\"\",\"zerolinecolor\":\"white\",\"gridwidth\":2},\"zaxis\":{\"backgroundcolor\":\"#E5ECF6\",\"gridcolor\":\"white\",\"linecolor\":\"white\",\"showbackground\":true,\"ticks\":\"\",\"zerolinecolor\":\"white\",\"gridwidth\":2}},\"shapedefaults\":{\"line\":{\"color\":\"#2a3f5f\"}},\"annotationdefaults\":{\"arrowcolor\":\"#2a3f5f\",\"arrowhead\":0,\"arrowwidth\":1},\"geo\":{\"bgcolor\":\"white\",\"landcolor\":\"#E5ECF6\",\"subunitcolor\":\"white\",\"showland\":true,\"showlakes\":true,\"lakecolor\":\"white\"},\"title\":{\"x\":0.05},\"mapbox\":{\"style\":\"light\"}}},\"xaxis\":{\"anchor\":\"y\",\"domain\":[0.0,1.0],\"title\":{\"text\":\" \"}},\"yaxis\":{\"anchor\":\"x\",\"domain\":[0.0,1.0],\"title\":{\"text\":\" \"}},\"legend\":{\"tracegroupgap\":0,\"orientation\":\"h\",\"yanchor\":\"bottom\",\"y\":1.02,\"xanchor\":\"right\",\"x\":1},\"title\":{\"text\":\"Weekly Sales per Day of week\",\"font\":{\"size\":25,\"color\":\"#a5a7ab\",\"family\":\"Muli, sans-serif\"},\"x\":0.5},\"height\":300,\"margin\":{\"t\":110,\"b\":50,\"l\":70,\"r\":40},\"font\":{\"color\":\"#8a8d93\"},\"autosize\":true,\"plot_bgcolor\":\"#2d3035\",\"paper_bgcolor\":\"#2d3035\"},                        {\"responsive\": true}                    ).then(function(){\n",
              "                            \n",
              "var gd = document.getElementById('d02ffea3-556c-4561-bf0a-7dcfe8490ec2');\n",
              "var x = new MutationObserver(function (mutations, observer) {{\n",
              "        var display = window.getComputedStyle(gd).display;\n",
              "        if (!display || display === 'none') {{\n",
              "            console.log([gd, 'removed!']);\n",
              "            Plotly.purge(gd);\n",
              "            observer.disconnect();\n",
              "        }}\n",
              "}});\n",
              "\n",
              "// Listen for the removal of the full notebook cells\n",
              "var notebookContainer = gd.closest('#notebook-container');\n",
              "if (notebookContainer) {{\n",
              "    x.observe(notebookContainer, {childList: true});\n",
              "}}\n",
              "\n",
              "// Listen for the clearing of the current output cell\n",
              "var outputEl = gd.closest('.output');\n",
              "if (outputEl) {{\n",
              "    x.observe(outputEl, {childList: true});\n",
              "}}\n",
              "\n",
              "                        })                };                            </script>        </div>\n",
              "</body>\n",
              "</html>"
            ]
          },
          "metadata": {}
        }
      ],
      "source": [
        "fig = px.funnel(total_sales, x=total_sales.Day, y=total_sales.Total,\n",
        "                       height=300, title='Weekly Sales per Day of week',\n",
        "                       color_discrete_sequence=['#008B8B']\n",
        "                       )\n",
        "fig.update_traces(textposition='auto', textfont=dict(color='#fff'))\n",
        "fig.update_traces(marker = {'line': {'width': [1, 1,1, 3,1,1, 1], 'color': ['gray', 'gray', 'gray','blue','gray','gray','gray']}})\n",
        "fig.update_layout(autosize=True,\n",
        "                         margin=dict(t=110, b=50, l=70, r=40),\n",
        "                         title_x=0.5,\n",
        "                         xaxis_title=' ', yaxis_title=\" \",\n",
        "                         plot_bgcolor='#2d3035', paper_bgcolor='#2d3035',\n",
        "                         title_font=dict(size=25, color='#a5a7ab', family=\"Muli, sans-serif\"),\n",
        "                         font=dict(color='#8a8d93'),\n",
        "                         legend=dict(orientation=\"h\", yanchor=\"bottom\", y=1.02, xanchor=\"right\", x=1)\n",
        "                        )"
      ]
    },
    {
      "cell_type": "code",
      "execution_count": 20,
      "metadata": {
        "colab": {
          "base_uri": "https://localhost:8080/",
          "height": 537
        },
        "id": "UXjVvoGv58Sz",
        "outputId": "22a70075-8e9c-4635-a261-4d610f52f960"
      },
      "outputs": [
        {
          "output_type": "display_data",
          "data": {
            "text/html": [
              "<html>\n",
              "<head><meta charset=\"utf-8\" /></head>\n",
              "<body>\n",
              "    <div>            <script src=\"https://cdnjs.cloudflare.com/ajax/libs/mathjax/2.7.5/MathJax.js?config=TeX-AMS-MML_SVG\"></script><script type=\"text/javascript\">if (window.MathJax && window.MathJax.Hub && window.MathJax.Hub.Config) {window.MathJax.Hub.Config({SVG: {font: \"STIX-Web\"}});}</script>                <script type=\"text/javascript\">window.PlotlyConfig = {MathJaxConfig: 'local'};</script>\n",
              "        <script src=\"https://cdn.plot.ly/plotly-2.18.2.min.js\"></script>                <div id=\"629244ca-b045-4a36-8d8d-b2ce5e15246f\" class=\"plotly-graph-div\" style=\"height:500px; width:1200px;\"></div>            <script type=\"text/javascript\">                                    window.PLOTLYENV=window.PLOTLYENV || {};                                    if (document.getElementById(\"629244ca-b045-4a36-8d8d-b2ce5e15246f\")) {                    Plotly.newPlot(                        \"629244ca-b045-4a36-8d8d-b2ce5e15246f\",                        [{\"alignmentgroup\":\"True\",\"bingroup\":\"x\",\"histfunc\":\"sum\",\"hovertemplate\":\"Day of week=Monday<br>Store=%{x}<br>sum of Count=%{y}<extra></extra>\",\"legendgroup\":\"Monday\",\"marker\":{\"color\":\"#DB6574\",\"pattern\":{\"shape\":\"\"}},\"name\":\"Monday\",\"nbinsx\":20,\"offsetgroup\":\"Monday\",\"orientation\":\"v\",\"showlegend\":true,\"texttemplate\":\"%{value}\",\"x\":[18.0,17.0,3.0,7.0],\"xaxis\":\"x\",\"y\":[1074079.0,919878.34,431985.36,597876.55],\"yaxis\":\"y\",\"type\":\"histogram\"},{\"alignmentgroup\":\"True\",\"bingroup\":\"x\",\"histfunc\":\"sum\",\"hovertemplate\":\"Day of week=Tuesday<br>Store=%{x}<br>sum of Count=%{y}<extra></extra>\",\"legendgroup\":\"Tuesday\",\"marker\":{\"color\":\"#03DAC5\",\"pattern\":{\"shape\":\"\"}},\"name\":\"Tuesday\",\"nbinsx\":20,\"offsetgroup\":\"Tuesday\",\"orientation\":\"v\",\"showlegend\":true,\"texttemplate\":\"%{value}\",\"x\":[14.0,9.0,13.0,4.0,7.0,3.0,18.0,16.0],\"xaxis\":\"x\",\"y\":[4677775.5,485389.15,2461468.35,2302504.86,563460.77,396968.8,1166117.85,614253.33],\"yaxis\":\"y\",\"type\":\"histogram\"},{\"alignmentgroup\":\"True\",\"bingroup\":\"x\",\"histfunc\":\"sum\",\"hovertemplate\":\"Day of week=Thursday<br>Store=%{x}<br>sum of Count=%{y}<extra></extra>\",\"legendgroup\":\"Thursday\",\"marker\":{\"color\":\"#8B0A50\",\"pattern\":{\"shape\":\"\"}},\"name\":\"Thursday\",\"nbinsx\":20,\"offsetgroup\":\"Thursday\",\"orientation\":\"v\",\"showlegend\":true,\"texttemplate\":\"%{value}\",\"x\":[13.0,19.0,8.0,7.0,1.0,10.0],\"xaxis\":\"x\",\"y\":[1970341.38,2872481.07,1851597.5,561145.14,1641957.44,1805999.79],\"yaxis\":\"y\",\"type\":\"histogram\"},{\"alignmentgroup\":\"True\",\"bingroup\":\"x\",\"histfunc\":\"sum\",\"hovertemplate\":\"Day of week=Friday<br>Store=%{x}<br>sum of Count=%{y}<extra></extra>\",\"legendgroup\":\"Friday\",\"marker\":{\"color\":\"#008B8B\",\"pattern\":{\"shape\":\"\"}},\"name\":\"Friday\",\"nbinsx\":20,\"offsetgroup\":\"Friday\",\"orientation\":\"v\",\"showlegend\":true,\"texttemplate\":\"%{value}\",\"x\":[7.0,19.0,1.0,18.0,2.0,17.0,16.0,3.0,15.0,6.0,14.0,20.0,13.0,4.0,8.0,11.0,10.0,5.0,9.0],\"xaxis\":\"x\",\"y\":[2034168.35,6783421.97,9134466.34,5823675.55,9976561.69,757738.76,1447017.76,2339614.41,1231449.98,9306741.48,12062530.3,7766084.51,11524994.24,8673507.18,3480927.29,1757242.51,3758543.33,1758963.9000000001,1542160.45],\"yaxis\":\"y\",\"type\":\"histogram\"},{\"alignmentgroup\":\"True\",\"bingroup\":\"x\",\"histfunc\":\"sum\",\"hovertemplate\":\"Day of week=Saurday<br>Store=%{x}<br>sum of Count=%{y}<extra></extra>\",\"legendgroup\":\"Saurday\",\"marker\":{\"color\":\"#FFD700\",\"pattern\":{\"shape\":\"\"}},\"name\":\"Saurday\",\"nbinsx\":20,\"offsetgroup\":\"Saurday\",\"orientation\":\"v\",\"showlegend\":true,\"texttemplate\":\"%{value}\",\"x\":[5.0,2.0,17.0],\"xaxis\":\"x\",\"y\":[301827.36,1916812.74,1700712.17],\"yaxis\":\"y\",\"type\":\"histogram\"},{\"alignmentgroup\":\"True\",\"bingroup\":\"x\",\"histfunc\":\"sum\",\"hovertemplate\":\"Day of week=Sunday<br>Store=%{x}<br>sum of Count=%{y}<extra></extra>\",\"legendgroup\":\"Sunday\",\"marker\":{\"color\":\"#483D8B\",\"pattern\":{\"shape\":\"\"}},\"name\":\"Sunday\",\"nbinsx\":20,\"offsetgroup\":\"Sunday\",\"orientation\":\"v\",\"showlegend\":true,\"texttemplate\":\"%{value}\",\"x\":[3.0,1.0,19.0,13.0,15.0,4.0,17.0,14.0],\"xaxis\":\"x\",\"y\":[864964.62,1624383.75,1549018.68,2018314.71,695396.19,2066541.86,829207.27,2095599.93],\"yaxis\":\"y\",\"type\":\"histogram\"}],                        {\"template\":{\"data\":{\"histogram2dcontour\":[{\"type\":\"histogram2dcontour\",\"colorbar\":{\"outlinewidth\":0,\"ticks\":\"\"},\"colorscale\":[[0.0,\"#0d0887\"],[0.1111111111111111,\"#46039f\"],[0.2222222222222222,\"#7201a8\"],[0.3333333333333333,\"#9c179e\"],[0.4444444444444444,\"#bd3786\"],[0.5555555555555556,\"#d8576b\"],[0.6666666666666666,\"#ed7953\"],[0.7777777777777778,\"#fb9f3a\"],[0.8888888888888888,\"#fdca26\"],[1.0,\"#f0f921\"]]}],\"choropleth\":[{\"type\":\"choropleth\",\"colorbar\":{\"outlinewidth\":0,\"ticks\":\"\"}}],\"histogram2d\":[{\"type\":\"histogram2d\",\"colorbar\":{\"outlinewidth\":0,\"ticks\":\"\"},\"colorscale\":[[0.0,\"#0d0887\"],[0.1111111111111111,\"#46039f\"],[0.2222222222222222,\"#7201a8\"],[0.3333333333333333,\"#9c179e\"],[0.4444444444444444,\"#bd3786\"],[0.5555555555555556,\"#d8576b\"],[0.6666666666666666,\"#ed7953\"],[0.7777777777777778,\"#fb9f3a\"],[0.8888888888888888,\"#fdca26\"],[1.0,\"#f0f921\"]]}],\"heatmap\":[{\"type\":\"heatmap\",\"colorbar\":{\"outlinewidth\":0,\"ticks\":\"\"},\"colorscale\":[[0.0,\"#0d0887\"],[0.1111111111111111,\"#46039f\"],[0.2222222222222222,\"#7201a8\"],[0.3333333333333333,\"#9c179e\"],[0.4444444444444444,\"#bd3786\"],[0.5555555555555556,\"#d8576b\"],[0.6666666666666666,\"#ed7953\"],[0.7777777777777778,\"#fb9f3a\"],[0.8888888888888888,\"#fdca26\"],[1.0,\"#f0f921\"]]}],\"heatmapgl\":[{\"type\":\"heatmapgl\",\"colorbar\":{\"outlinewidth\":0,\"ticks\":\"\"},\"colorscale\":[[0.0,\"#0d0887\"],[0.1111111111111111,\"#46039f\"],[0.2222222222222222,\"#7201a8\"],[0.3333333333333333,\"#9c179e\"],[0.4444444444444444,\"#bd3786\"],[0.5555555555555556,\"#d8576b\"],[0.6666666666666666,\"#ed7953\"],[0.7777777777777778,\"#fb9f3a\"],[0.8888888888888888,\"#fdca26\"],[1.0,\"#f0f921\"]]}],\"contourcarpet\":[{\"type\":\"contourcarpet\",\"colorbar\":{\"outlinewidth\":0,\"ticks\":\"\"}}],\"contour\":[{\"type\":\"contour\",\"colorbar\":{\"outlinewidth\":0,\"ticks\":\"\"},\"colorscale\":[[0.0,\"#0d0887\"],[0.1111111111111111,\"#46039f\"],[0.2222222222222222,\"#7201a8\"],[0.3333333333333333,\"#9c179e\"],[0.4444444444444444,\"#bd3786\"],[0.5555555555555556,\"#d8576b\"],[0.6666666666666666,\"#ed7953\"],[0.7777777777777778,\"#fb9f3a\"],[0.8888888888888888,\"#fdca26\"],[1.0,\"#f0f921\"]]}],\"surface\":[{\"type\":\"surface\",\"colorbar\":{\"outlinewidth\":0,\"ticks\":\"\"},\"colorscale\":[[0.0,\"#0d0887\"],[0.1111111111111111,\"#46039f\"],[0.2222222222222222,\"#7201a8\"],[0.3333333333333333,\"#9c179e\"],[0.4444444444444444,\"#bd3786\"],[0.5555555555555556,\"#d8576b\"],[0.6666666666666666,\"#ed7953\"],[0.7777777777777778,\"#fb9f3a\"],[0.8888888888888888,\"#fdca26\"],[1.0,\"#f0f921\"]]}],\"mesh3d\":[{\"type\":\"mesh3d\",\"colorbar\":{\"outlinewidth\":0,\"ticks\":\"\"}}],\"scatter\":[{\"fillpattern\":{\"fillmode\":\"overlay\",\"size\":10,\"solidity\":0.2},\"type\":\"scatter\"}],\"parcoords\":[{\"type\":\"parcoords\",\"line\":{\"colorbar\":{\"outlinewidth\":0,\"ticks\":\"\"}}}],\"scatterpolargl\":[{\"type\":\"scatterpolargl\",\"marker\":{\"colorbar\":{\"outlinewidth\":0,\"ticks\":\"\"}}}],\"bar\":[{\"error_x\":{\"color\":\"#2a3f5f\"},\"error_y\":{\"color\":\"#2a3f5f\"},\"marker\":{\"line\":{\"color\":\"#E5ECF6\",\"width\":0.5},\"pattern\":{\"fillmode\":\"overlay\",\"size\":10,\"solidity\":0.2}},\"type\":\"bar\"}],\"scattergeo\":[{\"type\":\"scattergeo\",\"marker\":{\"colorbar\":{\"outlinewidth\":0,\"ticks\":\"\"}}}],\"scatterpolar\":[{\"type\":\"scatterpolar\",\"marker\":{\"colorbar\":{\"outlinewidth\":0,\"ticks\":\"\"}}}],\"histogram\":[{\"marker\":{\"pattern\":{\"fillmode\":\"overlay\",\"size\":10,\"solidity\":0.2}},\"type\":\"histogram\"}],\"scattergl\":[{\"type\":\"scattergl\",\"marker\":{\"colorbar\":{\"outlinewidth\":0,\"ticks\":\"\"}}}],\"scatter3d\":[{\"type\":\"scatter3d\",\"line\":{\"colorbar\":{\"outlinewidth\":0,\"ticks\":\"\"}},\"marker\":{\"colorbar\":{\"outlinewidth\":0,\"ticks\":\"\"}}}],\"scattermapbox\":[{\"type\":\"scattermapbox\",\"marker\":{\"colorbar\":{\"outlinewidth\":0,\"ticks\":\"\"}}}],\"scatterternary\":[{\"type\":\"scatterternary\",\"marker\":{\"colorbar\":{\"outlinewidth\":0,\"ticks\":\"\"}}}],\"scattercarpet\":[{\"type\":\"scattercarpet\",\"marker\":{\"colorbar\":{\"outlinewidth\":0,\"ticks\":\"\"}}}],\"carpet\":[{\"aaxis\":{\"endlinecolor\":\"#2a3f5f\",\"gridcolor\":\"white\",\"linecolor\":\"white\",\"minorgridcolor\":\"white\",\"startlinecolor\":\"#2a3f5f\"},\"baxis\":{\"endlinecolor\":\"#2a3f5f\",\"gridcolor\":\"white\",\"linecolor\":\"white\",\"minorgridcolor\":\"white\",\"startlinecolor\":\"#2a3f5f\"},\"type\":\"carpet\"}],\"table\":[{\"cells\":{\"fill\":{\"color\":\"#EBF0F8\"},\"line\":{\"color\":\"white\"}},\"header\":{\"fill\":{\"color\":\"#C8D4E3\"},\"line\":{\"color\":\"white\"}},\"type\":\"table\"}],\"barpolar\":[{\"marker\":{\"line\":{\"color\":\"#E5ECF6\",\"width\":0.5},\"pattern\":{\"fillmode\":\"overlay\",\"size\":10,\"solidity\":0.2}},\"type\":\"barpolar\"}],\"pie\":[{\"automargin\":true,\"type\":\"pie\"}]},\"layout\":{\"autotypenumbers\":\"strict\",\"colorway\":[\"#636efa\",\"#EF553B\",\"#00cc96\",\"#ab63fa\",\"#FFA15A\",\"#19d3f3\",\"#FF6692\",\"#B6E880\",\"#FF97FF\",\"#FECB52\"],\"font\":{\"color\":\"#2a3f5f\"},\"hovermode\":\"closest\",\"hoverlabel\":{\"align\":\"left\"},\"paper_bgcolor\":\"white\",\"plot_bgcolor\":\"#E5ECF6\",\"polar\":{\"bgcolor\":\"#E5ECF6\",\"angularaxis\":{\"gridcolor\":\"white\",\"linecolor\":\"white\",\"ticks\":\"\"},\"radialaxis\":{\"gridcolor\":\"white\",\"linecolor\":\"white\",\"ticks\":\"\"}},\"ternary\":{\"bgcolor\":\"#E5ECF6\",\"aaxis\":{\"gridcolor\":\"white\",\"linecolor\":\"white\",\"ticks\":\"\"},\"baxis\":{\"gridcolor\":\"white\",\"linecolor\":\"white\",\"ticks\":\"\"},\"caxis\":{\"gridcolor\":\"white\",\"linecolor\":\"white\",\"ticks\":\"\"}},\"coloraxis\":{\"colorbar\":{\"outlinewidth\":0,\"ticks\":\"\"}},\"colorscale\":{\"sequential\":[[0.0,\"#0d0887\"],[0.1111111111111111,\"#46039f\"],[0.2222222222222222,\"#7201a8\"],[0.3333333333333333,\"#9c179e\"],[0.4444444444444444,\"#bd3786\"],[0.5555555555555556,\"#d8576b\"],[0.6666666666666666,\"#ed7953\"],[0.7777777777777778,\"#fb9f3a\"],[0.8888888888888888,\"#fdca26\"],[1.0,\"#f0f921\"]],\"sequentialminus\":[[0.0,\"#0d0887\"],[0.1111111111111111,\"#46039f\"],[0.2222222222222222,\"#7201a8\"],[0.3333333333333333,\"#9c179e\"],[0.4444444444444444,\"#bd3786\"],[0.5555555555555556,\"#d8576b\"],[0.6666666666666666,\"#ed7953\"],[0.7777777777777778,\"#fb9f3a\"],[0.8888888888888888,\"#fdca26\"],[1.0,\"#f0f921\"]],\"diverging\":[[0,\"#8e0152\"],[0.1,\"#c51b7d\"],[0.2,\"#de77ae\"],[0.3,\"#f1b6da\"],[0.4,\"#fde0ef\"],[0.5,\"#f7f7f7\"],[0.6,\"#e6f5d0\"],[0.7,\"#b8e186\"],[0.8,\"#7fbc41\"],[0.9,\"#4d9221\"],[1,\"#276419\"]]},\"xaxis\":{\"gridcolor\":\"white\",\"linecolor\":\"white\",\"ticks\":\"\",\"title\":{\"standoff\":15},\"zerolinecolor\":\"white\",\"automargin\":true,\"zerolinewidth\":2},\"yaxis\":{\"gridcolor\":\"white\",\"linecolor\":\"white\",\"ticks\":\"\",\"title\":{\"standoff\":15},\"zerolinecolor\":\"white\",\"automargin\":true,\"zerolinewidth\":2},\"scene\":{\"xaxis\":{\"backgroundcolor\":\"#E5ECF6\",\"gridcolor\":\"white\",\"linecolor\":\"white\",\"showbackground\":true,\"ticks\":\"\",\"zerolinecolor\":\"white\",\"gridwidth\":2},\"yaxis\":{\"backgroundcolor\":\"#E5ECF6\",\"gridcolor\":\"white\",\"linecolor\":\"white\",\"showbackground\":true,\"ticks\":\"\",\"zerolinecolor\":\"white\",\"gridwidth\":2},\"zaxis\":{\"backgroundcolor\":\"#E5ECF6\",\"gridcolor\":\"white\",\"linecolor\":\"white\",\"showbackground\":true,\"ticks\":\"\",\"zerolinecolor\":\"white\",\"gridwidth\":2}},\"shapedefaults\":{\"line\":{\"color\":\"#2a3f5f\"}},\"annotationdefaults\":{\"arrowcolor\":\"#2a3f5f\",\"arrowhead\":0,\"arrowwidth\":1},\"geo\":{\"bgcolor\":\"white\",\"landcolor\":\"#E5ECF6\",\"subunitcolor\":\"white\",\"showland\":true,\"showlakes\":true,\"lakecolor\":\"white\"},\"title\":{\"x\":0.05},\"mapbox\":{\"style\":\"light\"}}},\"xaxis\":{\"anchor\":\"y\",\"domain\":[0.0,1.0],\"title\":{\"text\":\"Store\"},\"tick0\":0,\"dtick\":1},\"yaxis\":{\"anchor\":\"x\",\"domain\":[0.0,1.0],\"title\":{\"text\":\"Count of Sales \"},\"showgrid\":true,\"gridcolor\":\"#008B8B\"},\"legend\":{\"title\":{\"text\":\"Day of week\"},\"tracegroupgap\":0,\"orientation\":\"h\",\"yanchor\":\"bottom\",\"y\":1.02,\"xanchor\":\"right\",\"x\":1},\"title\":{\"text\":\"Sales per Store per Day of week\",\"font\":{\"size\":25,\"color\":\"#a5a7ab\",\"family\":\"Muli, sans-serif\"},\"x\":0.5},\"barmode\":\"relative\",\"height\":500,\"margin\":{\"t\":100,\"b\":0,\"l\":70,\"r\":40},\"font\":{\"color\":\"#8a8d93\"},\"width\":1200,\"plot_bgcolor\":\"#2d3035\",\"paper_bgcolor\":\"#2d3035\"},                        {\"responsive\": true}                    ).then(function(){\n",
              "                            \n",
              "var gd = document.getElementById('629244ca-b045-4a36-8d8d-b2ce5e15246f');\n",
              "var x = new MutationObserver(function (mutations, observer) {{\n",
              "        var display = window.getComputedStyle(gd).display;\n",
              "        if (!display || display === 'none') {{\n",
              "            console.log([gd, 'removed!']);\n",
              "            Plotly.purge(gd);\n",
              "            observer.disconnect();\n",
              "        }}\n",
              "}});\n",
              "\n",
              "// Listen for the removal of the full notebook cells\n",
              "var notebookContainer = gd.closest('#notebook-container');\n",
              "if (notebookContainer) {{\n",
              "    x.observe(notebookContainer, {childList: true});\n",
              "}}\n",
              "\n",
              "// Listen for the clearing of the current output cell\n",
              "var outputEl = gd.closest('.output');\n",
              "if (outputEl) {{\n",
              "    x.observe(outputEl, {childList: true});\n",
              "}}\n",
              "\n",
              "                        })                };                            </script>        </div>\n",
              "</body>\n",
              "</html>"
            ]
          },
          "metadata": {}
        }
      ],
      "source": [
        "#Let's visualize total sales per store per Day of week\n",
        "fig = px.histogram(sales_per_Day, x='Store',y='Count', color='Day of week', nbins=20,text_auto=True,\n",
        "                         title='Sales per Store per Day of week', height=300,\n",
        "                         color_discrete_sequence=['#DB6574', '#03DAC5','#8B0A50','#008B8B','#FFD700','#483D8B'],\n",
        "                         )\n",
        "\n",
        "fig.update_yaxes(showgrid=True, gridcolor=\"#008B8B\")\n",
        "fig.update_layout(margin=dict(t=100, b=0, l=70, r=40),\n",
        "                        xaxis_title='Store', yaxis_title=\"Count of Sales \",title_x=0.5,\n",
        "                        height = 500, width = 1200,\n",
        "                        plot_bgcolor='#2d3035', paper_bgcolor='#2d3035',\n",
        "                        title_font=dict(size=25, color='#a5a7ab', family=\"Muli, sans-serif\"),\n",
        "                        font=dict(color='#8a8d93'),\n",
        "                        legend=dict(orientation=\"h\", yanchor=\"bottom\", y=1.02, xanchor=\"right\", x=1),\n",
        "                        xaxis = dict(\n",
        "                        tick0 = 0,\n",
        "                        dtick = 1\n",
        "   ))\n",
        "fig.show()"
      ]
    },
    {
      "cell_type": "code",
      "execution_count": 21,
      "metadata": {
        "id": "pQYfN9dm58Sz"
      },
      "outputs": [],
      "source": [
        "sales_per_Month=df.groupby(['Store', 'Month'])['Weekly_Sales'].sum().reset_index(name='Count').sort_values(by='Month', ascending=True)"
      ]
    },
    {
      "cell_type": "code",
      "execution_count": 22,
      "metadata": {
        "colab": {
          "base_uri": "https://localhost:8080/",
          "height": 537
        },
        "id": "DAaTc5ki58S1",
        "outputId": "a5c903d3-661b-4bf6-c6ce-13c3e0d05bfa"
      },
      "outputs": [
        {
          "output_type": "display_data",
          "data": {
            "text/html": [
              "<html>\n",
              "<head><meta charset=\"utf-8\" /></head>\n",
              "<body>\n",
              "    <div>            <script src=\"https://cdnjs.cloudflare.com/ajax/libs/mathjax/2.7.5/MathJax.js?config=TeX-AMS-MML_SVG\"></script><script type=\"text/javascript\">if (window.MathJax && window.MathJax.Hub && window.MathJax.Hub.Config) {window.MathJax.Hub.Config({SVG: {font: \"STIX-Web\"}});}</script>                <script type=\"text/javascript\">window.PlotlyConfig = {MathJaxConfig: 'local'};</script>\n",
              "        <script src=\"https://cdn.plot.ly/plotly-2.18.2.min.js\"></script>                <div id=\"0920317f-bca8-4c78-a0f8-4e4d899056a3\" class=\"plotly-graph-div\" style=\"height:500px; width:1200px;\"></div>            <script type=\"text/javascript\">                                    window.PLOTLYENV=window.PLOTLYENV || {};                                    if (document.getElementById(\"0920317f-bca8-4c78-a0f8-4e4d899056a3\")) {                    Plotly.newPlot(                        \"0920317f-bca8-4c78-a0f8-4e4d899056a3\",                        [{\"alignmentgroup\":\"True\",\"bingroup\":\"x\",\"histfunc\":\"sum\",\"hovertemplate\":\"Month=1.0<br>Store=%{x}<br>sum of Count=%{y}<extra></extra>\",\"legendgroup\":\"1.0\",\"marker\":{\"color\":\"#DB6574\",\"pattern\":{\"shape\":\"\"}},\"name\":\"1.0\",\"nbinsx\":20,\"offsetgroup\":\"1.0\",\"orientation\":\"v\",\"showlegend\":true,\"x\":[13.0,3.0,17.0],\"xaxis\":\"x\",\"y\":[3847037.5999999996,367438.62,829207.27],\"yaxis\":\"y\",\"type\":\"histogram\"},{\"alignmentgroup\":\"True\",\"bingroup\":\"x\",\"histfunc\":\"sum\",\"hovertemplate\":\"Month=2.0<br>Store=%{x}<br>sum of Count=%{y}<extra></extra>\",\"legendgroup\":\"2.0\",\"marker\":{\"color\":\"#03DAC5\",\"pattern\":{\"shape\":\"\"}},\"name\":\"2.0\",\"nbinsx\":20,\"offsetgroup\":\"2.0\",\"orientation\":\"v\",\"showlegend\":true,\"x\":[14.0,13.0,10.0,15.0,2.0,7.0,6.0,19.0],\"xaxis\":\"x\",\"y\":[4116142.62,2018314.71,1990371.02,660838.75,3986254.24,561145.14,1572117.54,1549018.68],\"yaxis\":\"y\",\"type\":\"histogram\"},{\"alignmentgroup\":\"True\",\"bingroup\":\"x\",\"histfunc\":\"sum\",\"hovertemplate\":\"Month=3.0<br>Store=%{x}<br>sum of Count=%{y}<extra></extra>\",\"legendgroup\":\"3.0\",\"marker\":{\"color\":\"#8B0A50\",\"pattern\":{\"shape\":\"\"}},\"name\":\"3.0\",\"nbinsx\":20,\"offsetgroup\":\"3.0\",\"orientation\":\"v\",\"showlegend\":true,\"x\":[13.0,15.0,16.0,14.0,19.0,1.0,20.0],\"xaxis\":\"x\",\"y\":[3833128.05,1266007.42,485095.41,1879451.23,2693588.3899999997,1677472.78,2203523.2],\"yaxis\":\"y\",\"type\":\"histogram\"},{\"alignmentgroup\":\"True\",\"bingroup\":\"x\",\"histfunc\":\"sum\",\"hovertemplate\":\"Month=4.0<br>Store=%{x}<br>sum of Count=%{y}<extra></extra>\",\"legendgroup\":\"4.0\",\"marker\":{\"color\":\"#008B8B\",\"pattern\":{\"shape\":\"\"}},\"name\":\"4.0\",\"nbinsx\":20,\"offsetgroup\":\"4.0\",\"orientation\":\"v\",\"showlegend\":true,\"x\":[7.0,19.0,6.0,3.0,18.0,5.0,17.0],\"xaxis\":\"x\",\"y\":[457340.06,2660094.7,3137439.09,396968.8,1949343.95,298697.84,757738.76],\"yaxis\":\"y\",\"type\":\"histogram\"},{\"alignmentgroup\":\"True\",\"bingroup\":\"x\",\"histfunc\":\"sum\",\"hovertemplate\":\"Month=5.0<br>Store=%{x}<br>sum of Count=%{y}<extra></extra>\",\"legendgroup\":\"5.0\",\"marker\":{\"color\":\"#FFD700\",\"pattern\":{\"shape\":\"\"}},\"name\":\"5.0\",\"nbinsx\":20,\"offsetgroup\":\"5.0\",\"orientation\":\"v\",\"showlegend\":true,\"x\":[5.0,18.0,4.0,3.0,1.0,7.0,6.0,16.0],\"xaxis\":\"x\",\"y\":[290930.01,1256282.79,1857533.7,461622.22,4584681.92,946833.8200000001,1644470.66,435397.19],\"yaxis\":\"y\",\"type\":\"histogram\"},{\"alignmentgroup\":\"True\",\"bingroup\":\"x\",\"histfunc\":\"sum\",\"hovertemplate\":\"Month=6.0<br>Store=%{x}<br>sum of Count=%{y}<extra></extra>\",\"legendgroup\":\"6.0\",\"marker\":{\"color\":\"#483D8B\",\"pattern\":{\"shape\":\"\"}},\"name\":\"6.0\",\"nbinsx\":20,\"offsetgroup\":\"6.0\",\"orientation\":\"v\",\"showlegend\":true,\"x\":[2.0,4.0,10.0,20.0,3.0,18.0,14.0,19.0,9.0],\"xaxis\":\"x\",\"y\":[1799520.14,2008344.92,3574172.1,1973135.87,783574.8,1166117.85,4344245.52,1468350.36,1022337.15],\"yaxis\":\"y\",\"type\":\"histogram\"},{\"alignmentgroup\":\"True\",\"bingroup\":\"x\",\"histfunc\":\"sum\",\"hovertemplate\":\"Month=7.0<br>Store=%{x}<br>sum of Count=%{y}<extra></extra>\",\"legendgroup\":\"7.0\",\"marker\":{\"color\":\"#DB6574\",\"pattern\":{\"shape\":\"\"}},\"name\":\"7.0\",\"nbinsx\":20,\"offsetgroup\":\"7.0\",\"orientation\":\"v\",\"showlegend\":true,\"x\":[14.0,19.0,3.0,7.0,6.0,4.0,5.0,2.0],\"xaxis\":\"x\",\"y\":[3818290.8600000003,1366395.96,403342.4,597876.55,1532308.78,2036231.39,544071.2,1758050.79],\"yaxis\":\"y\",\"type\":\"histogram\"},{\"alignmentgroup\":\"True\",\"bingroup\":\"x\",\"histfunc\":\"sum\",\"hovertemplate\":\"Month=8.0<br>Store=%{x}<br>sum of Count=%{y}<extra></extra>\",\"legendgroup\":\"8.0\",\"marker\":{\"color\":\"#03DAC5\",\"pattern\":{\"shape\":\"\"}},\"name\":\"8.0\",\"nbinsx\":20,\"offsetgroup\":\"8.0\",\"orientation\":\"v\",\"showlegend\":true,\"x\":[8.0,7.0,6.0,1.0,4.0,13.0],\"xaxis\":\"x\",\"y\":[1783883.28,629994.47,1420405.41,1449142.92,2066541.86,1997397.63],\"yaxis\":\"y\",\"type\":\"histogram\"},{\"alignmentgroup\":\"True\",\"bingroup\":\"x\",\"histfunc\":\"sum\",\"hovertemplate\":\"Month=9.0<br>Store=%{x}<br>sum of Count=%{y}<extra></extra>\",\"legendgroup\":\"9.0\",\"marker\":{\"color\":\"#8B0A50\",\"pattern\":{\"shape\":\"\"}},\"name\":\"9.0\",\"nbinsx\":20,\"offsetgroup\":\"9.0\",\"orientation\":\"v\",\"showlegend\":true,\"x\":[16.0,8.0,13.0,3.0,9.0,20.0],\"xaxis\":\"x\",\"y\":[1140778.49,836707.85,1847430.96,365248.94,485389.15,1789687.65],\"yaxis\":\"y\",\"type\":\"histogram\"},{\"alignmentgroup\":\"True\",\"bingroup\":\"x\",\"histfunc\":\"sum\",\"hovertemplate\":\"Month=10.0<br>Store=%{x}<br>sum of Count=%{y}<extra></extra>\",\"legendgroup\":\"10.0\",\"marker\":{\"color\":\"#008B8B\",\"pattern\":{\"shape\":\"\"}},\"name\":\"10.0\",\"nbinsx\":20,\"offsetgroup\":\"10.0\",\"orientation\":\"v\",\"showlegend\":true,\"x\":[13.0,1.0,19.0,3.0,18.0,4.0,5.0,14.0,7.0],\"xaxis\":\"x\",\"y\":[2461468.35,1508068.77,1467473.63,424513.08,1029618.1,2302504.86,313358.15,4677775.5,563460.77],\"yaxis\":\"y\",\"type\":\"histogram\"},{\"alignmentgroup\":\"True\",\"bingroup\":\"x\",\"histfunc\":\"sum\",\"hovertemplate\":\"Month=11.0<br>Store=%{x}<br>sum of Count=%{y}<extra></extra>\",\"legendgroup\":\"11.0\",\"marker\":{\"color\":\"#FFD700\",\"pattern\":{\"shape\":\"\"}},\"name\":\"11.0\",\"nbinsx\":20,\"offsetgroup\":\"11.0\",\"orientation\":\"v\",\"showlegend\":true,\"x\":[17.0,11.0,1.0,3.0,5.0,9.0],\"xaxis\":\"x\",\"y\":[845252.21,1757242.51,1539483.7,830824.33,311906.7,519823.3],\"yaxis\":\"y\",\"type\":\"histogram\"},{\"alignmentgroup\":\"True\",\"bingroup\":\"x\",\"histfunc\":\"sum\",\"hovertemplate\":\"Month=12.0<br>Store=%{x}<br>sum of Count=%{y}<extra></extra>\",\"legendgroup\":\"12.0\",\"marker\":{\"color\":\"#483D8B\",\"pattern\":{\"shape\":\"\"}},\"name\":\"12.0\",\"nbinsx\":20,\"offsetgroup\":\"12.0\",\"orientation\":\"v\",\"showlegend\":true,\"x\":[1.0,2.0,8.0,5.0,4.0,13.0,17.0,18.0,20.0],\"xaxis\":\"x\",\"y\":[1641957.44,4349549.26,2711933.66,301827.36,2771397.17,1970341.38,1775338.2999999998,2662509.71,1799737.79],\"yaxis\":\"y\",\"type\":\"histogram\"}],                        {\"template\":{\"data\":{\"histogram2dcontour\":[{\"type\":\"histogram2dcontour\",\"colorbar\":{\"outlinewidth\":0,\"ticks\":\"\"},\"colorscale\":[[0.0,\"#0d0887\"],[0.1111111111111111,\"#46039f\"],[0.2222222222222222,\"#7201a8\"],[0.3333333333333333,\"#9c179e\"],[0.4444444444444444,\"#bd3786\"],[0.5555555555555556,\"#d8576b\"],[0.6666666666666666,\"#ed7953\"],[0.7777777777777778,\"#fb9f3a\"],[0.8888888888888888,\"#fdca26\"],[1.0,\"#f0f921\"]]}],\"choropleth\":[{\"type\":\"choropleth\",\"colorbar\":{\"outlinewidth\":0,\"ticks\":\"\"}}],\"histogram2d\":[{\"type\":\"histogram2d\",\"colorbar\":{\"outlinewidth\":0,\"ticks\":\"\"},\"colorscale\":[[0.0,\"#0d0887\"],[0.1111111111111111,\"#46039f\"],[0.2222222222222222,\"#7201a8\"],[0.3333333333333333,\"#9c179e\"],[0.4444444444444444,\"#bd3786\"],[0.5555555555555556,\"#d8576b\"],[0.6666666666666666,\"#ed7953\"],[0.7777777777777778,\"#fb9f3a\"],[0.8888888888888888,\"#fdca26\"],[1.0,\"#f0f921\"]]}],\"heatmap\":[{\"type\":\"heatmap\",\"colorbar\":{\"outlinewidth\":0,\"ticks\":\"\"},\"colorscale\":[[0.0,\"#0d0887\"],[0.1111111111111111,\"#46039f\"],[0.2222222222222222,\"#7201a8\"],[0.3333333333333333,\"#9c179e\"],[0.4444444444444444,\"#bd3786\"],[0.5555555555555556,\"#d8576b\"],[0.6666666666666666,\"#ed7953\"],[0.7777777777777778,\"#fb9f3a\"],[0.8888888888888888,\"#fdca26\"],[1.0,\"#f0f921\"]]}],\"heatmapgl\":[{\"type\":\"heatmapgl\",\"colorbar\":{\"outlinewidth\":0,\"ticks\":\"\"},\"colorscale\":[[0.0,\"#0d0887\"],[0.1111111111111111,\"#46039f\"],[0.2222222222222222,\"#7201a8\"],[0.3333333333333333,\"#9c179e\"],[0.4444444444444444,\"#bd3786\"],[0.5555555555555556,\"#d8576b\"],[0.6666666666666666,\"#ed7953\"],[0.7777777777777778,\"#fb9f3a\"],[0.8888888888888888,\"#fdca26\"],[1.0,\"#f0f921\"]]}],\"contourcarpet\":[{\"type\":\"contourcarpet\",\"colorbar\":{\"outlinewidth\":0,\"ticks\":\"\"}}],\"contour\":[{\"type\":\"contour\",\"colorbar\":{\"outlinewidth\":0,\"ticks\":\"\"},\"colorscale\":[[0.0,\"#0d0887\"],[0.1111111111111111,\"#46039f\"],[0.2222222222222222,\"#7201a8\"],[0.3333333333333333,\"#9c179e\"],[0.4444444444444444,\"#bd3786\"],[0.5555555555555556,\"#d8576b\"],[0.6666666666666666,\"#ed7953\"],[0.7777777777777778,\"#fb9f3a\"],[0.8888888888888888,\"#fdca26\"],[1.0,\"#f0f921\"]]}],\"surface\":[{\"type\":\"surface\",\"colorbar\":{\"outlinewidth\":0,\"ticks\":\"\"},\"colorscale\":[[0.0,\"#0d0887\"],[0.1111111111111111,\"#46039f\"],[0.2222222222222222,\"#7201a8\"],[0.3333333333333333,\"#9c179e\"],[0.4444444444444444,\"#bd3786\"],[0.5555555555555556,\"#d8576b\"],[0.6666666666666666,\"#ed7953\"],[0.7777777777777778,\"#fb9f3a\"],[0.8888888888888888,\"#fdca26\"],[1.0,\"#f0f921\"]]}],\"mesh3d\":[{\"type\":\"mesh3d\",\"colorbar\":{\"outlinewidth\":0,\"ticks\":\"\"}}],\"scatter\":[{\"fillpattern\":{\"fillmode\":\"overlay\",\"size\":10,\"solidity\":0.2},\"type\":\"scatter\"}],\"parcoords\":[{\"type\":\"parcoords\",\"line\":{\"colorbar\":{\"outlinewidth\":0,\"ticks\":\"\"}}}],\"scatterpolargl\":[{\"type\":\"scatterpolargl\",\"marker\":{\"colorbar\":{\"outlinewidth\":0,\"ticks\":\"\"}}}],\"bar\":[{\"error_x\":{\"color\":\"#2a3f5f\"},\"error_y\":{\"color\":\"#2a3f5f\"},\"marker\":{\"line\":{\"color\":\"#E5ECF6\",\"width\":0.5},\"pattern\":{\"fillmode\":\"overlay\",\"size\":10,\"solidity\":0.2}},\"type\":\"bar\"}],\"scattergeo\":[{\"type\":\"scattergeo\",\"marker\":{\"colorbar\":{\"outlinewidth\":0,\"ticks\":\"\"}}}],\"scatterpolar\":[{\"type\":\"scatterpolar\",\"marker\":{\"colorbar\":{\"outlinewidth\":0,\"ticks\":\"\"}}}],\"histogram\":[{\"marker\":{\"pattern\":{\"fillmode\":\"overlay\",\"size\":10,\"solidity\":0.2}},\"type\":\"histogram\"}],\"scattergl\":[{\"type\":\"scattergl\",\"marker\":{\"colorbar\":{\"outlinewidth\":0,\"ticks\":\"\"}}}],\"scatter3d\":[{\"type\":\"scatter3d\",\"line\":{\"colorbar\":{\"outlinewidth\":0,\"ticks\":\"\"}},\"marker\":{\"colorbar\":{\"outlinewidth\":0,\"ticks\":\"\"}}}],\"scattermapbox\":[{\"type\":\"scattermapbox\",\"marker\":{\"colorbar\":{\"outlinewidth\":0,\"ticks\":\"\"}}}],\"scatterternary\":[{\"type\":\"scatterternary\",\"marker\":{\"colorbar\":{\"outlinewidth\":0,\"ticks\":\"\"}}}],\"scattercarpet\":[{\"type\":\"scattercarpet\",\"marker\":{\"colorbar\":{\"outlinewidth\":0,\"ticks\":\"\"}}}],\"carpet\":[{\"aaxis\":{\"endlinecolor\":\"#2a3f5f\",\"gridcolor\":\"white\",\"linecolor\":\"white\",\"minorgridcolor\":\"white\",\"startlinecolor\":\"#2a3f5f\"},\"baxis\":{\"endlinecolor\":\"#2a3f5f\",\"gridcolor\":\"white\",\"linecolor\":\"white\",\"minorgridcolor\":\"white\",\"startlinecolor\":\"#2a3f5f\"},\"type\":\"carpet\"}],\"table\":[{\"cells\":{\"fill\":{\"color\":\"#EBF0F8\"},\"line\":{\"color\":\"white\"}},\"header\":{\"fill\":{\"color\":\"#C8D4E3\"},\"line\":{\"color\":\"white\"}},\"type\":\"table\"}],\"barpolar\":[{\"marker\":{\"line\":{\"color\":\"#E5ECF6\",\"width\":0.5},\"pattern\":{\"fillmode\":\"overlay\",\"size\":10,\"solidity\":0.2}},\"type\":\"barpolar\"}],\"pie\":[{\"automargin\":true,\"type\":\"pie\"}]},\"layout\":{\"autotypenumbers\":\"strict\",\"colorway\":[\"#636efa\",\"#EF553B\",\"#00cc96\",\"#ab63fa\",\"#FFA15A\",\"#19d3f3\",\"#FF6692\",\"#B6E880\",\"#FF97FF\",\"#FECB52\"],\"font\":{\"color\":\"#2a3f5f\"},\"hovermode\":\"closest\",\"hoverlabel\":{\"align\":\"left\"},\"paper_bgcolor\":\"white\",\"plot_bgcolor\":\"#E5ECF6\",\"polar\":{\"bgcolor\":\"#E5ECF6\",\"angularaxis\":{\"gridcolor\":\"white\",\"linecolor\":\"white\",\"ticks\":\"\"},\"radialaxis\":{\"gridcolor\":\"white\",\"linecolor\":\"white\",\"ticks\":\"\"}},\"ternary\":{\"bgcolor\":\"#E5ECF6\",\"aaxis\":{\"gridcolor\":\"white\",\"linecolor\":\"white\",\"ticks\":\"\"},\"baxis\":{\"gridcolor\":\"white\",\"linecolor\":\"white\",\"ticks\":\"\"},\"caxis\":{\"gridcolor\":\"white\",\"linecolor\":\"white\",\"ticks\":\"\"}},\"coloraxis\":{\"colorbar\":{\"outlinewidth\":0,\"ticks\":\"\"}},\"colorscale\":{\"sequential\":[[0.0,\"#0d0887\"],[0.1111111111111111,\"#46039f\"],[0.2222222222222222,\"#7201a8\"],[0.3333333333333333,\"#9c179e\"],[0.4444444444444444,\"#bd3786\"],[0.5555555555555556,\"#d8576b\"],[0.6666666666666666,\"#ed7953\"],[0.7777777777777778,\"#fb9f3a\"],[0.8888888888888888,\"#fdca26\"],[1.0,\"#f0f921\"]],\"sequentialminus\":[[0.0,\"#0d0887\"],[0.1111111111111111,\"#46039f\"],[0.2222222222222222,\"#7201a8\"],[0.3333333333333333,\"#9c179e\"],[0.4444444444444444,\"#bd3786\"],[0.5555555555555556,\"#d8576b\"],[0.6666666666666666,\"#ed7953\"],[0.7777777777777778,\"#fb9f3a\"],[0.8888888888888888,\"#fdca26\"],[1.0,\"#f0f921\"]],\"diverging\":[[0,\"#8e0152\"],[0.1,\"#c51b7d\"],[0.2,\"#de77ae\"],[0.3,\"#f1b6da\"],[0.4,\"#fde0ef\"],[0.5,\"#f7f7f7\"],[0.6,\"#e6f5d0\"],[0.7,\"#b8e186\"],[0.8,\"#7fbc41\"],[0.9,\"#4d9221\"],[1,\"#276419\"]]},\"xaxis\":{\"gridcolor\":\"white\",\"linecolor\":\"white\",\"ticks\":\"\",\"title\":{\"standoff\":15},\"zerolinecolor\":\"white\",\"automargin\":true,\"zerolinewidth\":2},\"yaxis\":{\"gridcolor\":\"white\",\"linecolor\":\"white\",\"ticks\":\"\",\"title\":{\"standoff\":15},\"zerolinecolor\":\"white\",\"automargin\":true,\"zerolinewidth\":2},\"scene\":{\"xaxis\":{\"backgroundcolor\":\"#E5ECF6\",\"gridcolor\":\"white\",\"linecolor\":\"white\",\"showbackground\":true,\"ticks\":\"\",\"zerolinecolor\":\"white\",\"gridwidth\":2},\"yaxis\":{\"backgroundcolor\":\"#E5ECF6\",\"gridcolor\":\"white\",\"linecolor\":\"white\",\"showbackground\":true,\"ticks\":\"\",\"zerolinecolor\":\"white\",\"gridwidth\":2},\"zaxis\":{\"backgroundcolor\":\"#E5ECF6\",\"gridcolor\":\"white\",\"linecolor\":\"white\",\"showbackground\":true,\"ticks\":\"\",\"zerolinecolor\":\"white\",\"gridwidth\":2}},\"shapedefaults\":{\"line\":{\"color\":\"#2a3f5f\"}},\"annotationdefaults\":{\"arrowcolor\":\"#2a3f5f\",\"arrowhead\":0,\"arrowwidth\":1},\"geo\":{\"bgcolor\":\"white\",\"landcolor\":\"#E5ECF6\",\"subunitcolor\":\"white\",\"showland\":true,\"showlakes\":true,\"lakecolor\":\"white\"},\"title\":{\"x\":0.05},\"mapbox\":{\"style\":\"light\"}}},\"xaxis\":{\"anchor\":\"y\",\"domain\":[0.0,1.0],\"title\":{\"text\":\"Store\"},\"tick0\":0,\"dtick\":1},\"yaxis\":{\"anchor\":\"x\",\"domain\":[0.0,1.0],\"title\":{\"text\":\"Count of Sales \"},\"showgrid\":true,\"gridcolor\":\"#008B8B\"},\"legend\":{\"title\":{\"text\":\"Month\"},\"tracegroupgap\":0,\"orientation\":\"h\",\"yanchor\":\"bottom\",\"y\":1.02,\"xanchor\":\"right\",\"x\":1},\"title\":{\"text\":\"Sales per Store per Month\",\"font\":{\"size\":25,\"color\":\"#a5a7ab\",\"family\":\"Muli, sans-serif\"},\"x\":0.5},\"barmode\":\"relative\",\"height\":500,\"margin\":{\"t\":100,\"b\":0,\"l\":70,\"r\":40},\"font\":{\"color\":\"#8a8d93\"},\"width\":1200,\"plot_bgcolor\":\"#2d3035\",\"paper_bgcolor\":\"#2d3035\"},                        {\"responsive\": true}                    ).then(function(){\n",
              "                            \n",
              "var gd = document.getElementById('0920317f-bca8-4c78-a0f8-4e4d899056a3');\n",
              "var x = new MutationObserver(function (mutations, observer) {{\n",
              "        var display = window.getComputedStyle(gd).display;\n",
              "        if (!display || display === 'none') {{\n",
              "            console.log([gd, 'removed!']);\n",
              "            Plotly.purge(gd);\n",
              "            observer.disconnect();\n",
              "        }}\n",
              "}});\n",
              "\n",
              "// Listen for the removal of the full notebook cells\n",
              "var notebookContainer = gd.closest('#notebook-container');\n",
              "if (notebookContainer) {{\n",
              "    x.observe(notebookContainer, {childList: true});\n",
              "}}\n",
              "\n",
              "// Listen for the clearing of the current output cell\n",
              "var outputEl = gd.closest('.output');\n",
              "if (outputEl) {{\n",
              "    x.observe(outputEl, {childList: true});\n",
              "}}\n",
              "\n",
              "                        })                };                            </script>        </div>\n",
              "</body>\n",
              "</html>"
            ]
          },
          "metadata": {}
        }
      ],
      "source": [
        "# Visualization of sales per month per Store\n",
        "sales_per_Month=df.groupby(['Store', 'Month'])['Weekly_Sales'].sum().reset_index(name='Count').sort_values(by='Month', ascending=True)\n",
        "fig = px.histogram(sales_per_Month, x='Store',y='Count', color='Month', nbins=20,\n",
        "                         title='Sales per Store per Month', height=300,\n",
        "                         color_discrete_sequence=['#DB6574', '#03DAC5','#8B0A50','#008B8B','#FFD700','#483D8B'],\n",
        "                         )\n",
        "\n",
        "fig.update_yaxes(showgrid=True, gridcolor=\"#008B8B\")\n",
        "fig.update_layout(margin=dict(t=100, b=0, l=70, r=40),\n",
        "                        xaxis_title='Store', yaxis_title=\"Count of Sales \",title_x=0.5,\n",
        "                        height = 500, width = 1200,\n",
        "                        plot_bgcolor='#2d3035', paper_bgcolor='#2d3035',\n",
        "                        title_font=dict(size=25, color='#a5a7ab', family=\"Muli, sans-serif\"),\n",
        "                        font=dict(color='#8a8d93'),\n",
        "                        legend=dict(orientation=\"h\", yanchor=\"bottom\", y=1.02, xanchor=\"right\", x=1),\n",
        "                        xaxis = dict(\n",
        "                        tick0 = 0,\n",
        "                        dtick = 1\n",
        "   ))\n",
        "\n",
        "fig.show()"
      ]
    },
    {
      "cell_type": "code",
      "execution_count": 23,
      "metadata": {
        "id": "j-IfI61r58S1"
      },
      "outputs": [],
      "source": [
        "sales_temp=df.groupby(['Temperature'])['Weekly_Sales'].sum().reset_index(name='Count').sort_values(by='Temperature', ascending=True)"
      ]
    },
    {
      "cell_type": "code",
      "execution_count": 24,
      "metadata": {
        "colab": {
          "base_uri": "https://localhost:8080/",
          "height": 417
        },
        "id": "trrrpHpm58S1",
        "outputId": "0f4f041c-1839-4bef-9132-d0d9ab3e3034"
      },
      "outputs": [
        {
          "output_type": "display_data",
          "data": {
            "text/html": [
              "<html>\n",
              "<head><meta charset=\"utf-8\" /></head>\n",
              "<body>\n",
              "    <div>            <script src=\"https://cdnjs.cloudflare.com/ajax/libs/mathjax/2.7.5/MathJax.js?config=TeX-AMS-MML_SVG\"></script><script type=\"text/javascript\">if (window.MathJax && window.MathJax.Hub && window.MathJax.Hub.Config) {window.MathJax.Hub.Config({SVG: {font: \"STIX-Web\"}});}</script>                <script type=\"text/javascript\">window.PlotlyConfig = {MathJaxConfig: 'local'};</script>\n",
              "        <script src=\"https://cdn.plot.ly/plotly-2.18.2.min.js\"></script>                <div id=\"bf69a087-33ae-4ff8-9680-82f12ed531a6\" class=\"plotly-graph-div\" style=\"height:400px; width:800px;\"></div>            <script type=\"text/javascript\">                                    window.PLOTLYENV=window.PLOTLYENV || {};                                    if (document.getElementById(\"bf69a087-33ae-4ff8-9680-82f12ed531a6\")) {                    Plotly.newPlot(                        \"bf69a087-33ae-4ff8-9680-82f12ed531a6\",                        [{\"alignmentgroup\":\"True\",\"bingroup\":\"x\",\"histfunc\":\"sum\",\"hovertemplate\":\"Temperature=%{x}<br>sum of Count=%{y}<extra></extra>\",\"legendgroup\":\"\",\"marker\":{\"color\":\"#800000\",\"pattern\":{\"shape\":\"\"}},\"name\":\"\",\"nbinsx\":40,\"offsetgroup\":\"\",\"orientation\":\"v\",\"showlegend\":false,\"texttemplate\":\"%{value}\",\"x\":[-7.33888888888889,-6.255555555555556,-5.927777777777779,-2.5555555555555562,-1.7499999999999991,-0.8111111111111116,0.39444444444444493,0.6999999999999988,0.7444444444444464,1.288888888888889,1.6055555555555558,2.4666666666666655,2.561111111111111,2.6555555555555563,2.694444444444445,2.7777777777777777,3.4777777777777765,3.6166666666666654,3.927777777777778,4.055555555555554,4.272222222222221,4.3277777777777775,4.405555555555555,5.422222222222221,5.766666666666668,5.777777777777777,6.35,6.63888888888889,7.049999999999999,7.122222222222222,7.344444444444444,7.616666666666668,8.194444444444445,8.566666666666668,9.049999999999999,9.866666666666665,9.97777777777778,10.072222222222223,10.238888888888889,10.333333333333334,10.42222222222222,10.538888888888888,11.033333333333333,11.122222222222225,11.38888888888889,11.538888888888891,12.572222222222223,12.888888888888891,13.966666666666667,14.222222222222221,14.233333333333333,14.355555555555558,15.33888888888889,15.383333333333333,15.594444444444443,15.622222222222222,15.950000000000001,16.172222222222224,16.549999999999997,16.805555555555557,16.87222222222222,17.555555555555557,17.727777777777774,18.188888888888886,19.02777777777778,19.73888888888889,19.983333333333334,20.144444444444446,20.505555555555553,20.622222222222224,20.650000000000002,20.761111111111113,20.97222222222222,21.0,21.055555555555557,22.56666666666667,22.68333333333333,22.916666666666668,23.022222222222222,23.150000000000002,23.466666666666665,23.766666666666666,23.84444444444445,23.983333333333334,23.994444444444444,24.066666666666663,24.188888888888894,24.416666666666668,24.633333333333336,24.67777777777778,25.21111111111111,25.816666666666666,25.83888888888889,25.85,26.011111111111106,26.049999999999997,26.65,26.772222222222222,27.694444444444443,28.033333333333328,28.166666666666668,28.244444444444447,28.28888888888889,28.327777777777776,28.62222222222222,29.205555555555552,29.216666666666672,29.455555555555552,29.56666666666667,30.02777777777778,30.483333333333334,30.944444444444443,31.355555555555554,31.900000000000002,32.4,33.138888888888886],\"xaxis\":\"x\",\"y\":[563460.77,716388.81,1205307.5,1588430.71,1799737.79,2600519.26,1811606.21,1266564.94,994801.4,1864746.1,2095591.63,2771397.17,414094.05,2461468.35,2020550.99,2077256.24,561145.14,1641957.44,1427023.45,457340.06,2124451.54,2045837.55,2203523.2,1879451.23,1807545.43,2302504.86,1714309.9,435397.19,1758050.79,919878.34,757738.76,461622.22,1799520.14,570611.23,485095.41,860336.16,519823.3,2432736.52,961186.23,532739.77,1405007.44,1074079.0,367438.62,1029618.1,2025582.62,1569607.94,1861802.7,1255087.26,845252.21,629994.47,1990371.02,597876.55,1572117.54,1916812.74,829207.27,418925.47,311906.7,2035431.39,614253.33,1539483.7,301827.36,1847430.96,398838.97,1677472.78,1549018.68,298697.84,1508068.77,1467473.63,2544862.6799999997,1256282.79,313358.15,1789687.65,1087051.26,695396.19,1757242.51,2248645.59,1366395.96,1048134.24,424513.08,1166117.85,1639358.93,1494251.5,888816.78,1973135.87,431985.36,836707.85,403342.4,1970341.38,1997397.63,1797732.56,290930.01,1953544.76,485389.15,396968.8,2018314.71,1644470.66,607475.44,365248.94,2008344.92,268929.03,419497.95,2036231.39,895066.5,513073.87,364076.85,1244390.03,2066541.86,509263.28,1449142.92,856796.1,1805999.79,1853161.99,1831676.03,275142.17,1768172.31,1624383.75],\"yaxis\":\"y\",\"type\":\"histogram\",\"textfont\":{\"color\":\"#fff\"},\"textposition\":\"auto\"}],                        {\"template\":{\"data\":{\"histogram2dcontour\":[{\"type\":\"histogram2dcontour\",\"colorbar\":{\"outlinewidth\":0,\"ticks\":\"\"},\"colorscale\":[[0.0,\"#0d0887\"],[0.1111111111111111,\"#46039f\"],[0.2222222222222222,\"#7201a8\"],[0.3333333333333333,\"#9c179e\"],[0.4444444444444444,\"#bd3786\"],[0.5555555555555556,\"#d8576b\"],[0.6666666666666666,\"#ed7953\"],[0.7777777777777778,\"#fb9f3a\"],[0.8888888888888888,\"#fdca26\"],[1.0,\"#f0f921\"]]}],\"choropleth\":[{\"type\":\"choropleth\",\"colorbar\":{\"outlinewidth\":0,\"ticks\":\"\"}}],\"histogram2d\":[{\"type\":\"histogram2d\",\"colorbar\":{\"outlinewidth\":0,\"ticks\":\"\"},\"colorscale\":[[0.0,\"#0d0887\"],[0.1111111111111111,\"#46039f\"],[0.2222222222222222,\"#7201a8\"],[0.3333333333333333,\"#9c179e\"],[0.4444444444444444,\"#bd3786\"],[0.5555555555555556,\"#d8576b\"],[0.6666666666666666,\"#ed7953\"],[0.7777777777777778,\"#fb9f3a\"],[0.8888888888888888,\"#fdca26\"],[1.0,\"#f0f921\"]]}],\"heatmap\":[{\"type\":\"heatmap\",\"colorbar\":{\"outlinewidth\":0,\"ticks\":\"\"},\"colorscale\":[[0.0,\"#0d0887\"],[0.1111111111111111,\"#46039f\"],[0.2222222222222222,\"#7201a8\"],[0.3333333333333333,\"#9c179e\"],[0.4444444444444444,\"#bd3786\"],[0.5555555555555556,\"#d8576b\"],[0.6666666666666666,\"#ed7953\"],[0.7777777777777778,\"#fb9f3a\"],[0.8888888888888888,\"#fdca26\"],[1.0,\"#f0f921\"]]}],\"heatmapgl\":[{\"type\":\"heatmapgl\",\"colorbar\":{\"outlinewidth\":0,\"ticks\":\"\"},\"colorscale\":[[0.0,\"#0d0887\"],[0.1111111111111111,\"#46039f\"],[0.2222222222222222,\"#7201a8\"],[0.3333333333333333,\"#9c179e\"],[0.4444444444444444,\"#bd3786\"],[0.5555555555555556,\"#d8576b\"],[0.6666666666666666,\"#ed7953\"],[0.7777777777777778,\"#fb9f3a\"],[0.8888888888888888,\"#fdca26\"],[1.0,\"#f0f921\"]]}],\"contourcarpet\":[{\"type\":\"contourcarpet\",\"colorbar\":{\"outlinewidth\":0,\"ticks\":\"\"}}],\"contour\":[{\"type\":\"contour\",\"colorbar\":{\"outlinewidth\":0,\"ticks\":\"\"},\"colorscale\":[[0.0,\"#0d0887\"],[0.1111111111111111,\"#46039f\"],[0.2222222222222222,\"#7201a8\"],[0.3333333333333333,\"#9c179e\"],[0.4444444444444444,\"#bd3786\"],[0.5555555555555556,\"#d8576b\"],[0.6666666666666666,\"#ed7953\"],[0.7777777777777778,\"#fb9f3a\"],[0.8888888888888888,\"#fdca26\"],[1.0,\"#f0f921\"]]}],\"surface\":[{\"type\":\"surface\",\"colorbar\":{\"outlinewidth\":0,\"ticks\":\"\"},\"colorscale\":[[0.0,\"#0d0887\"],[0.1111111111111111,\"#46039f\"],[0.2222222222222222,\"#7201a8\"],[0.3333333333333333,\"#9c179e\"],[0.4444444444444444,\"#bd3786\"],[0.5555555555555556,\"#d8576b\"],[0.6666666666666666,\"#ed7953\"],[0.7777777777777778,\"#fb9f3a\"],[0.8888888888888888,\"#fdca26\"],[1.0,\"#f0f921\"]]}],\"mesh3d\":[{\"type\":\"mesh3d\",\"colorbar\":{\"outlinewidth\":0,\"ticks\":\"\"}}],\"scatter\":[{\"fillpattern\":{\"fillmode\":\"overlay\",\"size\":10,\"solidity\":0.2},\"type\":\"scatter\"}],\"parcoords\":[{\"type\":\"parcoords\",\"line\":{\"colorbar\":{\"outlinewidth\":0,\"ticks\":\"\"}}}],\"scatterpolargl\":[{\"type\":\"scatterpolargl\",\"marker\":{\"colorbar\":{\"outlinewidth\":0,\"ticks\":\"\"}}}],\"bar\":[{\"error_x\":{\"color\":\"#2a3f5f\"},\"error_y\":{\"color\":\"#2a3f5f\"},\"marker\":{\"line\":{\"color\":\"#E5ECF6\",\"width\":0.5},\"pattern\":{\"fillmode\":\"overlay\",\"size\":10,\"solidity\":0.2}},\"type\":\"bar\"}],\"scattergeo\":[{\"type\":\"scattergeo\",\"marker\":{\"colorbar\":{\"outlinewidth\":0,\"ticks\":\"\"}}}],\"scatterpolar\":[{\"type\":\"scatterpolar\",\"marker\":{\"colorbar\":{\"outlinewidth\":0,\"ticks\":\"\"}}}],\"histogram\":[{\"marker\":{\"pattern\":{\"fillmode\":\"overlay\",\"size\":10,\"solidity\":0.2}},\"type\":\"histogram\"}],\"scattergl\":[{\"type\":\"scattergl\",\"marker\":{\"colorbar\":{\"outlinewidth\":0,\"ticks\":\"\"}}}],\"scatter3d\":[{\"type\":\"scatter3d\",\"line\":{\"colorbar\":{\"outlinewidth\":0,\"ticks\":\"\"}},\"marker\":{\"colorbar\":{\"outlinewidth\":0,\"ticks\":\"\"}}}],\"scattermapbox\":[{\"type\":\"scattermapbox\",\"marker\":{\"colorbar\":{\"outlinewidth\":0,\"ticks\":\"\"}}}],\"scatterternary\":[{\"type\":\"scatterternary\",\"marker\":{\"colorbar\":{\"outlinewidth\":0,\"ticks\":\"\"}}}],\"scattercarpet\":[{\"type\":\"scattercarpet\",\"marker\":{\"colorbar\":{\"outlinewidth\":0,\"ticks\":\"\"}}}],\"carpet\":[{\"aaxis\":{\"endlinecolor\":\"#2a3f5f\",\"gridcolor\":\"white\",\"linecolor\":\"white\",\"minorgridcolor\":\"white\",\"startlinecolor\":\"#2a3f5f\"},\"baxis\":{\"endlinecolor\":\"#2a3f5f\",\"gridcolor\":\"white\",\"linecolor\":\"white\",\"minorgridcolor\":\"white\",\"startlinecolor\":\"#2a3f5f\"},\"type\":\"carpet\"}],\"table\":[{\"cells\":{\"fill\":{\"color\":\"#EBF0F8\"},\"line\":{\"color\":\"white\"}},\"header\":{\"fill\":{\"color\":\"#C8D4E3\"},\"line\":{\"color\":\"white\"}},\"type\":\"table\"}],\"barpolar\":[{\"marker\":{\"line\":{\"color\":\"#E5ECF6\",\"width\":0.5},\"pattern\":{\"fillmode\":\"overlay\",\"size\":10,\"solidity\":0.2}},\"type\":\"barpolar\"}],\"pie\":[{\"automargin\":true,\"type\":\"pie\"}]},\"layout\":{\"autotypenumbers\":\"strict\",\"colorway\":[\"#636efa\",\"#EF553B\",\"#00cc96\",\"#ab63fa\",\"#FFA15A\",\"#19d3f3\",\"#FF6692\",\"#B6E880\",\"#FF97FF\",\"#FECB52\"],\"font\":{\"color\":\"#2a3f5f\"},\"hovermode\":\"closest\",\"hoverlabel\":{\"align\":\"left\"},\"paper_bgcolor\":\"white\",\"plot_bgcolor\":\"#E5ECF6\",\"polar\":{\"bgcolor\":\"#E5ECF6\",\"angularaxis\":{\"gridcolor\":\"white\",\"linecolor\":\"white\",\"ticks\":\"\"},\"radialaxis\":{\"gridcolor\":\"white\",\"linecolor\":\"white\",\"ticks\":\"\"}},\"ternary\":{\"bgcolor\":\"#E5ECF6\",\"aaxis\":{\"gridcolor\":\"white\",\"linecolor\":\"white\",\"ticks\":\"\"},\"baxis\":{\"gridcolor\":\"white\",\"linecolor\":\"white\",\"ticks\":\"\"},\"caxis\":{\"gridcolor\":\"white\",\"linecolor\":\"white\",\"ticks\":\"\"}},\"coloraxis\":{\"colorbar\":{\"outlinewidth\":0,\"ticks\":\"\"}},\"colorscale\":{\"sequential\":[[0.0,\"#0d0887\"],[0.1111111111111111,\"#46039f\"],[0.2222222222222222,\"#7201a8\"],[0.3333333333333333,\"#9c179e\"],[0.4444444444444444,\"#bd3786\"],[0.5555555555555556,\"#d8576b\"],[0.6666666666666666,\"#ed7953\"],[0.7777777777777778,\"#fb9f3a\"],[0.8888888888888888,\"#fdca26\"],[1.0,\"#f0f921\"]],\"sequentialminus\":[[0.0,\"#0d0887\"],[0.1111111111111111,\"#46039f\"],[0.2222222222222222,\"#7201a8\"],[0.3333333333333333,\"#9c179e\"],[0.4444444444444444,\"#bd3786\"],[0.5555555555555556,\"#d8576b\"],[0.6666666666666666,\"#ed7953\"],[0.7777777777777778,\"#fb9f3a\"],[0.8888888888888888,\"#fdca26\"],[1.0,\"#f0f921\"]],\"diverging\":[[0,\"#8e0152\"],[0.1,\"#c51b7d\"],[0.2,\"#de77ae\"],[0.3,\"#f1b6da\"],[0.4,\"#fde0ef\"],[0.5,\"#f7f7f7\"],[0.6,\"#e6f5d0\"],[0.7,\"#b8e186\"],[0.8,\"#7fbc41\"],[0.9,\"#4d9221\"],[1,\"#276419\"]]},\"xaxis\":{\"gridcolor\":\"white\",\"linecolor\":\"white\",\"ticks\":\"\",\"title\":{\"standoff\":15},\"zerolinecolor\":\"white\",\"automargin\":true,\"zerolinewidth\":2},\"yaxis\":{\"gridcolor\":\"white\",\"linecolor\":\"white\",\"ticks\":\"\",\"title\":{\"standoff\":15},\"zerolinecolor\":\"white\",\"automargin\":true,\"zerolinewidth\":2},\"scene\":{\"xaxis\":{\"backgroundcolor\":\"#E5ECF6\",\"gridcolor\":\"white\",\"linecolor\":\"white\",\"showbackground\":true,\"ticks\":\"\",\"zerolinecolor\":\"white\",\"gridwidth\":2},\"yaxis\":{\"backgroundcolor\":\"#E5ECF6\",\"gridcolor\":\"white\",\"linecolor\":\"white\",\"showbackground\":true,\"ticks\":\"\",\"zerolinecolor\":\"white\",\"gridwidth\":2},\"zaxis\":{\"backgroundcolor\":\"#E5ECF6\",\"gridcolor\":\"white\",\"linecolor\":\"white\",\"showbackground\":true,\"ticks\":\"\",\"zerolinecolor\":\"white\",\"gridwidth\":2}},\"shapedefaults\":{\"line\":{\"color\":\"#2a3f5f\"}},\"annotationdefaults\":{\"arrowcolor\":\"#2a3f5f\",\"arrowhead\":0,\"arrowwidth\":1},\"geo\":{\"bgcolor\":\"white\",\"landcolor\":\"#E5ECF6\",\"subunitcolor\":\"white\",\"showland\":true,\"showlakes\":true,\"lakecolor\":\"white\"},\"title\":{\"x\":0.05},\"mapbox\":{\"style\":\"light\"}}},\"xaxis\":{\"anchor\":\"y\",\"domain\":[0.0,1.0],\"title\":{\"text\":\" \"},\"tick0\":0,\"dtick\":5},\"yaxis\":{\"anchor\":\"x\",\"domain\":[0.0,1.0],\"title\":{\"text\":\" \"}},\"legend\":{\"tracegroupgap\":0,\"orientation\":\"h\",\"yanchor\":\"bottom\",\"y\":1.02,\"xanchor\":\"right\",\"x\":1},\"title\":{\"text\":\"Sales vs Temperature\",\"font\":{\"size\":25,\"color\":\"#a5a7ab\",\"family\":\"Muli, sans-serif\"},\"x\":0.5},\"barmode\":\"relative\",\"height\":400,\"width\":800,\"margin\":{\"t\":110,\"b\":50,\"l\":70,\"r\":40},\"font\":{\"color\":\"#8a8d93\"},\"autosize\":true,\"plot_bgcolor\":\"#2d3035\",\"paper_bgcolor\":\"#2d3035\"},                        {\"responsive\": true}                    ).then(function(){\n",
              "                            \n",
              "var gd = document.getElementById('bf69a087-33ae-4ff8-9680-82f12ed531a6');\n",
              "var x = new MutationObserver(function (mutations, observer) {{\n",
              "        var display = window.getComputedStyle(gd).display;\n",
              "        if (!display || display === 'none') {{\n",
              "            console.log([gd, 'removed!']);\n",
              "            Plotly.purge(gd);\n",
              "            observer.disconnect();\n",
              "        }}\n",
              "}});\n",
              "\n",
              "// Listen for the removal of the full notebook cells\n",
              "var notebookContainer = gd.closest('#notebook-container');\n",
              "if (notebookContainer) {{\n",
              "    x.observe(notebookContainer, {childList: true});\n",
              "}}\n",
              "\n",
              "// Listen for the clearing of the current output cell\n",
              "var outputEl = gd.closest('.output');\n",
              "if (outputEl) {{\n",
              "    x.observe(outputEl, {childList: true});\n",
              "}}\n",
              "\n",
              "                        })                };                            </script>        </div>\n",
              "</body>\n",
              "</html>"
            ]
          },
          "metadata": {}
        }
      ],
      "source": [
        "#Let's visualize is sales are impacted by temperature\n",
        "fig = px.histogram(sales_temp, x='Temperature',y='Count',nbins=40,text_auto=True,\n",
        "                         title='Sales vs Temperature', height=400, width=800,color_discrete_sequence=['#800000']\n",
        "                       )\n",
        "fig.update_traces(textposition='auto', textfont=dict(color='#fff'))\n",
        "fig.update_layout(autosize=True,\n",
        "                         margin=dict(t=110, b=50, l=70, r=40),\n",
        "                         title_x=0.5,\n",
        "                         xaxis_title=' ', yaxis_title=\" \",\n",
        "                         plot_bgcolor='#2d3035', paper_bgcolor='#2d3035',\n",
        "                         title_font=dict(size=25, color='#a5a7ab', family=\"Muli, sans-serif\"),\n",
        "                         font=dict(color='#8a8d93'),\n",
        "                         legend=dict(orientation=\"h\", yanchor=\"bottom\", y=1.02, xanchor=\"right\", x=1),xaxis = dict(\n",
        "                        tick0 = 0,\n",
        "                        dtick = 5\n",
        "                        ))\n",
        "fig.show()"
      ]
    },
    {
      "cell_type": "code",
      "execution_count": 25,
      "metadata": {
        "colab": {
          "base_uri": "https://localhost:8080/",
          "height": 1000
        },
        "id": "0J9X3Pnu58S1",
        "outputId": "2de55f9c-d732-4317-f39c-ca926214eda4"
      },
      "outputs": [
        {
          "output_type": "display_data",
          "data": {
            "text/html": [
              "<html>\n",
              "<head><meta charset=\"utf-8\" /></head>\n",
              "<body>\n",
              "    <div>            <script src=\"https://cdnjs.cloudflare.com/ajax/libs/mathjax/2.7.5/MathJax.js?config=TeX-AMS-MML_SVG\"></script><script type=\"text/javascript\">if (window.MathJax && window.MathJax.Hub && window.MathJax.Hub.Config) {window.MathJax.Hub.Config({SVG: {font: \"STIX-Web\"}});}</script>                <script type=\"text/javascript\">window.PlotlyConfig = {MathJaxConfig: 'local'};</script>\n",
              "        <script src=\"https://cdn.plot.ly/plotly-2.18.2.min.js\"></script>                <div id=\"4907fd65-51d9-4098-9df5-309d74171acb\" class=\"plotly-graph-div\" style=\"height:1200px; width:1200px;\"></div>            <script type=\"text/javascript\">                                    window.PLOTLYENV=window.PLOTLYENV || {};                                    if (document.getElementById(\"4907fd65-51d9-4098-9df5-309d74171acb\")) {                    Plotly.newPlot(                        \"4907fd65-51d9-4098-9df5-309d74171acb\",                        [{\"dimensions\":[{\"axis\":{\"matches\":true},\"label\":\"Store\",\"values\":[6.0,13.0,11.0,6.0,4.0,15.0,20.0,14.0,3.0,8.0,18.0,7.0,1.0,17.0,6.0,13.0,18.0,2.0,7.0,5.0,18.0,19.0,19.0,17.0,3.0,16.0,17.0,6.0,7.0,14.0,2.0,19.0,3.0,18.0,4.0,5.0,18.0,16.0,1.0,7.0,1.0,2.0,5.0,19.0,1.0,16.0,13.0,2.0,9.0,14.0,10.0,13.0,8.0,6.0,14.0,14.0,10.0,5.0,4.0,10.0,18.0,3.0,18.0,13.0,1.0,1.0,20.0,15.0,1.0,20.0,9.0,5.0,11.0,15.0,2.0,17.0,3.0,20.0,2.0,9.0,17.0,3.0,14.0,1.0,8.0,5.0,10.0,13.0,3.0,2.0,18.0,4.0,3.0,19.0,14.0,8.0,18.0,20.0,19.0,2.0,13.0,11.0,15.0,7.0,9.0,14.0,8.0,5.0,7.0,1.0,19.0,3.0,16.0,13.0,18.0,13.0,17.0,4.0,4.0,10.0,6.0,7.0,5.0,3.0,3.0,3.0,14.0,7.0,17.0,8.0,19.0]},{\"axis\":{\"matches\":true},\"label\":\"Weekly_Sales\",\"values\":[1572117.54,1807545.43,1244390.03,1644470.66,1857533.7,695396.19,2203523.2,2600519.26,418925.47,895066.5,1029618.1,414094.05,1677472.78,829207.27,1498080.16,1997397.63,1205307.5,2432736.52,561145.14,290930.01,1074079.0,1427023.45,1405007.44,919878.34,367438.62,435397.19,757738.76,1420405.41,563460.77,2077256.24,1853161.99,1266564.94,365248.94,988157.72,2008344.92,311906.7,961186.23,526525.16,1661767.33,629994.47,1641957.44,1861802.7,268929.03,1549018.68,1624383.75,485095.41,2035431.39,1916812.74,509263.28,1879451.23,1805999.79,1847430.96,888816.78,1532308.78,2020550.99,2095599.93,1990371.02,313358.15,2771397.17,1714309.9,1166117.85,461622.22,1588430.71,2461468.35,1449142.92,1508068.77,1973135.87,570611.23,1539483.7,1789687.65,519823.3,359206.21,1569607.94,607475.44,1758050.79,986922.62,431985.36,2045837.55,1797732.56,485389.15,1046782.52,384200.69,1953544.76,1494251.5,860336.16,298697.84,1768172.31,2018314.71,364076.85,1799520.14,1087051.26,2302504.86,419497.95,1366395.96,2095591.63,994801.4,1256282.79,1799737.79,1468350.36,2124451.54,1811606.21,1757242.51,660838.75,457340.06,513073.87,1864746.1,836707.85,275142.17,597876.55,1466046.67,1467473.63,398838.97,614253.33,1970341.38,1048134.24,2025582.62,855459.96,2036231.39,2066541.86,1831676.03,1639358.93,532739.77,301827.36,403342.4,396968.8,424513.08,2248645.59,716388.81,845252.21,856796.1,1255087.26]},{\"axis\":{\"matches\":true},\"label\":\"Holiday_Flag\",\"values\":[null,0.0,0.0,0.0,0.0,0.0,0.0,0.0,0.0,0.0,0.0,0.0,0.0,0.0,null,0.0,0.0,0.0,0.0,0.0,0.0,0.0,0.0,0.0,0.0,0.0,0.0,0.0,1.0,1.0,0.0,0.0,0.0,0.0,0.0,0.0,0.0,0.0,1.0,null,1.0,0.0,0.0,0.0,null,0.0,0.0,0.0,0.0,null,0.0,0.0,0.0,0.0,0.0,0.0,0.0,0.0,0.0,null,0.0,0.0,0.0,0.0,null,0.0,0.0,0.0,0.0,0.0,0.0,0.0,0.0,0.0,0.0,0.0,0.0,0.0,0.0,null,0.0,0.0,0.0,0.0,0.0,0.0,0.0,0.0,0.0,0.0,0.0,0.0,0.0,0.0,0.0,1.0,0.0,1.0,0.0,0.0,0.0,1.0,0.0,0.0,null,0.0,0.0,0.0,1.0,0.0,0.0,0.0,0.0,0.0,0.0,0.0,0.0,0.0,null,0.0,0.0,0.0,0.0,0.0,0.0,0.0,0.0,null,0.0,0.0,0.0]},{\"axis\":{\"matches\":true},\"label\":\"Temperature\",\"values\":[15.33888888888889,5.766666666666668,29.205555555555552,26.049999999999997,null,21.0,4.405555555555555,-0.8111111111111116,15.622222222222222,28.28888888888889,11.122222222222225,2.561111111111111,18.188888888888886,15.594444444444443,20.505555555555553,24.633333333333336,-5.927777777777779,10.072222222222223,3.4777777777777765,25.21111111111111,10.538888888888888,3.927777777777778,10.42222222222222,7.122222222222222,11.033333333333333,6.63888888888889,7.344444444444444,null,-7.33888888888889,2.7777777777777777,30.944444444444443,0.6999999999999988,26.772222222222222,null,27.694444444444443,15.950000000000001,10.238888888888889,null,null,14.222222222222221,3.6166666666666654,12.572222222222223,28.033333333333328,19.02777777777778,33.138888888888886,9.049999999999999,16.172222222222224,15.383333333333333,29.455555555555552,5.422222222222221,30.483333333333334,17.555555555555557,23.84444444444445,null,2.694444444444445,null,14.233333333333333,20.650000000000002,2.4666666666666655,6.35,23.150000000000002,7.616666666666668,-2.5555555555555562,2.6555555555555563,29.56666666666667,19.983333333333334,23.983333333333334,8.566666666666668,16.805555555555557,20.761111111111113,9.97777777777778,null,11.538888888888891,26.65,7.049999999999999,null,23.994444444444444,4.3277777777777775,24.67777777777778,25.83888888888889,20.505555555555553,null,25.816666666666666,23.766666666666666,9.866666666666665,19.73888888888889,32.4,26.011111111111106,28.62222222222222,8.194444444444445,20.97222222222222,5.777777777777777,28.166666666666668,22.68333333333333,1.6055555555555558,0.7444444444444464,20.622222222222224,-1.7499999999999991,null,4.272222222222221,0.39444444444444493,21.055555555555557,null,4.055555555555554,28.327777777777776,1.288888888888889,24.066666666666663,31.900000000000002,14.355555555555558,null,20.144444444444446,17.727777777777774,16.549999999999997,24.416666666666668,22.916666666666668,11.38888888888889,null,28.244444444444447,29.216666666666672,31.355555555555554,23.466666666666665,10.333333333333334,16.87222222222222,24.188888888888894,25.85,23.022222222222222,22.56666666666667,-6.255555555555556,13.966666666666667,30.02777777777778,12.888888888888891]},{\"axis\":{\"matches\":true},\"label\":\"Fuel_Price\",\"values\":[3.045,3.435,null,2.759,2.756,4.069,3.617,3.109,3.555,3.554,2.878,3.767,3.734,2.853,2.78,2.85,2.7880000000000003,null,2.725,3.899,4.029,2.963,4.124,3.797,3.261,3.828,2.915,3.523,3.103,null,3.48,3.789,3.467,3.823,3.57,3.297,4.023,3.659,3.73,3.485,2.548,3.555,2.64,2.958,3.684,3.75,3.788,2.728,2.653,3.625,3.666,3.648,2.619,2.64,3.695,4.046,3.882,3.594,3.149,3.287,2.792,2.572,3.139,2.817,2.619,3.594,2.8080000000000003,4.021,3.3080000000000003,null,2.7710000000000004,3.63,3.51,3.972,2.9760000000000004,3.793,3.688,3.739,3.786,2.642,3.63,2.667,3.76,2.854,null,null,null,2.814,2.637,null,3.815,2.86,3.346,2.932,null,2.548,2.906,3.179,3.722,2.514,null,2.735,2.909,3.936,2.637,3.193,2.582,3.682,3.596,3.786,null,3.3080000000000003,2.7110000000000003,3.606,3.84,3.529,2.8310000000000004,3.627,3.469,3.112,3.807,3.804,null,3.285,2.705,3.594,2.78,2.778,2.841,3.638,4.17]},{\"axis\":{\"matches\":true},\"label\":\"CPI\",\"values\":[214.7775231,128.6160645,214.55649680000005,212.412888,126.1602258,134.85516130000002,213.0236225,null,224.1320199,219.07019680000005,132.7633548,192.826069,221.2118132,126.2346,211.8942725,null,131.52790320000005,null,189.7048215,216.5343611,138.9117,131.863129,138.0332,131.1083333,null,192.831317,126.5621,217.2706543,196.9195056,null,214.9296249,133.9587419,219.7414914,134.2784667,129.0663,218.5699621,137.9781333,198.1267184,222.4390153,194.3796374,211.24216980000003,220.275944,211.9270006,132.5218667,215.544618,197.4133259,130.95922579999998,211.6608975,214.8965756,184.9943679,130.7196333,129.5183333,214.9362793,212.8944846,189.8424834,185.9374378,130.6457931,224.0192873,129.8980645,127.1917742,132.6141935,214.4248812,null,126.7934,211.5673056,223.4257233,204.5675459,137.5843871,218.2205088,null,215.43728540000004,221.4342146,223.9170153,135.8738387,211.0648881,131.03754840000002,225.2351496,213.4725116,215.1544822,214.6564301,null,214.7027646,186.1399808,210.3374261,214.7492449,210.939388,126.1266,126.1392,214.7858259,219.355063,135.4468,126.7934,225.3068615,132.5983871,null,214.62141890000004,132.2939355,204.6432267,138.1629,210.9451605,130.27922579999998,215.0614025,131.637,197.7227385,215.0166484,182.5983058,214.8785562,216.0464364,198.0950484,215.5037878,134.94254840000002,221.6432852,189.5231276,129.2015806,138.1857097,130.82619350000002,126.5461613,129.1507742,129.1125,126.1283548,217.0146941,197.5886046,212.5604113,null,214.4958382,226.9688442,182.4424199,null,126.1119032,219.0075249,137.9230667]},{\"axis\":{\"matches\":true},\"label\":\"Unemployment\",\"values\":[6.858,7.47,7.346,7.0920000000000005,7.896,7.657999999999999,6.961,null,6.832999999999998,6.425,9.331,8.595,7.348,6.885,7.0920000000000005,7.951,9.202,7.441,8.963,6.489,8.243,8.35,8.15,5.527,6.832999999999998,6.339,6.635,6.925,8.256,8.424,null,7.771,7.567,8.975,5.9460000000000015,6.3,8.304,6.061,6.908,8.622,8.106,7.057,6.496,8.099,7.9620000000000015,6.162000000000001,5.965,8.163,null,8.549,7.17,6.877000000000002,6.315,6.973,8.424,8.521,7.545,5.4220000000000015,5.143,8.744,9.342,7.3679999999999986,9.331,7.795,7.787000000000001,null,7.856,7.943,7.866,7.527,6.56,5.943,6.832999999999998,7.806,8.027999999999999,6.235,6.664,6.961,7.931,6.442,5.936,null,8.625,7.808,6.299,null,9.524,7.951,7.343,7.057,8.89,7.127000000000002,6.664,8.099,8.992,6.299,null,7.484,8.15,null,6.104,7.564,null,8.09,6.384,null,6.315,6.529,7.872000000000001,7.682,7.657999999999999,7.197,6.867999999999999,6.877000000000002,8.535,6.104,null,5.644,5.644,9.199,6.855,8.09,6.768,7.197,7.343,6.034,8.899,null,null,null,8.15]},{\"axis\":{\"matches\":true},\"label\":\"Year\",\"values\":[2011.0,2011.0,null,2010.0,2010.0,2011.0,2012.0,2010.0,null,2011.0,2010.0,2011.0,2012.0,2010.0,2010.0,2010.0,null,2011.0,2010.0,2011.0,2012.0,2010.0,2012.0,2012.0,2012.0,2011.0,2010.0,2011.0,2012.0,2012.0,null,2011.0,2011.0,2011.0,2011.0,2011.0,2012.0,2012.0,null,2011.0,2010.0,2012.0,2010.0,2010.0,2011.0,2012.0,2012.0,2010.0,2010.0,2011.0,2012.0,2011.0,2010.0,2010.0,2012.0,2011.0,2012.0,2012.0,2011.0,null,2010.0,2010.0,2010.0,2010.0,2010.0,2012.0,2010.0,2012.0,2011.0,2010.0,2010.0,null,null,null,2011.0,null,2012.0,null,null,2010.0,null,null,2011.0,2010.0,2010.0,2010.0,2010.0,2010.0,2010.0,2012.0,null,2010.0,2012.0,2010.0,2010.0,2010.0,2010.0,2010.0,2012.0,2010.0,2012.0,2010.0,2010.0,2012.0,2010.0,2011.0,2010.0,2011.0,2012.0,2011.0,2011.0,2011.0,2010.0,2011.0,null,2012.0,2010.0,2011.0,2011.0,null,2011.0,2012.0,2010.0,2011.0,2010.0,2012.0,2010.0,null,2010.0,2011.0,2012.0]},{\"axis\":{\"matches\":true},\"label\":\"Month\",\"values\":[2.0,3.0,null,5.0,5.0,3.0,3.0,10.0,null,8.0,10.0,5.0,3.0,1.0,4.0,8.0,null,12.0,2.0,5.0,12.0,3.0,4.0,12.0,1.0,5.0,4.0,8.0,10.0,10.0,null,3.0,9.0,4.0,6.0,11.0,4.0,9.0,null,8.0,12.0,2.0,7.0,2.0,5.0,3.0,1.0,12.0,6.0,3.0,6.0,9.0,8.0,7.0,2.0,6.0,2.0,10.0,12.0,null,6.0,5.0,12.0,10.0,8.0,10.0,6.0,3.0,11.0,9.0,11.0,null,null,null,7.0,null,11.0,null,null,9.0,null,null,7.0,5.0,12.0,4.0,6.0,2.0,6.0,6.0,null,10.0,6.0,7.0,2.0,12.0,5.0,12.0,6.0,2.0,1.0,11.0,2.0,4.0,6.0,7.0,9.0,7.0,7.0,5.0,10.0,11.0,9.0,12.0,null,3.0,12.0,7.0,8.0,null,4.0,5.0,12.0,7.0,4.0,10.0,6.0,null,11.0,12.0,4.0]},{\"axis\":{\"matches\":true},\"label\":\"Day\",\"values\":[18.0,25.0,null,28.0,28.0,6.0,2.0,12.0,null,19.0,15.0,13.0,16.0,10.0,30.0,20.0,null,16.0,4.0,13.0,10.0,26.0,5.0,10.0,13.0,20.0,16.0,26.0,2.0,2.0,null,25.0,23.0,15.0,24.0,11.0,27.0,14.0,null,26.0,2.0,24.0,30.0,7.0,8.0,30.0,6.0,11.0,25.0,25.0,7.0,23.0,27.0,30.0,17.0,5.0,3.0,19.0,16.0,null,8.0,2.0,17.0,12.0,27.0,19.0,25.0,16.0,18.0,24.0,19.0,null,null,null,1.0,null,5.0,null,null,7.0,null,null,15.0,14.0,3.0,30.0,25.0,7.0,18.0,1.0,null,12.0,22.0,30.0,26.0,2.0,28.0,31.0,22.0,19.0,20.0,26.0,19.0,20.0,18.0,1.0,17.0,29.0,9.0,27.0,6.0,18.0,7.0,8.0,null,16.0,11.0,22.0,7.0,null,22.0,25.0,11.0,10.0,6.0,19.0,18.0,null,6.0,8.0,20.0]},{\"axis\":{\"matches\":true},\"label\":\"DayOfWeek\",\"values\":[4.0,4.0,null,4.0,4.0,6.0,4.0,1.0,null,4.0,4.0,4.0,4.0,6.0,4.0,4.0,null,4.0,3.0,4.0,0.0,4.0,3.0,0.0,4.0,4.0,4.0,4.0,1.0,1.0,null,4.0,4.0,4.0,4.0,4.0,4.0,4.0,null,4.0,3.0,4.0,4.0,6.0,6.0,4.0,4.0,5.0,4.0,4.0,3.0,4.0,4.0,4.0,4.0,6.0,4.0,4.0,4.0,null,1.0,6.0,4.0,1.0,4.0,4.0,4.0,4.0,4.0,4.0,4.0,null,null,null,4.0,null,0.0,null,null,1.0,null,null,4.0,4.0,4.0,4.0,4.0,6.0,4.0,4.0,null,1.0,4.0,4.0,4.0,3.0,4.0,4.0,4.0,4.0,4.0,4.0,4.0,4.0,4.0,4.0,4.0,4.0,0.0,4.0,3.0,4.0,1.0,3.0,null,4.0,5.0,4.0,6.0,null,4.0,4.0,5.0,6.0,1.0,4.0,4.0,null,5.0,3.0,4.0]}],\"hovertemplate\":\"%{xaxis.title.text}=%{x}<br>%{yaxis.title.text}=%{y}<extra></extra>\",\"legendgroup\":\"\",\"marker\":{\"color\":\"#800000\",\"symbol\":\"circle\"},\"name\":\"\",\"showlegend\":false,\"type\":\"splom\"}],                        {\"template\":{\"data\":{\"histogram2dcontour\":[{\"type\":\"histogram2dcontour\",\"colorbar\":{\"outlinewidth\":0,\"ticks\":\"\"},\"colorscale\":[[0.0,\"#0d0887\"],[0.1111111111111111,\"#46039f\"],[0.2222222222222222,\"#7201a8\"],[0.3333333333333333,\"#9c179e\"],[0.4444444444444444,\"#bd3786\"],[0.5555555555555556,\"#d8576b\"],[0.6666666666666666,\"#ed7953\"],[0.7777777777777778,\"#fb9f3a\"],[0.8888888888888888,\"#fdca26\"],[1.0,\"#f0f921\"]]}],\"choropleth\":[{\"type\":\"choropleth\",\"colorbar\":{\"outlinewidth\":0,\"ticks\":\"\"}}],\"histogram2d\":[{\"type\":\"histogram2d\",\"colorbar\":{\"outlinewidth\":0,\"ticks\":\"\"},\"colorscale\":[[0.0,\"#0d0887\"],[0.1111111111111111,\"#46039f\"],[0.2222222222222222,\"#7201a8\"],[0.3333333333333333,\"#9c179e\"],[0.4444444444444444,\"#bd3786\"],[0.5555555555555556,\"#d8576b\"],[0.6666666666666666,\"#ed7953\"],[0.7777777777777778,\"#fb9f3a\"],[0.8888888888888888,\"#fdca26\"],[1.0,\"#f0f921\"]]}],\"heatmap\":[{\"type\":\"heatmap\",\"colorbar\":{\"outlinewidth\":0,\"ticks\":\"\"},\"colorscale\":[[0.0,\"#0d0887\"],[0.1111111111111111,\"#46039f\"],[0.2222222222222222,\"#7201a8\"],[0.3333333333333333,\"#9c179e\"],[0.4444444444444444,\"#bd3786\"],[0.5555555555555556,\"#d8576b\"],[0.6666666666666666,\"#ed7953\"],[0.7777777777777778,\"#fb9f3a\"],[0.8888888888888888,\"#fdca26\"],[1.0,\"#f0f921\"]]}],\"heatmapgl\":[{\"type\":\"heatmapgl\",\"colorbar\":{\"outlinewidth\":0,\"ticks\":\"\"},\"colorscale\":[[0.0,\"#0d0887\"],[0.1111111111111111,\"#46039f\"],[0.2222222222222222,\"#7201a8\"],[0.3333333333333333,\"#9c179e\"],[0.4444444444444444,\"#bd3786\"],[0.5555555555555556,\"#d8576b\"],[0.6666666666666666,\"#ed7953\"],[0.7777777777777778,\"#fb9f3a\"],[0.8888888888888888,\"#fdca26\"],[1.0,\"#f0f921\"]]}],\"contourcarpet\":[{\"type\":\"contourcarpet\",\"colorbar\":{\"outlinewidth\":0,\"ticks\":\"\"}}],\"contour\":[{\"type\":\"contour\",\"colorbar\":{\"outlinewidth\":0,\"ticks\":\"\"},\"colorscale\":[[0.0,\"#0d0887\"],[0.1111111111111111,\"#46039f\"],[0.2222222222222222,\"#7201a8\"],[0.3333333333333333,\"#9c179e\"],[0.4444444444444444,\"#bd3786\"],[0.5555555555555556,\"#d8576b\"],[0.6666666666666666,\"#ed7953\"],[0.7777777777777778,\"#fb9f3a\"],[0.8888888888888888,\"#fdca26\"],[1.0,\"#f0f921\"]]}],\"surface\":[{\"type\":\"surface\",\"colorbar\":{\"outlinewidth\":0,\"ticks\":\"\"},\"colorscale\":[[0.0,\"#0d0887\"],[0.1111111111111111,\"#46039f\"],[0.2222222222222222,\"#7201a8\"],[0.3333333333333333,\"#9c179e\"],[0.4444444444444444,\"#bd3786\"],[0.5555555555555556,\"#d8576b\"],[0.6666666666666666,\"#ed7953\"],[0.7777777777777778,\"#fb9f3a\"],[0.8888888888888888,\"#fdca26\"],[1.0,\"#f0f921\"]]}],\"mesh3d\":[{\"type\":\"mesh3d\",\"colorbar\":{\"outlinewidth\":0,\"ticks\":\"\"}}],\"scatter\":[{\"fillpattern\":{\"fillmode\":\"overlay\",\"size\":10,\"solidity\":0.2},\"type\":\"scatter\"}],\"parcoords\":[{\"type\":\"parcoords\",\"line\":{\"colorbar\":{\"outlinewidth\":0,\"ticks\":\"\"}}}],\"scatterpolargl\":[{\"type\":\"scatterpolargl\",\"marker\":{\"colorbar\":{\"outlinewidth\":0,\"ticks\":\"\"}}}],\"bar\":[{\"error_x\":{\"color\":\"#2a3f5f\"},\"error_y\":{\"color\":\"#2a3f5f\"},\"marker\":{\"line\":{\"color\":\"#E5ECF6\",\"width\":0.5},\"pattern\":{\"fillmode\":\"overlay\",\"size\":10,\"solidity\":0.2}},\"type\":\"bar\"}],\"scattergeo\":[{\"type\":\"scattergeo\",\"marker\":{\"colorbar\":{\"outlinewidth\":0,\"ticks\":\"\"}}}],\"scatterpolar\":[{\"type\":\"scatterpolar\",\"marker\":{\"colorbar\":{\"outlinewidth\":0,\"ticks\":\"\"}}}],\"histogram\":[{\"marker\":{\"pattern\":{\"fillmode\":\"overlay\",\"size\":10,\"solidity\":0.2}},\"type\":\"histogram\"}],\"scattergl\":[{\"type\":\"scattergl\",\"marker\":{\"colorbar\":{\"outlinewidth\":0,\"ticks\":\"\"}}}],\"scatter3d\":[{\"type\":\"scatter3d\",\"line\":{\"colorbar\":{\"outlinewidth\":0,\"ticks\":\"\"}},\"marker\":{\"colorbar\":{\"outlinewidth\":0,\"ticks\":\"\"}}}],\"scattermapbox\":[{\"type\":\"scattermapbox\",\"marker\":{\"colorbar\":{\"outlinewidth\":0,\"ticks\":\"\"}}}],\"scatterternary\":[{\"type\":\"scatterternary\",\"marker\":{\"colorbar\":{\"outlinewidth\":0,\"ticks\":\"\"}}}],\"scattercarpet\":[{\"type\":\"scattercarpet\",\"marker\":{\"colorbar\":{\"outlinewidth\":0,\"ticks\":\"\"}}}],\"carpet\":[{\"aaxis\":{\"endlinecolor\":\"#2a3f5f\",\"gridcolor\":\"white\",\"linecolor\":\"white\",\"minorgridcolor\":\"white\",\"startlinecolor\":\"#2a3f5f\"},\"baxis\":{\"endlinecolor\":\"#2a3f5f\",\"gridcolor\":\"white\",\"linecolor\":\"white\",\"minorgridcolor\":\"white\",\"startlinecolor\":\"#2a3f5f\"},\"type\":\"carpet\"}],\"table\":[{\"cells\":{\"fill\":{\"color\":\"#EBF0F8\"},\"line\":{\"color\":\"white\"}},\"header\":{\"fill\":{\"color\":\"#C8D4E3\"},\"line\":{\"color\":\"white\"}},\"type\":\"table\"}],\"barpolar\":[{\"marker\":{\"line\":{\"color\":\"#E5ECF6\",\"width\":0.5},\"pattern\":{\"fillmode\":\"overlay\",\"size\":10,\"solidity\":0.2}},\"type\":\"barpolar\"}],\"pie\":[{\"automargin\":true,\"type\":\"pie\"}]},\"layout\":{\"autotypenumbers\":\"strict\",\"colorway\":[\"#636efa\",\"#EF553B\",\"#00cc96\",\"#ab63fa\",\"#FFA15A\",\"#19d3f3\",\"#FF6692\",\"#B6E880\",\"#FF97FF\",\"#FECB52\"],\"font\":{\"color\":\"#2a3f5f\"},\"hovermode\":\"closest\",\"hoverlabel\":{\"align\":\"left\"},\"paper_bgcolor\":\"white\",\"plot_bgcolor\":\"#E5ECF6\",\"polar\":{\"bgcolor\":\"#E5ECF6\",\"angularaxis\":{\"gridcolor\":\"white\",\"linecolor\":\"white\",\"ticks\":\"\"},\"radialaxis\":{\"gridcolor\":\"white\",\"linecolor\":\"white\",\"ticks\":\"\"}},\"ternary\":{\"bgcolor\":\"#E5ECF6\",\"aaxis\":{\"gridcolor\":\"white\",\"linecolor\":\"white\",\"ticks\":\"\"},\"baxis\":{\"gridcolor\":\"white\",\"linecolor\":\"white\",\"ticks\":\"\"},\"caxis\":{\"gridcolor\":\"white\",\"linecolor\":\"white\",\"ticks\":\"\"}},\"coloraxis\":{\"colorbar\":{\"outlinewidth\":0,\"ticks\":\"\"}},\"colorscale\":{\"sequential\":[[0.0,\"#0d0887\"],[0.1111111111111111,\"#46039f\"],[0.2222222222222222,\"#7201a8\"],[0.3333333333333333,\"#9c179e\"],[0.4444444444444444,\"#bd3786\"],[0.5555555555555556,\"#d8576b\"],[0.6666666666666666,\"#ed7953\"],[0.7777777777777778,\"#fb9f3a\"],[0.8888888888888888,\"#fdca26\"],[1.0,\"#f0f921\"]],\"sequentialminus\":[[0.0,\"#0d0887\"],[0.1111111111111111,\"#46039f\"],[0.2222222222222222,\"#7201a8\"],[0.3333333333333333,\"#9c179e\"],[0.4444444444444444,\"#bd3786\"],[0.5555555555555556,\"#d8576b\"],[0.6666666666666666,\"#ed7953\"],[0.7777777777777778,\"#fb9f3a\"],[0.8888888888888888,\"#fdca26\"],[1.0,\"#f0f921\"]],\"diverging\":[[0,\"#8e0152\"],[0.1,\"#c51b7d\"],[0.2,\"#de77ae\"],[0.3,\"#f1b6da\"],[0.4,\"#fde0ef\"],[0.5,\"#f7f7f7\"],[0.6,\"#e6f5d0\"],[0.7,\"#b8e186\"],[0.8,\"#7fbc41\"],[0.9,\"#4d9221\"],[1,\"#276419\"]]},\"xaxis\":{\"gridcolor\":\"white\",\"linecolor\":\"white\",\"ticks\":\"\",\"title\":{\"standoff\":15},\"zerolinecolor\":\"white\",\"automargin\":true,\"zerolinewidth\":2},\"yaxis\":{\"gridcolor\":\"white\",\"linecolor\":\"white\",\"ticks\":\"\",\"title\":{\"standoff\":15},\"zerolinecolor\":\"white\",\"automargin\":true,\"zerolinewidth\":2},\"scene\":{\"xaxis\":{\"backgroundcolor\":\"#E5ECF6\",\"gridcolor\":\"white\",\"linecolor\":\"white\",\"showbackground\":true,\"ticks\":\"\",\"zerolinecolor\":\"white\",\"gridwidth\":2},\"yaxis\":{\"backgroundcolor\":\"#E5ECF6\",\"gridcolor\":\"white\",\"linecolor\":\"white\",\"showbackground\":true,\"ticks\":\"\",\"zerolinecolor\":\"white\",\"gridwidth\":2},\"zaxis\":{\"backgroundcolor\":\"#E5ECF6\",\"gridcolor\":\"white\",\"linecolor\":\"white\",\"showbackground\":true,\"ticks\":\"\",\"zerolinecolor\":\"white\",\"gridwidth\":2}},\"shapedefaults\":{\"line\":{\"color\":\"#2a3f5f\"}},\"annotationdefaults\":{\"arrowcolor\":\"#2a3f5f\",\"arrowhead\":0,\"arrowwidth\":1},\"geo\":{\"bgcolor\":\"white\",\"landcolor\":\"#E5ECF6\",\"subunitcolor\":\"white\",\"showland\":true,\"showlakes\":true,\"lakecolor\":\"white\"},\"title\":{\"x\":0.05},\"mapbox\":{\"style\":\"light\"}}},\"legend\":{\"tracegroupgap\":0,\"orientation\":\"h\",\"yanchor\":\"bottom\",\"y\":1.02,\"xanchor\":\"right\",\"x\":1},\"margin\":{\"t\":60},\"dragmode\":\"select\",\"title\":{\"text\":\"Bivariate analysis\",\"x\":0.5,\"font\":{\"size\":25,\"color\":\"#5E2612\",\"family\":\"Muli, sans-serif\"}},\"font\":{\"color\":\"#5E2612\"},\"plot_bgcolor\":\"#8B7D7B\",\"paper_bgcolor\":\"#8B7D7B\",\"showlegend\":false,\"autosize\":false,\"height\":1200,\"width\":1200},                        {\"responsive\": true}                    ).then(function(){\n",
              "                            \n",
              "var gd = document.getElementById('4907fd65-51d9-4098-9df5-309d74171acb');\n",
              "var x = new MutationObserver(function (mutations, observer) {{\n",
              "        var display = window.getComputedStyle(gd).display;\n",
              "        if (!display || display === 'none') {{\n",
              "            console.log([gd, 'removed!']);\n",
              "            Plotly.purge(gd);\n",
              "            observer.disconnect();\n",
              "        }}\n",
              "}});\n",
              "\n",
              "// Listen for the removal of the full notebook cells\n",
              "var notebookContainer = gd.closest('#notebook-container');\n",
              "if (notebookContainer) {{\n",
              "    x.observe(notebookContainer, {childList: true});\n",
              "}}\n",
              "\n",
              "// Listen for the clearing of the current output cell\n",
              "var outputEl = gd.closest('.output');\n",
              "if (outputEl) {{\n",
              "    x.observe(outputEl, {childList: true});\n",
              "}}\n",
              "\n",
              "                        })                };                            </script>        </div>\n",
              "</body>\n",
              "</html>"
            ]
          },
          "metadata": {}
        }
      ],
      "source": [
        "# Visualize pairwise dependencies\n",
        "fig = px.scatter_matrix(df, color_discrete_sequence=['#800000'])\n",
        "fig.update_layout(plot_bgcolor='#8B7D7B', paper_bgcolor='#8B7D7B',\n",
        "        title = go.layout.Title(text = \"Bivariate analysis\", x = 0.5), showlegend = False,\n",
        "            autosize=False, height = 1200, width = 1200,\n",
        "            title_font=dict(size=25, color='#5E2612', family=\"Muli, sans-serif\"),\n",
        "                        font=dict(color='#5E2612'),\n",
        "                        legend=dict(orientation=\"h\", yanchor=\"bottom\", y=1.02, xanchor=\"right\", x=1)\n",
        "            )\n",
        "\n",
        "fig.show()"
      ]
    },
    {
      "cell_type": "code",
      "execution_count": 26,
      "metadata": {
        "colab": {
          "base_uri": "https://localhost:8080/",
          "height": 1000
        },
        "id": "L2hCbmHf58S2",
        "outputId": "0c3b6315-ec93-4b12-dbf6-50f95fd5eb9d"
      },
      "outputs": [
        {
          "output_type": "display_data",
          "data": {
            "text/html": [
              "<html>\n",
              "<head><meta charset=\"utf-8\" /></head>\n",
              "<body>\n",
              "    <div>            <script src=\"https://cdnjs.cloudflare.com/ajax/libs/mathjax/2.7.5/MathJax.js?config=TeX-AMS-MML_SVG\"></script><script type=\"text/javascript\">if (window.MathJax && window.MathJax.Hub && window.MathJax.Hub.Config) {window.MathJax.Hub.Config({SVG: {font: \"STIX-Web\"}});}</script>                <script type=\"text/javascript\">window.PlotlyConfig = {MathJaxConfig: 'local'};</script>\n",
              "        <script src=\"https://cdn.plot.ly/plotly-2.18.2.min.js\"></script>                <div id=\"8ded8cb5-6be7-4616-9de9-27b77d28f69e\" class=\"plotly-graph-div\" style=\"height:1200px; width:1200px;\"></div>            <script type=\"text/javascript\">                                    window.PLOTLYENV=window.PLOTLYENV || {};                                    if (document.getElementById(\"8ded8cb5-6be7-4616-9de9-27b77d28f69e\")) {                    Plotly.newPlot(                        \"8ded8cb5-6be7-4616-9de9-27b77d28f69e\",                        [{\"dimensions\":[{\"axis\":{\"matches\":true},\"label\":\"Store\",\"values\":[6.0,13.0,11.0,6.0,4.0,15.0,20.0,14.0,3.0,8.0,18.0,7.0,1.0,17.0,6.0,13.0,18.0,2.0,7.0,5.0,18.0,19.0,19.0,17.0,3.0,16.0,17.0,6.0,7.0,14.0,2.0,19.0,3.0,18.0,4.0,5.0,18.0,16.0,1.0,7.0,1.0,2.0,5.0,19.0,1.0,16.0,13.0,2.0,9.0,14.0,10.0,13.0,8.0,6.0,14.0,14.0,10.0,5.0,4.0,10.0,18.0,3.0,18.0,13.0,1.0,1.0,20.0,15.0,1.0,20.0,9.0,5.0,11.0,15.0,2.0,17.0,3.0,20.0,2.0,9.0,17.0,3.0,14.0,1.0,8.0,5.0,10.0,13.0,3.0,2.0,18.0,4.0,3.0,19.0,14.0,8.0,18.0,20.0,19.0,2.0,13.0,11.0,15.0,7.0,9.0,14.0,8.0,5.0,7.0,1.0,19.0,3.0,16.0,13.0,18.0,13.0,17.0,4.0,4.0,10.0,6.0,7.0,5.0,3.0,3.0,3.0,14.0,7.0,17.0,8.0,19.0]},{\"axis\":{\"matches\":true},\"label\":\"Weekly_Sales\",\"values\":[1572117.54,1807545.43,1244390.03,1644470.66,1857533.7,695396.19,2203523.2,2600519.26,418925.47,895066.5,1029618.1,414094.05,1677472.78,829207.27,1498080.16,1997397.63,1205307.5,2432736.52,561145.14,290930.01,1074079.0,1427023.45,1405007.44,919878.34,367438.62,435397.19,757738.76,1420405.41,563460.77,2077256.24,1853161.99,1266564.94,365248.94,988157.72,2008344.92,311906.7,961186.23,526525.16,1661767.33,629994.47,1641957.44,1861802.7,268929.03,1549018.68,1624383.75,485095.41,2035431.39,1916812.74,509263.28,1879451.23,1805999.79,1847430.96,888816.78,1532308.78,2020550.99,2095599.93,1990371.02,313358.15,2771397.17,1714309.9,1166117.85,461622.22,1588430.71,2461468.35,1449142.92,1508068.77,1973135.87,570611.23,1539483.7,1789687.65,519823.3,359206.21,1569607.94,607475.44,1758050.79,986922.62,431985.36,2045837.55,1797732.56,485389.15,1046782.52,384200.69,1953544.76,1494251.5,860336.16,298697.84,1768172.31,2018314.71,364076.85,1799520.14,1087051.26,2302504.86,419497.95,1366395.96,2095591.63,994801.4,1256282.79,1799737.79,1468350.36,2124451.54,1811606.21,1757242.51,660838.75,457340.06,513073.87,1864746.1,836707.85,275142.17,597876.55,1466046.67,1467473.63,398838.97,614253.33,1970341.38,1048134.24,2025582.62,855459.96,2036231.39,2066541.86,1831676.03,1639358.93,532739.77,301827.36,403342.4,396968.8,424513.08,2248645.59,716388.81,845252.21,856796.1,1255087.26]},{\"axis\":{\"matches\":true},\"label\":\"Holiday_Flag\",\"values\":[null,0.0,0.0,0.0,0.0,0.0,0.0,0.0,0.0,0.0,0.0,0.0,0.0,0.0,null,0.0,0.0,0.0,0.0,0.0,0.0,0.0,0.0,0.0,0.0,0.0,0.0,0.0,1.0,1.0,0.0,0.0,0.0,0.0,0.0,0.0,0.0,0.0,1.0,null,1.0,0.0,0.0,0.0,null,0.0,0.0,0.0,0.0,null,0.0,0.0,0.0,0.0,0.0,0.0,0.0,0.0,0.0,null,0.0,0.0,0.0,0.0,null,0.0,0.0,0.0,0.0,0.0,0.0,0.0,0.0,0.0,0.0,0.0,0.0,0.0,0.0,null,0.0,0.0,0.0,0.0,0.0,0.0,0.0,0.0,0.0,0.0,0.0,0.0,0.0,0.0,0.0,1.0,0.0,1.0,0.0,0.0,0.0,1.0,0.0,0.0,null,0.0,0.0,0.0,1.0,0.0,0.0,0.0,0.0,0.0,0.0,0.0,0.0,0.0,null,0.0,0.0,0.0,0.0,0.0,0.0,0.0,0.0,null,0.0,0.0,0.0]},{\"axis\":{\"matches\":true},\"label\":\"Temperature\",\"values\":[15.33888888888889,5.766666666666668,29.205555555555552,26.049999999999997,null,21.0,4.405555555555555,-0.8111111111111116,15.622222222222222,28.28888888888889,11.122222222222225,2.561111111111111,18.188888888888886,15.594444444444443,20.505555555555553,24.633333333333336,-5.927777777777779,10.072222222222223,3.4777777777777765,25.21111111111111,10.538888888888888,3.927777777777778,10.42222222222222,7.122222222222222,11.033333333333333,6.63888888888889,7.344444444444444,null,-7.33888888888889,2.7777777777777777,30.944444444444443,0.6999999999999988,26.772222222222222,null,27.694444444444443,15.950000000000001,10.238888888888889,null,null,14.222222222222221,3.6166666666666654,12.572222222222223,28.033333333333328,19.02777777777778,33.138888888888886,9.049999999999999,16.172222222222224,15.383333333333333,29.455555555555552,5.422222222222221,30.483333333333334,17.555555555555557,23.84444444444445,null,2.694444444444445,null,14.233333333333333,20.650000000000002,2.4666666666666655,6.35,23.150000000000002,7.616666666666668,-2.5555555555555562,2.6555555555555563,29.56666666666667,19.983333333333334,23.983333333333334,8.566666666666668,16.805555555555557,20.761111111111113,9.97777777777778,null,11.538888888888891,26.65,7.049999999999999,null,23.994444444444444,4.3277777777777775,24.67777777777778,25.83888888888889,20.505555555555553,null,25.816666666666666,23.766666666666666,9.866666666666665,19.73888888888889,32.4,26.011111111111106,28.62222222222222,8.194444444444445,20.97222222222222,5.777777777777777,28.166666666666668,22.68333333333333,1.6055555555555558,0.7444444444444464,20.622222222222224,-1.7499999999999991,null,4.272222222222221,0.39444444444444493,21.055555555555557,null,4.055555555555554,28.327777777777776,1.288888888888889,24.066666666666663,31.900000000000002,14.355555555555558,null,20.144444444444446,17.727777777777774,16.549999999999997,24.416666666666668,22.916666666666668,11.38888888888889,null,28.244444444444447,29.216666666666672,31.355555555555554,23.466666666666665,10.333333333333334,16.87222222222222,24.188888888888894,25.85,23.022222222222222,22.56666666666667,-6.255555555555556,13.966666666666667,30.02777777777778,12.888888888888891]},{\"axis\":{\"matches\":true},\"label\":\"Fuel_Price\",\"values\":[3.045,3.435,null,2.759,2.756,4.069,3.617,3.109,3.555,3.554,2.878,3.767,3.734,2.853,2.78,2.85,2.7880000000000003,null,2.725,3.899,4.029,2.963,4.124,3.797,3.261,3.828,2.915,3.523,3.103,null,3.48,3.789,3.467,3.823,3.57,3.297,4.023,3.659,3.73,3.485,2.548,3.555,2.64,2.958,3.684,3.75,3.788,2.728,2.653,3.625,3.666,3.648,2.619,2.64,3.695,4.046,3.882,3.594,3.149,3.287,2.792,2.572,3.139,2.817,2.619,3.594,2.8080000000000003,4.021,3.3080000000000003,null,2.7710000000000004,3.63,3.51,3.972,2.9760000000000004,3.793,3.688,3.739,3.786,2.642,3.63,2.667,3.76,2.854,null,null,null,2.814,2.637,null,3.815,2.86,3.346,2.932,null,2.548,2.906,3.179,3.722,2.514,null,2.735,2.909,3.936,2.637,3.193,2.582,3.682,3.596,3.786,null,3.3080000000000003,2.7110000000000003,3.606,3.84,3.529,2.8310000000000004,3.627,3.469,3.112,3.807,3.804,null,3.285,2.705,3.594,2.78,2.778,2.841,3.638,4.17]},{\"axis\":{\"matches\":true},\"label\":\"CPI\",\"values\":[214.7775231,128.6160645,214.55649680000005,212.412888,126.1602258,134.85516130000002,213.0236225,null,224.1320199,219.07019680000005,132.7633548,192.826069,221.2118132,126.2346,211.8942725,null,131.52790320000005,null,189.7048215,216.5343611,138.9117,131.863129,138.0332,131.1083333,null,192.831317,126.5621,217.2706543,196.9195056,null,214.9296249,133.9587419,219.7414914,134.2784667,129.0663,218.5699621,137.9781333,198.1267184,222.4390153,194.3796374,211.24216980000003,220.275944,211.9270006,132.5218667,215.544618,197.4133259,130.95922579999998,211.6608975,214.8965756,184.9943679,130.7196333,129.5183333,214.9362793,212.8944846,189.8424834,185.9374378,130.6457931,224.0192873,129.8980645,127.1917742,132.6141935,214.4248812,null,126.7934,211.5673056,223.4257233,204.5675459,137.5843871,218.2205088,null,215.43728540000004,221.4342146,223.9170153,135.8738387,211.0648881,131.03754840000002,225.2351496,213.4725116,215.1544822,214.6564301,null,214.7027646,186.1399808,210.3374261,214.7492449,210.939388,126.1266,126.1392,214.7858259,219.355063,135.4468,126.7934,225.3068615,132.5983871,null,214.62141890000004,132.2939355,204.6432267,138.1629,210.9451605,130.27922579999998,215.0614025,131.637,197.7227385,215.0166484,182.5983058,214.8785562,216.0464364,198.0950484,215.5037878,134.94254840000002,221.6432852,189.5231276,129.2015806,138.1857097,130.82619350000002,126.5461613,129.1507742,129.1125,126.1283548,217.0146941,197.5886046,212.5604113,null,214.4958382,226.9688442,182.4424199,null,126.1119032,219.0075249,137.9230667]},{\"axis\":{\"matches\":true},\"label\":\"Unemployment\",\"values\":[6.858,7.47,7.346,7.0920000000000005,7.896,7.657999999999999,6.961,null,6.832999999999998,6.425,9.331,8.595,7.348,6.885,7.0920000000000005,7.951,9.202,7.441,8.963,6.489,8.243,8.35,8.15,5.527,6.832999999999998,6.339,6.635,6.925,8.256,8.424,null,7.771,7.567,8.975,5.9460000000000015,6.3,8.304,6.061,6.908,8.622,8.106,7.057,6.496,8.099,7.9620000000000015,6.162000000000001,5.965,8.163,null,8.549,7.17,6.877000000000002,6.315,6.973,8.424,8.521,7.545,5.4220000000000015,5.143,8.744,9.342,7.3679999999999986,9.331,7.795,7.787000000000001,null,7.856,7.943,7.866,7.527,6.56,5.943,6.832999999999998,7.806,8.027999999999999,6.235,6.664,6.961,7.931,6.442,5.936,null,8.625,7.808,6.299,null,9.524,7.951,7.343,7.057,8.89,7.127000000000002,6.664,8.099,8.992,6.299,null,7.484,8.15,null,6.104,7.564,null,8.09,6.384,null,6.315,6.529,7.872000000000001,7.682,7.657999999999999,7.197,6.867999999999999,6.877000000000002,8.535,6.104,null,5.644,5.644,9.199,6.855,8.09,6.768,7.197,7.343,6.034,8.899,null,null,null,8.15]}],\"hovertemplate\":\"%{xaxis.title.text}=%{x}<br>%{yaxis.title.text}=%{y}<extra></extra>\",\"legendgroup\":\"\",\"marker\":{\"color\":\"#800000\",\"symbol\":\"circle\"},\"name\":\"\",\"showlegend\":false,\"type\":\"splom\"}],                        {\"template\":{\"data\":{\"histogram2dcontour\":[{\"type\":\"histogram2dcontour\",\"colorbar\":{\"outlinewidth\":0,\"ticks\":\"\"},\"colorscale\":[[0.0,\"#0d0887\"],[0.1111111111111111,\"#46039f\"],[0.2222222222222222,\"#7201a8\"],[0.3333333333333333,\"#9c179e\"],[0.4444444444444444,\"#bd3786\"],[0.5555555555555556,\"#d8576b\"],[0.6666666666666666,\"#ed7953\"],[0.7777777777777778,\"#fb9f3a\"],[0.8888888888888888,\"#fdca26\"],[1.0,\"#f0f921\"]]}],\"choropleth\":[{\"type\":\"choropleth\",\"colorbar\":{\"outlinewidth\":0,\"ticks\":\"\"}}],\"histogram2d\":[{\"type\":\"histogram2d\",\"colorbar\":{\"outlinewidth\":0,\"ticks\":\"\"},\"colorscale\":[[0.0,\"#0d0887\"],[0.1111111111111111,\"#46039f\"],[0.2222222222222222,\"#7201a8\"],[0.3333333333333333,\"#9c179e\"],[0.4444444444444444,\"#bd3786\"],[0.5555555555555556,\"#d8576b\"],[0.6666666666666666,\"#ed7953\"],[0.7777777777777778,\"#fb9f3a\"],[0.8888888888888888,\"#fdca26\"],[1.0,\"#f0f921\"]]}],\"heatmap\":[{\"type\":\"heatmap\",\"colorbar\":{\"outlinewidth\":0,\"ticks\":\"\"},\"colorscale\":[[0.0,\"#0d0887\"],[0.1111111111111111,\"#46039f\"],[0.2222222222222222,\"#7201a8\"],[0.3333333333333333,\"#9c179e\"],[0.4444444444444444,\"#bd3786\"],[0.5555555555555556,\"#d8576b\"],[0.6666666666666666,\"#ed7953\"],[0.7777777777777778,\"#fb9f3a\"],[0.8888888888888888,\"#fdca26\"],[1.0,\"#f0f921\"]]}],\"heatmapgl\":[{\"type\":\"heatmapgl\",\"colorbar\":{\"outlinewidth\":0,\"ticks\":\"\"},\"colorscale\":[[0.0,\"#0d0887\"],[0.1111111111111111,\"#46039f\"],[0.2222222222222222,\"#7201a8\"],[0.3333333333333333,\"#9c179e\"],[0.4444444444444444,\"#bd3786\"],[0.5555555555555556,\"#d8576b\"],[0.6666666666666666,\"#ed7953\"],[0.7777777777777778,\"#fb9f3a\"],[0.8888888888888888,\"#fdca26\"],[1.0,\"#f0f921\"]]}],\"contourcarpet\":[{\"type\":\"contourcarpet\",\"colorbar\":{\"outlinewidth\":0,\"ticks\":\"\"}}],\"contour\":[{\"type\":\"contour\",\"colorbar\":{\"outlinewidth\":0,\"ticks\":\"\"},\"colorscale\":[[0.0,\"#0d0887\"],[0.1111111111111111,\"#46039f\"],[0.2222222222222222,\"#7201a8\"],[0.3333333333333333,\"#9c179e\"],[0.4444444444444444,\"#bd3786\"],[0.5555555555555556,\"#d8576b\"],[0.6666666666666666,\"#ed7953\"],[0.7777777777777778,\"#fb9f3a\"],[0.8888888888888888,\"#fdca26\"],[1.0,\"#f0f921\"]]}],\"surface\":[{\"type\":\"surface\",\"colorbar\":{\"outlinewidth\":0,\"ticks\":\"\"},\"colorscale\":[[0.0,\"#0d0887\"],[0.1111111111111111,\"#46039f\"],[0.2222222222222222,\"#7201a8\"],[0.3333333333333333,\"#9c179e\"],[0.4444444444444444,\"#bd3786\"],[0.5555555555555556,\"#d8576b\"],[0.6666666666666666,\"#ed7953\"],[0.7777777777777778,\"#fb9f3a\"],[0.8888888888888888,\"#fdca26\"],[1.0,\"#f0f921\"]]}],\"mesh3d\":[{\"type\":\"mesh3d\",\"colorbar\":{\"outlinewidth\":0,\"ticks\":\"\"}}],\"scatter\":[{\"fillpattern\":{\"fillmode\":\"overlay\",\"size\":10,\"solidity\":0.2},\"type\":\"scatter\"}],\"parcoords\":[{\"type\":\"parcoords\",\"line\":{\"colorbar\":{\"outlinewidth\":0,\"ticks\":\"\"}}}],\"scatterpolargl\":[{\"type\":\"scatterpolargl\",\"marker\":{\"colorbar\":{\"outlinewidth\":0,\"ticks\":\"\"}}}],\"bar\":[{\"error_x\":{\"color\":\"#2a3f5f\"},\"error_y\":{\"color\":\"#2a3f5f\"},\"marker\":{\"line\":{\"color\":\"#E5ECF6\",\"width\":0.5},\"pattern\":{\"fillmode\":\"overlay\",\"size\":10,\"solidity\":0.2}},\"type\":\"bar\"}],\"scattergeo\":[{\"type\":\"scattergeo\",\"marker\":{\"colorbar\":{\"outlinewidth\":0,\"ticks\":\"\"}}}],\"scatterpolar\":[{\"type\":\"scatterpolar\",\"marker\":{\"colorbar\":{\"outlinewidth\":0,\"ticks\":\"\"}}}],\"histogram\":[{\"marker\":{\"pattern\":{\"fillmode\":\"overlay\",\"size\":10,\"solidity\":0.2}},\"type\":\"histogram\"}],\"scattergl\":[{\"type\":\"scattergl\",\"marker\":{\"colorbar\":{\"outlinewidth\":0,\"ticks\":\"\"}}}],\"scatter3d\":[{\"type\":\"scatter3d\",\"line\":{\"colorbar\":{\"outlinewidth\":0,\"ticks\":\"\"}},\"marker\":{\"colorbar\":{\"outlinewidth\":0,\"ticks\":\"\"}}}],\"scattermapbox\":[{\"type\":\"scattermapbox\",\"marker\":{\"colorbar\":{\"outlinewidth\":0,\"ticks\":\"\"}}}],\"scatterternary\":[{\"type\":\"scatterternary\",\"marker\":{\"colorbar\":{\"outlinewidth\":0,\"ticks\":\"\"}}}],\"scattercarpet\":[{\"type\":\"scattercarpet\",\"marker\":{\"colorbar\":{\"outlinewidth\":0,\"ticks\":\"\"}}}],\"carpet\":[{\"aaxis\":{\"endlinecolor\":\"#2a3f5f\",\"gridcolor\":\"white\",\"linecolor\":\"white\",\"minorgridcolor\":\"white\",\"startlinecolor\":\"#2a3f5f\"},\"baxis\":{\"endlinecolor\":\"#2a3f5f\",\"gridcolor\":\"white\",\"linecolor\":\"white\",\"minorgridcolor\":\"white\",\"startlinecolor\":\"#2a3f5f\"},\"type\":\"carpet\"}],\"table\":[{\"cells\":{\"fill\":{\"color\":\"#EBF0F8\"},\"line\":{\"color\":\"white\"}},\"header\":{\"fill\":{\"color\":\"#C8D4E3\"},\"line\":{\"color\":\"white\"}},\"type\":\"table\"}],\"barpolar\":[{\"marker\":{\"line\":{\"color\":\"#E5ECF6\",\"width\":0.5},\"pattern\":{\"fillmode\":\"overlay\",\"size\":10,\"solidity\":0.2}},\"type\":\"barpolar\"}],\"pie\":[{\"automargin\":true,\"type\":\"pie\"}]},\"layout\":{\"autotypenumbers\":\"strict\",\"colorway\":[\"#636efa\",\"#EF553B\",\"#00cc96\",\"#ab63fa\",\"#FFA15A\",\"#19d3f3\",\"#FF6692\",\"#B6E880\",\"#FF97FF\",\"#FECB52\"],\"font\":{\"color\":\"#2a3f5f\"},\"hovermode\":\"closest\",\"hoverlabel\":{\"align\":\"left\"},\"paper_bgcolor\":\"white\",\"plot_bgcolor\":\"#E5ECF6\",\"polar\":{\"bgcolor\":\"#E5ECF6\",\"angularaxis\":{\"gridcolor\":\"white\",\"linecolor\":\"white\",\"ticks\":\"\"},\"radialaxis\":{\"gridcolor\":\"white\",\"linecolor\":\"white\",\"ticks\":\"\"}},\"ternary\":{\"bgcolor\":\"#E5ECF6\",\"aaxis\":{\"gridcolor\":\"white\",\"linecolor\":\"white\",\"ticks\":\"\"},\"baxis\":{\"gridcolor\":\"white\",\"linecolor\":\"white\",\"ticks\":\"\"},\"caxis\":{\"gridcolor\":\"white\",\"linecolor\":\"white\",\"ticks\":\"\"}},\"coloraxis\":{\"colorbar\":{\"outlinewidth\":0,\"ticks\":\"\"}},\"colorscale\":{\"sequential\":[[0.0,\"#0d0887\"],[0.1111111111111111,\"#46039f\"],[0.2222222222222222,\"#7201a8\"],[0.3333333333333333,\"#9c179e\"],[0.4444444444444444,\"#bd3786\"],[0.5555555555555556,\"#d8576b\"],[0.6666666666666666,\"#ed7953\"],[0.7777777777777778,\"#fb9f3a\"],[0.8888888888888888,\"#fdca26\"],[1.0,\"#f0f921\"]],\"sequentialminus\":[[0.0,\"#0d0887\"],[0.1111111111111111,\"#46039f\"],[0.2222222222222222,\"#7201a8\"],[0.3333333333333333,\"#9c179e\"],[0.4444444444444444,\"#bd3786\"],[0.5555555555555556,\"#d8576b\"],[0.6666666666666666,\"#ed7953\"],[0.7777777777777778,\"#fb9f3a\"],[0.8888888888888888,\"#fdca26\"],[1.0,\"#f0f921\"]],\"diverging\":[[0,\"#8e0152\"],[0.1,\"#c51b7d\"],[0.2,\"#de77ae\"],[0.3,\"#f1b6da\"],[0.4,\"#fde0ef\"],[0.5,\"#f7f7f7\"],[0.6,\"#e6f5d0\"],[0.7,\"#b8e186\"],[0.8,\"#7fbc41\"],[0.9,\"#4d9221\"],[1,\"#276419\"]]},\"xaxis\":{\"gridcolor\":\"white\",\"linecolor\":\"white\",\"ticks\":\"\",\"title\":{\"standoff\":15},\"zerolinecolor\":\"white\",\"automargin\":true,\"zerolinewidth\":2},\"yaxis\":{\"gridcolor\":\"white\",\"linecolor\":\"white\",\"ticks\":\"\",\"title\":{\"standoff\":15},\"zerolinecolor\":\"white\",\"automargin\":true,\"zerolinewidth\":2},\"scene\":{\"xaxis\":{\"backgroundcolor\":\"#E5ECF6\",\"gridcolor\":\"white\",\"linecolor\":\"white\",\"showbackground\":true,\"ticks\":\"\",\"zerolinecolor\":\"white\",\"gridwidth\":2},\"yaxis\":{\"backgroundcolor\":\"#E5ECF6\",\"gridcolor\":\"white\",\"linecolor\":\"white\",\"showbackground\":true,\"ticks\":\"\",\"zerolinecolor\":\"white\",\"gridwidth\":2},\"zaxis\":{\"backgroundcolor\":\"#E5ECF6\",\"gridcolor\":\"white\",\"linecolor\":\"white\",\"showbackground\":true,\"ticks\":\"\",\"zerolinecolor\":\"white\",\"gridwidth\":2}},\"shapedefaults\":{\"line\":{\"color\":\"#2a3f5f\"}},\"annotationdefaults\":{\"arrowcolor\":\"#2a3f5f\",\"arrowhead\":0,\"arrowwidth\":1},\"geo\":{\"bgcolor\":\"white\",\"landcolor\":\"#E5ECF6\",\"subunitcolor\":\"white\",\"showland\":true,\"showlakes\":true,\"lakecolor\":\"white\"},\"title\":{\"x\":0.05},\"mapbox\":{\"style\":\"light\"}}},\"legend\":{\"tracegroupgap\":0,\"orientation\":\"h\",\"yanchor\":\"bottom\",\"y\":1.02,\"xanchor\":\"right\",\"x\":1},\"margin\":{\"t\":60},\"dragmode\":\"select\",\"title\":{\"text\":\"Bivariate analysis\",\"x\":0.5,\"font\":{\"size\":25,\"color\":\"#5E2612\",\"family\":\"Muli, sans-serif\"}},\"font\":{\"color\":\"#5E2612\"},\"plot_bgcolor\":\"#8B7D7B\",\"paper_bgcolor\":\"#8B7D7B\",\"showlegend\":false,\"autosize\":false,\"height\":1200,\"width\":1200},                        {\"responsive\": true}                    ).then(function(){\n",
              "                            \n",
              "var gd = document.getElementById('8ded8cb5-6be7-4616-9de9-27b77d28f69e');\n",
              "var x = new MutationObserver(function (mutations, observer) {{\n",
              "        var display = window.getComputedStyle(gd).display;\n",
              "        if (!display || display === 'none') {{\n",
              "            console.log([gd, 'removed!']);\n",
              "            Plotly.purge(gd);\n",
              "            observer.disconnect();\n",
              "        }}\n",
              "}});\n",
              "\n",
              "// Listen for the removal of the full notebook cells\n",
              "var notebookContainer = gd.closest('#notebook-container');\n",
              "if (notebookContainer) {{\n",
              "    x.observe(notebookContainer, {childList: true});\n",
              "}}\n",
              "\n",
              "// Listen for the clearing of the current output cell\n",
              "var outputEl = gd.closest('.output');\n",
              "if (outputEl) {{\n",
              "    x.observe(outputEl, {childList: true});\n",
              "}}\n",
              "\n",
              "                        })                };                            </script>        </div>\n",
              "</body>\n",
              "</html>"
            ]
          },
          "metadata": {}
        }
      ],
      "source": [
        "# Visualize pairwise dependencies without colums day/month/year/day-of-week\n",
        "\n",
        "# We create a dataframe with just some columns\n",
        "first_df=df.iloc[:,:7]\n",
        "first_df.head()\n",
        "\n",
        "fig = px.scatter_matrix(first_df, color_discrete_sequence=['#800000'])\n",
        "fig.update_layout(plot_bgcolor='#8B7D7B', paper_bgcolor='#8B7D7B',\n",
        "        title = go.layout.Title(text = \"Bivariate analysis\", x = 0.5), showlegend = False,\n",
        "            autosize=False, height = 1200, width = 1200,\n",
        "            title_font=dict(size=25, color='#5E2612', family=\"Muli, sans-serif\"),\n",
        "                        font=dict(color='#5E2612'),\n",
        "                        legend=dict(orientation=\"h\", yanchor=\"bottom\", y=1.02, xanchor=\"right\", x=1)\n",
        "            )\n",
        "fig.show()"
      ]
    },
    {
      "cell_type": "code",
      "execution_count": 27,
      "metadata": {
        "colab": {
          "base_uri": "https://localhost:8080/",
          "height": 1000
        },
        "id": "G8PmOuP958S3",
        "outputId": "fd0e09d6-7170-49c6-8f8e-038b310119c1"
      },
      "outputs": [
        {
          "output_type": "display_data",
          "data": {
            "text/html": [
              "<html>\n",
              "<head><meta charset=\"utf-8\" /></head>\n",
              "<body>\n",
              "    <div>            <script src=\"https://cdnjs.cloudflare.com/ajax/libs/mathjax/2.7.5/MathJax.js?config=TeX-AMS-MML_SVG\"></script><script type=\"text/javascript\">if (window.MathJax && window.MathJax.Hub && window.MathJax.Hub.Config) {window.MathJax.Hub.Config({SVG: {font: \"STIX-Web\"}});}</script>                <script type=\"text/javascript\">window.PlotlyConfig = {MathJaxConfig: 'local'};</script>\n",
              "        <script src=\"https://cdn.plot.ly/plotly-2.18.2.min.js\"></script>                <div id=\"f8e5a39e-46da-4544-a8ca-7ff20c08dfb2\" class=\"plotly-graph-div\" style=\"height:400px; width:800px;\"></div>            <script type=\"text/javascript\">                                    window.PLOTLYENV=window.PLOTLYENV || {};                                    if (document.getElementById(\"f8e5a39e-46da-4544-a8ca-7ff20c08dfb2\")) {                    Plotly.newPlot(                        \"f8e5a39e-46da-4544-a8ca-7ff20c08dfb2\",                        [{\"alignmentgroup\":\"True\",\"bingroup\":\"x\",\"hovertemplate\":\"variable=Weekly_Sales<br>value=%{x}<br>count=%{y}<extra></extra>\",\"legendgroup\":\"Weekly_Sales\",\"marker\":{\"color\":\"#008B8B\",\"pattern\":{\"shape\":\"\"}},\"name\":\"Weekly_Sales\",\"nbinsx\":20,\"offsetgroup\":\"Weekly_Sales\",\"orientation\":\"v\",\"showlegend\":true,\"x\":[1572117.54,1807545.43,1244390.03,1644470.66,1857533.7,695396.19,2203523.2,2600519.26,418925.47,895066.5,1029618.1,414094.05,1677472.78,829207.27,1498080.16,1997397.63,1205307.5,2432736.52,561145.14,290930.01,1074079.0,1427023.45,1405007.44,919878.34,367438.62,435397.19,757738.76,1420405.41,563460.77,2077256.24,1853161.99,1266564.94,365248.94,988157.72,2008344.92,311906.7,961186.23,526525.16,1661767.33,629994.47,1641957.44,1861802.7,268929.03,1549018.68,1624383.75,485095.41,2035431.39,1916812.74,509263.28,1879451.23,1805999.79,1847430.96,888816.78,1532308.78,2020550.99,2095599.93,1990371.02,313358.15,2771397.17,1714309.9,1166117.85,461622.22,1588430.71,2461468.35,1449142.92,1508068.77,1973135.87,570611.23,1539483.7,1789687.65,519823.3,359206.21,1569607.94,607475.44,1758050.79,986922.62,431985.36,2045837.55,1797732.56,485389.15,1046782.52,384200.69,1953544.76,1494251.5,860336.16,298697.84,1768172.31,2018314.71,364076.85,1799520.14,1087051.26,2302504.86,419497.95,1366395.96,2095591.63,994801.4,1256282.79,1799737.79,1468350.36,2124451.54,1811606.21,1757242.51,660838.75,457340.06,513073.87,1864746.1,836707.85,275142.17,597876.55,1466046.67,1467473.63,398838.97,614253.33,1970341.38,1048134.24,2025582.62,855459.96,2036231.39,2066541.86,1831676.03,1639358.93,532739.77,301827.36,403342.4,396968.8,424513.08,2248645.59,716388.81,845252.21,856796.1,1255087.26],\"xaxis\":\"x\",\"yaxis\":\"y\",\"type\":\"histogram\"}],                        {\"template\":{\"data\":{\"histogram2dcontour\":[{\"type\":\"histogram2dcontour\",\"colorbar\":{\"outlinewidth\":0,\"ticks\":\"\"},\"colorscale\":[[0.0,\"#0d0887\"],[0.1111111111111111,\"#46039f\"],[0.2222222222222222,\"#7201a8\"],[0.3333333333333333,\"#9c179e\"],[0.4444444444444444,\"#bd3786\"],[0.5555555555555556,\"#d8576b\"],[0.6666666666666666,\"#ed7953\"],[0.7777777777777778,\"#fb9f3a\"],[0.8888888888888888,\"#fdca26\"],[1.0,\"#f0f921\"]]}],\"choropleth\":[{\"type\":\"choropleth\",\"colorbar\":{\"outlinewidth\":0,\"ticks\":\"\"}}],\"histogram2d\":[{\"type\":\"histogram2d\",\"colorbar\":{\"outlinewidth\":0,\"ticks\":\"\"},\"colorscale\":[[0.0,\"#0d0887\"],[0.1111111111111111,\"#46039f\"],[0.2222222222222222,\"#7201a8\"],[0.3333333333333333,\"#9c179e\"],[0.4444444444444444,\"#bd3786\"],[0.5555555555555556,\"#d8576b\"],[0.6666666666666666,\"#ed7953\"],[0.7777777777777778,\"#fb9f3a\"],[0.8888888888888888,\"#fdca26\"],[1.0,\"#f0f921\"]]}],\"heatmap\":[{\"type\":\"heatmap\",\"colorbar\":{\"outlinewidth\":0,\"ticks\":\"\"},\"colorscale\":[[0.0,\"#0d0887\"],[0.1111111111111111,\"#46039f\"],[0.2222222222222222,\"#7201a8\"],[0.3333333333333333,\"#9c179e\"],[0.4444444444444444,\"#bd3786\"],[0.5555555555555556,\"#d8576b\"],[0.6666666666666666,\"#ed7953\"],[0.7777777777777778,\"#fb9f3a\"],[0.8888888888888888,\"#fdca26\"],[1.0,\"#f0f921\"]]}],\"heatmapgl\":[{\"type\":\"heatmapgl\",\"colorbar\":{\"outlinewidth\":0,\"ticks\":\"\"},\"colorscale\":[[0.0,\"#0d0887\"],[0.1111111111111111,\"#46039f\"],[0.2222222222222222,\"#7201a8\"],[0.3333333333333333,\"#9c179e\"],[0.4444444444444444,\"#bd3786\"],[0.5555555555555556,\"#d8576b\"],[0.6666666666666666,\"#ed7953\"],[0.7777777777777778,\"#fb9f3a\"],[0.8888888888888888,\"#fdca26\"],[1.0,\"#f0f921\"]]}],\"contourcarpet\":[{\"type\":\"contourcarpet\",\"colorbar\":{\"outlinewidth\":0,\"ticks\":\"\"}}],\"contour\":[{\"type\":\"contour\",\"colorbar\":{\"outlinewidth\":0,\"ticks\":\"\"},\"colorscale\":[[0.0,\"#0d0887\"],[0.1111111111111111,\"#46039f\"],[0.2222222222222222,\"#7201a8\"],[0.3333333333333333,\"#9c179e\"],[0.4444444444444444,\"#bd3786\"],[0.5555555555555556,\"#d8576b\"],[0.6666666666666666,\"#ed7953\"],[0.7777777777777778,\"#fb9f3a\"],[0.8888888888888888,\"#fdca26\"],[1.0,\"#f0f921\"]]}],\"surface\":[{\"type\":\"surface\",\"colorbar\":{\"outlinewidth\":0,\"ticks\":\"\"},\"colorscale\":[[0.0,\"#0d0887\"],[0.1111111111111111,\"#46039f\"],[0.2222222222222222,\"#7201a8\"],[0.3333333333333333,\"#9c179e\"],[0.4444444444444444,\"#bd3786\"],[0.5555555555555556,\"#d8576b\"],[0.6666666666666666,\"#ed7953\"],[0.7777777777777778,\"#fb9f3a\"],[0.8888888888888888,\"#fdca26\"],[1.0,\"#f0f921\"]]}],\"mesh3d\":[{\"type\":\"mesh3d\",\"colorbar\":{\"outlinewidth\":0,\"ticks\":\"\"}}],\"scatter\":[{\"fillpattern\":{\"fillmode\":\"overlay\",\"size\":10,\"solidity\":0.2},\"type\":\"scatter\"}],\"parcoords\":[{\"type\":\"parcoords\",\"line\":{\"colorbar\":{\"outlinewidth\":0,\"ticks\":\"\"}}}],\"scatterpolargl\":[{\"type\":\"scatterpolargl\",\"marker\":{\"colorbar\":{\"outlinewidth\":0,\"ticks\":\"\"}}}],\"bar\":[{\"error_x\":{\"color\":\"#2a3f5f\"},\"error_y\":{\"color\":\"#2a3f5f\"},\"marker\":{\"line\":{\"color\":\"#E5ECF6\",\"width\":0.5},\"pattern\":{\"fillmode\":\"overlay\",\"size\":10,\"solidity\":0.2}},\"type\":\"bar\"}],\"scattergeo\":[{\"type\":\"scattergeo\",\"marker\":{\"colorbar\":{\"outlinewidth\":0,\"ticks\":\"\"}}}],\"scatterpolar\":[{\"type\":\"scatterpolar\",\"marker\":{\"colorbar\":{\"outlinewidth\":0,\"ticks\":\"\"}}}],\"histogram\":[{\"marker\":{\"pattern\":{\"fillmode\":\"overlay\",\"size\":10,\"solidity\":0.2}},\"type\":\"histogram\"}],\"scattergl\":[{\"type\":\"scattergl\",\"marker\":{\"colorbar\":{\"outlinewidth\":0,\"ticks\":\"\"}}}],\"scatter3d\":[{\"type\":\"scatter3d\",\"line\":{\"colorbar\":{\"outlinewidth\":0,\"ticks\":\"\"}},\"marker\":{\"colorbar\":{\"outlinewidth\":0,\"ticks\":\"\"}}}],\"scattermapbox\":[{\"type\":\"scattermapbox\",\"marker\":{\"colorbar\":{\"outlinewidth\":0,\"ticks\":\"\"}}}],\"scatterternary\":[{\"type\":\"scatterternary\",\"marker\":{\"colorbar\":{\"outlinewidth\":0,\"ticks\":\"\"}}}],\"scattercarpet\":[{\"type\":\"scattercarpet\",\"marker\":{\"colorbar\":{\"outlinewidth\":0,\"ticks\":\"\"}}}],\"carpet\":[{\"aaxis\":{\"endlinecolor\":\"#2a3f5f\",\"gridcolor\":\"white\",\"linecolor\":\"white\",\"minorgridcolor\":\"white\",\"startlinecolor\":\"#2a3f5f\"},\"baxis\":{\"endlinecolor\":\"#2a3f5f\",\"gridcolor\":\"white\",\"linecolor\":\"white\",\"minorgridcolor\":\"white\",\"startlinecolor\":\"#2a3f5f\"},\"type\":\"carpet\"}],\"table\":[{\"cells\":{\"fill\":{\"color\":\"#EBF0F8\"},\"line\":{\"color\":\"white\"}},\"header\":{\"fill\":{\"color\":\"#C8D4E3\"},\"line\":{\"color\":\"white\"}},\"type\":\"table\"}],\"barpolar\":[{\"marker\":{\"line\":{\"color\":\"#E5ECF6\",\"width\":0.5},\"pattern\":{\"fillmode\":\"overlay\",\"size\":10,\"solidity\":0.2}},\"type\":\"barpolar\"}],\"pie\":[{\"automargin\":true,\"type\":\"pie\"}]},\"layout\":{\"autotypenumbers\":\"strict\",\"colorway\":[\"#636efa\",\"#EF553B\",\"#00cc96\",\"#ab63fa\",\"#FFA15A\",\"#19d3f3\",\"#FF6692\",\"#B6E880\",\"#FF97FF\",\"#FECB52\"],\"font\":{\"color\":\"#2a3f5f\"},\"hovermode\":\"closest\",\"hoverlabel\":{\"align\":\"left\"},\"paper_bgcolor\":\"white\",\"plot_bgcolor\":\"#E5ECF6\",\"polar\":{\"bgcolor\":\"#E5ECF6\",\"angularaxis\":{\"gridcolor\":\"white\",\"linecolor\":\"white\",\"ticks\":\"\"},\"radialaxis\":{\"gridcolor\":\"white\",\"linecolor\":\"white\",\"ticks\":\"\"}},\"ternary\":{\"bgcolor\":\"#E5ECF6\",\"aaxis\":{\"gridcolor\":\"white\",\"linecolor\":\"white\",\"ticks\":\"\"},\"baxis\":{\"gridcolor\":\"white\",\"linecolor\":\"white\",\"ticks\":\"\"},\"caxis\":{\"gridcolor\":\"white\",\"linecolor\":\"white\",\"ticks\":\"\"}},\"coloraxis\":{\"colorbar\":{\"outlinewidth\":0,\"ticks\":\"\"}},\"colorscale\":{\"sequential\":[[0.0,\"#0d0887\"],[0.1111111111111111,\"#46039f\"],[0.2222222222222222,\"#7201a8\"],[0.3333333333333333,\"#9c179e\"],[0.4444444444444444,\"#bd3786\"],[0.5555555555555556,\"#d8576b\"],[0.6666666666666666,\"#ed7953\"],[0.7777777777777778,\"#fb9f3a\"],[0.8888888888888888,\"#fdca26\"],[1.0,\"#f0f921\"]],\"sequentialminus\":[[0.0,\"#0d0887\"],[0.1111111111111111,\"#46039f\"],[0.2222222222222222,\"#7201a8\"],[0.3333333333333333,\"#9c179e\"],[0.4444444444444444,\"#bd3786\"],[0.5555555555555556,\"#d8576b\"],[0.6666666666666666,\"#ed7953\"],[0.7777777777777778,\"#fb9f3a\"],[0.8888888888888888,\"#fdca26\"],[1.0,\"#f0f921\"]],\"diverging\":[[0,\"#8e0152\"],[0.1,\"#c51b7d\"],[0.2,\"#de77ae\"],[0.3,\"#f1b6da\"],[0.4,\"#fde0ef\"],[0.5,\"#f7f7f7\"],[0.6,\"#e6f5d0\"],[0.7,\"#b8e186\"],[0.8,\"#7fbc41\"],[0.9,\"#4d9221\"],[1,\"#276419\"]]},\"xaxis\":{\"gridcolor\":\"white\",\"linecolor\":\"white\",\"ticks\":\"\",\"title\":{\"standoff\":15},\"zerolinecolor\":\"white\",\"automargin\":true,\"zerolinewidth\":2},\"yaxis\":{\"gridcolor\":\"white\",\"linecolor\":\"white\",\"ticks\":\"\",\"title\":{\"standoff\":15},\"zerolinecolor\":\"white\",\"automargin\":true,\"zerolinewidth\":2},\"scene\":{\"xaxis\":{\"backgroundcolor\":\"#E5ECF6\",\"gridcolor\":\"white\",\"linecolor\":\"white\",\"showbackground\":true,\"ticks\":\"\",\"zerolinecolor\":\"white\",\"gridwidth\":2},\"yaxis\":{\"backgroundcolor\":\"#E5ECF6\",\"gridcolor\":\"white\",\"linecolor\":\"white\",\"showbackground\":true,\"ticks\":\"\",\"zerolinecolor\":\"white\",\"gridwidth\":2},\"zaxis\":{\"backgroundcolor\":\"#E5ECF6\",\"gridcolor\":\"white\",\"linecolor\":\"white\",\"showbackground\":true,\"ticks\":\"\",\"zerolinecolor\":\"white\",\"gridwidth\":2}},\"shapedefaults\":{\"line\":{\"color\":\"#2a3f5f\"}},\"annotationdefaults\":{\"arrowcolor\":\"#2a3f5f\",\"arrowhead\":0,\"arrowwidth\":1},\"geo\":{\"bgcolor\":\"white\",\"landcolor\":\"#E5ECF6\",\"subunitcolor\":\"white\",\"showland\":true,\"showlakes\":true,\"lakecolor\":\"white\"},\"title\":{\"x\":0.05},\"mapbox\":{\"style\":\"light\"}}},\"xaxis\":{\"anchor\":\"y\",\"domain\":[0.0,1.0],\"title\":{\"text\":\"Weekly_Sales\"}},\"yaxis\":{\"anchor\":\"x\",\"domain\":[0.0,1.0],\"title\":{\"text\":\"Total\"}},\"legend\":{\"title\":{\"text\":\"variable\"},\"tracegroupgap\":0,\"orientation\":\"h\",\"yanchor\":\"bottom\",\"y\":1.02,\"xanchor\":\"right\",\"x\":1.7},\"margin\":{\"t\":60},\"barmode\":\"relative\",\"title\":{\"text\":\"Univariate analysis\",\"x\":0.5,\"font\":{\"size\":25,\"color\":\"#a5a7ab\",\"family\":\"Muli, sans-serif\"}},\"font\":{\"color\":\"#8a8d93\"},\"plot_bgcolor\":\"#2d3035\",\"paper_bgcolor\":\"#2d3035\",\"height\":400,\"width\":800},                        {\"responsive\": true}                    ).then(function(){\n",
              "                            \n",
              "var gd = document.getElementById('f8e5a39e-46da-4544-a8ca-7ff20c08dfb2');\n",
              "var x = new MutationObserver(function (mutations, observer) {{\n",
              "        var display = window.getComputedStyle(gd).display;\n",
              "        if (!display || display === 'none') {{\n",
              "            console.log([gd, 'removed!']);\n",
              "            Plotly.purge(gd);\n",
              "            observer.disconnect();\n",
              "        }}\n",
              "}});\n",
              "\n",
              "// Listen for the removal of the full notebook cells\n",
              "var notebookContainer = gd.closest('#notebook-container');\n",
              "if (notebookContainer) {{\n",
              "    x.observe(notebookContainer, {childList: true});\n",
              "}}\n",
              "\n",
              "// Listen for the clearing of the current output cell\n",
              "var outputEl = gd.closest('.output');\n",
              "if (outputEl) {{\n",
              "    x.observe(outputEl, {childList: true});\n",
              "}}\n",
              "\n",
              "                        })                };                            </script>        </div>\n",
              "</body>\n",
              "</html>"
            ]
          },
          "metadata": {}
        },
        {
          "output_type": "display_data",
          "data": {
            "text/html": [
              "<html>\n",
              "<head><meta charset=\"utf-8\" /></head>\n",
              "<body>\n",
              "    <div>            <script src=\"https://cdnjs.cloudflare.com/ajax/libs/mathjax/2.7.5/MathJax.js?config=TeX-AMS-MML_SVG\"></script><script type=\"text/javascript\">if (window.MathJax && window.MathJax.Hub && window.MathJax.Hub.Config) {window.MathJax.Hub.Config({SVG: {font: \"STIX-Web\"}});}</script>                <script type=\"text/javascript\">window.PlotlyConfig = {MathJaxConfig: 'local'};</script>\n",
              "        <script src=\"https://cdn.plot.ly/plotly-2.18.2.min.js\"></script>                <div id=\"f31b8e27-b3db-4286-8427-44924ff6a865\" class=\"plotly-graph-div\" style=\"height:400px; width:800px;\"></div>            <script type=\"text/javascript\">                                    window.PLOTLYENV=window.PLOTLYENV || {};                                    if (document.getElementById(\"f31b8e27-b3db-4286-8427-44924ff6a865\")) {                    Plotly.newPlot(                        \"f31b8e27-b3db-4286-8427-44924ff6a865\",                        [{\"alignmentgroup\":\"True\",\"bingroup\":\"x\",\"hovertemplate\":\"variable=Fuel_Price<br>value=%{x}<br>count=%{y}<extra></extra>\",\"legendgroup\":\"Fuel_Price\",\"marker\":{\"color\":\"#008B8B\",\"pattern\":{\"shape\":\"\"}},\"name\":\"Fuel_Price\",\"nbinsx\":20,\"offsetgroup\":\"Fuel_Price\",\"orientation\":\"v\",\"showlegend\":true,\"x\":[3.045,3.435,null,2.759,2.756,4.069,3.617,3.109,3.555,3.554,2.878,3.767,3.734,2.853,2.78,2.85,2.7880000000000003,null,2.725,3.899,4.029,2.963,4.124,3.797,3.261,3.828,2.915,3.523,3.103,null,3.48,3.789,3.467,3.823,3.57,3.297,4.023,3.659,3.73,3.485,2.548,3.555,2.64,2.958,3.684,3.75,3.788,2.728,2.653,3.625,3.666,3.648,2.619,2.64,3.695,4.046,3.882,3.594,3.149,3.287,2.792,2.572,3.139,2.817,2.619,3.594,2.8080000000000003,4.021,3.3080000000000003,null,2.7710000000000004,3.63,3.51,3.972,2.9760000000000004,3.793,3.688,3.739,3.786,2.642,3.63,2.667,3.76,2.854,null,null,null,2.814,2.637,null,3.815,2.86,3.346,2.932,null,2.548,2.906,3.179,3.722,2.514,null,2.735,2.909,3.936,2.637,3.193,2.582,3.682,3.596,3.786,null,3.3080000000000003,2.7110000000000003,3.606,3.84,3.529,2.8310000000000004,3.627,3.469,3.112,3.807,3.804,null,3.285,2.705,3.594,2.78,2.778,2.841,3.638,4.17],\"xaxis\":\"x\",\"yaxis\":\"y\",\"type\":\"histogram\"}],                        {\"template\":{\"data\":{\"histogram2dcontour\":[{\"type\":\"histogram2dcontour\",\"colorbar\":{\"outlinewidth\":0,\"ticks\":\"\"},\"colorscale\":[[0.0,\"#0d0887\"],[0.1111111111111111,\"#46039f\"],[0.2222222222222222,\"#7201a8\"],[0.3333333333333333,\"#9c179e\"],[0.4444444444444444,\"#bd3786\"],[0.5555555555555556,\"#d8576b\"],[0.6666666666666666,\"#ed7953\"],[0.7777777777777778,\"#fb9f3a\"],[0.8888888888888888,\"#fdca26\"],[1.0,\"#f0f921\"]]}],\"choropleth\":[{\"type\":\"choropleth\",\"colorbar\":{\"outlinewidth\":0,\"ticks\":\"\"}}],\"histogram2d\":[{\"type\":\"histogram2d\",\"colorbar\":{\"outlinewidth\":0,\"ticks\":\"\"},\"colorscale\":[[0.0,\"#0d0887\"],[0.1111111111111111,\"#46039f\"],[0.2222222222222222,\"#7201a8\"],[0.3333333333333333,\"#9c179e\"],[0.4444444444444444,\"#bd3786\"],[0.5555555555555556,\"#d8576b\"],[0.6666666666666666,\"#ed7953\"],[0.7777777777777778,\"#fb9f3a\"],[0.8888888888888888,\"#fdca26\"],[1.0,\"#f0f921\"]]}],\"heatmap\":[{\"type\":\"heatmap\",\"colorbar\":{\"outlinewidth\":0,\"ticks\":\"\"},\"colorscale\":[[0.0,\"#0d0887\"],[0.1111111111111111,\"#46039f\"],[0.2222222222222222,\"#7201a8\"],[0.3333333333333333,\"#9c179e\"],[0.4444444444444444,\"#bd3786\"],[0.5555555555555556,\"#d8576b\"],[0.6666666666666666,\"#ed7953\"],[0.7777777777777778,\"#fb9f3a\"],[0.8888888888888888,\"#fdca26\"],[1.0,\"#f0f921\"]]}],\"heatmapgl\":[{\"type\":\"heatmapgl\",\"colorbar\":{\"outlinewidth\":0,\"ticks\":\"\"},\"colorscale\":[[0.0,\"#0d0887\"],[0.1111111111111111,\"#46039f\"],[0.2222222222222222,\"#7201a8\"],[0.3333333333333333,\"#9c179e\"],[0.4444444444444444,\"#bd3786\"],[0.5555555555555556,\"#d8576b\"],[0.6666666666666666,\"#ed7953\"],[0.7777777777777778,\"#fb9f3a\"],[0.8888888888888888,\"#fdca26\"],[1.0,\"#f0f921\"]]}],\"contourcarpet\":[{\"type\":\"contourcarpet\",\"colorbar\":{\"outlinewidth\":0,\"ticks\":\"\"}}],\"contour\":[{\"type\":\"contour\",\"colorbar\":{\"outlinewidth\":0,\"ticks\":\"\"},\"colorscale\":[[0.0,\"#0d0887\"],[0.1111111111111111,\"#46039f\"],[0.2222222222222222,\"#7201a8\"],[0.3333333333333333,\"#9c179e\"],[0.4444444444444444,\"#bd3786\"],[0.5555555555555556,\"#d8576b\"],[0.6666666666666666,\"#ed7953\"],[0.7777777777777778,\"#fb9f3a\"],[0.8888888888888888,\"#fdca26\"],[1.0,\"#f0f921\"]]}],\"surface\":[{\"type\":\"surface\",\"colorbar\":{\"outlinewidth\":0,\"ticks\":\"\"},\"colorscale\":[[0.0,\"#0d0887\"],[0.1111111111111111,\"#46039f\"],[0.2222222222222222,\"#7201a8\"],[0.3333333333333333,\"#9c179e\"],[0.4444444444444444,\"#bd3786\"],[0.5555555555555556,\"#d8576b\"],[0.6666666666666666,\"#ed7953\"],[0.7777777777777778,\"#fb9f3a\"],[0.8888888888888888,\"#fdca26\"],[1.0,\"#f0f921\"]]}],\"mesh3d\":[{\"type\":\"mesh3d\",\"colorbar\":{\"outlinewidth\":0,\"ticks\":\"\"}}],\"scatter\":[{\"fillpattern\":{\"fillmode\":\"overlay\",\"size\":10,\"solidity\":0.2},\"type\":\"scatter\"}],\"parcoords\":[{\"type\":\"parcoords\",\"line\":{\"colorbar\":{\"outlinewidth\":0,\"ticks\":\"\"}}}],\"scatterpolargl\":[{\"type\":\"scatterpolargl\",\"marker\":{\"colorbar\":{\"outlinewidth\":0,\"ticks\":\"\"}}}],\"bar\":[{\"error_x\":{\"color\":\"#2a3f5f\"},\"error_y\":{\"color\":\"#2a3f5f\"},\"marker\":{\"line\":{\"color\":\"#E5ECF6\",\"width\":0.5},\"pattern\":{\"fillmode\":\"overlay\",\"size\":10,\"solidity\":0.2}},\"type\":\"bar\"}],\"scattergeo\":[{\"type\":\"scattergeo\",\"marker\":{\"colorbar\":{\"outlinewidth\":0,\"ticks\":\"\"}}}],\"scatterpolar\":[{\"type\":\"scatterpolar\",\"marker\":{\"colorbar\":{\"outlinewidth\":0,\"ticks\":\"\"}}}],\"histogram\":[{\"marker\":{\"pattern\":{\"fillmode\":\"overlay\",\"size\":10,\"solidity\":0.2}},\"type\":\"histogram\"}],\"scattergl\":[{\"type\":\"scattergl\",\"marker\":{\"colorbar\":{\"outlinewidth\":0,\"ticks\":\"\"}}}],\"scatter3d\":[{\"type\":\"scatter3d\",\"line\":{\"colorbar\":{\"outlinewidth\":0,\"ticks\":\"\"}},\"marker\":{\"colorbar\":{\"outlinewidth\":0,\"ticks\":\"\"}}}],\"scattermapbox\":[{\"type\":\"scattermapbox\",\"marker\":{\"colorbar\":{\"outlinewidth\":0,\"ticks\":\"\"}}}],\"scatterternary\":[{\"type\":\"scatterternary\",\"marker\":{\"colorbar\":{\"outlinewidth\":0,\"ticks\":\"\"}}}],\"scattercarpet\":[{\"type\":\"scattercarpet\",\"marker\":{\"colorbar\":{\"outlinewidth\":0,\"ticks\":\"\"}}}],\"carpet\":[{\"aaxis\":{\"endlinecolor\":\"#2a3f5f\",\"gridcolor\":\"white\",\"linecolor\":\"white\",\"minorgridcolor\":\"white\",\"startlinecolor\":\"#2a3f5f\"},\"baxis\":{\"endlinecolor\":\"#2a3f5f\",\"gridcolor\":\"white\",\"linecolor\":\"white\",\"minorgridcolor\":\"white\",\"startlinecolor\":\"#2a3f5f\"},\"type\":\"carpet\"}],\"table\":[{\"cells\":{\"fill\":{\"color\":\"#EBF0F8\"},\"line\":{\"color\":\"white\"}},\"header\":{\"fill\":{\"color\":\"#C8D4E3\"},\"line\":{\"color\":\"white\"}},\"type\":\"table\"}],\"barpolar\":[{\"marker\":{\"line\":{\"color\":\"#E5ECF6\",\"width\":0.5},\"pattern\":{\"fillmode\":\"overlay\",\"size\":10,\"solidity\":0.2}},\"type\":\"barpolar\"}],\"pie\":[{\"automargin\":true,\"type\":\"pie\"}]},\"layout\":{\"autotypenumbers\":\"strict\",\"colorway\":[\"#636efa\",\"#EF553B\",\"#00cc96\",\"#ab63fa\",\"#FFA15A\",\"#19d3f3\",\"#FF6692\",\"#B6E880\",\"#FF97FF\",\"#FECB52\"],\"font\":{\"color\":\"#2a3f5f\"},\"hovermode\":\"closest\",\"hoverlabel\":{\"align\":\"left\"},\"paper_bgcolor\":\"white\",\"plot_bgcolor\":\"#E5ECF6\",\"polar\":{\"bgcolor\":\"#E5ECF6\",\"angularaxis\":{\"gridcolor\":\"white\",\"linecolor\":\"white\",\"ticks\":\"\"},\"radialaxis\":{\"gridcolor\":\"white\",\"linecolor\":\"white\",\"ticks\":\"\"}},\"ternary\":{\"bgcolor\":\"#E5ECF6\",\"aaxis\":{\"gridcolor\":\"white\",\"linecolor\":\"white\",\"ticks\":\"\"},\"baxis\":{\"gridcolor\":\"white\",\"linecolor\":\"white\",\"ticks\":\"\"},\"caxis\":{\"gridcolor\":\"white\",\"linecolor\":\"white\",\"ticks\":\"\"}},\"coloraxis\":{\"colorbar\":{\"outlinewidth\":0,\"ticks\":\"\"}},\"colorscale\":{\"sequential\":[[0.0,\"#0d0887\"],[0.1111111111111111,\"#46039f\"],[0.2222222222222222,\"#7201a8\"],[0.3333333333333333,\"#9c179e\"],[0.4444444444444444,\"#bd3786\"],[0.5555555555555556,\"#d8576b\"],[0.6666666666666666,\"#ed7953\"],[0.7777777777777778,\"#fb9f3a\"],[0.8888888888888888,\"#fdca26\"],[1.0,\"#f0f921\"]],\"sequentialminus\":[[0.0,\"#0d0887\"],[0.1111111111111111,\"#46039f\"],[0.2222222222222222,\"#7201a8\"],[0.3333333333333333,\"#9c179e\"],[0.4444444444444444,\"#bd3786\"],[0.5555555555555556,\"#d8576b\"],[0.6666666666666666,\"#ed7953\"],[0.7777777777777778,\"#fb9f3a\"],[0.8888888888888888,\"#fdca26\"],[1.0,\"#f0f921\"]],\"diverging\":[[0,\"#8e0152\"],[0.1,\"#c51b7d\"],[0.2,\"#de77ae\"],[0.3,\"#f1b6da\"],[0.4,\"#fde0ef\"],[0.5,\"#f7f7f7\"],[0.6,\"#e6f5d0\"],[0.7,\"#b8e186\"],[0.8,\"#7fbc41\"],[0.9,\"#4d9221\"],[1,\"#276419\"]]},\"xaxis\":{\"gridcolor\":\"white\",\"linecolor\":\"white\",\"ticks\":\"\",\"title\":{\"standoff\":15},\"zerolinecolor\":\"white\",\"automargin\":true,\"zerolinewidth\":2},\"yaxis\":{\"gridcolor\":\"white\",\"linecolor\":\"white\",\"ticks\":\"\",\"title\":{\"standoff\":15},\"zerolinecolor\":\"white\",\"automargin\":true,\"zerolinewidth\":2},\"scene\":{\"xaxis\":{\"backgroundcolor\":\"#E5ECF6\",\"gridcolor\":\"white\",\"linecolor\":\"white\",\"showbackground\":true,\"ticks\":\"\",\"zerolinecolor\":\"white\",\"gridwidth\":2},\"yaxis\":{\"backgroundcolor\":\"#E5ECF6\",\"gridcolor\":\"white\",\"linecolor\":\"white\",\"showbackground\":true,\"ticks\":\"\",\"zerolinecolor\":\"white\",\"gridwidth\":2},\"zaxis\":{\"backgroundcolor\":\"#E5ECF6\",\"gridcolor\":\"white\",\"linecolor\":\"white\",\"showbackground\":true,\"ticks\":\"\",\"zerolinecolor\":\"white\",\"gridwidth\":2}},\"shapedefaults\":{\"line\":{\"color\":\"#2a3f5f\"}},\"annotationdefaults\":{\"arrowcolor\":\"#2a3f5f\",\"arrowhead\":0,\"arrowwidth\":1},\"geo\":{\"bgcolor\":\"white\",\"landcolor\":\"#E5ECF6\",\"subunitcolor\":\"white\",\"showland\":true,\"showlakes\":true,\"lakecolor\":\"white\"},\"title\":{\"x\":0.05},\"mapbox\":{\"style\":\"light\"}}},\"xaxis\":{\"anchor\":\"y\",\"domain\":[0.0,1.0],\"title\":{\"text\":\"Fuel_Price\"}},\"yaxis\":{\"anchor\":\"x\",\"domain\":[0.0,1.0],\"title\":{\"text\":\"Total\"}},\"legend\":{\"title\":{\"text\":\"variable\"},\"tracegroupgap\":0,\"orientation\":\"h\",\"yanchor\":\"bottom\",\"y\":1.02,\"xanchor\":\"right\",\"x\":1.7},\"margin\":{\"t\":60},\"barmode\":\"relative\",\"title\":{\"text\":\"Univariate analysis\",\"x\":0.5,\"font\":{\"size\":25,\"color\":\"#a5a7ab\",\"family\":\"Muli, sans-serif\"}},\"font\":{\"color\":\"#8a8d93\"},\"plot_bgcolor\":\"#2d3035\",\"paper_bgcolor\":\"#2d3035\",\"height\":400,\"width\":800},                        {\"responsive\": true}                    ).then(function(){\n",
              "                            \n",
              "var gd = document.getElementById('f31b8e27-b3db-4286-8427-44924ff6a865');\n",
              "var x = new MutationObserver(function (mutations, observer) {{\n",
              "        var display = window.getComputedStyle(gd).display;\n",
              "        if (!display || display === 'none') {{\n",
              "            console.log([gd, 'removed!']);\n",
              "            Plotly.purge(gd);\n",
              "            observer.disconnect();\n",
              "        }}\n",
              "}});\n",
              "\n",
              "// Listen for the removal of the full notebook cells\n",
              "var notebookContainer = gd.closest('#notebook-container');\n",
              "if (notebookContainer) {{\n",
              "    x.observe(notebookContainer, {childList: true});\n",
              "}}\n",
              "\n",
              "// Listen for the clearing of the current output cell\n",
              "var outputEl = gd.closest('.output');\n",
              "if (outputEl) {{\n",
              "    x.observe(outputEl, {childList: true});\n",
              "}}\n",
              "\n",
              "                        })                };                            </script>        </div>\n",
              "</body>\n",
              "</html>"
            ]
          },
          "metadata": {}
        },
        {
          "output_type": "display_data",
          "data": {
            "text/html": [
              "<html>\n",
              "<head><meta charset=\"utf-8\" /></head>\n",
              "<body>\n",
              "    <div>            <script src=\"https://cdnjs.cloudflare.com/ajax/libs/mathjax/2.7.5/MathJax.js?config=TeX-AMS-MML_SVG\"></script><script type=\"text/javascript\">if (window.MathJax && window.MathJax.Hub && window.MathJax.Hub.Config) {window.MathJax.Hub.Config({SVG: {font: \"STIX-Web\"}});}</script>                <script type=\"text/javascript\">window.PlotlyConfig = {MathJaxConfig: 'local'};</script>\n",
              "        <script src=\"https://cdn.plot.ly/plotly-2.18.2.min.js\"></script>                <div id=\"1a9bd901-8df7-4aab-a9d8-c41ae0ed5703\" class=\"plotly-graph-div\" style=\"height:400px; width:800px;\"></div>            <script type=\"text/javascript\">                                    window.PLOTLYENV=window.PLOTLYENV || {};                                    if (document.getElementById(\"1a9bd901-8df7-4aab-a9d8-c41ae0ed5703\")) {                    Plotly.newPlot(                        \"1a9bd901-8df7-4aab-a9d8-c41ae0ed5703\",                        [{\"alignmentgroup\":\"True\",\"bingroup\":\"x\",\"hovertemplate\":\"variable=Temperature<br>value=%{x}<br>count=%{y}<extra></extra>\",\"legendgroup\":\"Temperature\",\"marker\":{\"color\":\"#008B8B\",\"pattern\":{\"shape\":\"\"}},\"name\":\"Temperature\",\"nbinsx\":20,\"offsetgroup\":\"Temperature\",\"orientation\":\"v\",\"showlegend\":true,\"x\":[15.33888888888889,5.766666666666668,29.205555555555552,26.049999999999997,null,21.0,4.405555555555555,-0.8111111111111116,15.622222222222222,28.28888888888889,11.122222222222225,2.561111111111111,18.188888888888886,15.594444444444443,20.505555555555553,24.633333333333336,-5.927777777777779,10.072222222222223,3.4777777777777765,25.21111111111111,10.538888888888888,3.927777777777778,10.42222222222222,7.122222222222222,11.033333333333333,6.63888888888889,7.344444444444444,null,-7.33888888888889,2.7777777777777777,30.944444444444443,0.6999999999999988,26.772222222222222,null,27.694444444444443,15.950000000000001,10.238888888888889,null,null,14.222222222222221,3.6166666666666654,12.572222222222223,28.033333333333328,19.02777777777778,33.138888888888886,9.049999999999999,16.172222222222224,15.383333333333333,29.455555555555552,5.422222222222221,30.483333333333334,17.555555555555557,23.84444444444445,null,2.694444444444445,null,14.233333333333333,20.650000000000002,2.4666666666666655,6.35,23.150000000000002,7.616666666666668,-2.5555555555555562,2.6555555555555563,29.56666666666667,19.983333333333334,23.983333333333334,8.566666666666668,16.805555555555557,20.761111111111113,9.97777777777778,null,11.538888888888891,26.65,7.049999999999999,null,23.994444444444444,4.3277777777777775,24.67777777777778,25.83888888888889,20.505555555555553,null,25.816666666666666,23.766666666666666,9.866666666666665,19.73888888888889,32.4,26.011111111111106,28.62222222222222,8.194444444444445,20.97222222222222,5.777777777777777,28.166666666666668,22.68333333333333,1.6055555555555558,0.7444444444444464,20.622222222222224,-1.7499999999999991,null,4.272222222222221,0.39444444444444493,21.055555555555557,null,4.055555555555554,28.327777777777776,1.288888888888889,24.066666666666663,31.900000000000002,14.355555555555558,null,20.144444444444446,17.727777777777774,16.549999999999997,24.416666666666668,22.916666666666668,11.38888888888889,null,28.244444444444447,29.216666666666672,31.355555555555554,23.466666666666665,10.333333333333334,16.87222222222222,24.188888888888894,25.85,23.022222222222222,22.56666666666667,-6.255555555555556,13.966666666666667,30.02777777777778,12.888888888888891],\"xaxis\":\"x\",\"yaxis\":\"y\",\"type\":\"histogram\"}],                        {\"template\":{\"data\":{\"histogram2dcontour\":[{\"type\":\"histogram2dcontour\",\"colorbar\":{\"outlinewidth\":0,\"ticks\":\"\"},\"colorscale\":[[0.0,\"#0d0887\"],[0.1111111111111111,\"#46039f\"],[0.2222222222222222,\"#7201a8\"],[0.3333333333333333,\"#9c179e\"],[0.4444444444444444,\"#bd3786\"],[0.5555555555555556,\"#d8576b\"],[0.6666666666666666,\"#ed7953\"],[0.7777777777777778,\"#fb9f3a\"],[0.8888888888888888,\"#fdca26\"],[1.0,\"#f0f921\"]]}],\"choropleth\":[{\"type\":\"choropleth\",\"colorbar\":{\"outlinewidth\":0,\"ticks\":\"\"}}],\"histogram2d\":[{\"type\":\"histogram2d\",\"colorbar\":{\"outlinewidth\":0,\"ticks\":\"\"},\"colorscale\":[[0.0,\"#0d0887\"],[0.1111111111111111,\"#46039f\"],[0.2222222222222222,\"#7201a8\"],[0.3333333333333333,\"#9c179e\"],[0.4444444444444444,\"#bd3786\"],[0.5555555555555556,\"#d8576b\"],[0.6666666666666666,\"#ed7953\"],[0.7777777777777778,\"#fb9f3a\"],[0.8888888888888888,\"#fdca26\"],[1.0,\"#f0f921\"]]}],\"heatmap\":[{\"type\":\"heatmap\",\"colorbar\":{\"outlinewidth\":0,\"ticks\":\"\"},\"colorscale\":[[0.0,\"#0d0887\"],[0.1111111111111111,\"#46039f\"],[0.2222222222222222,\"#7201a8\"],[0.3333333333333333,\"#9c179e\"],[0.4444444444444444,\"#bd3786\"],[0.5555555555555556,\"#d8576b\"],[0.6666666666666666,\"#ed7953\"],[0.7777777777777778,\"#fb9f3a\"],[0.8888888888888888,\"#fdca26\"],[1.0,\"#f0f921\"]]}],\"heatmapgl\":[{\"type\":\"heatmapgl\",\"colorbar\":{\"outlinewidth\":0,\"ticks\":\"\"},\"colorscale\":[[0.0,\"#0d0887\"],[0.1111111111111111,\"#46039f\"],[0.2222222222222222,\"#7201a8\"],[0.3333333333333333,\"#9c179e\"],[0.4444444444444444,\"#bd3786\"],[0.5555555555555556,\"#d8576b\"],[0.6666666666666666,\"#ed7953\"],[0.7777777777777778,\"#fb9f3a\"],[0.8888888888888888,\"#fdca26\"],[1.0,\"#f0f921\"]]}],\"contourcarpet\":[{\"type\":\"contourcarpet\",\"colorbar\":{\"outlinewidth\":0,\"ticks\":\"\"}}],\"contour\":[{\"type\":\"contour\",\"colorbar\":{\"outlinewidth\":0,\"ticks\":\"\"},\"colorscale\":[[0.0,\"#0d0887\"],[0.1111111111111111,\"#46039f\"],[0.2222222222222222,\"#7201a8\"],[0.3333333333333333,\"#9c179e\"],[0.4444444444444444,\"#bd3786\"],[0.5555555555555556,\"#d8576b\"],[0.6666666666666666,\"#ed7953\"],[0.7777777777777778,\"#fb9f3a\"],[0.8888888888888888,\"#fdca26\"],[1.0,\"#f0f921\"]]}],\"surface\":[{\"type\":\"surface\",\"colorbar\":{\"outlinewidth\":0,\"ticks\":\"\"},\"colorscale\":[[0.0,\"#0d0887\"],[0.1111111111111111,\"#46039f\"],[0.2222222222222222,\"#7201a8\"],[0.3333333333333333,\"#9c179e\"],[0.4444444444444444,\"#bd3786\"],[0.5555555555555556,\"#d8576b\"],[0.6666666666666666,\"#ed7953\"],[0.7777777777777778,\"#fb9f3a\"],[0.8888888888888888,\"#fdca26\"],[1.0,\"#f0f921\"]]}],\"mesh3d\":[{\"type\":\"mesh3d\",\"colorbar\":{\"outlinewidth\":0,\"ticks\":\"\"}}],\"scatter\":[{\"fillpattern\":{\"fillmode\":\"overlay\",\"size\":10,\"solidity\":0.2},\"type\":\"scatter\"}],\"parcoords\":[{\"type\":\"parcoords\",\"line\":{\"colorbar\":{\"outlinewidth\":0,\"ticks\":\"\"}}}],\"scatterpolargl\":[{\"type\":\"scatterpolargl\",\"marker\":{\"colorbar\":{\"outlinewidth\":0,\"ticks\":\"\"}}}],\"bar\":[{\"error_x\":{\"color\":\"#2a3f5f\"},\"error_y\":{\"color\":\"#2a3f5f\"},\"marker\":{\"line\":{\"color\":\"#E5ECF6\",\"width\":0.5},\"pattern\":{\"fillmode\":\"overlay\",\"size\":10,\"solidity\":0.2}},\"type\":\"bar\"}],\"scattergeo\":[{\"type\":\"scattergeo\",\"marker\":{\"colorbar\":{\"outlinewidth\":0,\"ticks\":\"\"}}}],\"scatterpolar\":[{\"type\":\"scatterpolar\",\"marker\":{\"colorbar\":{\"outlinewidth\":0,\"ticks\":\"\"}}}],\"histogram\":[{\"marker\":{\"pattern\":{\"fillmode\":\"overlay\",\"size\":10,\"solidity\":0.2}},\"type\":\"histogram\"}],\"scattergl\":[{\"type\":\"scattergl\",\"marker\":{\"colorbar\":{\"outlinewidth\":0,\"ticks\":\"\"}}}],\"scatter3d\":[{\"type\":\"scatter3d\",\"line\":{\"colorbar\":{\"outlinewidth\":0,\"ticks\":\"\"}},\"marker\":{\"colorbar\":{\"outlinewidth\":0,\"ticks\":\"\"}}}],\"scattermapbox\":[{\"type\":\"scattermapbox\",\"marker\":{\"colorbar\":{\"outlinewidth\":0,\"ticks\":\"\"}}}],\"scatterternary\":[{\"type\":\"scatterternary\",\"marker\":{\"colorbar\":{\"outlinewidth\":0,\"ticks\":\"\"}}}],\"scattercarpet\":[{\"type\":\"scattercarpet\",\"marker\":{\"colorbar\":{\"outlinewidth\":0,\"ticks\":\"\"}}}],\"carpet\":[{\"aaxis\":{\"endlinecolor\":\"#2a3f5f\",\"gridcolor\":\"white\",\"linecolor\":\"white\",\"minorgridcolor\":\"white\",\"startlinecolor\":\"#2a3f5f\"},\"baxis\":{\"endlinecolor\":\"#2a3f5f\",\"gridcolor\":\"white\",\"linecolor\":\"white\",\"minorgridcolor\":\"white\",\"startlinecolor\":\"#2a3f5f\"},\"type\":\"carpet\"}],\"table\":[{\"cells\":{\"fill\":{\"color\":\"#EBF0F8\"},\"line\":{\"color\":\"white\"}},\"header\":{\"fill\":{\"color\":\"#C8D4E3\"},\"line\":{\"color\":\"white\"}},\"type\":\"table\"}],\"barpolar\":[{\"marker\":{\"line\":{\"color\":\"#E5ECF6\",\"width\":0.5},\"pattern\":{\"fillmode\":\"overlay\",\"size\":10,\"solidity\":0.2}},\"type\":\"barpolar\"}],\"pie\":[{\"automargin\":true,\"type\":\"pie\"}]},\"layout\":{\"autotypenumbers\":\"strict\",\"colorway\":[\"#636efa\",\"#EF553B\",\"#00cc96\",\"#ab63fa\",\"#FFA15A\",\"#19d3f3\",\"#FF6692\",\"#B6E880\",\"#FF97FF\",\"#FECB52\"],\"font\":{\"color\":\"#2a3f5f\"},\"hovermode\":\"closest\",\"hoverlabel\":{\"align\":\"left\"},\"paper_bgcolor\":\"white\",\"plot_bgcolor\":\"#E5ECF6\",\"polar\":{\"bgcolor\":\"#E5ECF6\",\"angularaxis\":{\"gridcolor\":\"white\",\"linecolor\":\"white\",\"ticks\":\"\"},\"radialaxis\":{\"gridcolor\":\"white\",\"linecolor\":\"white\",\"ticks\":\"\"}},\"ternary\":{\"bgcolor\":\"#E5ECF6\",\"aaxis\":{\"gridcolor\":\"white\",\"linecolor\":\"white\",\"ticks\":\"\"},\"baxis\":{\"gridcolor\":\"white\",\"linecolor\":\"white\",\"ticks\":\"\"},\"caxis\":{\"gridcolor\":\"white\",\"linecolor\":\"white\",\"ticks\":\"\"}},\"coloraxis\":{\"colorbar\":{\"outlinewidth\":0,\"ticks\":\"\"}},\"colorscale\":{\"sequential\":[[0.0,\"#0d0887\"],[0.1111111111111111,\"#46039f\"],[0.2222222222222222,\"#7201a8\"],[0.3333333333333333,\"#9c179e\"],[0.4444444444444444,\"#bd3786\"],[0.5555555555555556,\"#d8576b\"],[0.6666666666666666,\"#ed7953\"],[0.7777777777777778,\"#fb9f3a\"],[0.8888888888888888,\"#fdca26\"],[1.0,\"#f0f921\"]],\"sequentialminus\":[[0.0,\"#0d0887\"],[0.1111111111111111,\"#46039f\"],[0.2222222222222222,\"#7201a8\"],[0.3333333333333333,\"#9c179e\"],[0.4444444444444444,\"#bd3786\"],[0.5555555555555556,\"#d8576b\"],[0.6666666666666666,\"#ed7953\"],[0.7777777777777778,\"#fb9f3a\"],[0.8888888888888888,\"#fdca26\"],[1.0,\"#f0f921\"]],\"diverging\":[[0,\"#8e0152\"],[0.1,\"#c51b7d\"],[0.2,\"#de77ae\"],[0.3,\"#f1b6da\"],[0.4,\"#fde0ef\"],[0.5,\"#f7f7f7\"],[0.6,\"#e6f5d0\"],[0.7,\"#b8e186\"],[0.8,\"#7fbc41\"],[0.9,\"#4d9221\"],[1,\"#276419\"]]},\"xaxis\":{\"gridcolor\":\"white\",\"linecolor\":\"white\",\"ticks\":\"\",\"title\":{\"standoff\":15},\"zerolinecolor\":\"white\",\"automargin\":true,\"zerolinewidth\":2},\"yaxis\":{\"gridcolor\":\"white\",\"linecolor\":\"white\",\"ticks\":\"\",\"title\":{\"standoff\":15},\"zerolinecolor\":\"white\",\"automargin\":true,\"zerolinewidth\":2},\"scene\":{\"xaxis\":{\"backgroundcolor\":\"#E5ECF6\",\"gridcolor\":\"white\",\"linecolor\":\"white\",\"showbackground\":true,\"ticks\":\"\",\"zerolinecolor\":\"white\",\"gridwidth\":2},\"yaxis\":{\"backgroundcolor\":\"#E5ECF6\",\"gridcolor\":\"white\",\"linecolor\":\"white\",\"showbackground\":true,\"ticks\":\"\",\"zerolinecolor\":\"white\",\"gridwidth\":2},\"zaxis\":{\"backgroundcolor\":\"#E5ECF6\",\"gridcolor\":\"white\",\"linecolor\":\"white\",\"showbackground\":true,\"ticks\":\"\",\"zerolinecolor\":\"white\",\"gridwidth\":2}},\"shapedefaults\":{\"line\":{\"color\":\"#2a3f5f\"}},\"annotationdefaults\":{\"arrowcolor\":\"#2a3f5f\",\"arrowhead\":0,\"arrowwidth\":1},\"geo\":{\"bgcolor\":\"white\",\"landcolor\":\"#E5ECF6\",\"subunitcolor\":\"white\",\"showland\":true,\"showlakes\":true,\"lakecolor\":\"white\"},\"title\":{\"x\":0.05},\"mapbox\":{\"style\":\"light\"}}},\"xaxis\":{\"anchor\":\"y\",\"domain\":[0.0,1.0],\"title\":{\"text\":\"Temperature\"}},\"yaxis\":{\"anchor\":\"x\",\"domain\":[0.0,1.0],\"title\":{\"text\":\"Total\"}},\"legend\":{\"title\":{\"text\":\"variable\"},\"tracegroupgap\":0,\"orientation\":\"h\",\"yanchor\":\"bottom\",\"y\":1.02,\"xanchor\":\"right\",\"x\":1.7},\"margin\":{\"t\":60},\"barmode\":\"relative\",\"title\":{\"text\":\"Univariate analysis\",\"x\":0.5,\"font\":{\"size\":25,\"color\":\"#a5a7ab\",\"family\":\"Muli, sans-serif\"}},\"font\":{\"color\":\"#8a8d93\"},\"plot_bgcolor\":\"#2d3035\",\"paper_bgcolor\":\"#2d3035\",\"height\":400,\"width\":800},                        {\"responsive\": true}                    ).then(function(){\n",
              "                            \n",
              "var gd = document.getElementById('1a9bd901-8df7-4aab-a9d8-c41ae0ed5703');\n",
              "var x = new MutationObserver(function (mutations, observer) {{\n",
              "        var display = window.getComputedStyle(gd).display;\n",
              "        if (!display || display === 'none') {{\n",
              "            console.log([gd, 'removed!']);\n",
              "            Plotly.purge(gd);\n",
              "            observer.disconnect();\n",
              "        }}\n",
              "}});\n",
              "\n",
              "// Listen for the removal of the full notebook cells\n",
              "var notebookContainer = gd.closest('#notebook-container');\n",
              "if (notebookContainer) {{\n",
              "    x.observe(notebookContainer, {childList: true});\n",
              "}}\n",
              "\n",
              "// Listen for the clearing of the current output cell\n",
              "var outputEl = gd.closest('.output');\n",
              "if (outputEl) {{\n",
              "    x.observe(outputEl, {childList: true});\n",
              "}}\n",
              "\n",
              "                        })                };                            </script>        </div>\n",
              "</body>\n",
              "</html>"
            ]
          },
          "metadata": {}
        },
        {
          "output_type": "display_data",
          "data": {
            "text/html": [
              "<html>\n",
              "<head><meta charset=\"utf-8\" /></head>\n",
              "<body>\n",
              "    <div>            <script src=\"https://cdnjs.cloudflare.com/ajax/libs/mathjax/2.7.5/MathJax.js?config=TeX-AMS-MML_SVG\"></script><script type=\"text/javascript\">if (window.MathJax && window.MathJax.Hub && window.MathJax.Hub.Config) {window.MathJax.Hub.Config({SVG: {font: \"STIX-Web\"}});}</script>                <script type=\"text/javascript\">window.PlotlyConfig = {MathJaxConfig: 'local'};</script>\n",
              "        <script src=\"https://cdn.plot.ly/plotly-2.18.2.min.js\"></script>                <div id=\"4e600385-0f9f-4e54-8458-77ca375d332f\" class=\"plotly-graph-div\" style=\"height:400px; width:800px;\"></div>            <script type=\"text/javascript\">                                    window.PLOTLYENV=window.PLOTLYENV || {};                                    if (document.getElementById(\"4e600385-0f9f-4e54-8458-77ca375d332f\")) {                    Plotly.newPlot(                        \"4e600385-0f9f-4e54-8458-77ca375d332f\",                        [{\"alignmentgroup\":\"True\",\"bingroup\":\"x\",\"hovertemplate\":\"variable=CPI<br>value=%{x}<br>count=%{y}<extra></extra>\",\"legendgroup\":\"CPI\",\"marker\":{\"color\":\"#008B8B\",\"pattern\":{\"shape\":\"\"}},\"name\":\"CPI\",\"nbinsx\":20,\"offsetgroup\":\"CPI\",\"orientation\":\"v\",\"showlegend\":true,\"x\":[214.7775231,128.6160645,214.55649680000005,212.412888,126.1602258,134.85516130000002,213.0236225,null,224.1320199,219.07019680000005,132.7633548,192.826069,221.2118132,126.2346,211.8942725,null,131.52790320000005,null,189.7048215,216.5343611,138.9117,131.863129,138.0332,131.1083333,null,192.831317,126.5621,217.2706543,196.9195056,null,214.9296249,133.9587419,219.7414914,134.2784667,129.0663,218.5699621,137.9781333,198.1267184,222.4390153,194.3796374,211.24216980000003,220.275944,211.9270006,132.5218667,215.544618,197.4133259,130.95922579999998,211.6608975,214.8965756,184.9943679,130.7196333,129.5183333,214.9362793,212.8944846,189.8424834,185.9374378,130.6457931,224.0192873,129.8980645,127.1917742,132.6141935,214.4248812,null,126.7934,211.5673056,223.4257233,204.5675459,137.5843871,218.2205088,null,215.43728540000004,221.4342146,223.9170153,135.8738387,211.0648881,131.03754840000002,225.2351496,213.4725116,215.1544822,214.6564301,null,214.7027646,186.1399808,210.3374261,214.7492449,210.939388,126.1266,126.1392,214.7858259,219.355063,135.4468,126.7934,225.3068615,132.5983871,null,214.62141890000004,132.2939355,204.6432267,138.1629,210.9451605,130.27922579999998,215.0614025,131.637,197.7227385,215.0166484,182.5983058,214.8785562,216.0464364,198.0950484,215.5037878,134.94254840000002,221.6432852,189.5231276,129.2015806,138.1857097,130.82619350000002,126.5461613,129.1507742,129.1125,126.1283548,217.0146941,197.5886046,212.5604113,null,214.4958382,226.9688442,182.4424199,null,126.1119032,219.0075249,137.9230667],\"xaxis\":\"x\",\"yaxis\":\"y\",\"type\":\"histogram\"}],                        {\"template\":{\"data\":{\"histogram2dcontour\":[{\"type\":\"histogram2dcontour\",\"colorbar\":{\"outlinewidth\":0,\"ticks\":\"\"},\"colorscale\":[[0.0,\"#0d0887\"],[0.1111111111111111,\"#46039f\"],[0.2222222222222222,\"#7201a8\"],[0.3333333333333333,\"#9c179e\"],[0.4444444444444444,\"#bd3786\"],[0.5555555555555556,\"#d8576b\"],[0.6666666666666666,\"#ed7953\"],[0.7777777777777778,\"#fb9f3a\"],[0.8888888888888888,\"#fdca26\"],[1.0,\"#f0f921\"]]}],\"choropleth\":[{\"type\":\"choropleth\",\"colorbar\":{\"outlinewidth\":0,\"ticks\":\"\"}}],\"histogram2d\":[{\"type\":\"histogram2d\",\"colorbar\":{\"outlinewidth\":0,\"ticks\":\"\"},\"colorscale\":[[0.0,\"#0d0887\"],[0.1111111111111111,\"#46039f\"],[0.2222222222222222,\"#7201a8\"],[0.3333333333333333,\"#9c179e\"],[0.4444444444444444,\"#bd3786\"],[0.5555555555555556,\"#d8576b\"],[0.6666666666666666,\"#ed7953\"],[0.7777777777777778,\"#fb9f3a\"],[0.8888888888888888,\"#fdca26\"],[1.0,\"#f0f921\"]]}],\"heatmap\":[{\"type\":\"heatmap\",\"colorbar\":{\"outlinewidth\":0,\"ticks\":\"\"},\"colorscale\":[[0.0,\"#0d0887\"],[0.1111111111111111,\"#46039f\"],[0.2222222222222222,\"#7201a8\"],[0.3333333333333333,\"#9c179e\"],[0.4444444444444444,\"#bd3786\"],[0.5555555555555556,\"#d8576b\"],[0.6666666666666666,\"#ed7953\"],[0.7777777777777778,\"#fb9f3a\"],[0.8888888888888888,\"#fdca26\"],[1.0,\"#f0f921\"]]}],\"heatmapgl\":[{\"type\":\"heatmapgl\",\"colorbar\":{\"outlinewidth\":0,\"ticks\":\"\"},\"colorscale\":[[0.0,\"#0d0887\"],[0.1111111111111111,\"#46039f\"],[0.2222222222222222,\"#7201a8\"],[0.3333333333333333,\"#9c179e\"],[0.4444444444444444,\"#bd3786\"],[0.5555555555555556,\"#d8576b\"],[0.6666666666666666,\"#ed7953\"],[0.7777777777777778,\"#fb9f3a\"],[0.8888888888888888,\"#fdca26\"],[1.0,\"#f0f921\"]]}],\"contourcarpet\":[{\"type\":\"contourcarpet\",\"colorbar\":{\"outlinewidth\":0,\"ticks\":\"\"}}],\"contour\":[{\"type\":\"contour\",\"colorbar\":{\"outlinewidth\":0,\"ticks\":\"\"},\"colorscale\":[[0.0,\"#0d0887\"],[0.1111111111111111,\"#46039f\"],[0.2222222222222222,\"#7201a8\"],[0.3333333333333333,\"#9c179e\"],[0.4444444444444444,\"#bd3786\"],[0.5555555555555556,\"#d8576b\"],[0.6666666666666666,\"#ed7953\"],[0.7777777777777778,\"#fb9f3a\"],[0.8888888888888888,\"#fdca26\"],[1.0,\"#f0f921\"]]}],\"surface\":[{\"type\":\"surface\",\"colorbar\":{\"outlinewidth\":0,\"ticks\":\"\"},\"colorscale\":[[0.0,\"#0d0887\"],[0.1111111111111111,\"#46039f\"],[0.2222222222222222,\"#7201a8\"],[0.3333333333333333,\"#9c179e\"],[0.4444444444444444,\"#bd3786\"],[0.5555555555555556,\"#d8576b\"],[0.6666666666666666,\"#ed7953\"],[0.7777777777777778,\"#fb9f3a\"],[0.8888888888888888,\"#fdca26\"],[1.0,\"#f0f921\"]]}],\"mesh3d\":[{\"type\":\"mesh3d\",\"colorbar\":{\"outlinewidth\":0,\"ticks\":\"\"}}],\"scatter\":[{\"fillpattern\":{\"fillmode\":\"overlay\",\"size\":10,\"solidity\":0.2},\"type\":\"scatter\"}],\"parcoords\":[{\"type\":\"parcoords\",\"line\":{\"colorbar\":{\"outlinewidth\":0,\"ticks\":\"\"}}}],\"scatterpolargl\":[{\"type\":\"scatterpolargl\",\"marker\":{\"colorbar\":{\"outlinewidth\":0,\"ticks\":\"\"}}}],\"bar\":[{\"error_x\":{\"color\":\"#2a3f5f\"},\"error_y\":{\"color\":\"#2a3f5f\"},\"marker\":{\"line\":{\"color\":\"#E5ECF6\",\"width\":0.5},\"pattern\":{\"fillmode\":\"overlay\",\"size\":10,\"solidity\":0.2}},\"type\":\"bar\"}],\"scattergeo\":[{\"type\":\"scattergeo\",\"marker\":{\"colorbar\":{\"outlinewidth\":0,\"ticks\":\"\"}}}],\"scatterpolar\":[{\"type\":\"scatterpolar\",\"marker\":{\"colorbar\":{\"outlinewidth\":0,\"ticks\":\"\"}}}],\"histogram\":[{\"marker\":{\"pattern\":{\"fillmode\":\"overlay\",\"size\":10,\"solidity\":0.2}},\"type\":\"histogram\"}],\"scattergl\":[{\"type\":\"scattergl\",\"marker\":{\"colorbar\":{\"outlinewidth\":0,\"ticks\":\"\"}}}],\"scatter3d\":[{\"type\":\"scatter3d\",\"line\":{\"colorbar\":{\"outlinewidth\":0,\"ticks\":\"\"}},\"marker\":{\"colorbar\":{\"outlinewidth\":0,\"ticks\":\"\"}}}],\"scattermapbox\":[{\"type\":\"scattermapbox\",\"marker\":{\"colorbar\":{\"outlinewidth\":0,\"ticks\":\"\"}}}],\"scatterternary\":[{\"type\":\"scatterternary\",\"marker\":{\"colorbar\":{\"outlinewidth\":0,\"ticks\":\"\"}}}],\"scattercarpet\":[{\"type\":\"scattercarpet\",\"marker\":{\"colorbar\":{\"outlinewidth\":0,\"ticks\":\"\"}}}],\"carpet\":[{\"aaxis\":{\"endlinecolor\":\"#2a3f5f\",\"gridcolor\":\"white\",\"linecolor\":\"white\",\"minorgridcolor\":\"white\",\"startlinecolor\":\"#2a3f5f\"},\"baxis\":{\"endlinecolor\":\"#2a3f5f\",\"gridcolor\":\"white\",\"linecolor\":\"white\",\"minorgridcolor\":\"white\",\"startlinecolor\":\"#2a3f5f\"},\"type\":\"carpet\"}],\"table\":[{\"cells\":{\"fill\":{\"color\":\"#EBF0F8\"},\"line\":{\"color\":\"white\"}},\"header\":{\"fill\":{\"color\":\"#C8D4E3\"},\"line\":{\"color\":\"white\"}},\"type\":\"table\"}],\"barpolar\":[{\"marker\":{\"line\":{\"color\":\"#E5ECF6\",\"width\":0.5},\"pattern\":{\"fillmode\":\"overlay\",\"size\":10,\"solidity\":0.2}},\"type\":\"barpolar\"}],\"pie\":[{\"automargin\":true,\"type\":\"pie\"}]},\"layout\":{\"autotypenumbers\":\"strict\",\"colorway\":[\"#636efa\",\"#EF553B\",\"#00cc96\",\"#ab63fa\",\"#FFA15A\",\"#19d3f3\",\"#FF6692\",\"#B6E880\",\"#FF97FF\",\"#FECB52\"],\"font\":{\"color\":\"#2a3f5f\"},\"hovermode\":\"closest\",\"hoverlabel\":{\"align\":\"left\"},\"paper_bgcolor\":\"white\",\"plot_bgcolor\":\"#E5ECF6\",\"polar\":{\"bgcolor\":\"#E5ECF6\",\"angularaxis\":{\"gridcolor\":\"white\",\"linecolor\":\"white\",\"ticks\":\"\"},\"radialaxis\":{\"gridcolor\":\"white\",\"linecolor\":\"white\",\"ticks\":\"\"}},\"ternary\":{\"bgcolor\":\"#E5ECF6\",\"aaxis\":{\"gridcolor\":\"white\",\"linecolor\":\"white\",\"ticks\":\"\"},\"baxis\":{\"gridcolor\":\"white\",\"linecolor\":\"white\",\"ticks\":\"\"},\"caxis\":{\"gridcolor\":\"white\",\"linecolor\":\"white\",\"ticks\":\"\"}},\"coloraxis\":{\"colorbar\":{\"outlinewidth\":0,\"ticks\":\"\"}},\"colorscale\":{\"sequential\":[[0.0,\"#0d0887\"],[0.1111111111111111,\"#46039f\"],[0.2222222222222222,\"#7201a8\"],[0.3333333333333333,\"#9c179e\"],[0.4444444444444444,\"#bd3786\"],[0.5555555555555556,\"#d8576b\"],[0.6666666666666666,\"#ed7953\"],[0.7777777777777778,\"#fb9f3a\"],[0.8888888888888888,\"#fdca26\"],[1.0,\"#f0f921\"]],\"sequentialminus\":[[0.0,\"#0d0887\"],[0.1111111111111111,\"#46039f\"],[0.2222222222222222,\"#7201a8\"],[0.3333333333333333,\"#9c179e\"],[0.4444444444444444,\"#bd3786\"],[0.5555555555555556,\"#d8576b\"],[0.6666666666666666,\"#ed7953\"],[0.7777777777777778,\"#fb9f3a\"],[0.8888888888888888,\"#fdca26\"],[1.0,\"#f0f921\"]],\"diverging\":[[0,\"#8e0152\"],[0.1,\"#c51b7d\"],[0.2,\"#de77ae\"],[0.3,\"#f1b6da\"],[0.4,\"#fde0ef\"],[0.5,\"#f7f7f7\"],[0.6,\"#e6f5d0\"],[0.7,\"#b8e186\"],[0.8,\"#7fbc41\"],[0.9,\"#4d9221\"],[1,\"#276419\"]]},\"xaxis\":{\"gridcolor\":\"white\",\"linecolor\":\"white\",\"ticks\":\"\",\"title\":{\"standoff\":15},\"zerolinecolor\":\"white\",\"automargin\":true,\"zerolinewidth\":2},\"yaxis\":{\"gridcolor\":\"white\",\"linecolor\":\"white\",\"ticks\":\"\",\"title\":{\"standoff\":15},\"zerolinecolor\":\"white\",\"automargin\":true,\"zerolinewidth\":2},\"scene\":{\"xaxis\":{\"backgroundcolor\":\"#E5ECF6\",\"gridcolor\":\"white\",\"linecolor\":\"white\",\"showbackground\":true,\"ticks\":\"\",\"zerolinecolor\":\"white\",\"gridwidth\":2},\"yaxis\":{\"backgroundcolor\":\"#E5ECF6\",\"gridcolor\":\"white\",\"linecolor\":\"white\",\"showbackground\":true,\"ticks\":\"\",\"zerolinecolor\":\"white\",\"gridwidth\":2},\"zaxis\":{\"backgroundcolor\":\"#E5ECF6\",\"gridcolor\":\"white\",\"linecolor\":\"white\",\"showbackground\":true,\"ticks\":\"\",\"zerolinecolor\":\"white\",\"gridwidth\":2}},\"shapedefaults\":{\"line\":{\"color\":\"#2a3f5f\"}},\"annotationdefaults\":{\"arrowcolor\":\"#2a3f5f\",\"arrowhead\":0,\"arrowwidth\":1},\"geo\":{\"bgcolor\":\"white\",\"landcolor\":\"#E5ECF6\",\"subunitcolor\":\"white\",\"showland\":true,\"showlakes\":true,\"lakecolor\":\"white\"},\"title\":{\"x\":0.05},\"mapbox\":{\"style\":\"light\"}}},\"xaxis\":{\"anchor\":\"y\",\"domain\":[0.0,1.0],\"title\":{\"text\":\"CPI\"}},\"yaxis\":{\"anchor\":\"x\",\"domain\":[0.0,1.0],\"title\":{\"text\":\"Total\"}},\"legend\":{\"title\":{\"text\":\"variable\"},\"tracegroupgap\":0,\"orientation\":\"h\",\"yanchor\":\"bottom\",\"y\":1.02,\"xanchor\":\"right\",\"x\":1.7},\"margin\":{\"t\":60},\"barmode\":\"relative\",\"title\":{\"text\":\"Univariate analysis\",\"x\":0.5,\"font\":{\"size\":25,\"color\":\"#a5a7ab\",\"family\":\"Muli, sans-serif\"}},\"font\":{\"color\":\"#8a8d93\"},\"plot_bgcolor\":\"#2d3035\",\"paper_bgcolor\":\"#2d3035\",\"height\":400,\"width\":800},                        {\"responsive\": true}                    ).then(function(){\n",
              "                            \n",
              "var gd = document.getElementById('4e600385-0f9f-4e54-8458-77ca375d332f');\n",
              "var x = new MutationObserver(function (mutations, observer) {{\n",
              "        var display = window.getComputedStyle(gd).display;\n",
              "        if (!display || display === 'none') {{\n",
              "            console.log([gd, 'removed!']);\n",
              "            Plotly.purge(gd);\n",
              "            observer.disconnect();\n",
              "        }}\n",
              "}});\n",
              "\n",
              "// Listen for the removal of the full notebook cells\n",
              "var notebookContainer = gd.closest('#notebook-container');\n",
              "if (notebookContainer) {{\n",
              "    x.observe(notebookContainer, {childList: true});\n",
              "}}\n",
              "\n",
              "// Listen for the clearing of the current output cell\n",
              "var outputEl = gd.closest('.output');\n",
              "if (outputEl) {{\n",
              "    x.observe(outputEl, {childList: true});\n",
              "}}\n",
              "\n",
              "                        })                };                            </script>        </div>\n",
              "</body>\n",
              "</html>"
            ]
          },
          "metadata": {}
        },
        {
          "output_type": "display_data",
          "data": {
            "text/html": [
              "<html>\n",
              "<head><meta charset=\"utf-8\" /></head>\n",
              "<body>\n",
              "    <div>            <script src=\"https://cdnjs.cloudflare.com/ajax/libs/mathjax/2.7.5/MathJax.js?config=TeX-AMS-MML_SVG\"></script><script type=\"text/javascript\">if (window.MathJax && window.MathJax.Hub && window.MathJax.Hub.Config) {window.MathJax.Hub.Config({SVG: {font: \"STIX-Web\"}});}</script>                <script type=\"text/javascript\">window.PlotlyConfig = {MathJaxConfig: 'local'};</script>\n",
              "        <script src=\"https://cdn.plot.ly/plotly-2.18.2.min.js\"></script>                <div id=\"3c905aa9-aa79-4bd8-8d03-8746374e7854\" class=\"plotly-graph-div\" style=\"height:400px; width:800px;\"></div>            <script type=\"text/javascript\">                                    window.PLOTLYENV=window.PLOTLYENV || {};                                    if (document.getElementById(\"3c905aa9-aa79-4bd8-8d03-8746374e7854\")) {                    Plotly.newPlot(                        \"3c905aa9-aa79-4bd8-8d03-8746374e7854\",                        [{\"alignmentgroup\":\"True\",\"bingroup\":\"x\",\"hovertemplate\":\"variable=Unemployment<br>value=%{x}<br>count=%{y}<extra></extra>\",\"legendgroup\":\"Unemployment\",\"marker\":{\"color\":\"#008B8B\",\"pattern\":{\"shape\":\"\"}},\"name\":\"Unemployment\",\"nbinsx\":20,\"offsetgroup\":\"Unemployment\",\"orientation\":\"v\",\"showlegend\":true,\"x\":[6.858,7.47,7.346,7.0920000000000005,7.896,7.657999999999999,6.961,null,6.832999999999998,6.425,9.331,8.595,7.348,6.885,7.0920000000000005,7.951,9.202,7.441,8.963,6.489,8.243,8.35,8.15,5.527,6.832999999999998,6.339,6.635,6.925,8.256,8.424,null,7.771,7.567,8.975,5.9460000000000015,6.3,8.304,6.061,6.908,8.622,8.106,7.057,6.496,8.099,7.9620000000000015,6.162000000000001,5.965,8.163,null,8.549,7.17,6.877000000000002,6.315,6.973,8.424,8.521,7.545,5.4220000000000015,5.143,8.744,9.342,7.3679999999999986,9.331,7.795,7.787000000000001,null,7.856,7.943,7.866,7.527,6.56,5.943,6.832999999999998,7.806,8.027999999999999,6.235,6.664,6.961,7.931,6.442,5.936,null,8.625,7.808,6.299,null,9.524,7.951,7.343,7.057,8.89,7.127000000000002,6.664,8.099,8.992,6.299,null,7.484,8.15,null,6.104,7.564,null,8.09,6.384,null,6.315,6.529,7.872000000000001,7.682,7.657999999999999,7.197,6.867999999999999,6.877000000000002,8.535,6.104,null,5.644,5.644,9.199,6.855,8.09,6.768,7.197,7.343,6.034,8.899,null,null,null,8.15],\"xaxis\":\"x\",\"yaxis\":\"y\",\"type\":\"histogram\"}],                        {\"template\":{\"data\":{\"histogram2dcontour\":[{\"type\":\"histogram2dcontour\",\"colorbar\":{\"outlinewidth\":0,\"ticks\":\"\"},\"colorscale\":[[0.0,\"#0d0887\"],[0.1111111111111111,\"#46039f\"],[0.2222222222222222,\"#7201a8\"],[0.3333333333333333,\"#9c179e\"],[0.4444444444444444,\"#bd3786\"],[0.5555555555555556,\"#d8576b\"],[0.6666666666666666,\"#ed7953\"],[0.7777777777777778,\"#fb9f3a\"],[0.8888888888888888,\"#fdca26\"],[1.0,\"#f0f921\"]]}],\"choropleth\":[{\"type\":\"choropleth\",\"colorbar\":{\"outlinewidth\":0,\"ticks\":\"\"}}],\"histogram2d\":[{\"type\":\"histogram2d\",\"colorbar\":{\"outlinewidth\":0,\"ticks\":\"\"},\"colorscale\":[[0.0,\"#0d0887\"],[0.1111111111111111,\"#46039f\"],[0.2222222222222222,\"#7201a8\"],[0.3333333333333333,\"#9c179e\"],[0.4444444444444444,\"#bd3786\"],[0.5555555555555556,\"#d8576b\"],[0.6666666666666666,\"#ed7953\"],[0.7777777777777778,\"#fb9f3a\"],[0.8888888888888888,\"#fdca26\"],[1.0,\"#f0f921\"]]}],\"heatmap\":[{\"type\":\"heatmap\",\"colorbar\":{\"outlinewidth\":0,\"ticks\":\"\"},\"colorscale\":[[0.0,\"#0d0887\"],[0.1111111111111111,\"#46039f\"],[0.2222222222222222,\"#7201a8\"],[0.3333333333333333,\"#9c179e\"],[0.4444444444444444,\"#bd3786\"],[0.5555555555555556,\"#d8576b\"],[0.6666666666666666,\"#ed7953\"],[0.7777777777777778,\"#fb9f3a\"],[0.8888888888888888,\"#fdca26\"],[1.0,\"#f0f921\"]]}],\"heatmapgl\":[{\"type\":\"heatmapgl\",\"colorbar\":{\"outlinewidth\":0,\"ticks\":\"\"},\"colorscale\":[[0.0,\"#0d0887\"],[0.1111111111111111,\"#46039f\"],[0.2222222222222222,\"#7201a8\"],[0.3333333333333333,\"#9c179e\"],[0.4444444444444444,\"#bd3786\"],[0.5555555555555556,\"#d8576b\"],[0.6666666666666666,\"#ed7953\"],[0.7777777777777778,\"#fb9f3a\"],[0.8888888888888888,\"#fdca26\"],[1.0,\"#f0f921\"]]}],\"contourcarpet\":[{\"type\":\"contourcarpet\",\"colorbar\":{\"outlinewidth\":0,\"ticks\":\"\"}}],\"contour\":[{\"type\":\"contour\",\"colorbar\":{\"outlinewidth\":0,\"ticks\":\"\"},\"colorscale\":[[0.0,\"#0d0887\"],[0.1111111111111111,\"#46039f\"],[0.2222222222222222,\"#7201a8\"],[0.3333333333333333,\"#9c179e\"],[0.4444444444444444,\"#bd3786\"],[0.5555555555555556,\"#d8576b\"],[0.6666666666666666,\"#ed7953\"],[0.7777777777777778,\"#fb9f3a\"],[0.8888888888888888,\"#fdca26\"],[1.0,\"#f0f921\"]]}],\"surface\":[{\"type\":\"surface\",\"colorbar\":{\"outlinewidth\":0,\"ticks\":\"\"},\"colorscale\":[[0.0,\"#0d0887\"],[0.1111111111111111,\"#46039f\"],[0.2222222222222222,\"#7201a8\"],[0.3333333333333333,\"#9c179e\"],[0.4444444444444444,\"#bd3786\"],[0.5555555555555556,\"#d8576b\"],[0.6666666666666666,\"#ed7953\"],[0.7777777777777778,\"#fb9f3a\"],[0.8888888888888888,\"#fdca26\"],[1.0,\"#f0f921\"]]}],\"mesh3d\":[{\"type\":\"mesh3d\",\"colorbar\":{\"outlinewidth\":0,\"ticks\":\"\"}}],\"scatter\":[{\"fillpattern\":{\"fillmode\":\"overlay\",\"size\":10,\"solidity\":0.2},\"type\":\"scatter\"}],\"parcoords\":[{\"type\":\"parcoords\",\"line\":{\"colorbar\":{\"outlinewidth\":0,\"ticks\":\"\"}}}],\"scatterpolargl\":[{\"type\":\"scatterpolargl\",\"marker\":{\"colorbar\":{\"outlinewidth\":0,\"ticks\":\"\"}}}],\"bar\":[{\"error_x\":{\"color\":\"#2a3f5f\"},\"error_y\":{\"color\":\"#2a3f5f\"},\"marker\":{\"line\":{\"color\":\"#E5ECF6\",\"width\":0.5},\"pattern\":{\"fillmode\":\"overlay\",\"size\":10,\"solidity\":0.2}},\"type\":\"bar\"}],\"scattergeo\":[{\"type\":\"scattergeo\",\"marker\":{\"colorbar\":{\"outlinewidth\":0,\"ticks\":\"\"}}}],\"scatterpolar\":[{\"type\":\"scatterpolar\",\"marker\":{\"colorbar\":{\"outlinewidth\":0,\"ticks\":\"\"}}}],\"histogram\":[{\"marker\":{\"pattern\":{\"fillmode\":\"overlay\",\"size\":10,\"solidity\":0.2}},\"type\":\"histogram\"}],\"scattergl\":[{\"type\":\"scattergl\",\"marker\":{\"colorbar\":{\"outlinewidth\":0,\"ticks\":\"\"}}}],\"scatter3d\":[{\"type\":\"scatter3d\",\"line\":{\"colorbar\":{\"outlinewidth\":0,\"ticks\":\"\"}},\"marker\":{\"colorbar\":{\"outlinewidth\":0,\"ticks\":\"\"}}}],\"scattermapbox\":[{\"type\":\"scattermapbox\",\"marker\":{\"colorbar\":{\"outlinewidth\":0,\"ticks\":\"\"}}}],\"scatterternary\":[{\"type\":\"scatterternary\",\"marker\":{\"colorbar\":{\"outlinewidth\":0,\"ticks\":\"\"}}}],\"scattercarpet\":[{\"type\":\"scattercarpet\",\"marker\":{\"colorbar\":{\"outlinewidth\":0,\"ticks\":\"\"}}}],\"carpet\":[{\"aaxis\":{\"endlinecolor\":\"#2a3f5f\",\"gridcolor\":\"white\",\"linecolor\":\"white\",\"minorgridcolor\":\"white\",\"startlinecolor\":\"#2a3f5f\"},\"baxis\":{\"endlinecolor\":\"#2a3f5f\",\"gridcolor\":\"white\",\"linecolor\":\"white\",\"minorgridcolor\":\"white\",\"startlinecolor\":\"#2a3f5f\"},\"type\":\"carpet\"}],\"table\":[{\"cells\":{\"fill\":{\"color\":\"#EBF0F8\"},\"line\":{\"color\":\"white\"}},\"header\":{\"fill\":{\"color\":\"#C8D4E3\"},\"line\":{\"color\":\"white\"}},\"type\":\"table\"}],\"barpolar\":[{\"marker\":{\"line\":{\"color\":\"#E5ECF6\",\"width\":0.5},\"pattern\":{\"fillmode\":\"overlay\",\"size\":10,\"solidity\":0.2}},\"type\":\"barpolar\"}],\"pie\":[{\"automargin\":true,\"type\":\"pie\"}]},\"layout\":{\"autotypenumbers\":\"strict\",\"colorway\":[\"#636efa\",\"#EF553B\",\"#00cc96\",\"#ab63fa\",\"#FFA15A\",\"#19d3f3\",\"#FF6692\",\"#B6E880\",\"#FF97FF\",\"#FECB52\"],\"font\":{\"color\":\"#2a3f5f\"},\"hovermode\":\"closest\",\"hoverlabel\":{\"align\":\"left\"},\"paper_bgcolor\":\"white\",\"plot_bgcolor\":\"#E5ECF6\",\"polar\":{\"bgcolor\":\"#E5ECF6\",\"angularaxis\":{\"gridcolor\":\"white\",\"linecolor\":\"white\",\"ticks\":\"\"},\"radialaxis\":{\"gridcolor\":\"white\",\"linecolor\":\"white\",\"ticks\":\"\"}},\"ternary\":{\"bgcolor\":\"#E5ECF6\",\"aaxis\":{\"gridcolor\":\"white\",\"linecolor\":\"white\",\"ticks\":\"\"},\"baxis\":{\"gridcolor\":\"white\",\"linecolor\":\"white\",\"ticks\":\"\"},\"caxis\":{\"gridcolor\":\"white\",\"linecolor\":\"white\",\"ticks\":\"\"}},\"coloraxis\":{\"colorbar\":{\"outlinewidth\":0,\"ticks\":\"\"}},\"colorscale\":{\"sequential\":[[0.0,\"#0d0887\"],[0.1111111111111111,\"#46039f\"],[0.2222222222222222,\"#7201a8\"],[0.3333333333333333,\"#9c179e\"],[0.4444444444444444,\"#bd3786\"],[0.5555555555555556,\"#d8576b\"],[0.6666666666666666,\"#ed7953\"],[0.7777777777777778,\"#fb9f3a\"],[0.8888888888888888,\"#fdca26\"],[1.0,\"#f0f921\"]],\"sequentialminus\":[[0.0,\"#0d0887\"],[0.1111111111111111,\"#46039f\"],[0.2222222222222222,\"#7201a8\"],[0.3333333333333333,\"#9c179e\"],[0.4444444444444444,\"#bd3786\"],[0.5555555555555556,\"#d8576b\"],[0.6666666666666666,\"#ed7953\"],[0.7777777777777778,\"#fb9f3a\"],[0.8888888888888888,\"#fdca26\"],[1.0,\"#f0f921\"]],\"diverging\":[[0,\"#8e0152\"],[0.1,\"#c51b7d\"],[0.2,\"#de77ae\"],[0.3,\"#f1b6da\"],[0.4,\"#fde0ef\"],[0.5,\"#f7f7f7\"],[0.6,\"#e6f5d0\"],[0.7,\"#b8e186\"],[0.8,\"#7fbc41\"],[0.9,\"#4d9221\"],[1,\"#276419\"]]},\"xaxis\":{\"gridcolor\":\"white\",\"linecolor\":\"white\",\"ticks\":\"\",\"title\":{\"standoff\":15},\"zerolinecolor\":\"white\",\"automargin\":true,\"zerolinewidth\":2},\"yaxis\":{\"gridcolor\":\"white\",\"linecolor\":\"white\",\"ticks\":\"\",\"title\":{\"standoff\":15},\"zerolinecolor\":\"white\",\"automargin\":true,\"zerolinewidth\":2},\"scene\":{\"xaxis\":{\"backgroundcolor\":\"#E5ECF6\",\"gridcolor\":\"white\",\"linecolor\":\"white\",\"showbackground\":true,\"ticks\":\"\",\"zerolinecolor\":\"white\",\"gridwidth\":2},\"yaxis\":{\"backgroundcolor\":\"#E5ECF6\",\"gridcolor\":\"white\",\"linecolor\":\"white\",\"showbackground\":true,\"ticks\":\"\",\"zerolinecolor\":\"white\",\"gridwidth\":2},\"zaxis\":{\"backgroundcolor\":\"#E5ECF6\",\"gridcolor\":\"white\",\"linecolor\":\"white\",\"showbackground\":true,\"ticks\":\"\",\"zerolinecolor\":\"white\",\"gridwidth\":2}},\"shapedefaults\":{\"line\":{\"color\":\"#2a3f5f\"}},\"annotationdefaults\":{\"arrowcolor\":\"#2a3f5f\",\"arrowhead\":0,\"arrowwidth\":1},\"geo\":{\"bgcolor\":\"white\",\"landcolor\":\"#E5ECF6\",\"subunitcolor\":\"white\",\"showland\":true,\"showlakes\":true,\"lakecolor\":\"white\"},\"title\":{\"x\":0.05},\"mapbox\":{\"style\":\"light\"}}},\"xaxis\":{\"anchor\":\"y\",\"domain\":[0.0,1.0],\"title\":{\"text\":\"Unemployment\"}},\"yaxis\":{\"anchor\":\"x\",\"domain\":[0.0,1.0],\"title\":{\"text\":\"Total\"}},\"legend\":{\"title\":{\"text\":\"variable\"},\"tracegroupgap\":0,\"orientation\":\"h\",\"yanchor\":\"bottom\",\"y\":1.02,\"xanchor\":\"right\",\"x\":1.7},\"margin\":{\"t\":60},\"barmode\":\"relative\",\"title\":{\"text\":\"Univariate analysis\",\"x\":0.5,\"font\":{\"size\":25,\"color\":\"#a5a7ab\",\"family\":\"Muli, sans-serif\"}},\"font\":{\"color\":\"#8a8d93\"},\"plot_bgcolor\":\"#2d3035\",\"paper_bgcolor\":\"#2d3035\",\"height\":400,\"width\":800},                        {\"responsive\": true}                    ).then(function(){\n",
              "                            \n",
              "var gd = document.getElementById('3c905aa9-aa79-4bd8-8d03-8746374e7854');\n",
              "var x = new MutationObserver(function (mutations, observer) {{\n",
              "        var display = window.getComputedStyle(gd).display;\n",
              "        if (!display || display === 'none') {{\n",
              "            console.log([gd, 'removed!']);\n",
              "            Plotly.purge(gd);\n",
              "            observer.disconnect();\n",
              "        }}\n",
              "}});\n",
              "\n",
              "// Listen for the removal of the full notebook cells\n",
              "var notebookContainer = gd.closest('#notebook-container');\n",
              "if (notebookContainer) {{\n",
              "    x.observe(notebookContainer, {childList: true});\n",
              "}}\n",
              "\n",
              "// Listen for the clearing of the current output cell\n",
              "var outputEl = gd.closest('.output');\n",
              "if (outputEl) {{\n",
              "    x.observe(outputEl, {childList: true});\n",
              "}}\n",
              "\n",
              "                        })                };                            </script>        </div>\n",
              "</body>\n",
              "</html>"
            ]
          },
          "metadata": {}
        }
      ],
      "source": [
        "# Univariate analysis\n",
        "# Distribution of each numeric variable\n",
        "num_features = ['Weekly_Sales', 'Fuel_Price', 'Temperature', 'CPI', 'Unemployment']\n",
        "for i in range(len(num_features)):\n",
        "    fig = px.histogram(df[num_features[i]], nbins=20, color_discrete_sequence=['#008B8B'])\n",
        "    fig.update_layout( yaxis_title=\"Total\",plot_bgcolor='#2d3035', paper_bgcolor='#2d3035',\n",
        "    xaxis_title=num_features[i],height = 400, width = 800,\n",
        "    title=\"Univariate analysis\",\n",
        "    title_x=0.5,\n",
        "    title_font=dict(size=25, color='#a5a7ab', family=\"Muli, sans-serif\"),\n",
        "                        font=dict(color='#8a8d93'),\n",
        "                        legend=dict(orientation=\"h\", yanchor=\"bottom\", y=1.02, xanchor=\"right\", x=1.7))\n",
        "\n",
        "    fig.show()\n",
        "\n"
      ]
    },
    {
      "cell_type": "code",
      "execution_count": 28,
      "metadata": {
        "colab": {
          "base_uri": "https://localhost:8080/",
          "height": 542
        },
        "id": "7w29fIeL58S3",
        "outputId": "2ca4fd81-fca1-428f-a43f-1f3b1168a750"
      },
      "outputs": [
        {
          "output_type": "display_data",
          "data": {
            "text/html": [
              "<html>\n",
              "<head><meta charset=\"utf-8\" /></head>\n",
              "<body>\n",
              "    <div>            <script src=\"https://cdnjs.cloudflare.com/ajax/libs/mathjax/2.7.5/MathJax.js?config=TeX-AMS-MML_SVG\"></script><script type=\"text/javascript\">if (window.MathJax && window.MathJax.Hub && window.MathJax.Hub.Config) {window.MathJax.Hub.Config({SVG: {font: \"STIX-Web\"}});}</script>                <script type=\"text/javascript\">window.PlotlyConfig = {MathJaxConfig: 'local'};</script>\n",
              "        <script src=\"https://cdn.plot.ly/plotly-2.18.2.min.js\"></script>                <div id=\"96cdbdee-11f6-4230-8049-4342eba34b66\" class=\"plotly-graph-div\" style=\"height:525px; width:100%;\"></div>            <script type=\"text/javascript\">                                    window.PLOTLYENV=window.PLOTLYENV || {};                                    if (document.getElementById(\"96cdbdee-11f6-4230-8049-4342eba34b66\")) {                    Plotly.newPlot(                        \"96cdbdee-11f6-4230-8049-4342eba34b66\",                        [{\"colorscale\":[[0.0,\"#0d0887\"],[0.1111111111111111,\"#46039f\"],[0.2222222222222222,\"#7201a8\"],[0.3333333333333333,\"#9c179e\"],[0.4444444444444444,\"#bd3786\"],[0.5555555555555556,\"#d8576b\"],[0.6666666666666666,\"#ed7953\"],[0.7777777777777778,\"#fb9f3a\"],[0.8888888888888888,\"#fdca26\"],[1.0,\"#f0f921\"]],\"reversescale\":false,\"showscale\":false,\"x\":[\"Store\",\"Weekly_Sales\",\"Holiday_Flag\",\"Temperature\",\"Fuel_Price\",\"CPI\",\"Unemployment\",\"Year\",\"Month\",\"Day\",\"DayOfWeek\"],\"y\":[\"Store\",\"Weekly_Sales\",\"Holiday_Flag\",\"Temperature\",\"Fuel_Price\",\"CPI\",\"Unemployment\",\"Year\",\"Month\",\"Day\",\"DayOfWeek\"],\"z\":[[1.0,0.12,-0.07,-0.27,0.17,-0.62,0.28,-0.03,-0.12,0.0,-0.06],[0.12,1.0,0.05,-0.16,-0.01,-0.31,0.19,-0.04,-0.04,-0.02,0.03],[-0.07,0.05,1.0,-0.29,-0.14,0.2,0.06,0.0,0.29,-0.16,-0.3],[-0.27,-0.16,-0.29,1.0,0.02,0.15,-0.17,-0.16,0.03,0.19,0.2],[0.17,-0.01,-0.14,0.02,1.0,-0.14,-0.04,0.83,-0.18,-0.01,0.02],[-0.62,-0.31,0.2,0.15,-0.14,1.0,-0.25,-0.02,0.21,0.09,-0.01],[0.28,0.19,0.06,-0.17,-0.04,-0.25,1.0,-0.17,-0.15,-0.01,-0.02],[-0.03,-0.04,0.0,-0.16,0.83,-0.02,-0.17,1.0,-0.16,-0.15,-0.14],[-0.12,-0.04,0.29,0.03,-0.18,0.21,-0.15,-0.16,1.0,-0.17,-0.31],[0.0,-0.02,-0.16,0.19,-0.01,0.09,-0.01,-0.15,-0.17,1.0,0.2],[-0.06,0.03,-0.3,0.2,0.02,-0.01,-0.02,-0.14,-0.31,0.2,1.0]],\"type\":\"heatmap\"}],                        {\"annotations\":[{\"font\":{\"color\":\"#000000\"},\"showarrow\":false,\"text\":\"1.0\",\"x\":\"Store\",\"xref\":\"x\",\"y\":\"Store\",\"yref\":\"y\"},{\"font\":{\"color\":\"#FFFFFF\"},\"showarrow\":false,\"text\":\"0.12\",\"x\":\"Weekly_Sales\",\"xref\":\"x\",\"y\":\"Store\",\"yref\":\"y\"},{\"font\":{\"color\":\"#FFFFFF\"},\"showarrow\":false,\"text\":\"-0.07\",\"x\":\"Holiday_Flag\",\"xref\":\"x\",\"y\":\"Store\",\"yref\":\"y\"},{\"font\":{\"color\":\"#FFFFFF\"},\"showarrow\":false,\"text\":\"-0.27\",\"x\":\"Temperature\",\"xref\":\"x\",\"y\":\"Store\",\"yref\":\"y\"},{\"font\":{\"color\":\"#FFFFFF\"},\"showarrow\":false,\"text\":\"0.17\",\"x\":\"Fuel_Price\",\"xref\":\"x\",\"y\":\"Store\",\"yref\":\"y\"},{\"font\":{\"color\":\"#FFFFFF\"},\"showarrow\":false,\"text\":\"-0.62\",\"x\":\"CPI\",\"xref\":\"x\",\"y\":\"Store\",\"yref\":\"y\"},{\"font\":{\"color\":\"#000000\"},\"showarrow\":false,\"text\":\"0.28\",\"x\":\"Unemployment\",\"xref\":\"x\",\"y\":\"Store\",\"yref\":\"y\"},{\"font\":{\"color\":\"#FFFFFF\"},\"showarrow\":false,\"text\":\"-0.03\",\"x\":\"Year\",\"xref\":\"x\",\"y\":\"Store\",\"yref\":\"y\"},{\"font\":{\"color\":\"#FFFFFF\"},\"showarrow\":false,\"text\":\"-0.12\",\"x\":\"Month\",\"xref\":\"x\",\"y\":\"Store\",\"yref\":\"y\"},{\"font\":{\"color\":\"#FFFFFF\"},\"showarrow\":false,\"text\":\"0.0\",\"x\":\"Day\",\"xref\":\"x\",\"y\":\"Store\",\"yref\":\"y\"},{\"font\":{\"color\":\"#FFFFFF\"},\"showarrow\":false,\"text\":\"-0.06\",\"x\":\"DayOfWeek\",\"xref\":\"x\",\"y\":\"Store\",\"yref\":\"y\"},{\"font\":{\"color\":\"#FFFFFF\"},\"showarrow\":false,\"text\":\"0.12\",\"x\":\"Store\",\"xref\":\"x\",\"y\":\"Weekly_Sales\",\"yref\":\"y\"},{\"font\":{\"color\":\"#000000\"},\"showarrow\":false,\"text\":\"1.0\",\"x\":\"Weekly_Sales\",\"xref\":\"x\",\"y\":\"Weekly_Sales\",\"yref\":\"y\"},{\"font\":{\"color\":\"#FFFFFF\"},\"showarrow\":false,\"text\":\"0.05\",\"x\":\"Holiday_Flag\",\"xref\":\"x\",\"y\":\"Weekly_Sales\",\"yref\":\"y\"},{\"font\":{\"color\":\"#FFFFFF\"},\"showarrow\":false,\"text\":\"-0.16\",\"x\":\"Temperature\",\"xref\":\"x\",\"y\":\"Weekly_Sales\",\"yref\":\"y\"},{\"font\":{\"color\":\"#FFFFFF\"},\"showarrow\":false,\"text\":\"-0.01\",\"x\":\"Fuel_Price\",\"xref\":\"x\",\"y\":\"Weekly_Sales\",\"yref\":\"y\"},{\"font\":{\"color\":\"#FFFFFF\"},\"showarrow\":false,\"text\":\"-0.31\",\"x\":\"CPI\",\"xref\":\"x\",\"y\":\"Weekly_Sales\",\"yref\":\"y\"},{\"font\":{\"color\":\"#000000\"},\"showarrow\":false,\"text\":\"0.19\",\"x\":\"Unemployment\",\"xref\":\"x\",\"y\":\"Weekly_Sales\",\"yref\":\"y\"},{\"font\":{\"color\":\"#FFFFFF\"},\"showarrow\":false,\"text\":\"-0.04\",\"x\":\"Year\",\"xref\":\"x\",\"y\":\"Weekly_Sales\",\"yref\":\"y\"},{\"font\":{\"color\":\"#FFFFFF\"},\"showarrow\":false,\"text\":\"-0.04\",\"x\":\"Month\",\"xref\":\"x\",\"y\":\"Weekly_Sales\",\"yref\":\"y\"},{\"font\":{\"color\":\"#FFFFFF\"},\"showarrow\":false,\"text\":\"-0.02\",\"x\":\"Day\",\"xref\":\"x\",\"y\":\"Weekly_Sales\",\"yref\":\"y\"},{\"font\":{\"color\":\"#FFFFFF\"},\"showarrow\":false,\"text\":\"0.03\",\"x\":\"DayOfWeek\",\"xref\":\"x\",\"y\":\"Weekly_Sales\",\"yref\":\"y\"},{\"font\":{\"color\":\"#FFFFFF\"},\"showarrow\":false,\"text\":\"-0.07\",\"x\":\"Store\",\"xref\":\"x\",\"y\":\"Holiday_Flag\",\"yref\":\"y\"},{\"font\":{\"color\":\"#FFFFFF\"},\"showarrow\":false,\"text\":\"0.05\",\"x\":\"Weekly_Sales\",\"xref\":\"x\",\"y\":\"Holiday_Flag\",\"yref\":\"y\"},{\"font\":{\"color\":\"#000000\"},\"showarrow\":false,\"text\":\"1.0\",\"x\":\"Holiday_Flag\",\"xref\":\"x\",\"y\":\"Holiday_Flag\",\"yref\":\"y\"},{\"font\":{\"color\":\"#FFFFFF\"},\"showarrow\":false,\"text\":\"-0.29\",\"x\":\"Temperature\",\"xref\":\"x\",\"y\":\"Holiday_Flag\",\"yref\":\"y\"},{\"font\":{\"color\":\"#FFFFFF\"},\"showarrow\":false,\"text\":\"-0.14\",\"x\":\"Fuel_Price\",\"xref\":\"x\",\"y\":\"Holiday_Flag\",\"yref\":\"y\"},{\"font\":{\"color\":\"#000000\"},\"showarrow\":false,\"text\":\"0.2\",\"x\":\"CPI\",\"xref\":\"x\",\"y\":\"Holiday_Flag\",\"yref\":\"y\"},{\"font\":{\"color\":\"#FFFFFF\"},\"showarrow\":false,\"text\":\"0.06\",\"x\":\"Unemployment\",\"xref\":\"x\",\"y\":\"Holiday_Flag\",\"yref\":\"y\"},{\"font\":{\"color\":\"#FFFFFF\"},\"showarrow\":false,\"text\":\"0.0\",\"x\":\"Year\",\"xref\":\"x\",\"y\":\"Holiday_Flag\",\"yref\":\"y\"},{\"font\":{\"color\":\"#000000\"},\"showarrow\":false,\"text\":\"0.29\",\"x\":\"Month\",\"xref\":\"x\",\"y\":\"Holiday_Flag\",\"yref\":\"y\"},{\"font\":{\"color\":\"#FFFFFF\"},\"showarrow\":false,\"text\":\"-0.16\",\"x\":\"Day\",\"xref\":\"x\",\"y\":\"Holiday_Flag\",\"yref\":\"y\"},{\"font\":{\"color\":\"#FFFFFF\"},\"showarrow\":false,\"text\":\"-0.3\",\"x\":\"DayOfWeek\",\"xref\":\"x\",\"y\":\"Holiday_Flag\",\"yref\":\"y\"},{\"font\":{\"color\":\"#FFFFFF\"},\"showarrow\":false,\"text\":\"-0.27\",\"x\":\"Store\",\"xref\":\"x\",\"y\":\"Temperature\",\"yref\":\"y\"},{\"font\":{\"color\":\"#FFFFFF\"},\"showarrow\":false,\"text\":\"-0.16\",\"x\":\"Weekly_Sales\",\"xref\":\"x\",\"y\":\"Temperature\",\"yref\":\"y\"},{\"font\":{\"color\":\"#FFFFFF\"},\"showarrow\":false,\"text\":\"-0.29\",\"x\":\"Holiday_Flag\",\"xref\":\"x\",\"y\":\"Temperature\",\"yref\":\"y\"},{\"font\":{\"color\":\"#000000\"},\"showarrow\":false,\"text\":\"1.0\",\"x\":\"Temperature\",\"xref\":\"x\",\"y\":\"Temperature\",\"yref\":\"y\"},{\"font\":{\"color\":\"#FFFFFF\"},\"showarrow\":false,\"text\":\"0.02\",\"x\":\"Fuel_Price\",\"xref\":\"x\",\"y\":\"Temperature\",\"yref\":\"y\"},{\"font\":{\"color\":\"#FFFFFF\"},\"showarrow\":false,\"text\":\"0.15\",\"x\":\"CPI\",\"xref\":\"x\",\"y\":\"Temperature\",\"yref\":\"y\"},{\"font\":{\"color\":\"#FFFFFF\"},\"showarrow\":false,\"text\":\"-0.17\",\"x\":\"Unemployment\",\"xref\":\"x\",\"y\":\"Temperature\",\"yref\":\"y\"},{\"font\":{\"color\":\"#FFFFFF\"},\"showarrow\":false,\"text\":\"-0.16\",\"x\":\"Year\",\"xref\":\"x\",\"y\":\"Temperature\",\"yref\":\"y\"},{\"font\":{\"color\":\"#FFFFFF\"},\"showarrow\":false,\"text\":\"0.03\",\"x\":\"Month\",\"xref\":\"x\",\"y\":\"Temperature\",\"yref\":\"y\"},{\"font\":{\"color\":\"#000000\"},\"showarrow\":false,\"text\":\"0.19\",\"x\":\"Day\",\"xref\":\"x\",\"y\":\"Temperature\",\"yref\":\"y\"},{\"font\":{\"color\":\"#000000\"},\"showarrow\":false,\"text\":\"0.2\",\"x\":\"DayOfWeek\",\"xref\":\"x\",\"y\":\"Temperature\",\"yref\":\"y\"},{\"font\":{\"color\":\"#FFFFFF\"},\"showarrow\":false,\"text\":\"0.17\",\"x\":\"Store\",\"xref\":\"x\",\"y\":\"Fuel_Price\",\"yref\":\"y\"},{\"font\":{\"color\":\"#FFFFFF\"},\"showarrow\":false,\"text\":\"-0.01\",\"x\":\"Weekly_Sales\",\"xref\":\"x\",\"y\":\"Fuel_Price\",\"yref\":\"y\"},{\"font\":{\"color\":\"#FFFFFF\"},\"showarrow\":false,\"text\":\"-0.14\",\"x\":\"Holiday_Flag\",\"xref\":\"x\",\"y\":\"Fuel_Price\",\"yref\":\"y\"},{\"font\":{\"color\":\"#FFFFFF\"},\"showarrow\":false,\"text\":\"0.02\",\"x\":\"Temperature\",\"xref\":\"x\",\"y\":\"Fuel_Price\",\"yref\":\"y\"},{\"font\":{\"color\":\"#000000\"},\"showarrow\":false,\"text\":\"1.0\",\"x\":\"Fuel_Price\",\"xref\":\"x\",\"y\":\"Fuel_Price\",\"yref\":\"y\"},{\"font\":{\"color\":\"#FFFFFF\"},\"showarrow\":false,\"text\":\"-0.14\",\"x\":\"CPI\",\"xref\":\"x\",\"y\":\"Fuel_Price\",\"yref\":\"y\"},{\"font\":{\"color\":\"#FFFFFF\"},\"showarrow\":false,\"text\":\"-0.04\",\"x\":\"Unemployment\",\"xref\":\"x\",\"y\":\"Fuel_Price\",\"yref\":\"y\"},{\"font\":{\"color\":\"#000000\"},\"showarrow\":false,\"text\":\"0.83\",\"x\":\"Year\",\"xref\":\"x\",\"y\":\"Fuel_Price\",\"yref\":\"y\"},{\"font\":{\"color\":\"#FFFFFF\"},\"showarrow\":false,\"text\":\"-0.18\",\"x\":\"Month\",\"xref\":\"x\",\"y\":\"Fuel_Price\",\"yref\":\"y\"},{\"font\":{\"color\":\"#FFFFFF\"},\"showarrow\":false,\"text\":\"-0.01\",\"x\":\"Day\",\"xref\":\"x\",\"y\":\"Fuel_Price\",\"yref\":\"y\"},{\"font\":{\"color\":\"#FFFFFF\"},\"showarrow\":false,\"text\":\"0.02\",\"x\":\"DayOfWeek\",\"xref\":\"x\",\"y\":\"Fuel_Price\",\"yref\":\"y\"},{\"font\":{\"color\":\"#FFFFFF\"},\"showarrow\":false,\"text\":\"-0.62\",\"x\":\"Store\",\"xref\":\"x\",\"y\":\"CPI\",\"yref\":\"y\"},{\"font\":{\"color\":\"#FFFFFF\"},\"showarrow\":false,\"text\":\"-0.31\",\"x\":\"Weekly_Sales\",\"xref\":\"x\",\"y\":\"CPI\",\"yref\":\"y\"},{\"font\":{\"color\":\"#000000\"},\"showarrow\":false,\"text\":\"0.2\",\"x\":\"Holiday_Flag\",\"xref\":\"x\",\"y\":\"CPI\",\"yref\":\"y\"},{\"font\":{\"color\":\"#FFFFFF\"},\"showarrow\":false,\"text\":\"0.15\",\"x\":\"Temperature\",\"xref\":\"x\",\"y\":\"CPI\",\"yref\":\"y\"},{\"font\":{\"color\":\"#FFFFFF\"},\"showarrow\":false,\"text\":\"-0.14\",\"x\":\"Fuel_Price\",\"xref\":\"x\",\"y\":\"CPI\",\"yref\":\"y\"},{\"font\":{\"color\":\"#000000\"},\"showarrow\":false,\"text\":\"1.0\",\"x\":\"CPI\",\"xref\":\"x\",\"y\":\"CPI\",\"yref\":\"y\"},{\"font\":{\"color\":\"#FFFFFF\"},\"showarrow\":false,\"text\":\"-0.25\",\"x\":\"Unemployment\",\"xref\":\"x\",\"y\":\"CPI\",\"yref\":\"y\"},{\"font\":{\"color\":\"#FFFFFF\"},\"showarrow\":false,\"text\":\"-0.02\",\"x\":\"Year\",\"xref\":\"x\",\"y\":\"CPI\",\"yref\":\"y\"},{\"font\":{\"color\":\"#000000\"},\"showarrow\":false,\"text\":\"0.21\",\"x\":\"Month\",\"xref\":\"x\",\"y\":\"CPI\",\"yref\":\"y\"},{\"font\":{\"color\":\"#FFFFFF\"},\"showarrow\":false,\"text\":\"0.09\",\"x\":\"Day\",\"xref\":\"x\",\"y\":\"CPI\",\"yref\":\"y\"},{\"font\":{\"color\":\"#FFFFFF\"},\"showarrow\":false,\"text\":\"-0.01\",\"x\":\"DayOfWeek\",\"xref\":\"x\",\"y\":\"CPI\",\"yref\":\"y\"},{\"font\":{\"color\":\"#000000\"},\"showarrow\":false,\"text\":\"0.28\",\"x\":\"Store\",\"xref\":\"x\",\"y\":\"Unemployment\",\"yref\":\"y\"},{\"font\":{\"color\":\"#000000\"},\"showarrow\":false,\"text\":\"0.19\",\"x\":\"Weekly_Sales\",\"xref\":\"x\",\"y\":\"Unemployment\",\"yref\":\"y\"},{\"font\":{\"color\":\"#FFFFFF\"},\"showarrow\":false,\"text\":\"0.06\",\"x\":\"Holiday_Flag\",\"xref\":\"x\",\"y\":\"Unemployment\",\"yref\":\"y\"},{\"font\":{\"color\":\"#FFFFFF\"},\"showarrow\":false,\"text\":\"-0.17\",\"x\":\"Temperature\",\"xref\":\"x\",\"y\":\"Unemployment\",\"yref\":\"y\"},{\"font\":{\"color\":\"#FFFFFF\"},\"showarrow\":false,\"text\":\"-0.04\",\"x\":\"Fuel_Price\",\"xref\":\"x\",\"y\":\"Unemployment\",\"yref\":\"y\"},{\"font\":{\"color\":\"#FFFFFF\"},\"showarrow\":false,\"text\":\"-0.25\",\"x\":\"CPI\",\"xref\":\"x\",\"y\":\"Unemployment\",\"yref\":\"y\"},{\"font\":{\"color\":\"#000000\"},\"showarrow\":false,\"text\":\"1.0\",\"x\":\"Unemployment\",\"xref\":\"x\",\"y\":\"Unemployment\",\"yref\":\"y\"},{\"font\":{\"color\":\"#FFFFFF\"},\"showarrow\":false,\"text\":\"-0.17\",\"x\":\"Year\",\"xref\":\"x\",\"y\":\"Unemployment\",\"yref\":\"y\"},{\"font\":{\"color\":\"#FFFFFF\"},\"showarrow\":false,\"text\":\"-0.15\",\"x\":\"Month\",\"xref\":\"x\",\"y\":\"Unemployment\",\"yref\":\"y\"},{\"font\":{\"color\":\"#FFFFFF\"},\"showarrow\":false,\"text\":\"-0.01\",\"x\":\"Day\",\"xref\":\"x\",\"y\":\"Unemployment\",\"yref\":\"y\"},{\"font\":{\"color\":\"#FFFFFF\"},\"showarrow\":false,\"text\":\"-0.02\",\"x\":\"DayOfWeek\",\"xref\":\"x\",\"y\":\"Unemployment\",\"yref\":\"y\"},{\"font\":{\"color\":\"#FFFFFF\"},\"showarrow\":false,\"text\":\"-0.03\",\"x\":\"Store\",\"xref\":\"x\",\"y\":\"Year\",\"yref\":\"y\"},{\"font\":{\"color\":\"#FFFFFF\"},\"showarrow\":false,\"text\":\"-0.04\",\"x\":\"Weekly_Sales\",\"xref\":\"x\",\"y\":\"Year\",\"yref\":\"y\"},{\"font\":{\"color\":\"#FFFFFF\"},\"showarrow\":false,\"text\":\"0.0\",\"x\":\"Holiday_Flag\",\"xref\":\"x\",\"y\":\"Year\",\"yref\":\"y\"},{\"font\":{\"color\":\"#FFFFFF\"},\"showarrow\":false,\"text\":\"-0.16\",\"x\":\"Temperature\",\"xref\":\"x\",\"y\":\"Year\",\"yref\":\"y\"},{\"font\":{\"color\":\"#000000\"},\"showarrow\":false,\"text\":\"0.83\",\"x\":\"Fuel_Price\",\"xref\":\"x\",\"y\":\"Year\",\"yref\":\"y\"},{\"font\":{\"color\":\"#FFFFFF\"},\"showarrow\":false,\"text\":\"-0.02\",\"x\":\"CPI\",\"xref\":\"x\",\"y\":\"Year\",\"yref\":\"y\"},{\"font\":{\"color\":\"#FFFFFF\"},\"showarrow\":false,\"text\":\"-0.17\",\"x\":\"Unemployment\",\"xref\":\"x\",\"y\":\"Year\",\"yref\":\"y\"},{\"font\":{\"color\":\"#000000\"},\"showarrow\":false,\"text\":\"1.0\",\"x\":\"Year\",\"xref\":\"x\",\"y\":\"Year\",\"yref\":\"y\"},{\"font\":{\"color\":\"#FFFFFF\"},\"showarrow\":false,\"text\":\"-0.16\",\"x\":\"Month\",\"xref\":\"x\",\"y\":\"Year\",\"yref\":\"y\"},{\"font\":{\"color\":\"#FFFFFF\"},\"showarrow\":false,\"text\":\"-0.15\",\"x\":\"Day\",\"xref\":\"x\",\"y\":\"Year\",\"yref\":\"y\"},{\"font\":{\"color\":\"#FFFFFF\"},\"showarrow\":false,\"text\":\"-0.14\",\"x\":\"DayOfWeek\",\"xref\":\"x\",\"y\":\"Year\",\"yref\":\"y\"},{\"font\":{\"color\":\"#FFFFFF\"},\"showarrow\":false,\"text\":\"-0.12\",\"x\":\"Store\",\"xref\":\"x\",\"y\":\"Month\",\"yref\":\"y\"},{\"font\":{\"color\":\"#FFFFFF\"},\"showarrow\":false,\"text\":\"-0.04\",\"x\":\"Weekly_Sales\",\"xref\":\"x\",\"y\":\"Month\",\"yref\":\"y\"},{\"font\":{\"color\":\"#000000\"},\"showarrow\":false,\"text\":\"0.29\",\"x\":\"Holiday_Flag\",\"xref\":\"x\",\"y\":\"Month\",\"yref\":\"y\"},{\"font\":{\"color\":\"#FFFFFF\"},\"showarrow\":false,\"text\":\"0.03\",\"x\":\"Temperature\",\"xref\":\"x\",\"y\":\"Month\",\"yref\":\"y\"},{\"font\":{\"color\":\"#FFFFFF\"},\"showarrow\":false,\"text\":\"-0.18\",\"x\":\"Fuel_Price\",\"xref\":\"x\",\"y\":\"Month\",\"yref\":\"y\"},{\"font\":{\"color\":\"#000000\"},\"showarrow\":false,\"text\":\"0.21\",\"x\":\"CPI\",\"xref\":\"x\",\"y\":\"Month\",\"yref\":\"y\"},{\"font\":{\"color\":\"#FFFFFF\"},\"showarrow\":false,\"text\":\"-0.15\",\"x\":\"Unemployment\",\"xref\":\"x\",\"y\":\"Month\",\"yref\":\"y\"},{\"font\":{\"color\":\"#FFFFFF\"},\"showarrow\":false,\"text\":\"-0.16\",\"x\":\"Year\",\"xref\":\"x\",\"y\":\"Month\",\"yref\":\"y\"},{\"font\":{\"color\":\"#000000\"},\"showarrow\":false,\"text\":\"1.0\",\"x\":\"Month\",\"xref\":\"x\",\"y\":\"Month\",\"yref\":\"y\"},{\"font\":{\"color\":\"#FFFFFF\"},\"showarrow\":false,\"text\":\"-0.17\",\"x\":\"Day\",\"xref\":\"x\",\"y\":\"Month\",\"yref\":\"y\"},{\"font\":{\"color\":\"#FFFFFF\"},\"showarrow\":false,\"text\":\"-0.31\",\"x\":\"DayOfWeek\",\"xref\":\"x\",\"y\":\"Month\",\"yref\":\"y\"},{\"font\":{\"color\":\"#FFFFFF\"},\"showarrow\":false,\"text\":\"0.0\",\"x\":\"Store\",\"xref\":\"x\",\"y\":\"Day\",\"yref\":\"y\"},{\"font\":{\"color\":\"#FFFFFF\"},\"showarrow\":false,\"text\":\"-0.02\",\"x\":\"Weekly_Sales\",\"xref\":\"x\",\"y\":\"Day\",\"yref\":\"y\"},{\"font\":{\"color\":\"#FFFFFF\"},\"showarrow\":false,\"text\":\"-0.16\",\"x\":\"Holiday_Flag\",\"xref\":\"x\",\"y\":\"Day\",\"yref\":\"y\"},{\"font\":{\"color\":\"#000000\"},\"showarrow\":false,\"text\":\"0.19\",\"x\":\"Temperature\",\"xref\":\"x\",\"y\":\"Day\",\"yref\":\"y\"},{\"font\":{\"color\":\"#FFFFFF\"},\"showarrow\":false,\"text\":\"-0.01\",\"x\":\"Fuel_Price\",\"xref\":\"x\",\"y\":\"Day\",\"yref\":\"y\"},{\"font\":{\"color\":\"#FFFFFF\"},\"showarrow\":false,\"text\":\"0.09\",\"x\":\"CPI\",\"xref\":\"x\",\"y\":\"Day\",\"yref\":\"y\"},{\"font\":{\"color\":\"#FFFFFF\"},\"showarrow\":false,\"text\":\"-0.01\",\"x\":\"Unemployment\",\"xref\":\"x\",\"y\":\"Day\",\"yref\":\"y\"},{\"font\":{\"color\":\"#FFFFFF\"},\"showarrow\":false,\"text\":\"-0.15\",\"x\":\"Year\",\"xref\":\"x\",\"y\":\"Day\",\"yref\":\"y\"},{\"font\":{\"color\":\"#FFFFFF\"},\"showarrow\":false,\"text\":\"-0.17\",\"x\":\"Month\",\"xref\":\"x\",\"y\":\"Day\",\"yref\":\"y\"},{\"font\":{\"color\":\"#000000\"},\"showarrow\":false,\"text\":\"1.0\",\"x\":\"Day\",\"xref\":\"x\",\"y\":\"Day\",\"yref\":\"y\"},{\"font\":{\"color\":\"#000000\"},\"showarrow\":false,\"text\":\"0.2\",\"x\":\"DayOfWeek\",\"xref\":\"x\",\"y\":\"Day\",\"yref\":\"y\"},{\"font\":{\"color\":\"#FFFFFF\"},\"showarrow\":false,\"text\":\"-0.06\",\"x\":\"Store\",\"xref\":\"x\",\"y\":\"DayOfWeek\",\"yref\":\"y\"},{\"font\":{\"color\":\"#FFFFFF\"},\"showarrow\":false,\"text\":\"0.03\",\"x\":\"Weekly_Sales\",\"xref\":\"x\",\"y\":\"DayOfWeek\",\"yref\":\"y\"},{\"font\":{\"color\":\"#FFFFFF\"},\"showarrow\":false,\"text\":\"-0.3\",\"x\":\"Holiday_Flag\",\"xref\":\"x\",\"y\":\"DayOfWeek\",\"yref\":\"y\"},{\"font\":{\"color\":\"#000000\"},\"showarrow\":false,\"text\":\"0.2\",\"x\":\"Temperature\",\"xref\":\"x\",\"y\":\"DayOfWeek\",\"yref\":\"y\"},{\"font\":{\"color\":\"#FFFFFF\"},\"showarrow\":false,\"text\":\"0.02\",\"x\":\"Fuel_Price\",\"xref\":\"x\",\"y\":\"DayOfWeek\",\"yref\":\"y\"},{\"font\":{\"color\":\"#FFFFFF\"},\"showarrow\":false,\"text\":\"-0.01\",\"x\":\"CPI\",\"xref\":\"x\",\"y\":\"DayOfWeek\",\"yref\":\"y\"},{\"font\":{\"color\":\"#FFFFFF\"},\"showarrow\":false,\"text\":\"-0.02\",\"x\":\"Unemployment\",\"xref\":\"x\",\"y\":\"DayOfWeek\",\"yref\":\"y\"},{\"font\":{\"color\":\"#FFFFFF\"},\"showarrow\":false,\"text\":\"-0.14\",\"x\":\"Year\",\"xref\":\"x\",\"y\":\"DayOfWeek\",\"yref\":\"y\"},{\"font\":{\"color\":\"#FFFFFF\"},\"showarrow\":false,\"text\":\"-0.31\",\"x\":\"Month\",\"xref\":\"x\",\"y\":\"DayOfWeek\",\"yref\":\"y\"},{\"font\":{\"color\":\"#000000\"},\"showarrow\":false,\"text\":\"0.2\",\"x\":\"Day\",\"xref\":\"x\",\"y\":\"DayOfWeek\",\"yref\":\"y\"},{\"font\":{\"color\":\"#000000\"},\"showarrow\":false,\"text\":\"1.0\",\"x\":\"DayOfWeek\",\"xref\":\"x\",\"y\":\"DayOfWeek\",\"yref\":\"y\"}],\"xaxis\":{\"dtick\":1,\"gridcolor\":\"rgb(0, 0, 0)\",\"side\":\"top\",\"ticks\":\"\"},\"yaxis\":{\"dtick\":1,\"ticks\":\"\",\"ticksuffix\":\"  \"},\"template\":{\"data\":{\"histogram2dcontour\":[{\"type\":\"histogram2dcontour\",\"colorbar\":{\"outlinewidth\":0,\"ticks\":\"\"},\"colorscale\":[[0.0,\"#0d0887\"],[0.1111111111111111,\"#46039f\"],[0.2222222222222222,\"#7201a8\"],[0.3333333333333333,\"#9c179e\"],[0.4444444444444444,\"#bd3786\"],[0.5555555555555556,\"#d8576b\"],[0.6666666666666666,\"#ed7953\"],[0.7777777777777778,\"#fb9f3a\"],[0.8888888888888888,\"#fdca26\"],[1.0,\"#f0f921\"]]}],\"choropleth\":[{\"type\":\"choropleth\",\"colorbar\":{\"outlinewidth\":0,\"ticks\":\"\"}}],\"histogram2d\":[{\"type\":\"histogram2d\",\"colorbar\":{\"outlinewidth\":0,\"ticks\":\"\"},\"colorscale\":[[0.0,\"#0d0887\"],[0.1111111111111111,\"#46039f\"],[0.2222222222222222,\"#7201a8\"],[0.3333333333333333,\"#9c179e\"],[0.4444444444444444,\"#bd3786\"],[0.5555555555555556,\"#d8576b\"],[0.6666666666666666,\"#ed7953\"],[0.7777777777777778,\"#fb9f3a\"],[0.8888888888888888,\"#fdca26\"],[1.0,\"#f0f921\"]]}],\"heatmap\":[{\"type\":\"heatmap\",\"colorbar\":{\"outlinewidth\":0,\"ticks\":\"\"},\"colorscale\":[[0.0,\"#0d0887\"],[0.1111111111111111,\"#46039f\"],[0.2222222222222222,\"#7201a8\"],[0.3333333333333333,\"#9c179e\"],[0.4444444444444444,\"#bd3786\"],[0.5555555555555556,\"#d8576b\"],[0.6666666666666666,\"#ed7953\"],[0.7777777777777778,\"#fb9f3a\"],[0.8888888888888888,\"#fdca26\"],[1.0,\"#f0f921\"]]}],\"heatmapgl\":[{\"type\":\"heatmapgl\",\"colorbar\":{\"outlinewidth\":0,\"ticks\":\"\"},\"colorscale\":[[0.0,\"#0d0887\"],[0.1111111111111111,\"#46039f\"],[0.2222222222222222,\"#7201a8\"],[0.3333333333333333,\"#9c179e\"],[0.4444444444444444,\"#bd3786\"],[0.5555555555555556,\"#d8576b\"],[0.6666666666666666,\"#ed7953\"],[0.7777777777777778,\"#fb9f3a\"],[0.8888888888888888,\"#fdca26\"],[1.0,\"#f0f921\"]]}],\"contourcarpet\":[{\"type\":\"contourcarpet\",\"colorbar\":{\"outlinewidth\":0,\"ticks\":\"\"}}],\"contour\":[{\"type\":\"contour\",\"colorbar\":{\"outlinewidth\":0,\"ticks\":\"\"},\"colorscale\":[[0.0,\"#0d0887\"],[0.1111111111111111,\"#46039f\"],[0.2222222222222222,\"#7201a8\"],[0.3333333333333333,\"#9c179e\"],[0.4444444444444444,\"#bd3786\"],[0.5555555555555556,\"#d8576b\"],[0.6666666666666666,\"#ed7953\"],[0.7777777777777778,\"#fb9f3a\"],[0.8888888888888888,\"#fdca26\"],[1.0,\"#f0f921\"]]}],\"surface\":[{\"type\":\"surface\",\"colorbar\":{\"outlinewidth\":0,\"ticks\":\"\"},\"colorscale\":[[0.0,\"#0d0887\"],[0.1111111111111111,\"#46039f\"],[0.2222222222222222,\"#7201a8\"],[0.3333333333333333,\"#9c179e\"],[0.4444444444444444,\"#bd3786\"],[0.5555555555555556,\"#d8576b\"],[0.6666666666666666,\"#ed7953\"],[0.7777777777777778,\"#fb9f3a\"],[0.8888888888888888,\"#fdca26\"],[1.0,\"#f0f921\"]]}],\"mesh3d\":[{\"type\":\"mesh3d\",\"colorbar\":{\"outlinewidth\":0,\"ticks\":\"\"}}],\"scatter\":[{\"fillpattern\":{\"fillmode\":\"overlay\",\"size\":10,\"solidity\":0.2},\"type\":\"scatter\"}],\"parcoords\":[{\"type\":\"parcoords\",\"line\":{\"colorbar\":{\"outlinewidth\":0,\"ticks\":\"\"}}}],\"scatterpolargl\":[{\"type\":\"scatterpolargl\",\"marker\":{\"colorbar\":{\"outlinewidth\":0,\"ticks\":\"\"}}}],\"bar\":[{\"error_x\":{\"color\":\"#2a3f5f\"},\"error_y\":{\"color\":\"#2a3f5f\"},\"marker\":{\"line\":{\"color\":\"#E5ECF6\",\"width\":0.5},\"pattern\":{\"fillmode\":\"overlay\",\"size\":10,\"solidity\":0.2}},\"type\":\"bar\"}],\"scattergeo\":[{\"type\":\"scattergeo\",\"marker\":{\"colorbar\":{\"outlinewidth\":0,\"ticks\":\"\"}}}],\"scatterpolar\":[{\"type\":\"scatterpolar\",\"marker\":{\"colorbar\":{\"outlinewidth\":0,\"ticks\":\"\"}}}],\"histogram\":[{\"marker\":{\"pattern\":{\"fillmode\":\"overlay\",\"size\":10,\"solidity\":0.2}},\"type\":\"histogram\"}],\"scattergl\":[{\"type\":\"scattergl\",\"marker\":{\"colorbar\":{\"outlinewidth\":0,\"ticks\":\"\"}}}],\"scatter3d\":[{\"type\":\"scatter3d\",\"line\":{\"colorbar\":{\"outlinewidth\":0,\"ticks\":\"\"}},\"marker\":{\"colorbar\":{\"outlinewidth\":0,\"ticks\":\"\"}}}],\"scattermapbox\":[{\"type\":\"scattermapbox\",\"marker\":{\"colorbar\":{\"outlinewidth\":0,\"ticks\":\"\"}}}],\"scatterternary\":[{\"type\":\"scatterternary\",\"marker\":{\"colorbar\":{\"outlinewidth\":0,\"ticks\":\"\"}}}],\"scattercarpet\":[{\"type\":\"scattercarpet\",\"marker\":{\"colorbar\":{\"outlinewidth\":0,\"ticks\":\"\"}}}],\"carpet\":[{\"aaxis\":{\"endlinecolor\":\"#2a3f5f\",\"gridcolor\":\"white\",\"linecolor\":\"white\",\"minorgridcolor\":\"white\",\"startlinecolor\":\"#2a3f5f\"},\"baxis\":{\"endlinecolor\":\"#2a3f5f\",\"gridcolor\":\"white\",\"linecolor\":\"white\",\"minorgridcolor\":\"white\",\"startlinecolor\":\"#2a3f5f\"},\"type\":\"carpet\"}],\"table\":[{\"cells\":{\"fill\":{\"color\":\"#EBF0F8\"},\"line\":{\"color\":\"white\"}},\"header\":{\"fill\":{\"color\":\"#C8D4E3\"},\"line\":{\"color\":\"white\"}},\"type\":\"table\"}],\"barpolar\":[{\"marker\":{\"line\":{\"color\":\"#E5ECF6\",\"width\":0.5},\"pattern\":{\"fillmode\":\"overlay\",\"size\":10,\"solidity\":0.2}},\"type\":\"barpolar\"}],\"pie\":[{\"automargin\":true,\"type\":\"pie\"}]},\"layout\":{\"autotypenumbers\":\"strict\",\"colorway\":[\"#636efa\",\"#EF553B\",\"#00cc96\",\"#ab63fa\",\"#FFA15A\",\"#19d3f3\",\"#FF6692\",\"#B6E880\",\"#FF97FF\",\"#FECB52\"],\"font\":{\"color\":\"#2a3f5f\"},\"hovermode\":\"closest\",\"hoverlabel\":{\"align\":\"left\"},\"paper_bgcolor\":\"white\",\"plot_bgcolor\":\"#E5ECF6\",\"polar\":{\"bgcolor\":\"#E5ECF6\",\"angularaxis\":{\"gridcolor\":\"white\",\"linecolor\":\"white\",\"ticks\":\"\"},\"radialaxis\":{\"gridcolor\":\"white\",\"linecolor\":\"white\",\"ticks\":\"\"}},\"ternary\":{\"bgcolor\":\"#E5ECF6\",\"aaxis\":{\"gridcolor\":\"white\",\"linecolor\":\"white\",\"ticks\":\"\"},\"baxis\":{\"gridcolor\":\"white\",\"linecolor\":\"white\",\"ticks\":\"\"},\"caxis\":{\"gridcolor\":\"white\",\"linecolor\":\"white\",\"ticks\":\"\"}},\"coloraxis\":{\"colorbar\":{\"outlinewidth\":0,\"ticks\":\"\"}},\"colorscale\":{\"sequential\":[[0.0,\"#0d0887\"],[0.1111111111111111,\"#46039f\"],[0.2222222222222222,\"#7201a8\"],[0.3333333333333333,\"#9c179e\"],[0.4444444444444444,\"#bd3786\"],[0.5555555555555556,\"#d8576b\"],[0.6666666666666666,\"#ed7953\"],[0.7777777777777778,\"#fb9f3a\"],[0.8888888888888888,\"#fdca26\"],[1.0,\"#f0f921\"]],\"sequentialminus\":[[0.0,\"#0d0887\"],[0.1111111111111111,\"#46039f\"],[0.2222222222222222,\"#7201a8\"],[0.3333333333333333,\"#9c179e\"],[0.4444444444444444,\"#bd3786\"],[0.5555555555555556,\"#d8576b\"],[0.6666666666666666,\"#ed7953\"],[0.7777777777777778,\"#fb9f3a\"],[0.8888888888888888,\"#fdca26\"],[1.0,\"#f0f921\"]],\"diverging\":[[0,\"#8e0152\"],[0.1,\"#c51b7d\"],[0.2,\"#de77ae\"],[0.3,\"#f1b6da\"],[0.4,\"#fde0ef\"],[0.5,\"#f7f7f7\"],[0.6,\"#e6f5d0\"],[0.7,\"#b8e186\"],[0.8,\"#7fbc41\"],[0.9,\"#4d9221\"],[1,\"#276419\"]]},\"xaxis\":{\"gridcolor\":\"white\",\"linecolor\":\"white\",\"ticks\":\"\",\"title\":{\"standoff\":15},\"zerolinecolor\":\"white\",\"automargin\":true,\"zerolinewidth\":2},\"yaxis\":{\"gridcolor\":\"white\",\"linecolor\":\"white\",\"ticks\":\"\",\"title\":{\"standoff\":15},\"zerolinecolor\":\"white\",\"automargin\":true,\"zerolinewidth\":2},\"scene\":{\"xaxis\":{\"backgroundcolor\":\"#E5ECF6\",\"gridcolor\":\"white\",\"linecolor\":\"white\",\"showbackground\":true,\"ticks\":\"\",\"zerolinecolor\":\"white\",\"gridwidth\":2},\"yaxis\":{\"backgroundcolor\":\"#E5ECF6\",\"gridcolor\":\"white\",\"linecolor\":\"white\",\"showbackground\":true,\"ticks\":\"\",\"zerolinecolor\":\"white\",\"gridwidth\":2},\"zaxis\":{\"backgroundcolor\":\"#E5ECF6\",\"gridcolor\":\"white\",\"linecolor\":\"white\",\"showbackground\":true,\"ticks\":\"\",\"zerolinecolor\":\"white\",\"gridwidth\":2}},\"shapedefaults\":{\"line\":{\"color\":\"#2a3f5f\"}},\"annotationdefaults\":{\"arrowcolor\":\"#2a3f5f\",\"arrowhead\":0,\"arrowwidth\":1},\"geo\":{\"bgcolor\":\"white\",\"landcolor\":\"#E5ECF6\",\"subunitcolor\":\"white\",\"showland\":true,\"showlakes\":true,\"lakecolor\":\"white\"},\"title\":{\"x\":0.05},\"mapbox\":{\"style\":\"light\"}}}},                        {\"responsive\": true}                    ).then(function(){\n",
              "                            \n",
              "var gd = document.getElementById('96cdbdee-11f6-4230-8049-4342eba34b66');\n",
              "var x = new MutationObserver(function (mutations, observer) {{\n",
              "        var display = window.getComputedStyle(gd).display;\n",
              "        if (!display || display === 'none') {{\n",
              "            console.log([gd, 'removed!']);\n",
              "            Plotly.purge(gd);\n",
              "            observer.disconnect();\n",
              "        }}\n",
              "}});\n",
              "\n",
              "// Listen for the removal of the full notebook cells\n",
              "var notebookContainer = gd.closest('#notebook-container');\n",
              "if (notebookContainer) {{\n",
              "    x.observe(notebookContainer, {childList: true});\n",
              "}}\n",
              "\n",
              "// Listen for the clearing of the current output cell\n",
              "var outputEl = gd.closest('.output');\n",
              "if (outputEl) {{\n",
              "    x.observe(outputEl, {childList: true});\n",
              "}}\n",
              "\n",
              "                        })                };                            </script>        </div>\n",
              "</body>\n",
              "</html>"
            ]
          },
          "metadata": {}
        }
      ],
      "source": [
        "# Correlation matrix\n",
        "corr_matrix = df.corr().round(2)\n",
        "\n",
        "import plotly.figure_factory as ff\n",
        "\n",
        "fig = ff.create_annotated_heatmap(corr_matrix.values,\n",
        "                                  x = corr_matrix.columns.tolist(),\n",
        "                                  y = corr_matrix.index.tolist())\n",
        "\n",
        "\n",
        "fig.show()\n"
      ]
    },
    {
      "cell_type": "markdown",
      "metadata": {
        "id": "2kePkYUU58S3"
      },
      "source": [
        "## Pre Processing"
      ]
    },
    {
      "cell_type": "code",
      "execution_count": 29,
      "metadata": {
        "colab": {
          "base_uri": "https://localhost:8080/"
        },
        "id": "lxz37lL458S3",
        "outputId": "eb849752-e255-48fd-d42f-7054bd65e17f"
      },
      "outputs": [
        {
          "output_type": "stream",
          "name": "stdout",
          "text": [
            "Separating labels from features...\n",
            "...Done.\n",
            "0    1572117.54\n",
            "1    1807545.43\n",
            "2    1244390.03\n",
            "3    1644470.66\n",
            "4    1857533.70\n",
            "Name: Weekly_Sales, dtype: float64\n",
            "\n",
            "   Store  Holiday_Flag  Temperature  Fuel_Price         CPI  Unemployment  \\\n",
            "0    6.0           NaN    15.338889       3.045  214.777523         6.858   \n",
            "1   13.0           0.0     5.766667       3.435  128.616064         7.470   \n",
            "2   11.0           0.0    29.205556         NaN  214.556497         7.346   \n",
            "3    6.0           0.0    26.050000       2.759  212.412888         7.092   \n",
            "4    4.0           0.0          NaN       2.756  126.160226         7.896   \n",
            "\n",
            "     Year  Month   Day  DayOfWeek  \n",
            "0  2011.0    2.0  18.0        4.0  \n",
            "1  2011.0    3.0  25.0        4.0  \n",
            "2     NaN    NaN   NaN        NaN  \n",
            "3  2010.0    5.0  28.0        4.0  \n",
            "4  2010.0    5.0  28.0        4.0  \n",
            "\n"
          ]
        }
      ],
      "source": [
        "# Separate target variable Y from features X\n",
        "target_name = 'Weekly_Sales'\n",
        "features_list = [\"Store\",\"Holiday_Flag\",\"Temperature\",\"Fuel_Price\",\"CPI\",\"Unemployment\",\"Year\",\"Month\",\"Day\",\"DayOfWeek\"]\n",
        "\n",
        "print(\"Separating labels from features...\")\n",
        "Y = df.loc[:,target_name]\n",
        "X = df.drop(target_name, axis = 1) # All columns are kept, except the target\n",
        "print(\"...Done.\")\n",
        "print(Y.head())\n",
        "print()\n",
        "print(X.head())\n",
        "print()\n"
      ]
    },
    {
      "cell_type": "code",
      "execution_count": 30,
      "metadata": {
        "colab": {
          "base_uri": "https://localhost:8080/"
        },
        "id": "TJg7JrqA58S4",
        "outputId": "40d49d31-de17-4ccd-bcc4-5ace326c76b6"
      },
      "outputs": [
        {
          "output_type": "stream",
          "name": "stdout",
          "text": [
            "Dividing into train and test sets...\n",
            "...Done.\n",
            "\n"
          ]
        }
      ],
      "source": [
        "# Divide dataset Train set & Test set\n",
        "print(\"Dividing into train and test sets...\")\n",
        "X_train, X_test, Y_train, Y_test = train_test_split(X, Y, test_size=0.2, random_state=0)\n",
        "print(\"...Done.\")\n",
        "print()"
      ]
    },
    {
      "cell_type": "code",
      "execution_count": 31,
      "metadata": {
        "id": "FFkKGo_O58S4"
      },
      "outputs": [],
      "source": [
        "#Categorical variables : Store, Holiday_Flag, DayOfWeek\n",
        "#Numerical variables : Temperature, Fuel_Price, CPI, Unemployment, Year, Month, Day\n",
        "#Create pipeline for numeric features\n",
        "numeric_features = ['Year', 'Month','Day', 'DayOfWeek','Temperature', 'Fuel_Price', 'CPI', 'Unemployment'] # Names of numeric columns in X_train/X_test\n",
        "\n",
        "numeric_transformer = Pipeline(steps=[\n",
        "    ('imputer', SimpleImputer(strategy='median')),# missing values will be replaced by columns' median\n",
        "    ('scaler', StandardScaler())\n",
        "])\n"
      ]
    },
    {
      "cell_type": "code",
      "execution_count": 32,
      "metadata": {
        "id": "dMuSMEUd58S4"
      },
      "outputs": [],
      "source": [
        "# Create pipeline for categorical features\n",
        "categorical_features = ['Store', 'Holiday_Flag'] # Names of categorical columns in X_train/X_test\n",
        "categorical_transformer = Pipeline(\n",
        "    steps=[\n",
        "    ('imputer', SimpleImputer(strategy='most_frequent')), # missing values will be replaced by most frequent value\n",
        "    ('encoder', OneHotEncoder(drop='first')) # first column will be dropped to avoid creating correlations between features\n",
        "    ])"
      ]
    },
    {
      "cell_type": "code",
      "execution_count": 33,
      "metadata": {
        "id": "3icK6zvR58S5"
      },
      "outputs": [],
      "source": [
        "# Use ColumnTransformer to make a preprocessor object that describes all the treatments to be done\n",
        "preprocessor = ColumnTransformer(\n",
        "    transformers=[\n",
        "        ('num', numeric_transformer, numeric_features),\n",
        "        ('cat', categorical_transformer, categorical_features)\n",
        "    ])"
      ]
    },
    {
      "cell_type": "code",
      "execution_count": 34,
      "metadata": {
        "colab": {
          "base_uri": "https://localhost:8080/"
        },
        "id": "pbTFeWVS58S5",
        "outputId": "dfc8599a-bf39-49ea-be82-7fede5bf657e"
      },
      "outputs": [
        {
          "output_type": "stream",
          "name": "stdout",
          "text": [
            "Performing preprocessings on train set...\n",
            "     Store  Holiday_Flag  Temperature  Fuel_Price         CPI  Unemployment  \\\n",
            "118    4.0           NaN    29.216667       3.469  129.112500         5.644   \n",
            "68     1.0           0.0    16.805556       3.308  218.220509         7.866   \n",
            "16    18.0           0.0    -5.927778       2.788  131.527903         9.202   \n",
            "96    18.0           0.0    20.622222       2.906  132.293936           NaN   \n",
            "122    5.0           0.0    16.872222         NaN  212.560411         6.768   \n",
            "\n",
            "       Year  Month   Day  DayOfWeek  \n",
            "118  2011.0    8.0   7.0        6.0  \n",
            "68   2011.0   11.0  18.0        4.0  \n",
            "16      NaN    NaN   NaN        NaN  \n",
            "96   2010.0    5.0  28.0        4.0  \n",
            "122  2010.0   12.0  11.0        5.0  \n",
            "...Done.\n",
            "[[ 0.17418541  0.3878969  -1.200365    1.86210883  1.46315567  0.30806957\n",
            "  -1.35931117 -1.84213463  0.          0.          1.          0.\n",
            "   0.          0.          0.          0.          0.          0.\n",
            "   0.          0.          0.          0.          0.          0.\n",
            "   0.          0.          0.        ]\n",
            " [ 0.17418541  1.29785054  0.1525587   0.16334288  0.13891797 -0.04811859\n",
            "   0.9894023   0.52274678  0.          0.          0.          0.\n",
            "   0.          0.          0.          0.          0.          0.\n",
            "   0.          0.          0.          0.          0.          0.\n",
            "   0.          0.          0.        ]\n",
            " [ 0.17418541 -0.06707992  0.1525587   0.16334288 -2.28667768 -1.19853996\n",
            "  -1.29564585  1.94465567  0.          0.          0.          0.\n",
            "   0.          0.          0.          0.          0.          0.\n",
            "   0.          0.          0.          0.          0.          1.\n",
            "   0.          0.          0.        ]\n",
            " [-1.11976335 -0.52205673  1.38248935  0.16334288  0.54614774 -0.9374828\n",
            "  -1.27545473  0.08585037  0.          0.          0.          0.\n",
            "   0.          0.          0.          0.          0.          0.\n",
            "   0.          0.          0.          0.          0.          1.\n",
            "   0.          0.          0.        ]\n",
            " [-1.11976335  1.60116841 -0.70839275  1.01272586  0.14603115  0.30585722\n",
            "   0.84021316 -0.64585799  0.          0.          0.          1.\n",
            "   0.          0.          0.          0.          0.          0.\n",
            "   0.          0.          0.          0.          0.          0.\n",
            "   0.          0.          0.        ]]\n",
            "\n",
            "Performing preprocessings on test set...\n",
            "     Store  Holiday_Flag  Temperature  Fuel_Price         CPI  Unemployment  \\\n",
            "8      3.0           0.0    15.622222       3.555  224.132020         6.833   \n",
            "61     3.0           0.0     7.616667       2.572  214.424881         7.368   \n",
            "90    18.0           0.0    20.972222       3.815  135.446800         8.890   \n",
            "106    8.0           0.0    24.066667       2.582  214.878556         6.315   \n",
            "71     5.0           0.0          NaN       3.630  221.434215         5.943   \n",
            "\n",
            "       Year  Month   Day  DayOfWeek  \n",
            "8       NaN    NaN   NaN        NaN  \n",
            "61   2010.0    5.0   2.0        6.0  \n",
            "90      NaN    NaN   NaN        NaN  \n",
            "106  2010.0    9.0  17.0        4.0  \n",
            "71      NaN    NaN   NaN        NaN  \n",
            "...Done.\n",
            "[[ 0.17418541 -0.06707992  0.1525587   0.16334288  0.01265896  0.49833157\n",
            "   1.14521821 -0.57667829  0.          1.          0.          0.\n",
            "   0.          0.          0.          0.          0.          0.\n",
            "   0.          0.          0.          0.          0.          0.\n",
            "   0.          0.          0.        ]\n",
            " [-1.11976335 -0.52205673 -1.81533033  1.86210883 -0.84151585 -1.6764073\n",
            "   0.88935695 -0.00727615  0.          1.          0.          0.\n",
            "   0.          0.          0.          0.          0.          0.\n",
            "   0.          0.          0.          0.          0.          0.\n",
            "   0.          0.          0.        ]\n",
            " [ 0.17418541 -0.06707992  0.1525587   0.16334288  0.58349195  1.07354225\n",
            "  -1.19235136  1.61259312  0.          0.          0.          0.\n",
            "   0.          0.          0.          0.          0.          0.\n",
            "   0.          0.          0.          0.          0.          1.\n",
            "   0.          0.          0.        ]\n",
            " [-1.11976335  0.69121478  0.02956564  0.16334288  0.91366223 -1.65428381\n",
            "   0.90131494 -1.12798728  0.          0.          0.          0.\n",
            "   0.          0.          1.          0.          0.          0.\n",
            "   0.          0.          0.          0.          0.          0.\n",
            "   0.          0.          0.        ]\n",
            " [ 0.17418541 -0.06707992  0.1525587   0.16334288  0.05948742  0.66425773\n",
            "   1.07410932 -1.52390802  0.          0.          0.          1.\n",
            "   0.          0.          0.          0.          0.          0.\n",
            "   0.          0.          0.          0.          0.          0.\n",
            "   0.          0.          0.        ]]\n",
            "\n"
          ]
        }
      ],
      "source": [
        "# Preprocessings on train set\n",
        "print(\"Performing preprocessings on train set...\")\n",
        "print(X_train.head())\n",
        "X_train = preprocessor.fit_transform(X_train)\n",
        "print('...Done.')\n",
        "print(X_train[0:5]) # MUST use this syntax because X_train is a numpy array and not a pandas DataFrame anymore\n",
        "print()\n",
        "\n",
        "# Preprocessings on test set\n",
        "print(\"Performing preprocessings on test set...\")\n",
        "print(X_test.head())\n",
        "X_test = preprocessor.transform(X_test) # Don't fit again !! The test set is used for validating decisions\n",
        "# we made based on the training set, therefore we can only apply transformations that were parametered using the training set.\n",
        "# Otherwise this creates what is called a leak from the test set which will introduce a bias in all your results.\n",
        "print('...Done.')\n",
        "print(X_test[0:5,:]) # MUST use this syntax because X_test is a numpy array and not a pandas DataFrame anymore\n",
        "print()\n"
      ]
    },
    {
      "cell_type": "markdown",
      "metadata": {
        "id": "-ftbft0B58S5"
      },
      "source": [
        "## Baseline Model"
      ]
    },
    {
      "cell_type": "code",
      "execution_count": 35,
      "metadata": {
        "colab": {
          "base_uri": "https://localhost:8080/"
        },
        "id": "7dd-d-Ju58S6",
        "outputId": "26384db3-55e3-430e-96bf-c779c164f0f2"
      },
      "outputs": [
        {
          "output_type": "stream",
          "name": "stdout",
          "text": [
            "Train model...\n",
            "...Done.\n"
          ]
        }
      ],
      "source": [
        "#Baseline Model: Linear Regression =>Train model\n",
        "print(\"Train model...\")\n",
        "regressor = LinearRegression()\n",
        "regressor.fit(X_train, Y_train)\n",
        "print(\"...Done.\")"
      ]
    },
    {
      "cell_type": "code",
      "execution_count": 36,
      "metadata": {
        "colab": {
          "base_uri": "https://localhost:8080/"
        },
        "id": "2-iIt06w58S6",
        "outputId": "8d1cd55d-ce0d-4007-e783-8d2d6acca0e7"
      },
      "outputs": [
        {
          "output_type": "stream",
          "name": "stdout",
          "text": [
            "Predictions on training set...\n",
            "...Done.\n",
            "[2203436.37058301 1589845.9029752  1168578.90892836 1247509.51375566\n",
            "  358692.13624493  831159.3616307  2095391.84683626 2011185.13613192\n",
            "  416750.99825711 2122192.02920989 1418775.16463356  462580.20079644\n",
            " 1979164.34501945 1549997.42751573 1447904.7753018  1984436.57528517\n",
            " 2080965.79574837 2016221.82613351 1624103.68638465 1911079.67828424\n",
            " 2009702.40028624 1789035.3176782  2012988.64805285  606152.35533527\n",
            " 1554555.91531025  598468.80583955 1473869.95625612  531566.75184412\n",
            "  451311.15330596 2012778.36896733 1320744.92070881 1010069.04891472\n",
            " 1871025.30133024 2056018.08196474 1392003.614203   1906140.50306398\n",
            " 1968577.69992149 1031787.99507656  479252.34284208  283881.87885134\n",
            " 2003067.48584084 1975921.30781428 1546512.84534952  628300.50710952\n",
            " 1618398.51283338 1487412.65243573  166808.95444565 1549497.64959907\n",
            " 2093930.98889249  631992.66462026 2059331.82426486  836519.18062998\n",
            "  379481.49298465  987601.90019882 1988757.12717957 1394829.69157946\n",
            " 1514159.23143252  361410.98789213  616274.28494798 2058111.45594715\n",
            "  308442.53832858  429319.46752108 1546879.32230584 2225139.03282438\n",
            "  211817.96958132 2122994.52410424 2017216.39843547  515586.52944533\n",
            " 2017891.91934882 1567583.59979949 1285025.54296028  529961.17288796\n",
            " 1929780.76430078 1023701.92573049 1199549.45983238  426073.96150107\n",
            " 1702746.76361535 2007460.69711036  493231.62947237  535014.17732254\n",
            "  383812.52262204  896749.45855029 2003659.5152642  1832606.34240031\n",
            "  502878.14379282  727077.34303793 1554077.24013281 2379933.66576187\n",
            " 1487676.6663631   767734.57708916  397410.53050758  537013.99380608\n",
            " 1921304.83326036 1035871.63017828 1089907.34310232 1418474.95338356\n",
            " 1576667.45912376  797408.53891956  496905.57161585  907771.09325971\n",
            "  329550.50872321  572791.40451728 2137046.35609741 2031903.67665574]\n",
            "\n"
          ]
        }
      ],
      "source": [
        "# Predictions on training set\n",
        "print(\"Predictions on training set...\")\n",
        "Y_train_pred = regressor.predict(X_train)\n",
        "print(\"...Done.\")\n",
        "print(Y_train_pred)\n",
        "print()"
      ]
    },
    {
      "cell_type": "code",
      "execution_count": 37,
      "metadata": {
        "colab": {
          "base_uri": "https://localhost:8080/"
        },
        "id": "PLGQ8i8c58S6",
        "outputId": "f9b10e0e-f800-4843-dd54-fe8c842d273d"
      },
      "outputs": [
        {
          "output_type": "stream",
          "name": "stdout",
          "text": [
            "Predictions on test set...\n",
            "...Done.\n",
            "[ 411669.53198309  505427.44622631 1055504.33425131  940129.63229267\n",
            "  325061.06510809 1881541.01700659 1459888.4109778  1041567.72587801\n",
            " 1144936.96302564  896178.73795387 1834081.61462104 2385937.05010301\n",
            " 1350084.2035416   749668.30784882 1193778.46666477  314665.58721801\n",
            " 2290848.78865036  340081.59772004 1575001.63574422 1948974.42628948\n",
            "  892710.04613905  453486.31672932  290048.22189393 1990406.31054897\n",
            " 2001968.92017196 1682119.92552838  123083.5610687 ]\n",
            "\n"
          ]
        }
      ],
      "source": [
        "# Predictions on test set\n",
        "print(\"Predictions on test set...\")\n",
        "Y_test_pred = regressor.predict(X_test)\n",
        "print(\"...Done.\")\n",
        "print(Y_test_pred)\n",
        "print()"
      ]
    },
    {
      "cell_type": "code",
      "execution_count": 38,
      "metadata": {
        "colab": {
          "base_uri": "https://localhost:8080/"
        },
        "id": "dW8qi49g58S7",
        "outputId": "1d18c954-431b-4cd2-8e35-4326cc7df37b"
      },
      "outputs": [
        {
          "output_type": "stream",
          "name": "stdout",
          "text": [
            "R2 score on training set :  0.96900604569718\n",
            "R2 score on test set :  0.9384398798887249\n"
          ]
        }
      ],
      "source": [
        "# Print R^2 scores\n",
        "print(\"R2 score on training set : \", r2_score(Y_train, Y_train_pred))\n",
        "print(\"R2 score on test set : \", r2_score(Y_test, Y_test_pred))"
      ]
    },
    {
      "cell_type": "code",
      "execution_count": 39,
      "metadata": {
        "colab": {
          "base_uri": "https://localhost:8080/"
        },
        "id": "DLt2S5Wh58S7",
        "outputId": "3c3db168-dfc4-4bc8-de08-72ed8fd326cb"
      },
      "outputs": [
        {
          "output_type": "execute_result",
          "data": {
            "text/plain": [
              "0.0306"
            ]
          },
          "metadata": {},
          "execution_count": 39
        }
      ],
      "source": [
        "diff_scores=round((r2_score(Y_train, Y_train_pred))-(r2_score(Y_test, Y_test_pred)),4)\n",
        "diff_scores"
      ]
    },
    {
      "cell_type": "code",
      "execution_count": 40,
      "metadata": {
        "colab": {
          "base_uri": "https://localhost:8080/"
        },
        "id": "4Q8XLqpT58S7",
        "outputId": "14b0d74e-7514-4d7c-ffe3-e6eecde3e0cf"
      },
      "outputs": [
        {
          "output_type": "stream",
          "name": "stdout",
          "text": [
            "Let's check is this following difference between Train and Test score is significant 0.0306\n"
          ]
        }
      ],
      "source": [
        "# We obtain a R2 > on Train set\n",
        "print(\"Let's check is this following difference between Train and Test score is significant {}\".format(diff_scores))"
      ]
    },
    {
      "cell_type": "markdown",
      "metadata": {
        "id": "RtPrNPOR58S8"
      },
      "source": [
        "## Cross Validation"
      ]
    },
    {
      "cell_type": "code",
      "execution_count": 41,
      "metadata": {
        "colab": {
          "base_uri": "https://localhost:8080/"
        },
        "id": "URtgDM2O58S8",
        "outputId": "bd67d2d8-abd1-4549-e6d0-e4dcf1d500ae"
      },
      "outputs": [
        {
          "output_type": "stream",
          "name": "stdout",
          "text": [
            "3-fold cross-validation...\n",
            "The cross-validated R2-score is :  0.9326785700959924\n",
            "The standard deviation is :  0.023274322998646187\n"
          ]
        }
      ],
      "source": [
        "print(\"3-fold cross-validation...\")\n",
        "scores = cross_val_score(regressor, X_train, Y_train, cv=5)\n",
        "print('The cross-validated R2-score is : ', scores.mean())\n",
        "print('The standard deviation is : ', scores.std())"
      ]
    },
    {
      "cell_type": "code",
      "execution_count": 42,
      "metadata": {
        "colab": {
          "base_uri": "https://localhost:8080/"
        },
        "id": "ZhPw6Dm458S9",
        "outputId": "1fda7094-61d2-4760-e656-8454f69eabdd"
      },
      "outputs": [
        {
          "output_type": "stream",
          "name": "stdout",
          "text": [
            "The difference between R2 score on train and test is : 0.0306\n",
            "Which is more than the standard deviation found before, so Yes, we overfitt!\n"
          ]
        }
      ],
      "source": [
        "print('The difference between R2 score on train and test is : {}'.format(diff_scores))\n",
        "print('Which is more than the standard deviation found before, so Yes, we overfitt!')"
      ]
    },
    {
      "cell_type": "code",
      "execution_count": 43,
      "metadata": {
        "colab": {
          "base_uri": "https://localhost:8080/"
        },
        "id": "xgW8tkxF58S9",
        "outputId": "475341a9-ddf4-4b86-8988-3b6b4f6611b7"
      },
      "outputs": [
        {
          "output_type": "execute_result",
          "data": {
            "text/plain": [
              "array([  -35393.12400149,    37030.35187209,   -28117.86944173,\n",
              "          -2354.55531401,   -29889.63488091,   -29972.25858323,\n",
              "          92112.1066835 ,   -94254.86346719,   365545.57972288,\n",
              "       -1233006.69806167,   656944.99253022, -1395973.31665377,\n",
              "         -54136.32064882,  -888385.53196513,  -848966.90453811,\n",
              "       -1276808.31256484,   684020.96628748,    42586.24230567,\n",
              "         581400.17334717,   675336.35568495,  -663814.80220216,\n",
              "       -1111788.0573481 ,  -624940.95250282,  -133201.60726769,\n",
              "          94627.95922619,   377686.17189414,   -73525.48935808])"
            ]
          },
          "metadata": {},
          "execution_count": 43
        }
      ],
      "source": [
        "# We have a look to the coefficient of our model\n",
        "regressor.coef_"
      ]
    },
    {
      "cell_type": "code",
      "execution_count": 44,
      "metadata": {
        "colab": {
          "base_uri": "https://localhost:8080/"
        },
        "id": "URwc_b3758S-",
        "outputId": "ee4202c7-f903-4aab-ae11-b7771121f649"
      },
      "outputs": [
        {
          "output_type": "execute_result",
          "data": {
            "text/plain": [
              "[('num',\n",
              "  Pipeline(steps=[('imputer', SimpleImputer(strategy='median')),\n",
              "                  ('scaler', StandardScaler())]),\n",
              "  ['Year',\n",
              "   'Month',\n",
              "   'Day',\n",
              "   'DayOfWeek',\n",
              "   'Temperature',\n",
              "   'Fuel_Price',\n",
              "   'CPI',\n",
              "   'Unemployment']),\n",
              " ('cat',\n",
              "  Pipeline(steps=[('imputer', SimpleImputer(strategy='most_frequent')),\n",
              "                  ('encoder', OneHotEncoder(drop='first'))]),\n",
              "  ['Store', 'Holiday_Flag'])]"
            ]
          },
          "metadata": {},
          "execution_count": 44
        }
      ],
      "source": [
        "preprocessor.transformers_"
      ]
    },
    {
      "cell_type": "code",
      "execution_count": 45,
      "metadata": {
        "colab": {
          "base_uri": "https://localhost:8080/"
        },
        "id": "MnHJpuVA58S_",
        "outputId": "c7ebf7b6-3ab6-4ed7-c001-abbd2e6d9392"
      },
      "outputs": [
        {
          "output_type": "stream",
          "name": "stdout",
          "text": [
            "Names of columns corresponding to each coefficient:  ['Year', 'Month', 'Day', 'DayOfWeek', 'Temperature', 'Fuel_Price', 'CPI', 'Unemployment', 'x0_2.0', 'x0_3.0', 'x0_4.0', 'x0_5.0', 'x0_6.0', 'x0_7.0', 'x0_8.0', 'x0_9.0', 'x0_10.0', 'x0_11.0', 'x0_13.0', 'x0_14.0', 'x0_15.0', 'x0_16.0', 'x0_17.0', 'x0_18.0', 'x0_19.0', 'x0_20.0', 'x1_1.0']\n"
          ]
        }
      ],
      "source": [
        "# We need to get back our feature names (before pre processing)\n",
        "column_names = []\n",
        "for name, pipeline, features_list in preprocessor.transformers_: # loop over pipelines\n",
        "    if name == 'num': # if pipeline is for numeric variables\n",
        "        features = features_list # just get the names of columns to which it has been applied\n",
        "    else: # if pipeline is for categorical variables\n",
        "        features = pipeline.named_steps['encoder'].get_feature_names_out() # get output columns names from OneHotEncoder\n",
        "    column_names.extend(features) # concatenate features names\n",
        "\n",
        "print(\"Names of columns corresponding to each coefficient: \", column_names)\n"
      ]
    },
    {
      "cell_type": "code",
      "execution_count": 46,
      "metadata": {
        "colab": {
          "base_uri": "https://localhost:8080/"
        },
        "id": "gQGredXU58S_",
        "outputId": "cb4a984c-fa3d-4f9b-b273-01731c87ba93"
      },
      "outputs": [
        {
          "output_type": "execute_result",
          "data": {
            "text/plain": [
              "(27,)"
            ]
          },
          "metadata": {},
          "execution_count": 46
        }
      ],
      "source": [
        "regressor.coef_.shape"
      ]
    },
    {
      "cell_type": "code",
      "execution_count": 47,
      "metadata": {
        "colab": {
          "base_uri": "https://localhost:8080/",
          "height": 896
        },
        "id": "HR7fR05458TA",
        "outputId": "b5d3bac6-6807-46f3-d2d6-f8a0dc802f01"
      },
      "outputs": [
        {
          "output_type": "execute_result",
          "data": {
            "text/plain": [
              "              coefficients\n",
              "Year         -3.539312e+04\n",
              "Month         3.703035e+04\n",
              "Day          -2.811787e+04\n",
              "DayOfWeek    -2.354555e+03\n",
              "Temperature  -2.988963e+04\n",
              "Fuel_Price   -2.997226e+04\n",
              "CPI           9.211211e+04\n",
              "Unemployment -9.425486e+04\n",
              "x0_2.0        3.655456e+05\n",
              "x0_3.0       -1.233007e+06\n",
              "x0_4.0        6.569450e+05\n",
              "x0_5.0       -1.395973e+06\n",
              "x0_6.0       -5.413632e+04\n",
              "x0_7.0       -8.883855e+05\n",
              "x0_8.0       -8.489669e+05\n",
              "x0_9.0       -1.276808e+06\n",
              "x0_10.0       6.840210e+05\n",
              "x0_11.0       4.258624e+04\n",
              "x0_13.0       5.814002e+05\n",
              "x0_14.0       6.753364e+05\n",
              "x0_15.0      -6.638148e+05\n",
              "x0_16.0      -1.111788e+06\n",
              "x0_17.0      -6.249410e+05\n",
              "x0_18.0      -1.332016e+05\n",
              "x0_19.0       9.462796e+04\n",
              "x0_20.0       3.776862e+05\n",
              "x1_1.0       -7.352549e+04"
            ],
            "text/html": [
              "\n",
              "\n",
              "  <div id=\"df-f9c601e0-e0e1-4970-8221-177959c75ea7\">\n",
              "    <div class=\"colab-df-container\">\n",
              "      <div>\n",
              "<style scoped>\n",
              "    .dataframe tbody tr th:only-of-type {\n",
              "        vertical-align: middle;\n",
              "    }\n",
              "\n",
              "    .dataframe tbody tr th {\n",
              "        vertical-align: top;\n",
              "    }\n",
              "\n",
              "    .dataframe thead th {\n",
              "        text-align: right;\n",
              "    }\n",
              "</style>\n",
              "<table border=\"1\" class=\"dataframe\">\n",
              "  <thead>\n",
              "    <tr style=\"text-align: right;\">\n",
              "      <th></th>\n",
              "      <th>coefficients</th>\n",
              "    </tr>\n",
              "  </thead>\n",
              "  <tbody>\n",
              "    <tr>\n",
              "      <th>Year</th>\n",
              "      <td>-3.539312e+04</td>\n",
              "    </tr>\n",
              "    <tr>\n",
              "      <th>Month</th>\n",
              "      <td>3.703035e+04</td>\n",
              "    </tr>\n",
              "    <tr>\n",
              "      <th>Day</th>\n",
              "      <td>-2.811787e+04</td>\n",
              "    </tr>\n",
              "    <tr>\n",
              "      <th>DayOfWeek</th>\n",
              "      <td>-2.354555e+03</td>\n",
              "    </tr>\n",
              "    <tr>\n",
              "      <th>Temperature</th>\n",
              "      <td>-2.988963e+04</td>\n",
              "    </tr>\n",
              "    <tr>\n",
              "      <th>Fuel_Price</th>\n",
              "      <td>-2.997226e+04</td>\n",
              "    </tr>\n",
              "    <tr>\n",
              "      <th>CPI</th>\n",
              "      <td>9.211211e+04</td>\n",
              "    </tr>\n",
              "    <tr>\n",
              "      <th>Unemployment</th>\n",
              "      <td>-9.425486e+04</td>\n",
              "    </tr>\n",
              "    <tr>\n",
              "      <th>x0_2.0</th>\n",
              "      <td>3.655456e+05</td>\n",
              "    </tr>\n",
              "    <tr>\n",
              "      <th>x0_3.0</th>\n",
              "      <td>-1.233007e+06</td>\n",
              "    </tr>\n",
              "    <tr>\n",
              "      <th>x0_4.0</th>\n",
              "      <td>6.569450e+05</td>\n",
              "    </tr>\n",
              "    <tr>\n",
              "      <th>x0_5.0</th>\n",
              "      <td>-1.395973e+06</td>\n",
              "    </tr>\n",
              "    <tr>\n",
              "      <th>x0_6.0</th>\n",
              "      <td>-5.413632e+04</td>\n",
              "    </tr>\n",
              "    <tr>\n",
              "      <th>x0_7.0</th>\n",
              "      <td>-8.883855e+05</td>\n",
              "    </tr>\n",
              "    <tr>\n",
              "      <th>x0_8.0</th>\n",
              "      <td>-8.489669e+05</td>\n",
              "    </tr>\n",
              "    <tr>\n",
              "      <th>x0_9.0</th>\n",
              "      <td>-1.276808e+06</td>\n",
              "    </tr>\n",
              "    <tr>\n",
              "      <th>x0_10.0</th>\n",
              "      <td>6.840210e+05</td>\n",
              "    </tr>\n",
              "    <tr>\n",
              "      <th>x0_11.0</th>\n",
              "      <td>4.258624e+04</td>\n",
              "    </tr>\n",
              "    <tr>\n",
              "      <th>x0_13.0</th>\n",
              "      <td>5.814002e+05</td>\n",
              "    </tr>\n",
              "    <tr>\n",
              "      <th>x0_14.0</th>\n",
              "      <td>6.753364e+05</td>\n",
              "    </tr>\n",
              "    <tr>\n",
              "      <th>x0_15.0</th>\n",
              "      <td>-6.638148e+05</td>\n",
              "    </tr>\n",
              "    <tr>\n",
              "      <th>x0_16.0</th>\n",
              "      <td>-1.111788e+06</td>\n",
              "    </tr>\n",
              "    <tr>\n",
              "      <th>x0_17.0</th>\n",
              "      <td>-6.249410e+05</td>\n",
              "    </tr>\n",
              "    <tr>\n",
              "      <th>x0_18.0</th>\n",
              "      <td>-1.332016e+05</td>\n",
              "    </tr>\n",
              "    <tr>\n",
              "      <th>x0_19.0</th>\n",
              "      <td>9.462796e+04</td>\n",
              "    </tr>\n",
              "    <tr>\n",
              "      <th>x0_20.0</th>\n",
              "      <td>3.776862e+05</td>\n",
              "    </tr>\n",
              "    <tr>\n",
              "      <th>x1_1.0</th>\n",
              "      <td>-7.352549e+04</td>\n",
              "    </tr>\n",
              "  </tbody>\n",
              "</table>\n",
              "</div>\n",
              "      <button class=\"colab-df-convert\" onclick=\"convertToInteractive('df-f9c601e0-e0e1-4970-8221-177959c75ea7')\"\n",
              "              title=\"Convert this dataframe to an interactive table.\"\n",
              "              style=\"display:none;\">\n",
              "\n",
              "  <svg xmlns=\"http://www.w3.org/2000/svg\" height=\"24px\"viewBox=\"0 0 24 24\"\n",
              "       width=\"24px\">\n",
              "    <path d=\"M0 0h24v24H0V0z\" fill=\"none\"/>\n",
              "    <path d=\"M18.56 5.44l.94 2.06.94-2.06 2.06-.94-2.06-.94-.94-2.06-.94 2.06-2.06.94zm-11 1L8.5 8.5l.94-2.06 2.06-.94-2.06-.94L8.5 2.5l-.94 2.06-2.06.94zm10 10l.94 2.06.94-2.06 2.06-.94-2.06-.94-.94-2.06-.94 2.06-2.06.94z\"/><path d=\"M17.41 7.96l-1.37-1.37c-.4-.4-.92-.59-1.43-.59-.52 0-1.04.2-1.43.59L10.3 9.45l-7.72 7.72c-.78.78-.78 2.05 0 2.83L4 21.41c.39.39.9.59 1.41.59.51 0 1.02-.2 1.41-.59l7.78-7.78 2.81-2.81c.8-.78.8-2.07 0-2.86zM5.41 20L4 18.59l7.72-7.72 1.47 1.35L5.41 20z\"/>\n",
              "  </svg>\n",
              "      </button>\n",
              "\n",
              "\n",
              "\n",
              "    <div id=\"df-a302b8d9-a47a-4c5a-9027-963b75832b30\">\n",
              "      <button class=\"colab-df-quickchart\" onclick=\"quickchart('df-a302b8d9-a47a-4c5a-9027-963b75832b30')\"\n",
              "              title=\"Suggest charts.\"\n",
              "              style=\"display:none;\">\n",
              "\n",
              "<svg xmlns=\"http://www.w3.org/2000/svg\" height=\"24px\"viewBox=\"0 0 24 24\"\n",
              "     width=\"24px\">\n",
              "    <g>\n",
              "        <path d=\"M19 3H5c-1.1 0-2 .9-2 2v14c0 1.1.9 2 2 2h14c1.1 0 2-.9 2-2V5c0-1.1-.9-2-2-2zM9 17H7v-7h2v7zm4 0h-2V7h2v10zm4 0h-2v-4h2v4z\"/>\n",
              "    </g>\n",
              "</svg>\n",
              "      </button>\n",
              "    </div>\n",
              "\n",
              "<style>\n",
              "  .colab-df-quickchart {\n",
              "    background-color: #E8F0FE;\n",
              "    border: none;\n",
              "    border-radius: 50%;\n",
              "    cursor: pointer;\n",
              "    display: none;\n",
              "    fill: #1967D2;\n",
              "    height: 32px;\n",
              "    padding: 0 0 0 0;\n",
              "    width: 32px;\n",
              "  }\n",
              "\n",
              "  .colab-df-quickchart:hover {\n",
              "    background-color: #E2EBFA;\n",
              "    box-shadow: 0px 1px 2px rgba(60, 64, 67, 0.3), 0px 1px 3px 1px rgba(60, 64, 67, 0.15);\n",
              "    fill: #174EA6;\n",
              "  }\n",
              "\n",
              "  [theme=dark] .colab-df-quickchart {\n",
              "    background-color: #3B4455;\n",
              "    fill: #D2E3FC;\n",
              "  }\n",
              "\n",
              "  [theme=dark] .colab-df-quickchart:hover {\n",
              "    background-color: #434B5C;\n",
              "    box-shadow: 0px 1px 3px 1px rgba(0, 0, 0, 0.15);\n",
              "    filter: drop-shadow(0px 1px 2px rgba(0, 0, 0, 0.3));\n",
              "    fill: #FFFFFF;\n",
              "  }\n",
              "</style>\n",
              "\n",
              "    <script>\n",
              "      async function quickchart(key) {\n",
              "        const containerElement = document.querySelector('#' + key);\n",
              "        const charts = await google.colab.kernel.invokeFunction(\n",
              "            'suggestCharts', [key], {});\n",
              "      }\n",
              "    </script>\n",
              "\n",
              "      <script>\n",
              "\n",
              "function displayQuickchartButton(domScope) {\n",
              "  let quickchartButtonEl =\n",
              "    domScope.querySelector('#df-a302b8d9-a47a-4c5a-9027-963b75832b30 button.colab-df-quickchart');\n",
              "  quickchartButtonEl.style.display =\n",
              "    google.colab.kernel.accessAllowed ? 'block' : 'none';\n",
              "}\n",
              "\n",
              "        displayQuickchartButton(document);\n",
              "      </script>\n",
              "      <style>\n",
              "    .colab-df-container {\n",
              "      display:flex;\n",
              "      flex-wrap:wrap;\n",
              "      gap: 12px;\n",
              "    }\n",
              "\n",
              "    .colab-df-convert {\n",
              "      background-color: #E8F0FE;\n",
              "      border: none;\n",
              "      border-radius: 50%;\n",
              "      cursor: pointer;\n",
              "      display: none;\n",
              "      fill: #1967D2;\n",
              "      height: 32px;\n",
              "      padding: 0 0 0 0;\n",
              "      width: 32px;\n",
              "    }\n",
              "\n",
              "    .colab-df-convert:hover {\n",
              "      background-color: #E2EBFA;\n",
              "      box-shadow: 0px 1px 2px rgba(60, 64, 67, 0.3), 0px 1px 3px 1px rgba(60, 64, 67, 0.15);\n",
              "      fill: #174EA6;\n",
              "    }\n",
              "\n",
              "    [theme=dark] .colab-df-convert {\n",
              "      background-color: #3B4455;\n",
              "      fill: #D2E3FC;\n",
              "    }\n",
              "\n",
              "    [theme=dark] .colab-df-convert:hover {\n",
              "      background-color: #434B5C;\n",
              "      box-shadow: 0px 1px 3px 1px rgba(0, 0, 0, 0.15);\n",
              "      filter: drop-shadow(0px 1px 2px rgba(0, 0, 0, 0.3));\n",
              "      fill: #FFFFFF;\n",
              "    }\n",
              "  </style>\n",
              "\n",
              "      <script>\n",
              "        const buttonEl =\n",
              "          document.querySelector('#df-f9c601e0-e0e1-4970-8221-177959c75ea7 button.colab-df-convert');\n",
              "        buttonEl.style.display =\n",
              "          google.colab.kernel.accessAllowed ? 'block' : 'none';\n",
              "\n",
              "        async function convertToInteractive(key) {\n",
              "          const element = document.querySelector('#df-f9c601e0-e0e1-4970-8221-177959c75ea7');\n",
              "          const dataTable =\n",
              "            await google.colab.kernel.invokeFunction('convertToInteractive',\n",
              "                                                     [key], {});\n",
              "          if (!dataTable) return;\n",
              "\n",
              "          const docLinkHtml = 'Like what you see? Visit the ' +\n",
              "            '<a target=\"_blank\" href=https://colab.research.google.com/notebooks/data_table.ipynb>data table notebook</a>'\n",
              "            + ' to learn more about interactive tables.';\n",
              "          element.innerHTML = '';\n",
              "          dataTable['output_type'] = 'display_data';\n",
              "          await google.colab.output.renderOutput(dataTable, element);\n",
              "          const docLink = document.createElement('div');\n",
              "          docLink.innerHTML = docLinkHtml;\n",
              "          element.appendChild(docLink);\n",
              "        }\n",
              "      </script>\n",
              "    </div>\n",
              "  </div>\n"
            ]
          },
          "metadata": {},
          "execution_count": 47
        }
      ],
      "source": [
        "# Create a pandas DataFrame\n",
        "coefs_Lin = pd.DataFrame(index = column_names, data = regressor.coef_.transpose(), columns=[\"coefficients\"])\n",
        "coefs_Lin"
      ]
    },
    {
      "cell_type": "code",
      "execution_count": 48,
      "metadata": {
        "colab": {
          "base_uri": "https://localhost:8080/",
          "height": 896
        },
        "id": "FWvRl1t258TA",
        "outputId": "240be7a3-5999-4a20-9b15-b18ff449a822"
      },
      "outputs": [
        {
          "output_type": "execute_result",
          "data": {
            "text/plain": [
              "              coefficients\n",
              "x0_5.0        1.395973e+06\n",
              "x0_9.0        1.276808e+06\n",
              "x0_3.0        1.233007e+06\n",
              "x0_16.0       1.111788e+06\n",
              "x0_7.0        8.883855e+05\n",
              "x0_8.0        8.489669e+05\n",
              "x0_10.0       6.840210e+05\n",
              "x0_14.0       6.753364e+05\n",
              "x0_15.0       6.638148e+05\n",
              "x0_4.0        6.569450e+05\n",
              "x0_17.0       6.249410e+05\n",
              "x0_13.0       5.814002e+05\n",
              "x0_20.0       3.776862e+05\n",
              "x0_2.0        3.655456e+05\n",
              "x0_18.0       1.332016e+05\n",
              "x0_19.0       9.462796e+04\n",
              "Unemployment  9.425486e+04\n",
              "CPI           9.211211e+04\n",
              "x1_1.0        7.352549e+04\n",
              "x0_6.0        5.413632e+04\n",
              "x0_11.0       4.258624e+04\n",
              "Month         3.703035e+04\n",
              "Year          3.539312e+04\n",
              "Fuel_Price    2.997226e+04\n",
              "Temperature   2.988963e+04\n",
              "Day           2.811787e+04\n",
              "DayOfWeek     2.354555e+03"
            ],
            "text/html": [
              "\n",
              "\n",
              "  <div id=\"df-0f57a2eb-7e71-4271-a0f8-6d3682fb8149\">\n",
              "    <div class=\"colab-df-container\">\n",
              "      <div>\n",
              "<style scoped>\n",
              "    .dataframe tbody tr th:only-of-type {\n",
              "        vertical-align: middle;\n",
              "    }\n",
              "\n",
              "    .dataframe tbody tr th {\n",
              "        vertical-align: top;\n",
              "    }\n",
              "\n",
              "    .dataframe thead th {\n",
              "        text-align: right;\n",
              "    }\n",
              "</style>\n",
              "<table border=\"1\" class=\"dataframe\">\n",
              "  <thead>\n",
              "    <tr style=\"text-align: right;\">\n",
              "      <th></th>\n",
              "      <th>coefficients</th>\n",
              "    </tr>\n",
              "  </thead>\n",
              "  <tbody>\n",
              "    <tr>\n",
              "      <th>x0_5.0</th>\n",
              "      <td>1.395973e+06</td>\n",
              "    </tr>\n",
              "    <tr>\n",
              "      <th>x0_9.0</th>\n",
              "      <td>1.276808e+06</td>\n",
              "    </tr>\n",
              "    <tr>\n",
              "      <th>x0_3.0</th>\n",
              "      <td>1.233007e+06</td>\n",
              "    </tr>\n",
              "    <tr>\n",
              "      <th>x0_16.0</th>\n",
              "      <td>1.111788e+06</td>\n",
              "    </tr>\n",
              "    <tr>\n",
              "      <th>x0_7.0</th>\n",
              "      <td>8.883855e+05</td>\n",
              "    </tr>\n",
              "    <tr>\n",
              "      <th>x0_8.0</th>\n",
              "      <td>8.489669e+05</td>\n",
              "    </tr>\n",
              "    <tr>\n",
              "      <th>x0_10.0</th>\n",
              "      <td>6.840210e+05</td>\n",
              "    </tr>\n",
              "    <tr>\n",
              "      <th>x0_14.0</th>\n",
              "      <td>6.753364e+05</td>\n",
              "    </tr>\n",
              "    <tr>\n",
              "      <th>x0_15.0</th>\n",
              "      <td>6.638148e+05</td>\n",
              "    </tr>\n",
              "    <tr>\n",
              "      <th>x0_4.0</th>\n",
              "      <td>6.569450e+05</td>\n",
              "    </tr>\n",
              "    <tr>\n",
              "      <th>x0_17.0</th>\n",
              "      <td>6.249410e+05</td>\n",
              "    </tr>\n",
              "    <tr>\n",
              "      <th>x0_13.0</th>\n",
              "      <td>5.814002e+05</td>\n",
              "    </tr>\n",
              "    <tr>\n",
              "      <th>x0_20.0</th>\n",
              "      <td>3.776862e+05</td>\n",
              "    </tr>\n",
              "    <tr>\n",
              "      <th>x0_2.0</th>\n",
              "      <td>3.655456e+05</td>\n",
              "    </tr>\n",
              "    <tr>\n",
              "      <th>x0_18.0</th>\n",
              "      <td>1.332016e+05</td>\n",
              "    </tr>\n",
              "    <tr>\n",
              "      <th>x0_19.0</th>\n",
              "      <td>9.462796e+04</td>\n",
              "    </tr>\n",
              "    <tr>\n",
              "      <th>Unemployment</th>\n",
              "      <td>9.425486e+04</td>\n",
              "    </tr>\n",
              "    <tr>\n",
              "      <th>CPI</th>\n",
              "      <td>9.211211e+04</td>\n",
              "    </tr>\n",
              "    <tr>\n",
              "      <th>x1_1.0</th>\n",
              "      <td>7.352549e+04</td>\n",
              "    </tr>\n",
              "    <tr>\n",
              "      <th>x0_6.0</th>\n",
              "      <td>5.413632e+04</td>\n",
              "    </tr>\n",
              "    <tr>\n",
              "      <th>x0_11.0</th>\n",
              "      <td>4.258624e+04</td>\n",
              "    </tr>\n",
              "    <tr>\n",
              "      <th>Month</th>\n",
              "      <td>3.703035e+04</td>\n",
              "    </tr>\n",
              "    <tr>\n",
              "      <th>Year</th>\n",
              "      <td>3.539312e+04</td>\n",
              "    </tr>\n",
              "    <tr>\n",
              "      <th>Fuel_Price</th>\n",
              "      <td>2.997226e+04</td>\n",
              "    </tr>\n",
              "    <tr>\n",
              "      <th>Temperature</th>\n",
              "      <td>2.988963e+04</td>\n",
              "    </tr>\n",
              "    <tr>\n",
              "      <th>Day</th>\n",
              "      <td>2.811787e+04</td>\n",
              "    </tr>\n",
              "    <tr>\n",
              "      <th>DayOfWeek</th>\n",
              "      <td>2.354555e+03</td>\n",
              "    </tr>\n",
              "  </tbody>\n",
              "</table>\n",
              "</div>\n",
              "      <button class=\"colab-df-convert\" onclick=\"convertToInteractive('df-0f57a2eb-7e71-4271-a0f8-6d3682fb8149')\"\n",
              "              title=\"Convert this dataframe to an interactive table.\"\n",
              "              style=\"display:none;\">\n",
              "\n",
              "  <svg xmlns=\"http://www.w3.org/2000/svg\" height=\"24px\"viewBox=\"0 0 24 24\"\n",
              "       width=\"24px\">\n",
              "    <path d=\"M0 0h24v24H0V0z\" fill=\"none\"/>\n",
              "    <path d=\"M18.56 5.44l.94 2.06.94-2.06 2.06-.94-2.06-.94-.94-2.06-.94 2.06-2.06.94zm-11 1L8.5 8.5l.94-2.06 2.06-.94-2.06-.94L8.5 2.5l-.94 2.06-2.06.94zm10 10l.94 2.06.94-2.06 2.06-.94-2.06-.94-.94-2.06-.94 2.06-2.06.94z\"/><path d=\"M17.41 7.96l-1.37-1.37c-.4-.4-.92-.59-1.43-.59-.52 0-1.04.2-1.43.59L10.3 9.45l-7.72 7.72c-.78.78-.78 2.05 0 2.83L4 21.41c.39.39.9.59 1.41.59.51 0 1.02-.2 1.41-.59l7.78-7.78 2.81-2.81c.8-.78.8-2.07 0-2.86zM5.41 20L4 18.59l7.72-7.72 1.47 1.35L5.41 20z\"/>\n",
              "  </svg>\n",
              "      </button>\n",
              "\n",
              "\n",
              "\n",
              "    <div id=\"df-4df34024-63ec-494e-83dc-f702084e0e24\">\n",
              "      <button class=\"colab-df-quickchart\" onclick=\"quickchart('df-4df34024-63ec-494e-83dc-f702084e0e24')\"\n",
              "              title=\"Suggest charts.\"\n",
              "              style=\"display:none;\">\n",
              "\n",
              "<svg xmlns=\"http://www.w3.org/2000/svg\" height=\"24px\"viewBox=\"0 0 24 24\"\n",
              "     width=\"24px\">\n",
              "    <g>\n",
              "        <path d=\"M19 3H5c-1.1 0-2 .9-2 2v14c0 1.1.9 2 2 2h14c1.1 0 2-.9 2-2V5c0-1.1-.9-2-2-2zM9 17H7v-7h2v7zm4 0h-2V7h2v10zm4 0h-2v-4h2v4z\"/>\n",
              "    </g>\n",
              "</svg>\n",
              "      </button>\n",
              "    </div>\n",
              "\n",
              "<style>\n",
              "  .colab-df-quickchart {\n",
              "    background-color: #E8F0FE;\n",
              "    border: none;\n",
              "    border-radius: 50%;\n",
              "    cursor: pointer;\n",
              "    display: none;\n",
              "    fill: #1967D2;\n",
              "    height: 32px;\n",
              "    padding: 0 0 0 0;\n",
              "    width: 32px;\n",
              "  }\n",
              "\n",
              "  .colab-df-quickchart:hover {\n",
              "    background-color: #E2EBFA;\n",
              "    box-shadow: 0px 1px 2px rgba(60, 64, 67, 0.3), 0px 1px 3px 1px rgba(60, 64, 67, 0.15);\n",
              "    fill: #174EA6;\n",
              "  }\n",
              "\n",
              "  [theme=dark] .colab-df-quickchart {\n",
              "    background-color: #3B4455;\n",
              "    fill: #D2E3FC;\n",
              "  }\n",
              "\n",
              "  [theme=dark] .colab-df-quickchart:hover {\n",
              "    background-color: #434B5C;\n",
              "    box-shadow: 0px 1px 3px 1px rgba(0, 0, 0, 0.15);\n",
              "    filter: drop-shadow(0px 1px 2px rgba(0, 0, 0, 0.3));\n",
              "    fill: #FFFFFF;\n",
              "  }\n",
              "</style>\n",
              "\n",
              "    <script>\n",
              "      async function quickchart(key) {\n",
              "        const containerElement = document.querySelector('#' + key);\n",
              "        const charts = await google.colab.kernel.invokeFunction(\n",
              "            'suggestCharts', [key], {});\n",
              "      }\n",
              "    </script>\n",
              "\n",
              "      <script>\n",
              "\n",
              "function displayQuickchartButton(domScope) {\n",
              "  let quickchartButtonEl =\n",
              "    domScope.querySelector('#df-4df34024-63ec-494e-83dc-f702084e0e24 button.colab-df-quickchart');\n",
              "  quickchartButtonEl.style.display =\n",
              "    google.colab.kernel.accessAllowed ? 'block' : 'none';\n",
              "}\n",
              "\n",
              "        displayQuickchartButton(document);\n",
              "      </script>\n",
              "      <style>\n",
              "    .colab-df-container {\n",
              "      display:flex;\n",
              "      flex-wrap:wrap;\n",
              "      gap: 12px;\n",
              "    }\n",
              "\n",
              "    .colab-df-convert {\n",
              "      background-color: #E8F0FE;\n",
              "      border: none;\n",
              "      border-radius: 50%;\n",
              "      cursor: pointer;\n",
              "      display: none;\n",
              "      fill: #1967D2;\n",
              "      height: 32px;\n",
              "      padding: 0 0 0 0;\n",
              "      width: 32px;\n",
              "    }\n",
              "\n",
              "    .colab-df-convert:hover {\n",
              "      background-color: #E2EBFA;\n",
              "      box-shadow: 0px 1px 2px rgba(60, 64, 67, 0.3), 0px 1px 3px 1px rgba(60, 64, 67, 0.15);\n",
              "      fill: #174EA6;\n",
              "    }\n",
              "\n",
              "    [theme=dark] .colab-df-convert {\n",
              "      background-color: #3B4455;\n",
              "      fill: #D2E3FC;\n",
              "    }\n",
              "\n",
              "    [theme=dark] .colab-df-convert:hover {\n",
              "      background-color: #434B5C;\n",
              "      box-shadow: 0px 1px 3px 1px rgba(0, 0, 0, 0.15);\n",
              "      filter: drop-shadow(0px 1px 2px rgba(0, 0, 0, 0.3));\n",
              "      fill: #FFFFFF;\n",
              "    }\n",
              "  </style>\n",
              "\n",
              "      <script>\n",
              "        const buttonEl =\n",
              "          document.querySelector('#df-0f57a2eb-7e71-4271-a0f8-6d3682fb8149 button.colab-df-convert');\n",
              "        buttonEl.style.display =\n",
              "          google.colab.kernel.accessAllowed ? 'block' : 'none';\n",
              "\n",
              "        async function convertToInteractive(key) {\n",
              "          const element = document.querySelector('#df-0f57a2eb-7e71-4271-a0f8-6d3682fb8149');\n",
              "          const dataTable =\n",
              "            await google.colab.kernel.invokeFunction('convertToInteractive',\n",
              "                                                     [key], {});\n",
              "          if (!dataTable) return;\n",
              "\n",
              "          const docLinkHtml = 'Like what you see? Visit the ' +\n",
              "            '<a target=\"_blank\" href=https://colab.research.google.com/notebooks/data_table.ipynb>data table notebook</a>'\n",
              "            + ' to learn more about interactive tables.';\n",
              "          element.innerHTML = '';\n",
              "          dataTable['output_type'] = 'display_data';\n",
              "          await google.colab.output.renderOutput(dataTable, element);\n",
              "          const docLink = document.createElement('div');\n",
              "          docLink.innerHTML = docLinkHtml;\n",
              "          element.appendChild(docLink);\n",
              "        }\n",
              "      </script>\n",
              "    </div>\n",
              "  </div>\n"
            ]
          },
          "metadata": {},
          "execution_count": 48
        }
      ],
      "source": [
        "# Compute abs() and sort values\n",
        "feature_importance = abs(coefs_Lin).sort_values(by ='coefficients')\n",
        "feature_importance.sort_values(by ='coefficients',ascending=False)"
      ]
    },
    {
      "cell_type": "code",
      "execution_count": 49,
      "metadata": {
        "colab": {
          "base_uri": "https://localhost:8080/",
          "height": 542
        },
        "id": "hViAb0fR58TB",
        "outputId": "20ec30cd-fd99-4fc2-9c58-e516b79e4ac4"
      },
      "outputs": [
        {
          "output_type": "display_data",
          "data": {
            "text/html": [
              "<html>\n",
              "<head><meta charset=\"utf-8\" /></head>\n",
              "<body>\n",
              "    <div>            <script src=\"https://cdnjs.cloudflare.com/ajax/libs/mathjax/2.7.5/MathJax.js?config=TeX-AMS-MML_SVG\"></script><script type=\"text/javascript\">if (window.MathJax && window.MathJax.Hub && window.MathJax.Hub.Config) {window.MathJax.Hub.Config({SVG: {font: \"STIX-Web\"}});}</script>                <script type=\"text/javascript\">window.PlotlyConfig = {MathJaxConfig: 'local'};</script>\n",
              "        <script src=\"https://cdn.plot.ly/plotly-2.18.2.min.js\"></script>                <div id=\"3907d949-0a27-4cfa-aa85-b59a6c859987\" class=\"plotly-graph-div\" style=\"height:525px; width:100%;\"></div>            <script type=\"text/javascript\">                                    window.PLOTLYENV=window.PLOTLYENV || {};                                    if (document.getElementById(\"3907d949-0a27-4cfa-aa85-b59a6c859987\")) {                    Plotly.newPlot(                        \"3907d949-0a27-4cfa-aa85-b59a6c859987\",                        [{\"alignmentgroup\":\"True\",\"hovertemplate\":\"variable=coefficients<br>index=%{x}<br>value=%{y}<extra></extra>\",\"legendgroup\":\"coefficients\",\"marker\":{\"color\":\"#636efa\",\"pattern\":{\"shape\":\"\"}},\"name\":\"coefficients\",\"offsetgroup\":\"coefficients\",\"orientation\":\"v\",\"showlegend\":true,\"textposition\":\"auto\",\"x\":[\"DayOfWeek\",\"Day\",\"Temperature\",\"Fuel_Price\",\"Year\",\"Month\",\"x0_11.0\",\"x0_6.0\",\"x1_1.0\",\"CPI\",\"Unemployment\",\"x0_19.0\",\"x0_18.0\",\"x0_2.0\",\"x0_20.0\",\"x0_13.0\",\"x0_17.0\",\"x0_4.0\",\"x0_15.0\",\"x0_14.0\",\"x0_10.0\",\"x0_8.0\",\"x0_7.0\",\"x0_16.0\",\"x0_3.0\",\"x0_9.0\",\"x0_5.0\"],\"xaxis\":\"x\",\"y\":[2354.555314006107,28117.86944173401,29889.634880908856,29972.258583234565,35393.12400148503,37030.35187209205,42586.242305671556,54136.32064882488,73525.48935808326,92112.10668349854,94254.86346719018,94627.95922618691,133201.60726769397,365545.57972287794,377686.1718941448,581400.1733471652,624940.952502825,656944.9925302188,663814.8022021635,675336.35568495,684020.9662874823,848966.9045381137,888385.5319651274,1111788.0573481002,1233006.6980616695,1276808.3125648408,1395973.3166537667],\"yaxis\":\"y\",\"type\":\"bar\"}],                        {\"template\":{\"data\":{\"histogram2dcontour\":[{\"type\":\"histogram2dcontour\",\"colorbar\":{\"outlinewidth\":0,\"ticks\":\"\"},\"colorscale\":[[0.0,\"#0d0887\"],[0.1111111111111111,\"#46039f\"],[0.2222222222222222,\"#7201a8\"],[0.3333333333333333,\"#9c179e\"],[0.4444444444444444,\"#bd3786\"],[0.5555555555555556,\"#d8576b\"],[0.6666666666666666,\"#ed7953\"],[0.7777777777777778,\"#fb9f3a\"],[0.8888888888888888,\"#fdca26\"],[1.0,\"#f0f921\"]]}],\"choropleth\":[{\"type\":\"choropleth\",\"colorbar\":{\"outlinewidth\":0,\"ticks\":\"\"}}],\"histogram2d\":[{\"type\":\"histogram2d\",\"colorbar\":{\"outlinewidth\":0,\"ticks\":\"\"},\"colorscale\":[[0.0,\"#0d0887\"],[0.1111111111111111,\"#46039f\"],[0.2222222222222222,\"#7201a8\"],[0.3333333333333333,\"#9c179e\"],[0.4444444444444444,\"#bd3786\"],[0.5555555555555556,\"#d8576b\"],[0.6666666666666666,\"#ed7953\"],[0.7777777777777778,\"#fb9f3a\"],[0.8888888888888888,\"#fdca26\"],[1.0,\"#f0f921\"]]}],\"heatmap\":[{\"type\":\"heatmap\",\"colorbar\":{\"outlinewidth\":0,\"ticks\":\"\"},\"colorscale\":[[0.0,\"#0d0887\"],[0.1111111111111111,\"#46039f\"],[0.2222222222222222,\"#7201a8\"],[0.3333333333333333,\"#9c179e\"],[0.4444444444444444,\"#bd3786\"],[0.5555555555555556,\"#d8576b\"],[0.6666666666666666,\"#ed7953\"],[0.7777777777777778,\"#fb9f3a\"],[0.8888888888888888,\"#fdca26\"],[1.0,\"#f0f921\"]]}],\"heatmapgl\":[{\"type\":\"heatmapgl\",\"colorbar\":{\"outlinewidth\":0,\"ticks\":\"\"},\"colorscale\":[[0.0,\"#0d0887\"],[0.1111111111111111,\"#46039f\"],[0.2222222222222222,\"#7201a8\"],[0.3333333333333333,\"#9c179e\"],[0.4444444444444444,\"#bd3786\"],[0.5555555555555556,\"#d8576b\"],[0.6666666666666666,\"#ed7953\"],[0.7777777777777778,\"#fb9f3a\"],[0.8888888888888888,\"#fdca26\"],[1.0,\"#f0f921\"]]}],\"contourcarpet\":[{\"type\":\"contourcarpet\",\"colorbar\":{\"outlinewidth\":0,\"ticks\":\"\"}}],\"contour\":[{\"type\":\"contour\",\"colorbar\":{\"outlinewidth\":0,\"ticks\":\"\"},\"colorscale\":[[0.0,\"#0d0887\"],[0.1111111111111111,\"#46039f\"],[0.2222222222222222,\"#7201a8\"],[0.3333333333333333,\"#9c179e\"],[0.4444444444444444,\"#bd3786\"],[0.5555555555555556,\"#d8576b\"],[0.6666666666666666,\"#ed7953\"],[0.7777777777777778,\"#fb9f3a\"],[0.8888888888888888,\"#fdca26\"],[1.0,\"#f0f921\"]]}],\"surface\":[{\"type\":\"surface\",\"colorbar\":{\"outlinewidth\":0,\"ticks\":\"\"},\"colorscale\":[[0.0,\"#0d0887\"],[0.1111111111111111,\"#46039f\"],[0.2222222222222222,\"#7201a8\"],[0.3333333333333333,\"#9c179e\"],[0.4444444444444444,\"#bd3786\"],[0.5555555555555556,\"#d8576b\"],[0.6666666666666666,\"#ed7953\"],[0.7777777777777778,\"#fb9f3a\"],[0.8888888888888888,\"#fdca26\"],[1.0,\"#f0f921\"]]}],\"mesh3d\":[{\"type\":\"mesh3d\",\"colorbar\":{\"outlinewidth\":0,\"ticks\":\"\"}}],\"scatter\":[{\"fillpattern\":{\"fillmode\":\"overlay\",\"size\":10,\"solidity\":0.2},\"type\":\"scatter\"}],\"parcoords\":[{\"type\":\"parcoords\",\"line\":{\"colorbar\":{\"outlinewidth\":0,\"ticks\":\"\"}}}],\"scatterpolargl\":[{\"type\":\"scatterpolargl\",\"marker\":{\"colorbar\":{\"outlinewidth\":0,\"ticks\":\"\"}}}],\"bar\":[{\"error_x\":{\"color\":\"#2a3f5f\"},\"error_y\":{\"color\":\"#2a3f5f\"},\"marker\":{\"line\":{\"color\":\"#E5ECF6\",\"width\":0.5},\"pattern\":{\"fillmode\":\"overlay\",\"size\":10,\"solidity\":0.2}},\"type\":\"bar\"}],\"scattergeo\":[{\"type\":\"scattergeo\",\"marker\":{\"colorbar\":{\"outlinewidth\":0,\"ticks\":\"\"}}}],\"scatterpolar\":[{\"type\":\"scatterpolar\",\"marker\":{\"colorbar\":{\"outlinewidth\":0,\"ticks\":\"\"}}}],\"histogram\":[{\"marker\":{\"pattern\":{\"fillmode\":\"overlay\",\"size\":10,\"solidity\":0.2}},\"type\":\"histogram\"}],\"scattergl\":[{\"type\":\"scattergl\",\"marker\":{\"colorbar\":{\"outlinewidth\":0,\"ticks\":\"\"}}}],\"scatter3d\":[{\"type\":\"scatter3d\",\"line\":{\"colorbar\":{\"outlinewidth\":0,\"ticks\":\"\"}},\"marker\":{\"colorbar\":{\"outlinewidth\":0,\"ticks\":\"\"}}}],\"scattermapbox\":[{\"type\":\"scattermapbox\",\"marker\":{\"colorbar\":{\"outlinewidth\":0,\"ticks\":\"\"}}}],\"scatterternary\":[{\"type\":\"scatterternary\",\"marker\":{\"colorbar\":{\"outlinewidth\":0,\"ticks\":\"\"}}}],\"scattercarpet\":[{\"type\":\"scattercarpet\",\"marker\":{\"colorbar\":{\"outlinewidth\":0,\"ticks\":\"\"}}}],\"carpet\":[{\"aaxis\":{\"endlinecolor\":\"#2a3f5f\",\"gridcolor\":\"white\",\"linecolor\":\"white\",\"minorgridcolor\":\"white\",\"startlinecolor\":\"#2a3f5f\"},\"baxis\":{\"endlinecolor\":\"#2a3f5f\",\"gridcolor\":\"white\",\"linecolor\":\"white\",\"minorgridcolor\":\"white\",\"startlinecolor\":\"#2a3f5f\"},\"type\":\"carpet\"}],\"table\":[{\"cells\":{\"fill\":{\"color\":\"#EBF0F8\"},\"line\":{\"color\":\"white\"}},\"header\":{\"fill\":{\"color\":\"#C8D4E3\"},\"line\":{\"color\":\"white\"}},\"type\":\"table\"}],\"barpolar\":[{\"marker\":{\"line\":{\"color\":\"#E5ECF6\",\"width\":0.5},\"pattern\":{\"fillmode\":\"overlay\",\"size\":10,\"solidity\":0.2}},\"type\":\"barpolar\"}],\"pie\":[{\"automargin\":true,\"type\":\"pie\"}]},\"layout\":{\"autotypenumbers\":\"strict\",\"colorway\":[\"#636efa\",\"#EF553B\",\"#00cc96\",\"#ab63fa\",\"#FFA15A\",\"#19d3f3\",\"#FF6692\",\"#B6E880\",\"#FF97FF\",\"#FECB52\"],\"font\":{\"color\":\"#2a3f5f\"},\"hovermode\":\"closest\",\"hoverlabel\":{\"align\":\"left\"},\"paper_bgcolor\":\"white\",\"plot_bgcolor\":\"#E5ECF6\",\"polar\":{\"bgcolor\":\"#E5ECF6\",\"angularaxis\":{\"gridcolor\":\"white\",\"linecolor\":\"white\",\"ticks\":\"\"},\"radialaxis\":{\"gridcolor\":\"white\",\"linecolor\":\"white\",\"ticks\":\"\"}},\"ternary\":{\"bgcolor\":\"#E5ECF6\",\"aaxis\":{\"gridcolor\":\"white\",\"linecolor\":\"white\",\"ticks\":\"\"},\"baxis\":{\"gridcolor\":\"white\",\"linecolor\":\"white\",\"ticks\":\"\"},\"caxis\":{\"gridcolor\":\"white\",\"linecolor\":\"white\",\"ticks\":\"\"}},\"coloraxis\":{\"colorbar\":{\"outlinewidth\":0,\"ticks\":\"\"}},\"colorscale\":{\"sequential\":[[0.0,\"#0d0887\"],[0.1111111111111111,\"#46039f\"],[0.2222222222222222,\"#7201a8\"],[0.3333333333333333,\"#9c179e\"],[0.4444444444444444,\"#bd3786\"],[0.5555555555555556,\"#d8576b\"],[0.6666666666666666,\"#ed7953\"],[0.7777777777777778,\"#fb9f3a\"],[0.8888888888888888,\"#fdca26\"],[1.0,\"#f0f921\"]],\"sequentialminus\":[[0.0,\"#0d0887\"],[0.1111111111111111,\"#46039f\"],[0.2222222222222222,\"#7201a8\"],[0.3333333333333333,\"#9c179e\"],[0.4444444444444444,\"#bd3786\"],[0.5555555555555556,\"#d8576b\"],[0.6666666666666666,\"#ed7953\"],[0.7777777777777778,\"#fb9f3a\"],[0.8888888888888888,\"#fdca26\"],[1.0,\"#f0f921\"]],\"diverging\":[[0,\"#8e0152\"],[0.1,\"#c51b7d\"],[0.2,\"#de77ae\"],[0.3,\"#f1b6da\"],[0.4,\"#fde0ef\"],[0.5,\"#f7f7f7\"],[0.6,\"#e6f5d0\"],[0.7,\"#b8e186\"],[0.8,\"#7fbc41\"],[0.9,\"#4d9221\"],[1,\"#276419\"]]},\"xaxis\":{\"gridcolor\":\"white\",\"linecolor\":\"white\",\"ticks\":\"\",\"title\":{\"standoff\":15},\"zerolinecolor\":\"white\",\"automargin\":true,\"zerolinewidth\":2},\"yaxis\":{\"gridcolor\":\"white\",\"linecolor\":\"white\",\"ticks\":\"\",\"title\":{\"standoff\":15},\"zerolinecolor\":\"white\",\"automargin\":true,\"zerolinewidth\":2},\"scene\":{\"xaxis\":{\"backgroundcolor\":\"#E5ECF6\",\"gridcolor\":\"white\",\"linecolor\":\"white\",\"showbackground\":true,\"ticks\":\"\",\"zerolinecolor\":\"white\",\"gridwidth\":2},\"yaxis\":{\"backgroundcolor\":\"#E5ECF6\",\"gridcolor\":\"white\",\"linecolor\":\"white\",\"showbackground\":true,\"ticks\":\"\",\"zerolinecolor\":\"white\",\"gridwidth\":2},\"zaxis\":{\"backgroundcolor\":\"#E5ECF6\",\"gridcolor\":\"white\",\"linecolor\":\"white\",\"showbackground\":true,\"ticks\":\"\",\"zerolinecolor\":\"white\",\"gridwidth\":2}},\"shapedefaults\":{\"line\":{\"color\":\"#2a3f5f\"}},\"annotationdefaults\":{\"arrowcolor\":\"#2a3f5f\",\"arrowhead\":0,\"arrowwidth\":1},\"geo\":{\"bgcolor\":\"white\",\"landcolor\":\"#E5ECF6\",\"subunitcolor\":\"white\",\"showland\":true,\"showlakes\":true,\"lakecolor\":\"white\"},\"title\":{\"x\":0.05},\"mapbox\":{\"style\":\"light\"}}},\"xaxis\":{\"anchor\":\"y\",\"domain\":[0.0,1.0],\"title\":{\"text\":\"index\"}},\"yaxis\":{\"anchor\":\"x\",\"domain\":[0.0,1.0],\"title\":{\"text\":\"value\"}},\"legend\":{\"title\":{\"text\":\"variable\"},\"tracegroupgap\":0},\"margin\":{\"t\":60},\"barmode\":\"relative\"},                        {\"responsive\": true}                    ).then(function(){\n",
              "                            \n",
              "var gd = document.getElementById('3907d949-0a27-4cfa-aa85-b59a6c859987');\n",
              "var x = new MutationObserver(function (mutations, observer) {{\n",
              "        var display = window.getComputedStyle(gd).display;\n",
              "        if (!display || display === 'none') {{\n",
              "            console.log([gd, 'removed!']);\n",
              "            Plotly.purge(gd);\n",
              "            observer.disconnect();\n",
              "        }}\n",
              "}});\n",
              "\n",
              "// Listen for the removal of the full notebook cells\n",
              "var notebookContainer = gd.closest('#notebook-container');\n",
              "if (notebookContainer) {{\n",
              "    x.observe(notebookContainer, {childList: true});\n",
              "}}\n",
              "\n",
              "// Listen for the clearing of the current output cell\n",
              "var outputEl = gd.closest('.output');\n",
              "if (outputEl) {{\n",
              "    x.observe(outputEl, {childList: true});\n",
              "}}\n",
              "\n",
              "                        })                };                            </script>        </div>\n",
              "</body>\n",
              "</html>"
            ]
          },
          "metadata": {}
        }
      ],
      "source": [
        "# We visualize the feature important\n",
        "fig = px.bar(feature_importance)\n",
        "fig.show()"
      ]
    },
    {
      "cell_type": "markdown",
      "metadata": {
        "id": "JDxs57oM58TB"
      },
      "source": [
        "## Fighting overfitting"
      ]
    },
    {
      "cell_type": "markdown",
      "metadata": {
        "id": "AGlU0Bky58TC"
      },
      "source": [
        "RIDGE"
      ]
    },
    {
      "cell_type": "code",
      "execution_count": 50,
      "metadata": {
        "colab": {
          "base_uri": "https://localhost:8080/"
        },
        "id": "Aq4QQFL958TC",
        "outputId": "5ed5550c-3faa-4069-965f-9f2d3e8baca0"
      },
      "outputs": [
        {
          "output_type": "stream",
          "name": "stdout",
          "text": [
            "R2 score on training set :  0.9290743181924257\n",
            "R2 score on test set :  0.9075293388096283\n"
          ]
        }
      ],
      "source": [
        "#PFight overfitting=>Ridge\n",
        "Ridge1 = Ridge()\n",
        "\n",
        "Ridge1.fit(X_train, Y_train)\n",
        "# Print R^2 scores\n",
        "print(\"R2 score on training set : \", Ridge1.score(X_train, Y_train))\n",
        "print(\"R2 score on test set : \", Ridge1.score(X_test, Y_test))\n"
      ]
    },
    {
      "cell_type": "markdown",
      "metadata": {
        "id": "Qf5JqzIu58TC"
      },
      "source": [
        "LASSO"
      ]
    },
    {
      "cell_type": "code",
      "execution_count": 51,
      "metadata": {
        "colab": {
          "base_uri": "https://localhost:8080/"
        },
        "id": "E71MvQRI58TD",
        "outputId": "81fa3c3e-16cd-41c6-c429-a2327943d814"
      },
      "outputs": [
        {
          "output_type": "stream",
          "name": "stdout",
          "text": [
            "R2 score on training set :  0.9690060431967218\n",
            "R2 score on test set :  0.9384563972265778\n"
          ]
        }
      ],
      "source": [
        "#Fight overfitting =>Lasso\n",
        "Lasso1 = Lasso()\n",
        "\n",
        "Lasso1.fit(X_train, Y_train)\n",
        "# Print R^2 scores\n",
        "print(\"R2 score on training set : \", Lasso1.score(X_train, Y_train))\n",
        "print(\"R2 score on test set : \", Lasso1.score(X_test, Y_test))\n"
      ]
    },
    {
      "cell_type": "code",
      "execution_count": 52,
      "metadata": {
        "colab": {
          "base_uri": "https://localhost:8080/"
        },
        "id": "UOc863g_58TD",
        "outputId": "41269dad-5ae1-489a-a7e9-df480fc93d4b"
      },
      "outputs": [
        {
          "output_type": "stream",
          "name": "stdout",
          "text": [
            "Grid search...\n",
            "...Done.\n",
            "Best hyperparameters :  {'alpha': 0.0}\n",
            "Best R2 score :  0.9298425920618832\n"
          ]
        }
      ],
      "source": [
        "# Perform grid search with Ridge\n",
        "print(\"Grid search...\")\n",
        "regressorR = Ridge()\n",
        "# Grid of values to be tested\n",
        "params = {\n",
        "    'alpha': [0.0, 0.1, 0.5, 1.0, 2.0,2.5, 3.0, 4.0] # 0 corresponds to no regularization\n",
        "}\n",
        "gridsearchR = GridSearchCV(regressorR, param_grid = params, cv=10) # cv : the number of folds to be used for CV\n",
        "gridsearchR.fit(X_train, Y_train)\n",
        "print(\"...Done.\")\n",
        "print(\"Best hyperparameters : \", gridsearchR.best_params_)\n",
        "print(\"Best R2 score : \", gridsearchR.best_score_)\n"
      ]
    },
    {
      "cell_type": "code",
      "execution_count": 53,
      "metadata": {
        "colab": {
          "base_uri": "https://localhost:8080/"
        },
        "id": "dS8Hvdq-58TD",
        "outputId": "3c138278-cff5-4b2f-fb53-38e9b0dd6fda"
      },
      "outputs": [
        {
          "output_type": "stream",
          "name": "stdout",
          "text": [
            "Grid search...\n",
            "...Done.\n",
            "Best hyperparameters :  {'alpha': 700}\n",
            "Best R2 score :  0.9315461178517195\n"
          ]
        }
      ],
      "source": [
        "# Perform grid search with Lasso\n",
        "print(\"Grid search...\")\n",
        "regressorL = Lasso()\n",
        "# Grid of values to be tested\n",
        "params = {\n",
        "    'alpha': [0.0, 0.1, 0.5, 5, 10, 13,15, 20, 30,50,100,200,300,400,500,600,700,800,900,1000, 1200] # 0 corresponds to no regularization\n",
        "}\n",
        "gridsearchL = GridSearchCV(regressorL, param_grid = params, cv=10) # cv : the number of folds to be used for CV\n",
        "gridsearchL.fit(X_train, Y_train)\n",
        "print(\"...Done.\")\n",
        "print(\"Best hyperparameters : \", gridsearchL.best_params_)\n",
        "print(\"Best R2 score : \", gridsearchL.best_score_)"
      ]
    },
    {
      "cell_type": "code",
      "execution_count": 54,
      "metadata": {
        "colab": {
          "base_uri": "https://localhost:8080/"
        },
        "id": "j-YjaLkI58TE",
        "outputId": "a68bc00c-c291-4106-82cb-38a335da2b53"
      },
      "outputs": [
        {
          "output_type": "stream",
          "name": "stdout",
          "text": [
            "R2 score on training set :  0.9678361285378274\n",
            "R2 score on test set :  0.9465228410570303\n"
          ]
        }
      ],
      "source": [
        "#Last train with Lasso and our best parameter\n",
        "Lasso_last = Lasso(alpha=700)\n",
        "\n",
        "Lasso_last.fit(X_train, Y_train)\n",
        "# Print R^2 scores\n",
        "print(\"R2 score on training set : \", Lasso_last.score(X_train, Y_train))\n",
        "print(\"R2 score on test set : \", Lasso_last.score(X_test, Y_test))"
      ]
    },
    {
      "cell_type": "code",
      "execution_count": 55,
      "metadata": {
        "colab": {
          "base_uri": "https://localhost:8080/"
        },
        "id": "W_XjrD5B58TE",
        "outputId": "75097dd0-1fae-4ffb-edf5-f922813943ea"
      },
      "outputs": [
        {
          "output_type": "execute_result",
          "data": {
            "text/plain": [
              "0.021313287480797083"
            ]
          },
          "metadata": {},
          "execution_count": 55
        }
      ],
      "source": [
        "diff=(Lasso_last.score(X_train, Y_train))-(Lasso_last.score(X_test, Y_test))\n",
        "diff"
      ]
    },
    {
      "cell_type": "code",
      "execution_count": 56,
      "metadata": {
        "colab": {
          "base_uri": "https://localhost:8080/"
        },
        "id": "DO89Dl2v58TF",
        "outputId": "d57224f8-25c5-42a0-826b-a3b5c0c3ee83"
      },
      "outputs": [
        {
          "output_type": "stream",
          "name": "stdout",
          "text": [
            "this difference is not significant, we are under the standard deviation calculated before of 0.023274\n"
          ]
        }
      ],
      "source": [
        "print(\"this difference is not significant, we are under the standard deviation calculated before of 0.023274\")"
      ]
    },
    {
      "cell_type": "markdown",
      "metadata": {
        "id": "KAzVFR7h58TF"
      },
      "source": [
        "## Conclusion"
      ]
    },
    {
      "cell_type": "markdown",
      "metadata": {
        "id": "w5gnUCD_58TG"
      },
      "source": [
        "We can keep a linear regression using ridge or lasso with the optimal hyparameter defined by our grid search but we still semm to be on overfittig\n",
        "It would be interesting to have more information to upgrade our model like the store size, the marketing budget, the location area...etc.\n",
        "We can also continue to tune our models to get better results"
      ]
    }
  ],
  "metadata": {
    "kernelspec": {
      "display_name": "base",
      "language": "python",
      "name": "python3"
    },
    "language_info": {
      "codemirror_mode": {
        "name": "ipython",
        "version": 3
      },
      "file_extension": ".py",
      "mimetype": "text/x-python",
      "name": "python",
      "nbconvert_exporter": "python",
      "pygments_lexer": "ipython3",
      "version": "3.9.12"
    },
    "orig_nbformat": 4,
    "vscode": {
      "interpreter": {
        "hash": "88de8a03d390c9821a705f8812eeaeda47efe29e530260f109fd5a47346b85c0"
      }
    },
    "colab": {
      "provenance": []
    }
  },
  "nbformat": 4,
  "nbformat_minor": 0
}